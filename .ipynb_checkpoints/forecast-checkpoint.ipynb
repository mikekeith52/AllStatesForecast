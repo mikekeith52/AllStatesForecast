{
 "cells": [
  {
   "cell_type": "code",
   "execution_count": 1,
   "metadata": {},
   "outputs": [],
   "source": [
    "import pandas as pd\n",
    "import numpy as np\n",
    "import os\n",
    "import datetime\n",
    "import matplotlib.pyplot as plt\n",
    "import seaborn as sns\n",
    "from ipywidgets import widgets\n",
    "from IPython.display import display, clear_output\n",
    "import pickle\n",
    "import pandas_datareader as pdr\n",
    "from tqdm.notebook import tqdm as log_progress"
   ]
  },
  {
   "cell_type": "code",
   "execution_count": 2,
   "metadata": {},
   "outputs": [],
   "source": [
    "from Forecaster import Forecaster"
   ]
  },
  {
   "cell_type": "code",
   "execution_count": 3,
   "metadata": {},
   "outputs": [],
   "source": [
    "# List of future dates to forecast for\n",
    "futures = ['2020-07-01','2020-08-01','2020-09-01','2020-10-01','2020-11-01','2020-12-01','2021-01-01',\n",
    "           '2021-02-01','2021-03-01','2021-04-01','2021-05-01','2021-06-01','2021-07-01','2021-08-01',\n",
    "           '2021-09-01','2021-10-01','2021-11-01','2021-12-01','2022-01-01','2022-02-01','2022-03-01',\n",
    "           '2022-04-01','2022-05-01','2022-06-01','2022-07-01','2022-08-01','2022-09-01','2022-10-01']\n",
    "# a lit of state abbreviations\n",
    "states = [e.replace('\"','') for e in open('state_abb.txt').read().split('\\n')]\n",
    "# whether or not to rerun the forecast - if false, will read in a pickled forecast\n",
    "rerun = False"
   ]
  },
  {
   "cell_type": "code",
   "execution_count": 7,
   "metadata": {},
   "outputs": [],
   "source": [
    "def get_regressors(futures,recession_length=15,month_lags=24,year_lags=0):\n",
    "    \"\"\" gets a vector of external regressors from FRED\n",
    "        extracts the recession indicator and maps to length specified in recession_length\n",
    "        adds month and year lags\n",
    "        adds an inidcator of when the last recession occured\n",
    "        Paramaters: futures : list\n",
    "                        a list of dates in format YYYY-mm-01\n",
    "                        if there is overlap between the earlier dates and what is extracted from FRED, that will be handled in the function\n",
    "                    recession_length : int, default 15\n",
    "                        the total assumed length of the recession\n",
    "                        this does not take into account the amount of months the recession has already gone\n",
    "                    month_lags : int, default 24\n",
    "                        the amount of month lags you want added of the recession inidcator from FRED\n",
    "                    year_lags : int, default 0\n",
    "                        the amount of year lags you want added of the recession inidcator from FRED\n",
    "    \"\"\"\n",
    "    externals = pdr.get_data_fred(['JHDUSRGDPBR','CPIAUCSL'],start='1900-01-01').reset_index()\n",
    "    externals = externals[externals['DATE'] >= externals.loc[~externals['JHDUSRGDPBR'].isnull(),'DATE'].min()]\n",
    "    externals['JHDUSRGDPBR'].fillna(method='ffill',inplace=True)\n",
    "    externals = externals[['DATE','JHDUSRGDPBR']]\n",
    "    futures = pd.to_datetime([d for d in futures if d not in list(externals['DATE'].apply(lambda x: str(x)[:10]))])\n",
    "    past_recession_periods = externals.loc[externals['DATE'] >= '2019-10-01','JHDUSRGDPBR'].sum()\n",
    "    recession_left = recession_length - past_recession_periods\n",
    "    recession_array = [1] * max(0,int(recession_left)) + [0] * (max(0,len(futures)) - int(recession_left))\n",
    "    externals_future = pd.DataFrame({'DATE':futures,'JHDUSRGDPBR':recession_array})\n",
    "    externals = externals.append(externals_future,ignore_index=True,sort=False)\n",
    "    for i in range(min(1,month_lags),month_lags+1):\n",
    "        if i == 0:\n",
    "            break\n",
    "        externals[f'JHDUSRGDPBR_lagMonth_{i}'] = externals['JHDUSRGDPBR'].shift(i)\n",
    "    for i in range(min(1,year_lags),year_lags+1):\n",
    "        if i == 0:\n",
    "            break\n",
    "        externals[f'JHDUSRGDPBR_lagYear_{i}'] = externals['JHDUSRGDPBR'].shift(i*12)\n",
    "    externals['LastRecession'] = externals[['DATE','JHDUSRGDPBR','JHDUSRGDPBR_lagMonth_1']].apply(lambda x: str(x[0]) if (x[1] == 1) & (x[2] == 0) else None, axis=1)\n",
    "    externals['LastRecession'].fillna(method='ffill',inplace=True)\n",
    "    externals['t'] = range(externals.shape[0])\n",
    "    return externals.copy()\n",
    "\n",
    "def pickle_out(obj):\n",
    "    \"\"\" writes out forecast results as a pickle file to the pickled folder\n",
    "        Parameters: obj : any data type\n",
    "                        the object to be written out -- this will be a Forecaster object\n",
    "    \"\"\"\n",
    "    with open('pickled/AllStatesForecasts-{0}.pickle'.format(str(datetime.datetime.now()).split('.')[0].replace(':','')),'wb') as f:\n",
    "        pickle.dump(obj,f)\n",
    "\n",
    "def pickle_in(which='latest'):\n",
    "    \"\"\" reads a pickle object saved in the pickled folder\n",
    "        Parameters: which : str, default \"latest\"\n",
    "                        if \"latest\", will read in the most recently created file in the pickled folder\n",
    "                        any other argument should be a datetime-like str and correspond with a file name in the pickled folder\n",
    "                        ex. to extract the AllStatesForecast-2020-09-11 121129.pickle file, this would be \"2020-09-11 121129\"\n",
    "    \"\"\"\n",
    "    if which == 'latest':\n",
    "        most_recent_file = max([f for f in os.listdir('pickled')])\n",
    "        f= open(f'pickled/{most_recent_file}','rb')\n",
    "    else:\n",
    "        f= open(f'pickled/AllStatesForecasts-{which}.pickle','rb')\n",
    "    x = pickle.load(f)\n",
    "    f.close()\n",
    "    return x\n",
    "\n",
    "def visualize():\n",
    "    \"\"\" visualize the forecast results\n",
    "        leverages Jupyter widgets\n",
    "        relies on the ExternalsData object type\n",
    "        add new forecast names to the model_options list\n",
    "    \"\"\"\n",
    "    def display_user_selections(states_selection,ei_selection,model_selections):\n",
    "        \"\"\" displays graphs with seaborn based on what user selects from dropdown menus\n",
    "        \"\"\"\n",
    "        selected_data = forecasts[f'{states_selection}{ei_selection}']\n",
    "        selected_data.display_ts_plot(models=[m for m,s in model_selections.items() if s == 'True'],\n",
    "                                     print_mapes=True)\n",
    "\n",
    "    def on_button_clicked(b):\n",
    "        \"\"\" passes the user options to the display_user_selections function after the button is pressed\n",
    "        \"\"\"\n",
    "        states_selection = states_dropdown.value\n",
    "        ei_selection = ei_dropdown.value\n",
    "        model_selections = {}\n",
    "        for k,s in model_dropdown.items():\n",
    "            model_selections[k] = s.value\n",
    "        with output:\n",
    "            clear_output()\n",
    "            display_user_selections(states_selection,ei_selection,model_selections)\n",
    "    \n",
    "    bool_op = ['True','False']\n",
    "    # the models that you will have the option to display in the graph\n",
    "    model_options = ['arima','arima_no_reg','tbats','ets','rf','adaboost','gbt','svr','mlr','ridge','lasso','mlp','average']\n",
    "    states_dropdown = widgets.Dropdown(options=states, description = 'State')\n",
    "    ei_dropdown = widgets.Dropdown(options=['SLIND','PHCI','UR'], description = 'Indicator')\n",
    "    model_dropdown = {}\n",
    "    for m in model_options:\n",
    "        model_dropdown[m] = widgets.Dropdown(options=bool_op.copy(), description = m)\n",
    "\n",
    "    # never changes\n",
    "    button = widgets.Button(description=\"Show Forecast\")\n",
    "    output = widgets.Output()\n",
    "\n",
    "    display(states_dropdown,ei_dropdown)\n",
    "    for d, k in model_dropdown.items():\n",
    "        display(k)\n",
    "    display(button, output)\n",
    "    \n",
    "    button.on_click(on_button_clicked)   "
   ]
  },
  {
   "cell_type": "code",
   "execution_count": 5,
   "metadata": {},
   "outputs": [],
   "source": [
    "if rerun:\n",
    "    externals = get_regressors(futures)\n",
    "    forecasts = {}\n",
    "    for s in log_progress(states):\n",
    "        for ei in ('SLIND','PHCI','UR'):\n",
    "            d = Forecaster()\n",
    "            d.get_data_fred(f'{s}{ei}')\n",
    "            d.process_xreg_df(externals,date_col='DATE')\n",
    "            d.check_xreg_future_current_consistency()\n",
    "            d.forecast_mlp(test_length=3,hyper_params={'hidden_layer_sizes':(10,50,),'solver':'lbfgs','activation':'relu'})\n",
    "            d.forecast_rf(test_length=3,hyper_params={'n_estimators':500,'max_depth':3})\n",
    "            d.forecast_gbt(test_length=3,hyper_params={'max_depth':3,'n_estimators':500})\n",
    "            d.forecast_adaboost(test_length=3,hyper_params={'learning_rate':.5,'n_estimators':250})\n",
    "            d.forecast_mlr(test_length=3)\n",
    "            d.forecast_ridge(test_length=3,alpha=10)\n",
    "            d.forecast_lasso(test_length=3,alpha=.05)\n",
    "            d.forecast_svr(test_length=3,hyper_params={'kernel':'linear','C':0.05,'epsilon':1.25})\n",
    "            d.forecast_arima(test_length=3,Xvars='top_3')\n",
    "            d.forecast_arima(test_length=3,Xvars=None,call_me='arima_no_reg')\n",
    "            d.forecast_tbats(test_length=3)\n",
    "            d.forecast_ets(test_length=3)\n",
    "            d.forecast_average(models='top_4')\n",
    "            forecasts[f'{s}{ei}'] = d\n",
    "    pickle_out(forecasts)\n",
    "else:\n",
    "    forecasts = pickle_in('latest')"
   ]
  },
  {
   "cell_type": "code",
   "execution_count": 8,
   "metadata": {},
   "outputs": [
    {
     "data": {
      "application/vnd.jupyter.widget-view+json": {
       "model_id": "12a4eff994674e42a4a0ef4a8173a93c",
       "version_major": 2,
       "version_minor": 0
      },
      "text/plain": [
       "Dropdown(description='State', options=('AL', 'AK', 'AZ', 'AR', 'CA', 'CO', 'CT', 'DE', 'FL', 'GA', 'HI', 'ID',…"
      ]
     },
     "metadata": {},
     "output_type": "display_data"
    },
    {
     "data": {
      "application/vnd.jupyter.widget-view+json": {
       "model_id": "c74d30e6414c4c888002d59bf2cdbbdc",
       "version_major": 2,
       "version_minor": 0
      },
      "text/plain": [
       "Dropdown(description='Indicator', options=('SLIND', 'PHCI', 'UR'), value='SLIND')"
      ]
     },
     "metadata": {},
     "output_type": "display_data"
    },
    {
     "data": {
      "application/vnd.jupyter.widget-view+json": {
       "model_id": "4a0ec4ae72364e80b78bf777c65a631d",
       "version_major": 2,
       "version_minor": 0
      },
      "text/plain": [
       "Dropdown(description='arima', options=('True', 'False'), value='True')"
      ]
     },
     "metadata": {},
     "output_type": "display_data"
    },
    {
     "data": {
      "application/vnd.jupyter.widget-view+json": {
       "model_id": "840e33ef940340f2a5af36e48bb7cd96",
       "version_major": 2,
       "version_minor": 0
      },
      "text/plain": [
       "Dropdown(description='arima_no_reg', options=('True', 'False'), value='True')"
      ]
     },
     "metadata": {},
     "output_type": "display_data"
    },
    {
     "data": {
      "application/vnd.jupyter.widget-view+json": {
       "model_id": "1694518e325f42b49d4c131efa0d9b34",
       "version_major": 2,
       "version_minor": 0
      },
      "text/plain": [
       "Dropdown(description='tbats', options=('True', 'False'), value='True')"
      ]
     },
     "metadata": {},
     "output_type": "display_data"
    },
    {
     "data": {
      "application/vnd.jupyter.widget-view+json": {
       "model_id": "d9935d86816a44cbaf8c3280318a5913",
       "version_major": 2,
       "version_minor": 0
      },
      "text/plain": [
       "Dropdown(description='ets', options=('True', 'False'), value='True')"
      ]
     },
     "metadata": {},
     "output_type": "display_data"
    },
    {
     "data": {
      "application/vnd.jupyter.widget-view+json": {
       "model_id": "5d04c5849c394890a8e1020f37555a70",
       "version_major": 2,
       "version_minor": 0
      },
      "text/plain": [
       "Dropdown(description='rf', options=('True', 'False'), value='True')"
      ]
     },
     "metadata": {},
     "output_type": "display_data"
    },
    {
     "data": {
      "application/vnd.jupyter.widget-view+json": {
       "model_id": "04a3a1b45c5849a7a79246f4f21b178d",
       "version_major": 2,
       "version_minor": 0
      },
      "text/plain": [
       "Dropdown(description='adaboost', options=('True', 'False'), value='True')"
      ]
     },
     "metadata": {},
     "output_type": "display_data"
    },
    {
     "data": {
      "application/vnd.jupyter.widget-view+json": {
       "model_id": "8a43ef9f77734a0285f1c21ec412f12f",
       "version_major": 2,
       "version_minor": 0
      },
      "text/plain": [
       "Dropdown(description='gbt', options=('True', 'False'), value='True')"
      ]
     },
     "metadata": {},
     "output_type": "display_data"
    },
    {
     "data": {
      "application/vnd.jupyter.widget-view+json": {
       "model_id": "4d94c6e421c44429bd5934f75475c8fd",
       "version_major": 2,
       "version_minor": 0
      },
      "text/plain": [
       "Dropdown(description='svr', options=('True', 'False'), value='True')"
      ]
     },
     "metadata": {},
     "output_type": "display_data"
    },
    {
     "data": {
      "application/vnd.jupyter.widget-view+json": {
       "model_id": "d49e7b1b1e2b4a099fe54d6ec74c98b1",
       "version_major": 2,
       "version_minor": 0
      },
      "text/plain": [
       "Dropdown(description='mlr', options=('True', 'False'), value='True')"
      ]
     },
     "metadata": {},
     "output_type": "display_data"
    },
    {
     "data": {
      "application/vnd.jupyter.widget-view+json": {
       "model_id": "024efbfb115e4f95a4aa962f5a5740b5",
       "version_major": 2,
       "version_minor": 0
      },
      "text/plain": [
       "Dropdown(description='ridge', options=('True', 'False'), value='True')"
      ]
     },
     "metadata": {},
     "output_type": "display_data"
    },
    {
     "data": {
      "application/vnd.jupyter.widget-view+json": {
       "model_id": "f40e58332d5b43a3bb749fbc822028fd",
       "version_major": 2,
       "version_minor": 0
      },
      "text/plain": [
       "Dropdown(description='lasso', options=('True', 'False'), value='True')"
      ]
     },
     "metadata": {},
     "output_type": "display_data"
    },
    {
     "data": {
      "application/vnd.jupyter.widget-view+json": {
       "model_id": "ed7bb5e819ea4fc5b7245ef1f8255ef4",
       "version_major": 2,
       "version_minor": 0
      },
      "text/plain": [
       "Dropdown(description='mlp', options=('True', 'False'), value='True')"
      ]
     },
     "metadata": {},
     "output_type": "display_data"
    },
    {
     "data": {
      "application/vnd.jupyter.widget-view+json": {
       "model_id": "07eefc21846b44d1a327a15bf075019a",
       "version_major": 2,
       "version_minor": 0
      },
      "text/plain": [
       "Dropdown(description='average', options=('True', 'False'), value='True')"
      ]
     },
     "metadata": {},
     "output_type": "display_data"
    },
    {
     "data": {
      "application/vnd.jupyter.widget-view+json": {
       "model_id": "592ab1b244624188aa975452dfe7f94e",
       "version_major": 2,
       "version_minor": 0
      },
      "text/plain": [
       "Button(description='Show Forecast', style=ButtonStyle())"
      ]
     },
     "metadata": {},
     "output_type": "display_data"
    },
    {
     "data": {
      "application/vnd.jupyter.widget-view+json": {
       "model_id": "cc9f434562624b9cb86d4a24f38bcec3",
       "version_major": 2,
       "version_minor": 0
      },
      "text/plain": [
       "Output()"
      ]
     },
     "metadata": {},
     "output_type": "display_data"
    }
   ],
   "source": [
    "sns.set(rc={'figure.figsize':(18,10)})\n",
    "visualize()"
   ]
  },
  {
   "cell_type": "code",
   "execution_count": null,
   "metadata": {},
   "outputs": [],
   "source": []
  }
 ],
 "metadata": {
  "kernelspec": {
   "display_name": "Python 3",
   "language": "python",
   "name": "python3"
  },
  "language_info": {
   "codemirror_mode": {
    "name": "ipython",
    "version": 3
   },
   "file_extension": ".py",
   "mimetype": "text/x-python",
   "name": "python",
   "nbconvert_exporter": "python",
   "pygments_lexer": "ipython3",
   "version": "3.7.6"
  },
  "widgets": {
   "application/vnd.jupyter.widget-state+json": {
    "state": {
     "024efbfb115e4f95a4aa962f5a5740b5": {
      "model_module": "@jupyter-widgets/controls",
      "model_module_version": "1.5.0",
      "model_name": "DropdownModel",
      "state": {
       "_options_labels": [
        "True",
        "False"
       ],
       "description": "ridge",
       "index": 0,
       "layout": "IPY_MODEL_d948c495edfe4abfabad86604b288759",
       "style": "IPY_MODEL_e400fc8a72cc4784b235d42bda61a4c9"
      }
     },
     "04a3a1b45c5849a7a79246f4f21b178d": {
      "model_module": "@jupyter-widgets/controls",
      "model_module_version": "1.5.0",
      "model_name": "DropdownModel",
      "state": {
       "_options_labels": [
        "True",
        "False"
       ],
       "description": "adaboost",
       "index": 0,
       "layout": "IPY_MODEL_1653b892c96a4285aaa8ddc5d26007c1",
       "style": "IPY_MODEL_152ccfbe992c45839fa69639cd3817c7"
      }
     },
     "06ee5f8eb89745f0aa481a0ddaf5a46e": {
      "model_module": "@jupyter-widgets/base",
      "model_module_version": "1.2.0",
      "model_name": "LayoutModel",
      "state": {}
     },
     "07eefc21846b44d1a327a15bf075019a": {
      "model_module": "@jupyter-widgets/controls",
      "model_module_version": "1.5.0",
      "model_name": "DropdownModel",
      "state": {
       "_options_labels": [
        "True",
        "False"
       ],
       "description": "average",
       "index": 0,
       "layout": "IPY_MODEL_7b974bbb5f7b4993a0ad1157153dd07a",
       "style": "IPY_MODEL_3d7d68a962ee4f70a733a9e8b5a17c56"
      }
     },
     "11d95a7c09e3401fb893af0d5cd8dd25": {
      "model_module": "@jupyter-widgets/base",
      "model_module_version": "1.2.0",
      "model_name": "LayoutModel",
      "state": {}
     },
     "122b0691d47c4491a8a66ddaddfc3aba": {
      "model_module": "@jupyter-widgets/controls",
      "model_module_version": "1.5.0",
      "model_name": "DropdownModel",
      "state": {
       "_options_labels": [
        "True",
        "False"
       ],
       "description": "tbats",
       "index": 0,
       "layout": "IPY_MODEL_4692c65448174bc89e361f4639f6de5f",
       "style": "IPY_MODEL_8c29179c503d47d2823a66a9421e8c68"
      }
     },
     "12a4eff994674e42a4a0ef4a8173a93c": {
      "model_module": "@jupyter-widgets/controls",
      "model_module_version": "1.5.0",
      "model_name": "DropdownModel",
      "state": {
       "_options_labels": [
        "AL",
        "AK",
        "AZ",
        "AR",
        "CA",
        "CO",
        "CT",
        "DE",
        "FL",
        "GA",
        "HI",
        "ID",
        "IL",
        "IN",
        "IA",
        "KS",
        "KY",
        "LA",
        "ME",
        "MD",
        "MA",
        "MI",
        "MN",
        "MS",
        "MO",
        "MT",
        "NE",
        "NV",
        "NH",
        "NJ",
        "NM",
        "NY",
        "NC",
        "ND",
        "OH",
        "OK",
        "OR",
        "PA",
        "RI",
        "SC",
        "SD",
        "TN",
        "TX",
        "UT",
        "VT",
        "VA",
        "WA",
        "WV",
        "WI",
        "WY"
       ],
       "description": "State",
       "index": 0,
       "layout": "IPY_MODEL_e53f910e50ab4da6be1b053b44e29088",
       "style": "IPY_MODEL_799fc989e2bf4c8896d4154b6b58e9f2"
      }
     },
     "131120393d6a4a56b4bd8ec0af874254": {
      "model_module": "@jupyter-widgets/base",
      "model_module_version": "1.2.0",
      "model_name": "LayoutModel",
      "state": {}
     },
     "152ccfbe992c45839fa69639cd3817c7": {
      "model_module": "@jupyter-widgets/controls",
      "model_module_version": "1.5.0",
      "model_name": "DescriptionStyleModel",
      "state": {
       "description_width": ""
      }
     },
     "1653b892c96a4285aaa8ddc5d26007c1": {
      "model_module": "@jupyter-widgets/base",
      "model_module_version": "1.2.0",
      "model_name": "LayoutModel",
      "state": {}
     },
     "167ed31a23a0413b8d62e792e5a5d423": {
      "model_module": "@jupyter-widgets/base",
      "model_module_version": "1.2.0",
      "model_name": "LayoutModel",
      "state": {}
     },
     "1694518e325f42b49d4c131efa0d9b34": {
      "model_module": "@jupyter-widgets/controls",
      "model_module_version": "1.5.0",
      "model_name": "DropdownModel",
      "state": {
       "_options_labels": [
        "True",
        "False"
       ],
       "description": "tbats",
       "index": 0,
       "layout": "IPY_MODEL_06ee5f8eb89745f0aa481a0ddaf5a46e",
       "style": "IPY_MODEL_c35f141546504b408808e3bdcc26f45e"
      }
     },
     "1a2464f549194f4b98a9f18bd5a776d6": {
      "model_module": "@jupyter-widgets/controls",
      "model_module_version": "1.5.0",
      "model_name": "DescriptionStyleModel",
      "state": {
       "description_width": ""
      }
     },
     "1c139b8cc395440d99497dce7cbda0f8": {
      "model_module": "@jupyter-widgets/base",
      "model_module_version": "1.2.0",
      "model_name": "LayoutModel",
      "state": {}
     },
     "22c134709eb9485a92fd9e88004e8399": {
      "model_module": "@jupyter-widgets/controls",
      "model_module_version": "1.5.0",
      "model_name": "DescriptionStyleModel",
      "state": {
       "description_width": ""
      }
     },
     "231c95dd02b044148a5555f415ee94b8": {
      "model_module": "@jupyter-widgets/base",
      "model_module_version": "1.2.0",
      "model_name": "LayoutModel",
      "state": {}
     },
     "25dd5d2ba61b422ea9482cf4efba644f": {
      "model_module": "@jupyter-widgets/controls",
      "model_module_version": "1.5.0",
      "model_name": "DropdownModel",
      "state": {
       "_options_labels": [
        "True",
        "False"
       ],
       "description": "lasso",
       "index": 0,
       "layout": "IPY_MODEL_c14a8efbfddf45df980997f35eb10769",
       "style": "IPY_MODEL_cd1af823501842fabea6ee8a4129bb8b"
      }
     },
     "271285f4dc504e9db3ea6fbb50fa840d": {
      "model_module": "@jupyter-widgets/controls",
      "model_module_version": "1.5.0",
      "model_name": "DescriptionStyleModel",
      "state": {
       "description_width": ""
      }
     },
     "28b8cbee5fb24498bc801b15b53e00c0": {
      "model_module": "@jupyter-widgets/controls",
      "model_module_version": "1.5.0",
      "model_name": "DescriptionStyleModel",
      "state": {
       "description_width": ""
      }
     },
     "2a4cc82a93ac43e29ffe4a2c155886ec": {
      "model_module": "@jupyter-widgets/controls",
      "model_module_version": "1.5.0",
      "model_name": "DropdownModel",
      "state": {
       "_options_labels": [
        "True",
        "False"
       ],
       "description": "average",
       "index": 0,
       "layout": "IPY_MODEL_1c139b8cc395440d99497dce7cbda0f8",
       "style": "IPY_MODEL_3de9c46da489421689aa8936c9f32d5e"
      }
     },
     "2c01061cf52f4bcd9ea4b0dadf6264d2": {
      "model_module": "@jupyter-widgets/base",
      "model_module_version": "1.2.0",
      "model_name": "LayoutModel",
      "state": {}
     },
     "2e194df37a61452c94cd3e388d925465": {
      "model_module": "@jupyter-widgets/base",
      "model_module_version": "1.2.0",
      "model_name": "LayoutModel",
      "state": {}
     },
     "327ee57bd56f4d61b83b12d90d6339a1": {
      "model_module": "@jupyter-widgets/base",
      "model_module_version": "1.2.0",
      "model_name": "LayoutModel",
      "state": {}
     },
     "350a95dcbca841c39da96e5530adc14e": {
      "model_module": "@jupyter-widgets/controls",
      "model_module_version": "1.5.0",
      "model_name": "DescriptionStyleModel",
      "state": {
       "description_width": ""
      }
     },
     "367aa862d50c452684c1d0ae019275ea": {
      "model_module": "@jupyter-widgets/base",
      "model_module_version": "1.2.0",
      "model_name": "LayoutModel",
      "state": {}
     },
     "38f5dc78cb1549a7bc1561595ab70a23": {
      "model_module": "@jupyter-widgets/base",
      "model_module_version": "1.2.0",
      "model_name": "LayoutModel",
      "state": {}
     },
     "3d7019fdf3b24e2d935335cd60c99fa7": {
      "model_module": "@jupyter-widgets/base",
      "model_module_version": "1.2.0",
      "model_name": "LayoutModel",
      "state": {}
     },
     "3d7d68a962ee4f70a733a9e8b5a17c56": {
      "model_module": "@jupyter-widgets/controls",
      "model_module_version": "1.5.0",
      "model_name": "DescriptionStyleModel",
      "state": {
       "description_width": ""
      }
     },
     "3de9c46da489421689aa8936c9f32d5e": {
      "model_module": "@jupyter-widgets/controls",
      "model_module_version": "1.5.0",
      "model_name": "DescriptionStyleModel",
      "state": {
       "description_width": ""
      }
     },
     "4051e5ffcc5442748fba01a4409d6691": {
      "model_module": "@jupyter-widgets/base",
      "model_module_version": "1.2.0",
      "model_name": "LayoutModel",
      "state": {}
     },
     "40a231e49fbb486483ce497fe005cb10": {
      "model_module": "@jupyter-widgets/controls",
      "model_module_version": "1.5.0",
      "model_name": "DescriptionStyleModel",
      "state": {
       "description_width": ""
      }
     },
     "42911628775e4fbca54bcd3125482622": {
      "model_module": "@jupyter-widgets/controls",
      "model_module_version": "1.5.0",
      "model_name": "DescriptionStyleModel",
      "state": {
       "description_width": ""
      }
     },
     "4692c65448174bc89e361f4639f6de5f": {
      "model_module": "@jupyter-widgets/base",
      "model_module_version": "1.2.0",
      "model_name": "LayoutModel",
      "state": {}
     },
     "4731d426033b46b5850dd5b3b9a9dca3": {
      "model_module": "@jupyter-widgets/base",
      "model_module_version": "1.2.0",
      "model_name": "LayoutModel",
      "state": {}
     },
     "4a0ec4ae72364e80b78bf777c65a631d": {
      "model_module": "@jupyter-widgets/controls",
      "model_module_version": "1.5.0",
      "model_name": "DropdownModel",
      "state": {
       "_options_labels": [
        "True",
        "False"
       ],
       "description": "arima",
       "index": 0,
       "layout": "IPY_MODEL_d896c9ba9e2d4dd7b13b96ab654a8c11",
       "style": "IPY_MODEL_563add07a97b45c08c7bb53044efb276"
      }
     },
     "4c1d19b07da949e4bfc9d31e30228383": {
      "model_module": "@jupyter-widgets/controls",
      "model_module_version": "1.5.0",
      "model_name": "DropdownModel",
      "state": {
       "_options_labels": [
        "True",
        "False"
       ],
       "description": "mlr",
       "index": 0,
       "layout": "IPY_MODEL_2e194df37a61452c94cd3e388d925465",
       "style": "IPY_MODEL_1a2464f549194f4b98a9f18bd5a776d6"
      }
     },
     "4d94c6e421c44429bd5934f75475c8fd": {
      "model_module": "@jupyter-widgets/controls",
      "model_module_version": "1.5.0",
      "model_name": "DropdownModel",
      "state": {
       "_options_labels": [
        "True",
        "False"
       ],
       "description": "svr",
       "index": 0,
       "layout": "IPY_MODEL_c22631cab92f4733b4ff006cea06029b",
       "style": "IPY_MODEL_82bf63b655a44d99bda708f7342597a9"
      }
     },
     "50a01d8bb4554f60800cb6262f746579": {
      "model_module": "@jupyter-widgets/base",
      "model_module_version": "1.2.0",
      "model_name": "LayoutModel",
      "state": {}
     },
     "50ea04a553d54278bb2338aedc471e8c": {
      "model_module": "@jupyter-widgets/controls",
      "model_module_version": "1.5.0",
      "model_name": "DropdownModel",
      "state": {
       "_options_labels": [
        "True",
        "False"
       ],
       "description": "adaboost",
       "index": 0,
       "layout": "IPY_MODEL_bb4372604d10455e9b8e02dc5f17db3d",
       "style": "IPY_MODEL_40a231e49fbb486483ce497fe005cb10"
      }
     },
     "555f6ae1972e4ac98e3aaf320619d2c1": {
      "model_module": "@jupyter-widgets/controls",
      "model_module_version": "1.5.0",
      "model_name": "DescriptionStyleModel",
      "state": {
       "description_width": ""
      }
     },
     "557f4b898b4b471e8935189612e32a01": {
      "model_module": "@jupyter-widgets/controls",
      "model_module_version": "1.5.0",
      "model_name": "DescriptionStyleModel",
      "state": {
       "description_width": ""
      }
     },
     "563add07a97b45c08c7bb53044efb276": {
      "model_module": "@jupyter-widgets/controls",
      "model_module_version": "1.5.0",
      "model_name": "DescriptionStyleModel",
      "state": {
       "description_width": ""
      }
     },
     "5768e7fdde1a4be299c5db6b7d95d75f": {
      "model_module": "@jupyter-widgets/controls",
      "model_module_version": "1.5.0",
      "model_name": "DescriptionStyleModel",
      "state": {
       "description_width": ""
      }
     },
     "592ab1b244624188aa975452dfe7f94e": {
      "model_module": "@jupyter-widgets/controls",
      "model_module_version": "1.5.0",
      "model_name": "ButtonModel",
      "state": {
       "description": "Show Forecast",
       "layout": "IPY_MODEL_38f5dc78cb1549a7bc1561595ab70a23",
       "style": "IPY_MODEL_85da7a231d0244a599bbafe5f3e0790b"
      }
     },
     "59ae1d00e8cd4b8682b5579ee51b6bd9": {
      "model_module": "@jupyter-widgets/base",
      "model_module_version": "1.2.0",
      "model_name": "LayoutModel",
      "state": {}
     },
     "5d04c5849c394890a8e1020f37555a70": {
      "model_module": "@jupyter-widgets/controls",
      "model_module_version": "1.5.0",
      "model_name": "DropdownModel",
      "state": {
       "_options_labels": [
        "True",
        "False"
       ],
       "description": "rf",
       "index": 0,
       "layout": "IPY_MODEL_327ee57bd56f4d61b83b12d90d6339a1",
       "style": "IPY_MODEL_350a95dcbca841c39da96e5530adc14e"
      }
     },
     "5fd42186a9054585a5cd51aca10ed7ad": {
      "model_module": "@jupyter-widgets/controls",
      "model_module_version": "1.5.0",
      "model_name": "DescriptionStyleModel",
      "state": {
       "description_width": ""
      }
     },
     "5ffbab76a976421ebf6377536af8db74": {
      "model_module": "@jupyter-widgets/controls",
      "model_module_version": "1.5.0",
      "model_name": "DropdownModel",
      "state": {
       "_options_labels": [
        "True",
        "False"
       ],
       "description": "arima",
       "index": 0,
       "layout": "IPY_MODEL_7a3338a9eee4487eae15c5b28bf68882",
       "style": "IPY_MODEL_555f6ae1972e4ac98e3aaf320619d2c1"
      }
     },
     "6422d3cb04724ba38b7287be783efe51": {
      "model_module": "@jupyter-widgets/controls",
      "model_module_version": "1.5.0",
      "model_name": "DescriptionStyleModel",
      "state": {
       "description_width": ""
      }
     },
     "66e6b795458141cb9a8510850cddc9e0": {
      "model_module": "@jupyter-widgets/controls",
      "model_module_version": "1.5.0",
      "model_name": "DropdownModel",
      "state": {
       "_options_labels": [
        "True",
        "False"
       ],
       "description": "gbt",
       "index": 0,
       "layout": "IPY_MODEL_d27e859d701a45938f71be8d88171c84",
       "style": "IPY_MODEL_f950c211343b4c1288216d0060bf6058"
      }
     },
     "70d418d079874386981c00e80a413aeb": {
      "model_module": "@jupyter-widgets/base",
      "model_module_version": "1.2.0",
      "model_name": "LayoutModel",
      "state": {}
     },
     "72d77fb6086b48a8b393cb321b3be96e": {
      "model_module": "@jupyter-widgets/controls",
      "model_module_version": "1.5.0",
      "model_name": "DropdownModel",
      "state": {
       "_options_labels": [
        "AL",
        "AK",
        "AZ",
        "AR",
        "CA",
        "CO",
        "CT",
        "DE",
        "FL",
        "GA",
        "HI",
        "ID",
        "IL",
        "IN",
        "IA",
        "KS",
        "KY",
        "LA",
        "ME",
        "MD",
        "MA",
        "MI",
        "MN",
        "MS",
        "MO",
        "MT",
        "NE",
        "NV",
        "NH",
        "NJ",
        "NM",
        "NY",
        "NC",
        "ND",
        "OH",
        "OK",
        "OR",
        "PA",
        "RI",
        "SC",
        "SD",
        "TN",
        "TX",
        "UT",
        "VT",
        "VA",
        "WA",
        "WV",
        "WI",
        "WY"
       ],
       "description": "State",
       "index": 0,
       "layout": "IPY_MODEL_367aa862d50c452684c1d0ae019275ea",
       "style": "IPY_MODEL_e551085dde504f8eb2bf1d03158682da"
      }
     },
     "799fc989e2bf4c8896d4154b6b58e9f2": {
      "model_module": "@jupyter-widgets/controls",
      "model_module_version": "1.5.0",
      "model_name": "DescriptionStyleModel",
      "state": {
       "description_width": ""
      }
     },
     "7a3338a9eee4487eae15c5b28bf68882": {
      "model_module": "@jupyter-widgets/base",
      "model_module_version": "1.2.0",
      "model_name": "LayoutModel",
      "state": {}
     },
     "7b974bbb5f7b4993a0ad1157153dd07a": {
      "model_module": "@jupyter-widgets/base",
      "model_module_version": "1.2.0",
      "model_name": "LayoutModel",
      "state": {}
     },
     "7eb5080c18f94632b57522973d75678c": {
      "model_module": "@jupyter-widgets/output",
      "model_module_version": "1.0.0",
      "model_name": "OutputModel",
      "state": {
       "layout": "IPY_MODEL_b891b816cd7f4a88aa23f32cc544a144",
       "outputs": [
        {
         "name": "stdout",
         "output_type": "stream",
         "text": "arima model form: Regression with ARIMA(4,0,5) errors 3-period test-set MAPE: 1.1900548682916636 regressors: ['JHDUSRGDPBR_lagMonth_3', 'JHDUSRGDPBR_lagMonth_2', 'JHDUSRGDPBR_lagMonth_4']\narima_no_reg model form: ARIMA(5,0,4) with non-zero mean 3-period test-set MAPE: 0.0891671860720684 regressors: None\ntbats model form: BATS(1, {0,0}, 0.912, -) 3-period test-set MAPE: 0.09148498337110977 regressors: None\nets model form: ETS(A,N,N) 3-period test-set MAPE: 0.11293095359994333 regressors: None\nrf model form: Random Forest - {'n_estimators': 500, 'max_depth': 3} 3-period test-set MAPE: 2.0205769578619144 regressors: ['t', 'JHDUSRGDPBR_lagMonth_3', 'JHDUSRGDPBR_lagMonth_2', 'JHDUSRGDPBR_lagMonth_4', 'LastRecession_2007-10-01 00:00:00', 'JHDUSRGDPBR_lagMonth_21', 'JHDUSRGDPBR_lagMonth_1', 'LastRecession_1989-10-01 00:00:00', 'JHDUSRGDPBR_lagMonth_18', 'JHDUSRGDPBR_lagMonth_7', 'JHDUSRGDPBR', 'JHDUSRGDPBR_lagMonth_19', 'JHDUSRGDPBR_lagMonth_9', 'JHDUSRGDPBR_lagMonth_8', 'JHDUSRGDPBR_lagMonth_12', 'JHDUSRGDPBR_lagMonth_6', 'JHDUSRGDPBR_lagMonth_5', 'JHDUSRGDPBR_lagMonth_11', 'JHDUSRGDPBR_lagMonth_13', 'JHDUSRGDPBR_lagMonth_20', 'JHDUSRGDPBR_lagMonth_17', 'JHDUSRGDPBR_lagMonth_22', 'JHDUSRGDPBR_lagMonth_14', 'JHDUSRGDPBR_lagMonth_10', 'JHDUSRGDPBR_lagMonth_15', 'JHDUSRGDPBR_lagMonth_16', 'LastRecession_2019-10-01 00:00:00', 'JHDUSRGDPBR_lagMonth_24', 'LastRecession_2001-01-01 00:00:00', 'JHDUSRGDPBR_lagMonth_23']\nadaboost model form: Ada Boosted Trees - {'learning_rate': 0.5, 'n_estimators': 250} 3-period test-set MAPE: 2.7543393219687924 regressors: ['t', 'JHDUSRGDPBR_lagMonth_3', 'JHDUSRGDPBR_lagMonth_21', 'JHDUSRGDPBR_lagMonth_11', 'LastRecession_1989-10-01 00:00:00', 'JHDUSRGDPBR_lagMonth_5', 'JHDUSRGDPBR', 'LastRecession_2007-10-01 00:00:00', 'JHDUSRGDPBR_lagMonth_12', 'JHDUSRGDPBR_lagMonth_2', 'JHDUSRGDPBR_lagMonth_18', 'JHDUSRGDPBR_lagMonth_13', 'JHDUSRGDPBR_lagMonth_4', 'JHDUSRGDPBR_lagMonth_6', 'JHDUSRGDPBR_lagMonth_1', 'JHDUSRGDPBR_lagMonth_17', 'JHDUSRGDPBR_lagMonth_22', 'JHDUSRGDPBR_lagMonth_8', 'JHDUSRGDPBR_lagMonth_14', 'JHDUSRGDPBR_lagMonth_9', 'JHDUSRGDPBR_lagMonth_19', 'JHDUSRGDPBR_lagMonth_7', 'JHDUSRGDPBR_lagMonth_10', 'JHDUSRGDPBR_lagMonth_20', 'LastRecession_2019-10-01 00:00:00', 'LastRecession_2001-01-01 00:00:00', 'JHDUSRGDPBR_lagMonth_15', 'JHDUSRGDPBR_lagMonth_16', 'JHDUSRGDPBR_lagMonth_23', 'JHDUSRGDPBR_lagMonth_24']\ngbt model form: Gradient Boosted Trees - {'max_depth': 3, 'n_estimators': 500} 3-period test-set MAPE: 0.9414555612965652 regressors: ['t', 'JHDUSRGDPBR_lagMonth_4', 'JHDUSRGDPBR_lagMonth_11', 'JHDUSRGDPBR', 'JHDUSRGDPBR_lagMonth_7', 'JHDUSRGDPBR_lagMonth_9', 'JHDUSRGDPBR_lagMonth_3', 'JHDUSRGDPBR_lagMonth_12', 'JHDUSRGDPBR_lagMonth_18', 'LastRecession_2007-10-01 00:00:00', 'JHDUSRGDPBR_lagMonth_10', 'JHDUSRGDPBR_lagMonth_21', 'LastRecession_2001-01-01 00:00:00', 'JHDUSRGDPBR_lagMonth_15', 'JHDUSRGDPBR_lagMonth_8', 'JHDUSRGDPBR_lagMonth_5', 'JHDUSRGDPBR_lagMonth_24', 'JHDUSRGDPBR_lagMonth_2', 'JHDUSRGDPBR_lagMonth_23', 'LastRecession_1989-10-01 00:00:00', 'JHDUSRGDPBR_lagMonth_16', 'JHDUSRGDPBR_lagMonth_19', 'JHDUSRGDPBR_lagMonth_13', 'JHDUSRGDPBR_lagMonth_17', 'JHDUSRGDPBR_lagMonth_14', 'JHDUSRGDPBR_lagMonth_6', 'JHDUSRGDPBR_lagMonth_20', 'JHDUSRGDPBR_lagMonth_22', 'JHDUSRGDPBR_lagMonth_1', 'LastRecession_2019-10-01 00:00:00']\nsvr model form: Support Vector Regressor - {'kernel': 'linear', 'C': 0.05, 'epsilon': 1.25} 3-period test-set MAPE: 1.0962188656801821 regressors: ['JHDUSRGDPBR', 'JHDUSRGDPBR_lagMonth_3', 't', 'JHDUSRGDPBR_lagMonth_1', 'JHDUSRGDPBR_lagMonth_4', 'JHDUSRGDPBR_lagMonth_2', 'JHDUSRGDPBR_lagMonth_5', 'LastRecession_1989-10-01 00:00:00', 'JHDUSRGDPBR_lagMonth_18', 'JHDUSRGDPBR_lagMonth_6', 'JHDUSRGDPBR_lagMonth_21', 'JHDUSRGDPBR_lagMonth_20', 'JHDUSRGDPBR_lagMonth_19', 'JHDUSRGDPBR_lagMonth_9', 'JHDUSRGDPBR_lagMonth_7', 'JHDUSRGDPBR_lagMonth_17', 'JHDUSRGDPBR_lagMonth_8', 'JHDUSRGDPBR_lagMonth_23', 'LastRecession_2007-10-01 00:00:00', 'LastRecession_2001-01-01 00:00:00', 'JHDUSRGDPBR_lagMonth_24', 'LastRecession_2019-10-01 00:00:00', 'JHDUSRGDPBR_lagMonth_16', 'JHDUSRGDPBR_lagMonth_13', 'JHDUSRGDPBR_lagMonth_22', 'JHDUSRGDPBR_lagMonth_11', 'JHDUSRGDPBR_lagMonth_15', 'JHDUSRGDPBR_lagMonth_14', 'JHDUSRGDPBR_lagMonth_12', 'JHDUSRGDPBR_lagMonth_10']\nmlr model form: Multi Linear Regression 3-period test-set MAPE: 0.5451091188430898 regressors: ['LastRecession_2007-10-01 00:00:00', 't', 'LastRecession_2001-01-01 00:00:00', 'JHDUSRGDPBR', 'LastRecession_2019-10-01 00:00:00', 'JHDUSRGDPBR_lagMonth_9', 'LastRecession_1989-10-01 00:00:00', 'JHDUSRGDPBR_lagMonth_15', 'JHDUSRGDPBR_lagMonth_10', 'JHDUSRGDPBR_lagMonth_11', 'JHDUSRGDPBR_lagMonth_24', 'JHDUSRGDPBR_lagMonth_21', 'JHDUSRGDPBR_lagMonth_6', 'JHDUSRGDPBR_lagMonth_4', 'JHDUSRGDPBR_lagMonth_17', 'JHDUSRGDPBR_lagMonth_3', 'JHDUSRGDPBR_lagMonth_7', 'JHDUSRGDPBR_lagMonth_23', 'JHDUSRGDPBR_lagMonth_20', 'JHDUSRGDPBR_lagMonth_8', 'JHDUSRGDPBR_lagMonth_14', 'JHDUSRGDPBR_lagMonth_19', 'JHDUSRGDPBR_lagMonth_1', 'JHDUSRGDPBR_lagMonth_5', 'JHDUSRGDPBR_lagMonth_16', 'JHDUSRGDPBR_lagMonth_12', 'JHDUSRGDPBR_lagMonth_2', 'JHDUSRGDPBR_lagMonth_22', 'JHDUSRGDPBR_lagMonth_13', 'JHDUSRGDPBR_lagMonth_18']\nridge model form: Ridge - 10 3-period test-set MAPE: 1.3340164529332068 regressors: ['JHDUSRGDPBR', 't', 'JHDUSRGDPBR_lagMonth_9', 'JHDUSRGDPBR_lagMonth_5', 'LastRecession_1989-10-01 00:00:00', 'JHDUSRGDPBR_lagMonth_8', 'JHDUSRGDPBR_lagMonth_3', 'JHDUSRGDPBR_lagMonth_2', 'JHDUSRGDPBR_lagMonth_4', 'JHDUSRGDPBR_lagMonth_21', 'JHDUSRGDPBR_lagMonth_6', 'JHDUSRGDPBR_lagMonth_1', 'JHDUSRGDPBR_lagMonth_18', 'JHDUSRGDPBR_lagMonth_7', 'JHDUSRGDPBR_lagMonth_17', 'JHDUSRGDPBR_lagMonth_11', 'JHDUSRGDPBR_lagMonth_10', 'JHDUSRGDPBR_lagMonth_23', 'JHDUSRGDPBR_lagMonth_20', 'LastRecession_2007-10-01 00:00:00', 'LastRecession_2019-10-01 00:00:00', 'JHDUSRGDPBR_lagMonth_24', 'JHDUSRGDPBR_lagMonth_15', 'JHDUSRGDPBR_lagMonth_19', 'LastRecession_2001-01-01 00:00:00', 'JHDUSRGDPBR_lagMonth_14', 'JHDUSRGDPBR_lagMonth_13', 'JHDUSRGDPBR_lagMonth_16', 'JHDUSRGDPBR_lagMonth_22', 'JHDUSRGDPBR_lagMonth_12']\nlasso model form: Lasso - 0.05 3-period test-set MAPE: 1.0800759690751935 regressors: ['JHDUSRGDPBR', 'JHDUSRGDPBR_lagMonth_4', 'JHDUSRGDPBR_lagMonth_3', 'JHDUSRGDPBR_lagMonth_6', 'JHDUSRGDPBR_lagMonth_5', 'JHDUSRGDPBR_lagMonth_2', 't', 'JHDUSRGDPBR_lagMonth_19', 'JHDUSRGDPBR_lagMonth_20', 'JHDUSRGDPBR_lagMonth_7', 'JHDUSRGDPBR_lagMonth_18', 'JHDUSRGDPBR_lagMonth_1', 'JHDUSRGDPBR_lagMonth_21', 'JHDUSRGDPBR_lagMonth_11', 'JHDUSRGDPBR_lagMonth_8', 'JHDUSRGDPBR_lagMonth_9', 'JHDUSRGDPBR_lagMonth_10', 'LastRecession_2019-10-01 00:00:00', 'JHDUSRGDPBR_lagMonth_12', 'JHDUSRGDPBR_lagMonth_13', 'LastRecession_2007-10-01 00:00:00', 'JHDUSRGDPBR_lagMonth_15', 'JHDUSRGDPBR_lagMonth_16', 'JHDUSRGDPBR_lagMonth_17', 'JHDUSRGDPBR_lagMonth_22', 'JHDUSRGDPBR_lagMonth_23', 'JHDUSRGDPBR_lagMonth_24', 'LastRecession_1989-10-01 00:00:00', 'LastRecession_2001-01-01 00:00:00', 'JHDUSRGDPBR_lagMonth_14']\nmlp model form: Multi Level Perceptron - {'hidden_layer_sizes': (10, 50), 'solver': 'lbfgs', 'activation': 'relu'} 3-period test-set MAPE: 1.3486358967102203 regressors: ['JHDUSRGDPBR_lagMonth_1', 't', 'JHDUSRGDPBR_lagMonth_21', 'JHDUSRGDPBR_lagMonth_3', 'JHDUSRGDPBR_lagMonth_23', 'JHDUSRGDPBR_lagMonth_2', 'JHDUSRGDPBR_lagMonth_19', 'JHDUSRGDPBR_lagMonth_5', 'JHDUSRGDPBR_lagMonth_22', 'LastRecession_1989-10-01 00:00:00', 'JHDUSRGDPBR_lagMonth_6', 'JHDUSRGDPBR_lagMonth_17', 'JHDUSRGDPBR_lagMonth_20', 'JHDUSRGDPBR_lagMonth_9', 'JHDUSRGDPBR_lagMonth_16', 'LastRecession_2007-10-01 00:00:00', 'JHDUSRGDPBR_lagMonth_7', 'JHDUSRGDPBR_lagMonth_8', 'JHDUSRGDPBR_lagMonth_24', 'JHDUSRGDPBR_lagMonth_11', 'JHDUSRGDPBR_lagMonth_13', 'JHDUSRGDPBR_lagMonth_4', 'JHDUSRGDPBR_lagMonth_18', 'JHDUSRGDPBR_lagMonth_14', 'JHDUSRGDPBR_lagMonth_15', 'JHDUSRGDPBR', 'JHDUSRGDPBR_lagMonth_10', 'LastRecession_2001-01-01 00:00:00', 'JHDUSRGDPBR_lagMonth_12', 'LastRecession_2019-10-01 00:00:00']\naverage model form: Average of 4 models: ARIMA(5,0,4) with non-zero mean BATS(1, {0,0}, 0.912, -) ETS(A,N,N) Multi Linear Regression 3-period test-set MAPE: 0.2096730604715528 regressors: None\n"
        },
        {
         "data": {
          "image/png": "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\n",
          "text/plain": "<Figure size 1296x720 with 1 Axes>"
         },
         "metadata": {},
         "output_type": "display_data"
        }
       ]
      }
     },
     "80c3c5c4656947f6a4a5f069b33a4919": {
      "model_module": "@jupyter-widgets/base",
      "model_module_version": "1.2.0",
      "model_name": "LayoutModel",
      "state": {}
     },
     "82bf63b655a44d99bda708f7342597a9": {
      "model_module": "@jupyter-widgets/controls",
      "model_module_version": "1.5.0",
      "model_name": "DescriptionStyleModel",
      "state": {
       "description_width": ""
      }
     },
     "8372461c03874120a4b0bf3bcb48378e": {
      "model_module": "@jupyter-widgets/controls",
      "model_module_version": "1.5.0",
      "model_name": "DropdownModel",
      "state": {
       "_options_labels": [
        "True",
        "False"
       ],
       "description": "mlp",
       "index": 0,
       "layout": "IPY_MODEL_231c95dd02b044148a5555f415ee94b8",
       "style": "IPY_MODEL_5fd42186a9054585a5cd51aca10ed7ad"
      }
     },
     "840e33ef940340f2a5af36e48bb7cd96": {
      "model_module": "@jupyter-widgets/controls",
      "model_module_version": "1.5.0",
      "model_name": "DropdownModel",
      "state": {
       "_options_labels": [
        "True",
        "False"
       ],
       "description": "arima_no_reg",
       "index": 0,
       "layout": "IPY_MODEL_2c01061cf52f4bcd9ea4b0dadf6264d2",
       "style": "IPY_MODEL_42911628775e4fbca54bcd3125482622"
      }
     },
     "85da7a231d0244a599bbafe5f3e0790b": {
      "model_module": "@jupyter-widgets/controls",
      "model_module_version": "1.5.0",
      "model_name": "ButtonStyleModel",
      "state": {}
     },
     "8a43ef9f77734a0285f1c21ec412f12f": {
      "model_module": "@jupyter-widgets/controls",
      "model_module_version": "1.5.0",
      "model_name": "DropdownModel",
      "state": {
       "_options_labels": [
        "True",
        "False"
       ],
       "description": "gbt",
       "index": 0,
       "layout": "IPY_MODEL_131120393d6a4a56b4bd8ec0af874254",
       "style": "IPY_MODEL_b3dd97d9ebf940f0817178d8c1fdc97a"
      }
     },
     "8c29179c503d47d2823a66a9421e8c68": {
      "model_module": "@jupyter-widgets/controls",
      "model_module_version": "1.5.0",
      "model_name": "DescriptionStyleModel",
      "state": {
       "description_width": ""
      }
     },
     "9011110419af443d8ba0f47386071c1f": {
      "model_module": "@jupyter-widgets/controls",
      "model_module_version": "1.5.0",
      "model_name": "DropdownModel",
      "state": {
       "_options_labels": [
        "True",
        "False"
       ],
       "description": "ets",
       "index": 0,
       "layout": "IPY_MODEL_70d418d079874386981c00e80a413aeb",
       "style": "IPY_MODEL_28b8cbee5fb24498bc801b15b53e00c0"
      }
     },
     "a12a168266444d269c659a042a164468": {
      "model_module": "@jupyter-widgets/controls",
      "model_module_version": "1.5.0",
      "model_name": "DropdownModel",
      "state": {
       "_options_labels": [
        "True",
        "False"
       ],
       "description": "ridge",
       "index": 0,
       "layout": "IPY_MODEL_167ed31a23a0413b8d62e792e5a5d423",
       "style": "IPY_MODEL_271285f4dc504e9db3ea6fbb50fa840d"
      }
     },
     "a14186786fb74181ab6e83b544f0e049": {
      "model_module": "@jupyter-widgets/controls",
      "model_module_version": "1.5.0",
      "model_name": "ButtonStyleModel",
      "state": {}
     },
     "b09647594aae4e32aaa9332529376892": {
      "model_module": "@jupyter-widgets/controls",
      "model_module_version": "1.5.0",
      "model_name": "DescriptionStyleModel",
      "state": {
       "description_width": ""
      }
     },
     "b334830af44e4f41a11ea88c86afe98e": {
      "model_module": "@jupyter-widgets/controls",
      "model_module_version": "1.5.0",
      "model_name": "DropdownModel",
      "state": {
       "_options_labels": [
        "True",
        "False"
       ],
       "description": "rf",
       "index": 0,
       "layout": "IPY_MODEL_4731d426033b46b5850dd5b3b9a9dca3",
       "style": "IPY_MODEL_557f4b898b4b471e8935189612e32a01"
      }
     },
     "b3dd97d9ebf940f0817178d8c1fdc97a": {
      "model_module": "@jupyter-widgets/controls",
      "model_module_version": "1.5.0",
      "model_name": "DescriptionStyleModel",
      "state": {
       "description_width": ""
      }
     },
     "b7c0cac5e4024b10ae8a9736af730926": {
      "model_module": "@jupyter-widgets/controls",
      "model_module_version": "1.5.0",
      "model_name": "DescriptionStyleModel",
      "state": {
       "description_width": ""
      }
     },
     "b891b816cd7f4a88aa23f32cc544a144": {
      "model_module": "@jupyter-widgets/base",
      "model_module_version": "1.2.0",
      "model_name": "LayoutModel",
      "state": {}
     },
     "bb4372604d10455e9b8e02dc5f17db3d": {
      "model_module": "@jupyter-widgets/base",
      "model_module_version": "1.2.0",
      "model_name": "LayoutModel",
      "state": {}
     },
     "c14a8efbfddf45df980997f35eb10769": {
      "model_module": "@jupyter-widgets/base",
      "model_module_version": "1.2.0",
      "model_name": "LayoutModel",
      "state": {}
     },
     "c22631cab92f4733b4ff006cea06029b": {
      "model_module": "@jupyter-widgets/base",
      "model_module_version": "1.2.0",
      "model_name": "LayoutModel",
      "state": {}
     },
     "c35f141546504b408808e3bdcc26f45e": {
      "model_module": "@jupyter-widgets/controls",
      "model_module_version": "1.5.0",
      "model_name": "DescriptionStyleModel",
      "state": {
       "description_width": ""
      }
     },
     "c74d30e6414c4c888002d59bf2cdbbdc": {
      "model_module": "@jupyter-widgets/controls",
      "model_module_version": "1.5.0",
      "model_name": "DropdownModel",
      "state": {
       "_options_labels": [
        "SLIND",
        "PHCI",
        "UR"
       ],
       "description": "Indicator",
       "index": 1,
       "layout": "IPY_MODEL_ff16e302aa3446c5b993e94eebc12c21",
       "style": "IPY_MODEL_da405695882343dc822247dc3fc75403"
      }
     },
     "c78bec85c7e146b2bad24beafcb1b7e4": {
      "model_module": "@jupyter-widgets/controls",
      "model_module_version": "1.5.0",
      "model_name": "DropdownModel",
      "state": {
       "_options_labels": [
        "True",
        "False"
       ],
       "description": "svr",
       "index": 0,
       "layout": "IPY_MODEL_d592437da63041c48b626f6c70921fa0",
       "style": "IPY_MODEL_b7c0cac5e4024b10ae8a9736af730926"
      }
     },
     "c8565b36e0b84cfba94435657d1fc9dc": {
      "model_module": "@jupyter-widgets/base",
      "model_module_version": "1.2.0",
      "model_name": "LayoutModel",
      "state": {}
     },
     "cc9f434562624b9cb86d4a24f38bcec3": {
      "model_module": "@jupyter-widgets/output",
      "model_module_version": "1.0.0",
      "model_name": "OutputModel",
      "state": {
       "layout": "IPY_MODEL_59ae1d00e8cd4b8682b5579ee51b6bd9",
       "outputs": [
        {
         "name": "stdout",
         "output_type": "stream",
         "text": "arima model form: Regression with ARIMA(0,1,4) errors 3-period test-set MAPE: 0.0761051286338061 \narima_no_reg model form: ARIMA(0,1,5) with drift 3-period test-set MAPE: 0.34668547439097736 \ntbats model form: BATS(0, {0,0}, -, -) 3-period test-set MAPE: 0.2899899310860697 \nets model form: ETS(M,A,N) 3-period test-set MAPE: 0.20201956832282966 \nrf model form: Random Forest - {'n_estimators': 500, 'max_depth': 3} 3-period test-set MAPE: 0.06170149696464414 \nadaboost model form: Ada Boosted Trees - {'learning_rate': 0.5, 'n_estimators': 250} 3-period test-set MAPE: 0.10412313742740024 \ngbt model form: Gradient Boosted Trees - {'max_depth': 3, 'n_estimators': 500} 3-period test-set MAPE: 0.06517764268889929 \nsvr model form: Support Vector Regressor - {'kernel': 'linear', 'C': 0.05, 'epsilon': 1.25} 3-period test-set MAPE: 0.03839777814529994 \nmlr model form: Multi Linear Regression 3-period test-set MAPE: 0.0654062565198899 \nridge model form: Ridge - 10 3-period test-set MAPE: 0.056843095955403156 \nlasso model form: Lasso - 0.05 3-period test-set MAPE: 0.06832040143637534 \nmlp model form: Multi Level Perceptron - {'hidden_layer_sizes': (10, 50), 'solver': 'lbfgs', 'activation': 'relu'} 3-period test-set MAPE: 0.03997832306151482 \naverage model form: Average of 4 models: Support Vector Regressor - {'kernel': 'linear', 'C': 0.05, 'epsilon': 1.25} Multi Level Perceptron - {'hidden_layer_sizes': (10, 50), 'solver': 'lbfgs', 'activation': 'relu'} Ridge - 10 Random Forest - {'n_estimators': 500, 'max_depth': 3} 3-period test-set MAPE: 0.04923017353171552 \n"
        },
        {
         "data": {
          "image/png": "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\n",
          "text/plain": "<Figure size 1296x720 with 1 Axes>"
         },
         "metadata": {},
         "output_type": "display_data"
        }
       ]
      }
     },
     "cd1af823501842fabea6ee8a4129bb8b": {
      "model_module": "@jupyter-widgets/controls",
      "model_module_version": "1.5.0",
      "model_name": "DescriptionStyleModel",
      "state": {
       "description_width": ""
      }
     },
     "d27e859d701a45938f71be8d88171c84": {
      "model_module": "@jupyter-widgets/base",
      "model_module_version": "1.2.0",
      "model_name": "LayoutModel",
      "state": {}
     },
     "d49e7b1b1e2b4a099fe54d6ec74c98b1": {
      "model_module": "@jupyter-widgets/controls",
      "model_module_version": "1.5.0",
      "model_name": "DropdownModel",
      "state": {
       "_options_labels": [
        "True",
        "False"
       ],
       "description": "mlr",
       "index": 0,
       "layout": "IPY_MODEL_11d95a7c09e3401fb893af0d5cd8dd25",
       "style": "IPY_MODEL_22c134709eb9485a92fd9e88004e8399"
      }
     },
     "d592437da63041c48b626f6c70921fa0": {
      "model_module": "@jupyter-widgets/base",
      "model_module_version": "1.2.0",
      "model_name": "LayoutModel",
      "state": {}
     },
     "d65b4ea9af2347fdb5947180d1a7215b": {
      "model_module": "@jupyter-widgets/base",
      "model_module_version": "1.2.0",
      "model_name": "LayoutModel",
      "state": {}
     },
     "d896c9ba9e2d4dd7b13b96ab654a8c11": {
      "model_module": "@jupyter-widgets/base",
      "model_module_version": "1.2.0",
      "model_name": "LayoutModel",
      "state": {}
     },
     "d948c495edfe4abfabad86604b288759": {
      "model_module": "@jupyter-widgets/base",
      "model_module_version": "1.2.0",
      "model_name": "LayoutModel",
      "state": {}
     },
     "d9935d86816a44cbaf8c3280318a5913": {
      "model_module": "@jupyter-widgets/controls",
      "model_module_version": "1.5.0",
      "model_name": "DropdownModel",
      "state": {
       "_options_labels": [
        "True",
        "False"
       ],
       "description": "ets",
       "index": 0,
       "layout": "IPY_MODEL_3d7019fdf3b24e2d935335cd60c99fa7",
       "style": "IPY_MODEL_5768e7fdde1a4be299c5db6b7d95d75f"
      }
     },
     "da405695882343dc822247dc3fc75403": {
      "model_module": "@jupyter-widgets/controls",
      "model_module_version": "1.5.0",
      "model_name": "DescriptionStyleModel",
      "state": {
       "description_width": ""
      }
     },
     "e2db565825d6492eb5c34d9683ea99c5": {
      "model_module": "@jupyter-widgets/controls",
      "model_module_version": "1.5.0",
      "model_name": "ButtonModel",
      "state": {
       "description": "Show Forecast",
       "layout": "IPY_MODEL_4051e5ffcc5442748fba01a4409d6691",
       "style": "IPY_MODEL_a14186786fb74181ab6e83b544f0e049"
      }
     },
     "e400fc8a72cc4784b235d42bda61a4c9": {
      "model_module": "@jupyter-widgets/controls",
      "model_module_version": "1.5.0",
      "model_name": "DescriptionStyleModel",
      "state": {
       "description_width": ""
      }
     },
     "e53f910e50ab4da6be1b053b44e29088": {
      "model_module": "@jupyter-widgets/base",
      "model_module_version": "1.2.0",
      "model_name": "LayoutModel",
      "state": {}
     },
     "e551085dde504f8eb2bf1d03158682da": {
      "model_module": "@jupyter-widgets/controls",
      "model_module_version": "1.5.0",
      "model_name": "DescriptionStyleModel",
      "state": {
       "description_width": ""
      }
     },
     "e9a570f1d96c4cb6be5ee2a8c0a8b977": {
      "model_module": "@jupyter-widgets/controls",
      "model_module_version": "1.5.0",
      "model_name": "DescriptionStyleModel",
      "state": {
       "description_width": ""
      }
     },
     "ed7bb5e819ea4fc5b7245ef1f8255ef4": {
      "model_module": "@jupyter-widgets/controls",
      "model_module_version": "1.5.0",
      "model_name": "DropdownModel",
      "state": {
       "_options_labels": [
        "True",
        "False"
       ],
       "description": "mlp",
       "index": 0,
       "layout": "IPY_MODEL_c8565b36e0b84cfba94435657d1fc9dc",
       "style": "IPY_MODEL_fd83add3e7304c0ba9ebcd06ba3c84c8"
      }
     },
     "eea53cfb905e4225b2c946f2f2e3d4af": {
      "model_module": "@jupyter-widgets/controls",
      "model_module_version": "1.5.0",
      "model_name": "DropdownModel",
      "state": {
       "_options_labels": [
        "True",
        "False"
       ],
       "description": "arima_no_reg",
       "index": 0,
       "layout": "IPY_MODEL_50a01d8bb4554f60800cb6262f746579",
       "style": "IPY_MODEL_b09647594aae4e32aaa9332529376892"
      }
     },
     "f40e58332d5b43a3bb749fbc822028fd": {
      "model_module": "@jupyter-widgets/controls",
      "model_module_version": "1.5.0",
      "model_name": "DropdownModel",
      "state": {
       "_options_labels": [
        "True",
        "False"
       ],
       "description": "lasso",
       "index": 0,
       "layout": "IPY_MODEL_d65b4ea9af2347fdb5947180d1a7215b",
       "style": "IPY_MODEL_6422d3cb04724ba38b7287be783efe51"
      }
     },
     "f950c211343b4c1288216d0060bf6058": {
      "model_module": "@jupyter-widgets/controls",
      "model_module_version": "1.5.0",
      "model_name": "DescriptionStyleModel",
      "state": {
       "description_width": ""
      }
     },
     "fd83add3e7304c0ba9ebcd06ba3c84c8": {
      "model_module": "@jupyter-widgets/controls",
      "model_module_version": "1.5.0",
      "model_name": "DescriptionStyleModel",
      "state": {
       "description_width": ""
      }
     },
     "ff16e302aa3446c5b993e94eebc12c21": {
      "model_module": "@jupyter-widgets/base",
      "model_module_version": "1.2.0",
      "model_name": "LayoutModel",
      "state": {}
     },
     "ff1ffd06c92b4bd1849460411e7b70bc": {
      "model_module": "@jupyter-widgets/controls",
      "model_module_version": "1.5.0",
      "model_name": "DropdownModel",
      "state": {
       "_options_labels": [
        "SLIND",
        "PHCI",
        "UR"
       ],
       "description": "Indicator",
       "index": 0,
       "layout": "IPY_MODEL_80c3c5c4656947f6a4a5f069b33a4919",
       "style": "IPY_MODEL_e9a570f1d96c4cb6be5ee2a8c0a8b977"
      }
     }
    },
    "version_major": 2,
    "version_minor": 0
   }
  }
 },
 "nbformat": 4,
 "nbformat_minor": 4
}
