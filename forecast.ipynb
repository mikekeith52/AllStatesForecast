{
 "cells": [
  {
   "cell_type": "code",
   "execution_count": 1,
   "metadata": {},
   "outputs": [],
   "source": [
    "import pandas as pd\n",
    "import numpy as np\n",
    "import os\n",
    "import datetime\n",
    "import matplotlib.pyplot as plt\n",
    "import seaborn as sns\n",
    "from ipywidgets import widgets\n",
    "from IPython.display import display, clear_output\n",
    "import pickle\n",
    "import pandas_datareader as pdr\n",
    "from tqdm.notebook import tqdm as log_progress"
   ]
  },
  {
   "cell_type": "code",
   "execution_count": 2,
   "metadata": {},
   "outputs": [],
   "source": [
    "from Forecaster import Forecaster"
   ]
  },
  {
   "cell_type": "code",
   "execution_count": 3,
   "metadata": {},
   "outputs": [],
   "source": [
    "# List of future dates to forecast for\n",
    "futures = ['2020-07-01','2020-08-01','2020-09-01','2020-10-01','2020-11-01','2020-12-01','2021-01-01',\n",
    "           '2021-02-01','2021-03-01','2021-04-01','2021-05-01','2021-06-01','2021-07-01','2021-08-01',\n",
    "           '2021-09-01','2021-10-01','2021-11-01','2021-12-01','2022-01-01','2022-02-01','2022-03-01',\n",
    "           '2022-04-01','2022-05-01','2022-06-01','2022-07-01','2022-08-01','2022-09-01','2022-10-01']\n",
    "# a lit of state abbreviations\n",
    "states = [e.replace('\"','') for e in open('state_abb.txt').read().split('\\n')]\n",
    "# whether or not to rerun the forecast - if false, will read in a pickled forecast\n",
    "rerun = False"
   ]
  },
  {
   "cell_type": "code",
   "execution_count": 4,
   "metadata": {},
   "outputs": [],
   "source": [
    "def get_regressors(futures,recession_length=15,month_lags=24,year_lags=0):\n",
    "    \"\"\" gets a vector of external regressors from FRED\n",
    "        extracts the recession indicator and maps to length specified in recession_length\n",
    "        adds month and year lags\n",
    "        adds an inidcator of when the last recession occured\n",
    "        Paramaters: futures : list\n",
    "                        a list of dates in format YYYY-mm-01\n",
    "                        if there is overlap between the earlier dates and what is extracted from FRED, that will be handled in the function\n",
    "                    recession_length : int, default 15\n",
    "                        the total assumed length of the recession\n",
    "                        this does not take into account the amount of months the recession has already gone\n",
    "                    month_lags : int, default 24\n",
    "                        the amount of month lags you want added of the recession inidcator from FRED\n",
    "                    year_lags : int, default 0\n",
    "                        the amount of year lags you want added of the recession inidcator from FRED\n",
    "    \"\"\"\n",
    "    externals = pdr.get_data_fred(['JHDUSRGDPBR','CPIAUCSL'],start='1900-01-01').reset_index()\n",
    "    externals = externals[externals['DATE'] >= externals.loc[~externals['JHDUSRGDPBR'].isnull(),'DATE'].min()]\n",
    "    externals['JHDUSRGDPBR'].fillna(method='ffill',inplace=True)\n",
    "    externals = externals[['DATE','JHDUSRGDPBR']]\n",
    "    futures = pd.to_datetime([d for d in futures if d not in list(externals['DATE'].apply(lambda x: str(x)[:10]))])\n",
    "    past_recession_periods = externals.loc[externals['DATE'] >= '2019-10-01','JHDUSRGDPBR'].sum()\n",
    "    recession_left = recession_length - past_recession_periods\n",
    "    recession_array = [1] * max(0,int(recession_left)) + [0] * (max(0,len(futures)) - int(recession_left))\n",
    "    externals_future = pd.DataFrame({'DATE':futures,'JHDUSRGDPBR':recession_array})\n",
    "    externals = externals.append(externals_future,ignore_index=True,sort=False)\n",
    "    for i in range(min(1,month_lags),month_lags+1):\n",
    "        if i == 0:\n",
    "            break\n",
    "        externals[f'JHDUSRGDPBR_lagMonth_{i}'] = externals['JHDUSRGDPBR'].shift(i)\n",
    "    for i in range(min(1,year_lags),year_lags+1):\n",
    "        if i == 0:\n",
    "            break\n",
    "        externals[f'JHDUSRGDPBR_lagYear_{i}'] = externals['JHDUSRGDPBR'].shift(i*12)\n",
    "    externals['LastRecession'] = externals[['DATE','JHDUSRGDPBR','JHDUSRGDPBR_lagMonth_1']].apply(lambda x: str(x[0]) if (x[1] == 1) & (x[2] == 0) else None, axis=1)\n",
    "    externals['LastRecession'].fillna(method='ffill',inplace=True)\n",
    "    externals['t'] = range(externals.shape[0])\n",
    "    return externals.copy()\n",
    "\n",
    "def pickle_out(obj):\n",
    "    \"\"\" writes out forecast results as a pickle file to the pickled folder\n",
    "        Parameters: obj : any data type\n",
    "                        the object to be written out -- this will be a Forecaster object\n",
    "    \"\"\"\n",
    "    with open('pickled/AllStatesForecasts-{0}.pickle'.format(str(datetime.datetime.now()).split('.')[0].replace(':','')),'wb') as f:\n",
    "        pickle.dump(obj,f)\n",
    "\n",
    "def pickle_in(which='latest'):\n",
    "    \"\"\" reads a pickle object saved in the pickled folder\n",
    "        Parameters: which : str, default \"latest\"\n",
    "                        if \"latest\", will read in the most recently created file in the pickled folder\n",
    "                        any other argument should be a datetime-like str and correspond with a file name in the pickled folder\n",
    "                        ex. to extract the AllStatesForecast-2020-09-11 121129.pickle file, this would be \"2020-09-11 121129\"\n",
    "    \"\"\"\n",
    "    if which == 'latest':\n",
    "        most_recent_file = max([f for f in os.listdir('pickled')])\n",
    "        f= open(f'pickled/{most_recent_file}','rb')\n",
    "    else:\n",
    "        f= open(f'pickled/AllStatesForecasts-{which}.pickle','rb')\n",
    "    x = pickle.load(f)\n",
    "    f.close()\n",
    "    return x\n",
    "\n",
    "def visualize():\n",
    "    \"\"\" visualize the forecast results\n",
    "        leverages Jupyter widgets\n",
    "        relies on the ExternalsData object type\n",
    "        add new forecast names to the model_options list\n",
    "    \"\"\"\n",
    "    def display_user_selections(states_selection,ei_selection,model_selections):\n",
    "        \"\"\" displays graphs with seaborn based on what user selects from dropdown menus\n",
    "        \"\"\"\n",
    "        selected_data = forecasts[f'{states_selection}{ei_selection}']\n",
    "        selected_data.display_ts_plot(models=[m for m,s in model_selections.items() if s == 'True'],\n",
    "                                     print_mapes=True)\n",
    "\n",
    "    def on_button_clicked(b):\n",
    "        \"\"\" passes the user options to the display_user_selections function after the button is pressed\n",
    "        \"\"\"\n",
    "        states_selection = states_dropdown.value\n",
    "        ei_selection = ei_dropdown.value\n",
    "        model_selections = {}\n",
    "        for k,s in model_dropdown.items():\n",
    "            model_selections[k] = s.value\n",
    "        with output:\n",
    "            clear_output()\n",
    "            display_user_selections(states_selection,ei_selection,model_selections)\n",
    "    \n",
    "    bool_op = ['True','False']\n",
    "    # the models that you will have the option to display in the graph\n",
    "    model_options = ['arima','arima_no_reg','tbats','ets','rf','adaboost','gbt','svr','mlr','ridge','lasso','mlp','average']\n",
    "    states_dropdown = widgets.Dropdown(options=states, description = 'State')\n",
    "    ei_dropdown = widgets.Dropdown(options=['SLIND','PHCI','UR'], description = 'Indicator')\n",
    "    model_dropdown = {}\n",
    "    for m in model_options:\n",
    "        model_dropdown[m] = widgets.Dropdown(options=bool_op.copy(), description = m)\n",
    "\n",
    "    # never changes\n",
    "    button = widgets.Button(description=\"Show Forecast\")\n",
    "    output = widgets.Output()\n",
    "\n",
    "    display(states_dropdown,ei_dropdown)\n",
    "    for d, k in model_dropdown.items():\n",
    "        display(k)\n",
    "    display(button, output)\n",
    "    \n",
    "    button.on_click(on_button_clicked)   "
   ]
  },
  {
   "cell_type": "code",
   "execution_count": 5,
   "metadata": {},
   "outputs": [],
   "source": [
    "if rerun:\n",
    "    externals = get_regressors(futures)\n",
    "    forecasts = {}\n",
    "    for s in log_progress(states):\n",
    "        for ei in ('SLIND','PHCI','UR'):\n",
    "            d = Forecaster()\n",
    "            d.get_data_fred(f'{s}{ei}')\n",
    "            d.process_xreg_df(externals,date_col='DATE')\n",
    "            d.check_xreg_future_current_consistency()\n",
    "            d.forecast_mlp(test_length=3,hyper_params={'hidden_layer_sizes':(10,50,),'solver':'lbfgs','activation':'relu'})\n",
    "            d.forecast_rf(test_length=3,hyper_params={'n_estimators':500,'max_depth':3})\n",
    "            d.forecast_gbt(test_length=3,hyper_params={'max_depth':3,'n_estimators':500})\n",
    "            d.forecast_adaboost(test_length=3,hyper_params={'learning_rate':.5,'n_estimators':250})\n",
    "            d.forecast_mlr(test_length=3)\n",
    "            d.forecast_ridge(test_length=3,alpha=10)\n",
    "            d.forecast_lasso(test_length=3,alpha=.05)\n",
    "            d.forecast_svr(test_length=3,hyper_params={'kernel':'linear','C':0.05,'epsilon':1.25})\n",
    "            d.forecast_arima(test_length=3,Xvars='top_3')\n",
    "            d.forecast_arima(test_length=3,Xvars=None,call_me='arima_no_reg')\n",
    "            d.forecast_tbats(test_length=3)\n",
    "            d.forecast_ets(test_length=3)\n",
    "            d.forecast_average(models='top_4')\n",
    "            forecasts[f'{s}{ei}'] = d\n",
    "    pickle_out(forecasts)\n",
    "else:\n",
    "    forecasts = pickle_in('latest')"
   ]
  },
  {
   "cell_type": "code",
   "execution_count": 6,
   "metadata": {},
   "outputs": [
    {
     "data": {
      "application/vnd.jupyter.widget-view+json": {
       "model_id": "06433d39f76942c98a009d76abd28ebf",
       "version_major": 2,
       "version_minor": 0
      },
      "text/plain": [
       "Dropdown(description='State', options=('AL', 'AK', 'AZ', 'AR', 'CA', 'CO', 'CT', 'DE', 'FL', 'GA', 'HI', 'ID',…"
      ]
     },
     "metadata": {},
     "output_type": "display_data"
    },
    {
     "data": {
      "application/vnd.jupyter.widget-view+json": {
       "model_id": "771567fb257d41558b1986c7820c841c",
       "version_major": 2,
       "version_minor": 0
      },
      "text/plain": [
       "Dropdown(description='Indicator', options=('SLIND', 'PHCI', 'UR'), value='SLIND')"
      ]
     },
     "metadata": {},
     "output_type": "display_data"
    },
    {
     "data": {
      "application/vnd.jupyter.widget-view+json": {
       "model_id": "6752c9b1935d422581c87bb0bd7f731a",
       "version_major": 2,
       "version_minor": 0
      },
      "text/plain": [
       "Dropdown(description='arima', options=('True', 'False'), value='True')"
      ]
     },
     "metadata": {},
     "output_type": "display_data"
    },
    {
     "data": {
      "application/vnd.jupyter.widget-view+json": {
       "model_id": "317501a3a6d146a1a0d1fc62129447b2",
       "version_major": 2,
       "version_minor": 0
      },
      "text/plain": [
       "Dropdown(description='arima_no_reg', options=('True', 'False'), value='True')"
      ]
     },
     "metadata": {},
     "output_type": "display_data"
    },
    {
     "data": {
      "application/vnd.jupyter.widget-view+json": {
       "model_id": "f8a44f12f70f45eda1385493598b64b7",
       "version_major": 2,
       "version_minor": 0
      },
      "text/plain": [
       "Dropdown(description='tbats', options=('True', 'False'), value='True')"
      ]
     },
     "metadata": {},
     "output_type": "display_data"
    },
    {
     "data": {
      "application/vnd.jupyter.widget-view+json": {
       "model_id": "a534b2c85ce548cf82e811d231012c17",
       "version_major": 2,
       "version_minor": 0
      },
      "text/plain": [
       "Dropdown(description='ets', options=('True', 'False'), value='True')"
      ]
     },
     "metadata": {},
     "output_type": "display_data"
    },
    {
     "data": {
      "application/vnd.jupyter.widget-view+json": {
       "model_id": "a044d2b3e5b34c0185573f2d183a2450",
       "version_major": 2,
       "version_minor": 0
      },
      "text/plain": [
       "Dropdown(description='rf', options=('True', 'False'), value='True')"
      ]
     },
     "metadata": {},
     "output_type": "display_data"
    },
    {
     "data": {
      "application/vnd.jupyter.widget-view+json": {
       "model_id": "d743d087f64c42e1a18e00f76192c01f",
       "version_major": 2,
       "version_minor": 0
      },
      "text/plain": [
       "Dropdown(description='adaboost', options=('True', 'False'), value='True')"
      ]
     },
     "metadata": {},
     "output_type": "display_data"
    },
    {
     "data": {
      "application/vnd.jupyter.widget-view+json": {
       "model_id": "655325d8b8bf416aa8c37a6dfc4bc043",
       "version_major": 2,
       "version_minor": 0
      },
      "text/plain": [
       "Dropdown(description='gbt', options=('True', 'False'), value='True')"
      ]
     },
     "metadata": {},
     "output_type": "display_data"
    },
    {
     "data": {
      "application/vnd.jupyter.widget-view+json": {
       "model_id": "00de3562f0234053bcdc871a5cc3385e",
       "version_major": 2,
       "version_minor": 0
      },
      "text/plain": [
       "Dropdown(description='svr', options=('True', 'False'), value='True')"
      ]
     },
     "metadata": {},
     "output_type": "display_data"
    },
    {
     "data": {
      "application/vnd.jupyter.widget-view+json": {
       "model_id": "9f7bbbed27fd4c15b61e08b8e0a64f39",
       "version_major": 2,
       "version_minor": 0
      },
      "text/plain": [
       "Dropdown(description='mlr', options=('True', 'False'), value='True')"
      ]
     },
     "metadata": {},
     "output_type": "display_data"
    },
    {
     "data": {
      "application/vnd.jupyter.widget-view+json": {
       "model_id": "43c57d668bb54363889bb63475714c28",
       "version_major": 2,
       "version_minor": 0
      },
      "text/plain": [
       "Dropdown(description='ridge', options=('True', 'False'), value='True')"
      ]
     },
     "metadata": {},
     "output_type": "display_data"
    },
    {
     "data": {
      "application/vnd.jupyter.widget-view+json": {
       "model_id": "22980731b82a4925b878723e744c4372",
       "version_major": 2,
       "version_minor": 0
      },
      "text/plain": [
       "Dropdown(description='lasso', options=('True', 'False'), value='True')"
      ]
     },
     "metadata": {},
     "output_type": "display_data"
    },
    {
     "data": {
      "application/vnd.jupyter.widget-view+json": {
       "model_id": "adc8e522cc1f4846b13b2a8362135f23",
       "version_major": 2,
       "version_minor": 0
      },
      "text/plain": [
       "Dropdown(description='mlp', options=('True', 'False'), value='True')"
      ]
     },
     "metadata": {},
     "output_type": "display_data"
    },
    {
     "data": {
      "application/vnd.jupyter.widget-view+json": {
       "model_id": "2bce707a2add4ee4b98154db852eabc7",
       "version_major": 2,
       "version_minor": 0
      },
      "text/plain": [
       "Dropdown(description='average', options=('True', 'False'), value='True')"
      ]
     },
     "metadata": {},
     "output_type": "display_data"
    },
    {
     "data": {
      "application/vnd.jupyter.widget-view+json": {
       "model_id": "e77c54251edb438ca70e56e34b107ad0",
       "version_major": 2,
       "version_minor": 0
      },
      "text/plain": [
       "Button(description='Show Forecast', style=ButtonStyle())"
      ]
     },
     "metadata": {},
     "output_type": "display_data"
    },
    {
     "data": {
      "application/vnd.jupyter.widget-view+json": {
       "model_id": "67199145683a496fac032314b8b01d0a",
       "version_major": 2,
       "version_minor": 0
      },
      "text/plain": [
       "Output()"
      ]
     },
     "metadata": {},
     "output_type": "display_data"
    }
   ],
   "source": [
    "sns.set(rc={'figure.figsize':(18,10)})\n",
    "visualize()"
   ]
  },
  {
   "cell_type": "code",
   "execution_count": null,
   "metadata": {},
   "outputs": [],
   "source": []
  }
 ],
 "metadata": {
  "kernelspec": {
   "display_name": "Python 3",
   "language": "python",
   "name": "python3"
  },
  "language_info": {
   "codemirror_mode": {
    "name": "ipython",
    "version": 3
   },
   "file_extension": ".py",
   "mimetype": "text/x-python",
   "name": "python",
   "nbconvert_exporter": "python",
   "pygments_lexer": "ipython3",
   "version": "3.7.6"
  },
  "widgets": {
   "application/vnd.jupyter.widget-state+json": {
    "state": {
     "00de3562f0234053bcdc871a5cc3385e": {
      "model_module": "@jupyter-widgets/controls",
      "model_module_version": "1.5.0",
      "model_name": "DropdownModel",
      "state": {
       "_options_labels": [
        "True",
        "False"
       ],
       "description": "svr",
       "index": 0,
       "layout": "IPY_MODEL_c4e9ec58dcd44a948c8acfc41b0f3ef6",
       "style": "IPY_MODEL_bd2a1360c4f343d28bada15700c3de6a"
      }
     },
     "03d5ef91af7a4aa2b5bc0a735749e205": {
      "model_module": "@jupyter-widgets/controls",
      "model_module_version": "1.5.0",
      "model_name": "DescriptionStyleModel",
      "state": {
       "description_width": ""
      }
     },
     "06433d39f76942c98a009d76abd28ebf": {
      "model_module": "@jupyter-widgets/controls",
      "model_module_version": "1.5.0",
      "model_name": "DropdownModel",
      "state": {
       "_options_labels": [
        "AL",
        "AK",
        "AZ",
        "AR",
        "CA",
        "CO",
        "CT",
        "DE",
        "FL",
        "GA",
        "HI",
        "ID",
        "IL",
        "IN",
        "IA",
        "KS",
        "KY",
        "LA",
        "ME",
        "MD",
        "MA",
        "MI",
        "MN",
        "MS",
        "MO",
        "MT",
        "NE",
        "NV",
        "NH",
        "NJ",
        "NM",
        "NY",
        "NC",
        "ND",
        "OH",
        "OK",
        "OR",
        "PA",
        "RI",
        "SC",
        "SD",
        "TN",
        "TX",
        "UT",
        "VT",
        "VA",
        "WA",
        "WV",
        "WI",
        "WY"
       ],
       "description": "State",
       "index": 1,
       "layout": "IPY_MODEL_a1228150445d4314bf47900333e8af1c",
       "style": "IPY_MODEL_03d5ef91af7a4aa2b5bc0a735749e205"
      }
     },
     "0815a458714c448a96a964b04b4732cd": {
      "model_module": "@jupyter-widgets/controls",
      "model_module_version": "1.5.0",
      "model_name": "DescriptionStyleModel",
      "state": {
       "description_width": ""
      }
     },
     "14767b4177bc456bb7e6019f5085c959": {
      "model_module": "@jupyter-widgets/base",
      "model_module_version": "1.2.0",
      "model_name": "LayoutModel",
      "state": {}
     },
     "1b3109a14bcc475d85ba0a3e13be8007": {
      "model_module": "@jupyter-widgets/base",
      "model_module_version": "1.2.0",
      "model_name": "LayoutModel",
      "state": {}
     },
     "22980731b82a4925b878723e744c4372": {
      "model_module": "@jupyter-widgets/controls",
      "model_module_version": "1.5.0",
      "model_name": "DropdownModel",
      "state": {
       "_options_labels": [
        "True",
        "False"
       ],
       "description": "lasso",
       "index": 0,
       "layout": "IPY_MODEL_1b3109a14bcc475d85ba0a3e13be8007",
       "style": "IPY_MODEL_5058fb43f3d04ea9bcd9f50842deeffb"
      }
     },
     "25fba0b819aa45fb93556c61c2e0234d": {
      "model_module": "@jupyter-widgets/base",
      "model_module_version": "1.2.0",
      "model_name": "LayoutModel",
      "state": {}
     },
     "2bce707a2add4ee4b98154db852eabc7": {
      "model_module": "@jupyter-widgets/controls",
      "model_module_version": "1.5.0",
      "model_name": "DropdownModel",
      "state": {
       "_options_labels": [
        "True",
        "False"
       ],
       "description": "average",
       "index": 0,
       "layout": "IPY_MODEL_3867741061b743caa1ae58e254ce032b",
       "style": "IPY_MODEL_be27eabf965d480fb90c4a6857aff39c"
      }
     },
     "317501a3a6d146a1a0d1fc62129447b2": {
      "model_module": "@jupyter-widgets/controls",
      "model_module_version": "1.5.0",
      "model_name": "DropdownModel",
      "state": {
       "_options_labels": [
        "True",
        "False"
       ],
       "description": "arima_no_reg",
       "index": 0,
       "layout": "IPY_MODEL_a91572438c3f446cab16e64c58014b09",
       "style": "IPY_MODEL_9c716668b2334fb1a7446c3d8d414e2c"
      }
     },
     "3867741061b743caa1ae58e254ce032b": {
      "model_module": "@jupyter-widgets/base",
      "model_module_version": "1.2.0",
      "model_name": "LayoutModel",
      "state": {}
     },
     "402864afcf4c43b2b07004007fe550e9": {
      "model_module": "@jupyter-widgets/base",
      "model_module_version": "1.2.0",
      "model_name": "LayoutModel",
      "state": {}
     },
     "43c57d668bb54363889bb63475714c28": {
      "model_module": "@jupyter-widgets/controls",
      "model_module_version": "1.5.0",
      "model_name": "DropdownModel",
      "state": {
       "_options_labels": [
        "True",
        "False"
       ],
       "description": "ridge",
       "index": 0,
       "layout": "IPY_MODEL_f434f67aa0a7442c8d3bc8e69a41e6b5",
       "style": "IPY_MODEL_0815a458714c448a96a964b04b4732cd"
      }
     },
     "4633805ec2404e37b6e7384149e69bdf": {
      "model_module": "@jupyter-widgets/base",
      "model_module_version": "1.2.0",
      "model_name": "LayoutModel",
      "state": {}
     },
     "5058fb43f3d04ea9bcd9f50842deeffb": {
      "model_module": "@jupyter-widgets/controls",
      "model_module_version": "1.5.0",
      "model_name": "DescriptionStyleModel",
      "state": {
       "description_width": ""
      }
     },
     "537f592b822e45f5a97706ab730368a5": {
      "model_module": "@jupyter-widgets/controls",
      "model_module_version": "1.5.0",
      "model_name": "DescriptionStyleModel",
      "state": {
       "description_width": ""
      }
     },
     "56c315473dc3459ea5c9f7f57a538a82": {
      "model_module": "@jupyter-widgets/controls",
      "model_module_version": "1.5.0",
      "model_name": "DescriptionStyleModel",
      "state": {
       "description_width": ""
      }
     },
     "5954c160ea8e4935b72cfdad2aa94ce3": {
      "model_module": "@jupyter-widgets/controls",
      "model_module_version": "1.5.0",
      "model_name": "ButtonStyleModel",
      "state": {}
     },
     "655325d8b8bf416aa8c37a6dfc4bc043": {
      "model_module": "@jupyter-widgets/controls",
      "model_module_version": "1.5.0",
      "model_name": "DropdownModel",
      "state": {
       "_options_labels": [
        "True",
        "False"
       ],
       "description": "gbt",
       "index": 0,
       "layout": "IPY_MODEL_e10d43a218d445ba870c64572f9d05bb",
       "style": "IPY_MODEL_f83f0a05616842a3b41c9dfbce1efdf7"
      }
     },
     "67199145683a496fac032314b8b01d0a": {
      "model_module": "@jupyter-widgets/output",
      "model_module_version": "1.0.0",
      "model_name": "OutputModel",
      "state": {
       "layout": "IPY_MODEL_81346bbdf39f43cc9f99a2e155a9b4a4",
       "outputs": [
        {
         "name": "stdout",
         "output_type": "stream",
         "text": "adaboost 3-period test-set MAPE: 0.032599230673309616 \naverage 3-period test-set MAPE: 0.042020175568463304 \narima_no_reg 3-period test-set MAPE: 0.0447476171586568 \narima 3-period test-set MAPE: 0.045172468787583096 \ngbt 3-period test-set MAPE: 0.04556138565430373 \nrf 3-period test-set MAPE: 0.08615393188361782 \ntbats 3-period test-set MAPE: 0.09017997812767824 \nmlr 3-period test-set MAPE: 0.09348665914060528 \nridge 3-period test-set MAPE: 0.11251616028425132 \nets 3-period test-set MAPE: 0.1145036965348875 \nlasso 3-period test-set MAPE: 0.12534338055603825 \nsvr 3-period test-set MAPE: 0.1396772914448771 \nmlp 3-period test-set MAPE: 0.14438951098593542 \n"
        },
        {
         "data": {
          "image/png": "iVBORw0KGgoAAAANSUhEUgAABCQAAAJdCAYAAADqa6Y6AAAABHNCSVQICAgIfAhkiAAAAAlwSFlzAAALEgAACxIB0t1+/AAAADh0RVh0U29mdHdhcmUAbWF0cGxvdGxpYiB2ZXJzaW9uMy4xLjMsIGh0dHA6Ly9tYXRwbG90bGliLm9yZy+AADFEAAAgAElEQVR4nOzdd3RU1d7G8e+0dNIDCV3pvUtHQRRBwAIqogFUrtjLFb0ooFiwY0F9BRVEwYaAIoiiiIXeRHpNICEQAqmkT2bOvH8EopEACZBkkjyfte5aM2fO2ed3ZnPXcp7sYnK5XC5ERERERERERMqQubwLEBEREREREZGqR4GEiIiIiIiIiJQ5BRIiIiIiIiIiUuYUSIiIiIiIiIhImVMgISIiIiIiIiJlToGEiIiIiIiIiJQ5BRIiIiJuIi8vjx49ejB69OiCY3FxcbRr167QeUuWLKFz586sWbOGuLg4mjVrxnXXXVfwv8GDBzNv3rwzXg/wzjvv8NxzzxW8j4qK4sEHH2TQoEEMHjyY22+/nY0bNxZ8HhkZyY8//nhaO+vWraN169aF7n/dddfxxRdfXPD3URruvPNOkpOTTzte1HP07duXe+65h5SUlItex7p16xg4cCAAW7du5emnn77o9xAREXF31vIuQERERPL9/PPPNG3alO3btxMVFUWDBg1OO+fLL7/k//7v/5g1axbNmjUjLi4OLy8vFi5cWHBOQkICAwcOpGXLlvj5+Z3zvtHR0YwcOZKXXnqJnj17ArBmzRruuecevvjiCxo1anTW6+vWrVvo/u5s1apVZ/zs38/hdDp58MEHmTlzJo899lip1bR//34SEhJKrX0RERF3pUBCRETETXzxxRcMGDCAunXr8sknnxQawQDwwQcfsGDBAj7//HNq1659xnZq1KhBvXr1OHjwIC1btjznfT/88EOGDBlSEEYAdO3alSlTpuDl5XX+DwR89dVXzJ49G7PZTGhoKBMnTuSSSy5h3LhxpKamcujQIa644goefvhhXn/9dTZs2IDT6aR58+ZMmDABPz8/Dhw4wNNPP01ycjJms5l7772XAQMG8OuvvzJ9+nTsdjvJyclcf/31PPLII2RmZvLkk08SExOD2WymRYsWPPfcc4wfPx6AkSNH8sEHHxAREXHW2jMyMkhOTqZ9+/YApKenM3nyZPbu3UteXh5du3bliSeewGq1MnXqVH7++WdsNhtBQUG89NJLVK9enSZNmrBmzRqCg4MBCt6fEh8fz9SpU0lPT+fJJ59kwoQJRdZuNmtQq4iIVD4KJERERNzA/v372bx5M1OnTqVFixZERkby6KOPFnz+6quvMmPGDJ5++umzhhEAmzdvJjY2ljZt2uB0OsnJyeG6664rdE5iYiL9+vUDYPv27YwdO/a0di6//PJi1R4bG1uo/YiICKZNm8aaNWv46KOP+OqrrwgODmbBggXcf//9fP/99wDk5OQUvH733XexWCwsWLAAk8nEG2+8weuvv86kSZP473//y9ChQ7ntttuIj48nMjKSnj17MnPmTF5++WXq169PQkICvXv3ZsSIEfzxxx9kZmaycOFCnE4nzzzzDIcOHeKll15iwYIFfPLJJwUBQVHP4XA4SE5OJjw8nP79+zNy5EgAXnzxRVq0aMHLL7+M0+lk3LhxfPzxxwwcOJBPPvmENWvW4OHhwcyZM9m6dSt9+/Y953cXERHBQw89xNKlS3nppZf49ttvi6y9Xr16xeoLERGRikSBhIiIiBv44osv6N27N0FBQQQFBVG7dm3mzp3LtddeS1ZWFnv37uWDDz7g0UcfpV27djRv3rzg2n8GDk6nk6CgIF577TUiIiKKnNIB+WtInFobwWQyYRjGedd+pikbK1asYMCAAQU//m+88UYmT55MXFwcAB06dCg497fffiM9PZ3Vq1cD+etphISEkJqayu7du7npppuA/B/wy5YtA2DatGn89ttvLF68mKioKFwuF9nZ2XTo0IE333yTyMhIunXrxsiRI4v1g/6fzzF//nzefPNN+vfvj81mK6hx27ZtBetz5OTkAPkjUpo2bcoNN9xAr1696NWrF127di35F3nyOzmf2kVERCoiBRIiIiLlLCsri4ULF+Lh4UGfPn2A/OkCc+bMoV+/fnh5efH+++9js9kYM2YMDzzwAAsWLCAwMBCgyMChJNq2bctff/1F7969Cx1/9913qVu3LoMHDz6vdosKOVwuFw6HAwAfH59C5z711FMFozIyMzPJzc3Fas3/TxWTyVRwbnR0NOHh4dxwww307duXjh07MmTIEJYtW4bL5aJOnTr8/PPPrFu3jrVr13LHHXfw3HPPFXy3xTFkyBC2bNnCww8/zNy5c7FarRiGwdtvv12wtseJEycwmUyYzWbmzJnDtm3bWLNmDS+++CI9e/bkiSeeKNSm3W4/530vRu0iIiIVhSYkioiIlLNFixYRGBjIihUrWL58OcuXL2fZsmVkZWXx448/YjabC/5Kf/fdd9OwYUMee+yxCxrV8E933XUXX3/9NStXriw49scffzB79myaNm163u327NmTJUuWFOxqMX/+fAIDA4v8i3+PHj347LPPsNvtGIbBxIkTeeONN/Dz86NFixZ8++23QP6aC7feeit79+4lIyODRx55hD59+rBu3bqCaz///HOefPJJevToweOPP06PHj3YuXMnABaLpSAQOZexY8cSHx/PZ599VlDjrFmzcLlc2O127r33XubMmcPu3bsZOHAgDRo0YMyYMYwaNYpt27YBEBwcXPB68eLFRd7nnzWdrXYREZHKRiMkREREytkXX3zBHXfcgcViKTjm7+9PZGQks2bNKnSuyWTilVde4YYbbuCtt97i5ptvvuD716tXj2nTpvHWW2/xyiuvYBgGwcHBvP/++zRu3Pi82+3evTujRo1i5MiRBW1Onz69yAUa77vvvoLncjqdNGvWjHHjxgEwZcoUnn32WWbPno3JZGLy5Mm0bt2aK664gv79++Ph4UHjxo1p2LAhMTExXH/99axfv54BAwbg7e1NREQEkZGRAFxzzTVERkbyzjvvnPPZ/P39GTt2LC+99BLXXnst48ePZ/LkyQwaNIi8vDy6devG6NGjsdls9O/fnyFDhuDj44OXlxcTJkwAYMKECTz33HP4+/vTrVs3wsLCTrtP27Ztee+993jggQd49dVXz1i7iIhIZWNyuVyu8i5CRERERERERKoWTdkQERERERERkTKnQEJEREREREREypwCCREREREREREpcwokRERERERERKTMKZAQERERERERkTKnQEJEREREREREypy1vAu4WFJSMjEM7WAaEuJHUlJGeZchZ6D+cW/qH/enPnJv6h/3pv5xf+oj96b+cW/qH/dkNpsICvI94+eVJpAwDJcCiZP0Pbg39Y97U/+4P/WRe1P/uDf1j/tTH7k39Y97U/9UPJqyISIiIiIiIiJlToGEiIiIiIiIiJS5SjNloyhOp4OUlOM4HPbyLqXMHDtmxjCM8i6jRKxWD4KCwrBYKvU/RxEREREREfmHSv0LMCXlOF5ePvj6hmMymcq7nDJhtZpxOCpOIOFyucjMPEFKynFCQyPKuxwREREREREpI5V6yobDYcfX17/KhBEVkclkwtfXv0qNYhEREREREZFKHkgACiMqAPWRiIiIiIhI1VPpAwkRERERERERcT8KJMpBdPR+evToyG+//XLW844cOcxLLz133vfp0aPjeV8rIiIiIiIiUpoUSJSD77//jt69+7Jw4YKznnf0aDyHD8eVUVUiIiIiIiIiZUeBRBlzOBz89NOP/Oc/97J37+6CwGHDhnWMHHkrI0bcwhNPPEJmZgZvv/06e/bsYsqUV/jzz4088MDdBe1MnjyJJUsWATB9+nvcffcohg27kXvv/Q/JyUnl8mwiIiIiIiIixVWpt/38p1Xb4lm5Nb5U2u7ROoLurYq3ZeXq1SsJDw+nbt169Ox5BQsXLmD06Ht47rmJvPHGOzRq1IRp097lhx8W8/DDY5k58wMee+x//PnnxiLbi4s7RGzsQaZNm4nZbGby5GdYuvQHbr319ov5iCIiIiIiIiIXVZUJJNzFkiXf0bdvPwCuvPIqnn12Ildc0YewsDAaNWoCwD33PABwxhDin2rXrsMDDzzKokXfEhsbw7ZtW4mIqFV6DyAiIiIiIiJyEVSZQKJ7q+KPYigtKSnJrF27mj17dvP111/icrlITz/B2rWrgb+3vszIyCArK7PQtf/eGtPhcACwe/cuJk0az7Bhw+nd+0qsVgsul6vUn0VERERERETkQlSZQMId/PjjEjp0uIwpU6YWHJsxYzpr164mNTWFAweiueSSS/nss08wmUx07twNp9MJQEBAIEeOHCY3N5fc3By2bNlMp06d+euvTbRr14Hrrx9KWloqq1at4PLL+5TXI4qIiIiIiIgUiwKJMvTDD4u4++77Cx278cab+fzzT3n99am88MIzOBx51KxZm4kTnyMvz05GRjrPPz+RiROfp2vX7kRG3kxERE3atGkHwJVXXs1TTz3OiBG3ANCsWXPi44+U+bOJiIiIiIiIlITJVUnG9yclZWAYhR/l6NEYwsPrlVNF5cNqNeNwGOVdRolVlb4KC6vG8ePp5V2GnIH6x/2pj9yb+se9qX/cn/rIval/3Jv6xz2ZzSZCQvzO/HkZ1iIiIiIiIiIiAiiQEBEREREREZFyoEBCRERERERERMqcAgkRERERERERKXOlGkhkZGQwcOBA4uLiAPjqq68YOHAggwYN4sknn8RutwOwa9cubrzxRvr168f48eNxOBylWZaIiIiIiIhIhWI/Go8zM7O8y7ioSi2Q2LJlC7feeisHDx4E4MCBA8yYMYMvv/yS7777DsMw+PzzzwF4/PHHefrpp1m6dCkul4u5c+eWVlkiIiIiIiIiFc6hV18i5eel5V3GRVVqgcTcuXN55plnqF69OgAeHh4888wz+Pn5YTKZaNy4MUeOHOHw4cPk5OTQtm1bAG688UZ+/PHH0ipLREREREREpEJxORw4T5zAZK5cqy6U2tNMnjyZjh07FryvVasW3bt3ByA5OZnPPvuMK6+8kmPHjhEWFlZwXlhYGAkJCaVVllubMWM6M2ZMP+s5Q4cOIj7+SKnV8OKLz3L0aHyptS8iIiIiIiIl48zOAsDs61vOlVxc1rK+YUJCAqNHj2bIkCF07tyZTZs2YTKZCj53uVyF3hdXSIjfaceOHTNjtVacBMlszn/uc9VssZz9uS7kmf/8cyOjR48p8+/NbDYTFlatTO9ZXqrKc1ZU6h/3pz5yb+of96b+cX/qI/em/nFvlbl/su3pAASGh1Sq5yzTQCIqKorRo0cTGRnJnXfeCUB4eDjHjx8vOCcxMbFgmkdJJCVlYBiuQscMw8DhMADI27uKvD1/XED1Z2Zr0gtb4+5nPcfhcDBlystER0eRnJxMw4YNmTRpMvPnz+W7774hICCQatWq0axZCxwOg/nzv+LHH5eQk5ONzWZj0qTJ1K1bH4APP5zG/v178fDw5PHHn6Jhw0YkJyfx8svPk5BwFIvFwt1330+XLt3IycnhlVdeYP/+vZjNZoYNu53+/Qeyf/8+Xn11Mk6nEw8PD5566hl++205iYnH+e9/H+S99z4kICCwVL6vohiGwfHj6WV2v/ISFlatSjxnRaX+cX/qI/em/nFv6h/3pz5yb+of91bZ+yf7UP4sgkynpUI9p9lsKnLwQMHnZVVIRkYGd911Fw8//HBBGAH5Uzk8PT3ZtGkTAAsXLqRXr15lVVaZ2b59K1arjenTP+arr74hPT2dr7/+ku+//46ZMz/jrbf+j+PHjwGQmZnBH3/8zrvvTmf27Ll069aT+fP/Xuizdu06fPzx54wadReTJz8DwJtvvkb79h357LO5PP/8K7z00nMkJycxc+Z0AgICmD17Lm+/PY2ZMz9k//59zJ37OcOG3c6MGbMZPPgGduzYRmTkKEJDw3jttbfLNIwQERERERGRMzu1u4ZFUzbOz7x580hMTOTjjz/m448/BqBPnz48/PDDvP7660yYMIGMjAxatGjBiBEjLvr9bY27n3MUQ2lq27Y9/v4BzJ8/l9jYg8TFHcJut9OlS3d8fHwA6N27L06nE19fPyZNeoFly37i0KFY1q1bTaNGTQraGjToegC6du3Bc889TXp6On/+uYH//W8CALVq1aZ585bs3LmdTZs2Mm7cRAACAwPp2bMXmzdvomvX7rzxxqusW7ea7t170b17zzL+RkRERERERKQ4DAUS52f58uUAjBo1ilGjRhV5TtOmTZk3b15pl1KuVq78nY8+ms5NNw1jwIDBpKam4u3tQ2ZmRsE5FosFp9NJQsJRHnxwDEOG3EyXLt0IDg5h3749hc47xeVyYbVaT5uuAi6cTicul1H4qAucTge9e/elZcvWrFq1grlzP2fNmpUFgYaIiIiIiIi4D2dWfiBR2Ra1rDgrPlZwGzeup0+fvlx77WD8/PzYvDl/isqqVSvIyMggNzeXP/74FYDdu3dSu3YdbrnlNpo1a84ff/yKYTgL2vrpp/xtUX///Vfq178Eb29vOnToyOLF3wJw+HAc27ZtoUWL1rRv34nvv18IQGpqKitW/Ea7dh15+ukn2bVrJ9dfP4TRo+9hz57dwN+hiIiIiIiIiLiHghESPpUrkCjzXTaqqkGDbuDZZ8ezbNlSrFYbrVq1Jj39BDfddCujR4+gWrVq1KgRAUCnTl345pt53H77TbhcLtq2bU90dFRBW4cOxTBq1HB8fHwYP34SAI888jivvjqZH35YDMD//jeB0NBQ7rhjNFOmvMKIEbdgGAYjRtxJkyZNiYy8g1deeYFZsz7EarUxduw4ALp168nYsQ/zxhvvULNmrbL9kkREREREROQ0zsxMzN7emP4xWr4yMLlcrn+P9a+Qitpl4+jRGMLD65VTReXDajUX7CxSkVSVvqrsq/9WdOof96c+cm/qH/em/nF/6iP3pv5xb5W9f+JnfED23j1c+sqU8i6lRNxmlw0RERERERERKTkjMxOL75l/2FdUCiRERERERERE3JgzM7PS7bABCiRERERERERESp09/ghpK1ec17XOzIxKt8MGKJAQERERERERKXXJP/5AwiczMfLySnytkZlV6XbYAAUSIiIiIiIiIqUu50AUuFw4kpNLdJ3L5cKZlakREiIiIiIiIiJSMs7sbOzx8QA4kpNKdK0rNwecTq0hISIiIiIiIiJFc2ZkkLV3z2nHcw8eAJcLgLykxJK1mZkJoEBCRERERERERIqW8tOPxE15FSM3t9DxnAPR+S9MJvKSSjZC4lQgYa6Ea0hYy7uAqsLhcDBlystER0eRnJxMw4YNiYioSVhYDW699XYAxo9/nKuvHkCrVq157bUXSUhIwGw2M2bM/XTq1JkZM6azY8d2jh07ypAht1C//iV88MH/kZubQ3p6Bg899Ci9e/fh2LEEnntuIunpJ7j00ob89deffPPNErKysnjjjVeIjo7CMAxuu20EV111TTl/MyIiIiIiIpVDbvwRcDqxxx/Bq/4lBcezD0Rjq1EDlz0PR2LJRkgYlXiERJUJJNbFb2JN/IZSabtrRCc6R3Q46znbt2/FarUxffrHGIbBQw/dQ+vWNVi2bCm33no7WVmZbN++jUmTXuSFF57m2msH06PH5SQmJnLffXcxa9bnANjtucyZ8zUAEyY8wbhxE6lXrz6bNm3g7bdfp3fvPrz99uv06XMVN954E7///is///wjAJ98MoMmTZoxYcKzZGZmcM89d9K8eUtq1apdKt+LiIiIiIhIVZKXcBQA+5EjeNauQ+zLk/Ft2ZKc6Gh8mjUjLzHxAqZs+F30estblQkkylvbtu3x9w9g/vy5xMYeJC7uEIGBgdjtucTFHWLbti10794Tm83Gxo3riYmJ4aOPpgP5oysOH44DoHnzlgVtTpz4PKtXr+DXX5exY8c2srOzAdiwYT3jx08C4PLLe+PnVw2AjRvXk5ubw/fffwdATk4OBw5EK5AQERERERG5QC7DIO/YMQByjxzGI+4QuQcP5K8fAXhdcim4IDtqX4nadWadnLKhERIVV+eIDuccxVCaVq78nY8+ms5NNw1jwIDBpKam4nK5uPrqAfzyy09s376V228fBYDTaTB16vv4+wcAkJiYSFBQEH/88Ruenp4Fbd5//39o374D7dp1oEOHTjz77AQAzGYzhuE6rQbDcDJx4vM0adIUgOTkpIJ7iIiIiIiIyPlzJCXhcjgAsB85THZUEAB+HTqS8ecmfBo3wZmWRvqGdbicTkwWS7HarcxTNrSoZRnZuHE9ffr05dprB+Pn58fmzZswDCdXX30Ny5f/TFzcIVq3bgtAhw4dWbAgf1rGgQPRjBhxC7m5OYXaO3EijUOHYrjrrnvo0qU7K1b8jmEYAHTseFnBNI01a1aRkZEOQPv2nfj223lAfsgxcuStJJwcUiQiIiIiIiLnz37yt5U1KAj7kSPkRO3HGhRMxD33c8mrb+BZpy7W0FAwDBypqcVu15mZiclqxeThUVqll5sqM0KivA0adAPPPjueZcuWYrXaaNWqNUeOHKFGjXACAgJp0aIVJpMJgEcffYJXX53MyJHDcLlcTJz4HD7/WlHV3z+AgQOvIzLyZqxWK+3bdyInJ4fs7GweeWQszz//DN99t4CGDRsXTNm4887/MGXKK0RG3oxhGNx330OariEiIiIiInIR2I/mBxK+bduT9usvGHl2vBs1wWQyYQvKHy1hCwkF8rf+tIWEFKtdZ2YGZl/fgt+LlYkCiTLSoEFDPv30qyI/mzp1WqH3oaFhvPrqW6edd9ddYwq9f/DB//Lgg/8teD927DisVjPffvsNjzwylksuuZQ9e3YTFbUfAF9fP55++vkLfRQRERERERH5F3vCUcze3vg0aUrar7/gTEvDu0GDQuecCiEcSYlAk2K160hMwhoQeLHLdQsKJCqh2rXrMGnSeMxmEx4envzvfxPKuyQREREREZEKLffQIQ699jJ1n5qAR3jEaZ/nJRzFViMcj5q1Co55NWhY6BxrcH4gkZeUVKx7ulwucmIO4teh/NZDLE0KJCqhrl2707Vr9/IuQ0REREREpNJIW70SIyuT3NjYIgMJe8JRvBs2xqN6dbBYMJlMeNWtV+gcs4cHFn//Ym/96UhMxMjKxKte/YvxCG5HgYSIiIiIiIjIWbgMg4yNGwCKXJDSsNtxJCfjER6OyWrFs2ZNzF7emKyn/+S2hYTiKOYIiZzYgwB41q1/3rW7MwUSIiIiIiIiImeRExWFIyUZAEdaymmf5x0/Bi4Xtho1AAj/z71FhhEAlmrVir3LRm5MDFgseNapnJsRaNtPERERERERkX/IS0khafF3uJxOANI3rsdktWLx98eRcnqYcGpNiFO7aHjWrJk/daMIZh8fjKysYtWRE3Mwf7SFrfJt+QkKJEREREREREQKSV68kKRvF5C5bSsuwyB94wZ8W7XBo0Y4jtTTR0gY2dkAWHx8ztm2xccXZ1bmOc87taClZyVdPwIUSIiIiIiIiIgUMHKyObF2LQBpq1aQueUvnGmpVOvSBUtAII60ItaQyM4f8WD2PncgYfb1xcjKwmUYZz3PkZyEkZFRaRe0BAUSbmXlyt/56KNp5V2GiIiIiIhIlXVizRpcuTl4N21G5tYtJH2/CGtQMH5t22MNDMSRmorL5Sp0zakREmZv73O2b/H1zb/mHNM2cmJiAPCsW4+ErON8sO1Tth7fcT6P5LYUSLiRHj0uZ/Toe8q7DBERERERkSrJ5XKR+ttyPOvWo/rw28HpJPfgAQIuvwKTxYI1MBBXbi5GTk6h64zs7PytPj3OvdaDxSc/kHCeI5BwJOZvDbrOeZCX1r/FvpQoqnlUO88nc09VZpeNE6tXkbbyj1JpO6BHL/y7dT/rOQ6HgylTXiY6Oork5GQaNmzImDEP8NRTYwkICMTT05Orr+7P5s2bGD9+EkOHDqJv335s2LAOi8XCqFGj+fLLOcTFHeL++x/hyiuvIjp6P2+++RrZ2dmkpCQTGTmKoUNvPmMNS5YsYt261Zw4cYIjRw7TqVMXxo4dB8Cnn87kp59+wGw206lTF+677yEsFssZ2xo4sC9NmjQnKSmRjz76lC++mMOvv/6M02nQuXMX7r33IUwmE19//SXz53+Fn1816tWrR82atbnrrjHn90WLiIiIiIiUorxjCdgPx1F9+O141qyF16UNyI2NIaDXFQBYAwMBcKamYPnHaAhndjZmb29MJtM572E+uc6EcY51JE6k5wcS82KX0jysGcObDiHQM+B8HsttVZlAorxt374Vq9XG9OkfYxgGDz10D2vWrCI2Noavv36HiIiaLFmyqNA1wcEhzJgxmxdffJY5c2Yxdeo0tm3bwtSpU7jyyqtYtGghI0feRceOl3H4cByjRg0/ayABsG3bVubMmYvZbGH48CFERQ3l2LEEVq78g48+mo3VamXChCf49tv5DBly5rZSU1O57bYRtG/fkbVrV7Nnzy4+/PBTTCYTzz//ND/99AMNGjRiwYK5zJgxG6vVxoMPjqFmzcq5XY2IiIiIiFR8zhPpANiq52/fWSNyFHlJiVj9/QGwBgYB4EhNxSOiZsF1RnYWFq9zT9eAv6dsODOLDiQMl8EvsX+QHLOaVhYTkS2GcVl4+2KFHRVNlQkk/Lt1P+cohtLUtm17/P0DmD9/LrGxB4mLO0R2dhZBQcFE/OMf8j916dINgBo1wgkNDcNqtRIeHkF6ev7/SR544BHWrVvD7NkfExW1n+zsc28d06pVa3xODhGqWbMWJ06ksWnTBvr27YeXlxcA1147mB9++P6sgQRAixYtAdi4cT07d27nrrsiAcjNzaFGjXBSUpLp1q0nvr5+APTt24/09BPnrFFERERERKQ8nNr9wnzyN5NnnTp41qlT8PmpERKO1MILWxonR0gUx6m2jSICiWNZx/l051wOnIhhqCUAm7eJzhEdSv4gFUSVCSTKW/6CldO56aZhDBgwmNTUVMLDI/D09DzjNTabreB1UdMnnn56HNWq+dO9e0+uvPJqlruMjCUAACAASURBVC1bes46PDwK38/lcuFyGf86Bk6n45xteXrmBxiG4eTmm29l2LDbAUhPT8disbB48cLT2hYREREREXFXp6ZRWHyL3i3jYgQSBSMk/jFlw3AZ/HZoJd9FL8VqtjKy+TDqRK0nxzuqxM9QkWhRyzKyceN6+vTpy7XXDsbPz4/NmzdhGM4LanPDhvWMHn0PPXtewdq1qwFwOkveZvv2nVi2bCm5uTk4HA6WLPmO9u07luj6pUuXkJWVhcPh4MknH+O3336hY8dOrFmziszMDPLy8vj99+WVcpiRiIiIiIhUDs7M/FHnpxae/DezlzdmLy8caSmFjhvZWQVrQ5yL2ffUGhL59zqcEc+UTf/H/P2LaRLUkAmd/8tl4e0xcnMxnfwjcGWlERJlZNCgG3j22fEsW7YUq9VGq1at+fPPTRfU5p13/od77x2Np6cHDRo0IiKiJkeOHCYiomTrNHTv3pN9+/Zw110jcDodXHZZF4YMuaXY1/fo0Yv9+/dy992jMAwnnTt3o3//gZhMJoYOHcaYMXfi7e1NYGDgWUeEiIiIiIiIlCejYMrGmcMFy8mtP//JmZ2NR3GnbNg8MNlsODMzWX5oBd/s/x4fqzejmt9KxxptC/6Ia+TkYPaq3IGEyfXvDVQrqKSkDAyj8KMcPRpDeHi9cqqofFitZhwO95gmERsbw5o1K7nlltsAGDfuvwwceD09evQ67dyq0ldhYdU4fjy9vMuQM1D/uD/1kXtT/7g39Y/7Ux+5N/WPe7tY/XPsy884sXIFDd+ddsZzDr3+Ci6Hg7rjxhcc2//w/fh37kL14ZHFuk/UYw9ztF4An7fMoU1oC4Y3G4qfrfCojJgXnsXi50ftRx47v4dxA2aziZAQvzN+rhESlczPPy/lk08+LvKzWbM+L3Y7ubk5jBlzZ5GfjR49hh49Lj9nG+HhEezatZPIyJsxmUxcdllXunfvWewaREREREREypKRmVWw6OSZWAMCyYnaX/De5XLlryFRzF028gwHJywO0lISuKrudQxucA1m0+mrKRg52dhCQ0v2ABWMAolK5qqr+tG791UX3I6np1eJAoyieHh4MGnS5AuuRUREREREpCw4szLPuKDlKbbQUNI3rCP3UCyederistvBMDB7n3sNidTcNGbt+II2Fju1LaG0bjjgjOe6cnMr/ZQNLWopIiIiIiIiQv5Ck+caIRF45VVYqvlzZPr/YeTkYGTnL05p9jn7CIkdSbt5af1bxJw4RPWQ2gQ4bWc9vyqsIaFAQkRERERERARwZmaecYeNU6z+/kT8Zwx5CQkcn/81zqxsgDNu++kwHCzYt5j/2zITf49q/K/TQ4QE1Sy07ee/uVyuKhFIaMqGiIiIiIiICPlTNsznmLIB4NO0Gb4tW5G9by/+XbsBYCliykZSdgozdswh5sQhetXqyg0NB+JhsXHM16dg28+iuOx2cLkwexZvXYqKSoGEiIiIiIiICPlTNs41QuIUa2go2VFRGNknR0j8a1HL3cn7mLn9M5wug7ta3k776q0LPrP4+GJkZ+NyOjFZLKfXkXOqTc/zfZQKQYGEG1m58nd2797F6NH3lHcpIiIiIiIiVYqRl4fLbsfsc+4REgC2oGCMrEwcKSnA32tIZOVl8+uhFfxw8BfCfatzd6uRVPcpvFuG2Tc/9DCysrBUq3Z6LTk5+edpyoaUlR49Li/WdpoiIiIiIiJycRkn13Sw+BZzhERICAD2I4fzD3h68tPBX/kx5hdynXY6VG/D8KZD8bKePsrh1CgMZ1Zm0YFEbi6gQEIuEofDwZQpLxMdHUVycjINGzZkzJgHeOqpsQQEBOLp6cnVV/dn8+ZNjB8/iaFDB9G3bz82bFiHxWJh1KjRfPnlHOLiDnH//Y9w5ZVXER29nzfffI3s7GxSUpKJjBzF0KE3l/ejioiIiIiIVDjOzFO7ZRQzkAgKBiD3cBwA7+35jKjcI7QJbUH/S/pSp1qtM157ap2KU/f8t79HSGgNiUphz7aj7N56tFTabto6nCatws96zvbtW7FabUyf/jGGYfDQQ/ewZs0qYmNj+Prrd4iIqMmSJYsKXRMcHMKMGbN58cVnmTNnFlOnTmPbti1MnTqFK6+8ikWLFjJy5F107HgZhw/HMWrUcAUSIiIiIiIi5+HvERLFnLIRnB9IpMbsxwYcc6adtlbEmZwaIWFkZRRdy8k1JEyeGiEhF0Hbtu3x9w9g/vy5xMYeJC7uENnZWQQFBRMRUbPIa7p0yV+ttUaNcEJDw7BarYSHR5Ceng7AAw88wrp1a5g9+2OiovaTnX3mVVpFRERERETkzE5tw1ncERLZvh64AI+MHJyeNp7p9gTe1uKNaLCGhILFwrE5swkbfjt+rdsU+lxrSFQyTVqdexRDaVq58nc++mg6N900jAEDBpOamkp4eASenmdeNdVmsxW8thSx8urTT4+jWjV/unfvyZVXXs2yZUtLpXYREREREZHKzjg5faI4u2wcyTjKtK2zuN7bjF+2gadvtWKHEQC2oCBqPzqWY5/N5si7b3Ppq29gDQz8u5YqEkiYy7uAqmLjxvX06dOXa68djJ+fH5s3b8IwnBfU5oYN6xk9+h569ryCtWtXA+B0XlibIiIiIiIiVUme4WBfSjTbDm0GYGb0AnYl7S3yXJfLxfqjf/L6pndxGHlUC8sf7W72Lt40j3/yadqM6sNvB8PAfjS+8H2qSCBRZUZIlLdBg27g2WfHs2zZUqxWG61atebPPzddUJt33vkf7r13NJ6eHjRo0IiIiJocOXKYiIjaF6lqERERERGRiiUhJQsfTyvVfDzOel5qbhqzd84lKu0AeYaDzvGZhAGHnSm8t2UGgxtcQ4+aXfCxeZPnzGNH8h5+O7SSfanRXOJfl9GtIsnaNpuM2DjM3ue3+KQ1NH870LzExELHC0ZInGVEfWWgQKKMNGjQkE8//eqs5wwYMIgBAwYBMG/e3wtc3nXXmILXERE1Cz4bNux2hg27vVAbVqsZh8O4WGWLiIiIiIhUGBnZeTw3ayOdm9dgRL8mZz03z+nAZDLRo1YXGgU2IPToJrI8VzO+61hm7/qKhVE/sCh6Kf4e1ThhT8dwGVSz+TGsyQ10r9kZs8lMXnD+1p+W8wwkbEHBYDKRl3is0HEjNweThwemIqbuVyYKJERERERERKRS+GlDLNm5DnJyHec8N8wnhAfaji54fzRnNRZfH7ysnoxuGUl0Wgw7knaTmptGoGcAjYMa0CjwUizmv0MC68mdNs5nygaAyWrFGhJC3vHTR0iYK/kOG6BAQkRERERERCqB9Cw7P2+MA8BwuUp8vTMrq2CHDZPJRIPA+jQIrH/Wa/4OJM4/PLCFhpGXeLzQMSMnp9KvHwFa1FJEREREREQqgR/WxWLPc+LtacUwSh5IGJmZWHxKNtLBdnLKxvmOkACwhYYqkBARERERERGpiFLSc1i+KY4uzWsQ4u+J8zwCCWdWFmbfc2/5+U/WgkDi/NaQgPwREs60NIzc3IJjCiREREREREREKoB5y/fhcLoY3P0SzCYT5zFjA2dGOpYSBhIWf3/Cht2Gf5euJb/hSbawMADykv5eR0KBhIiIiIiIiIibS0jO4ofVB+nWMpwawT6YzaYSj5BwORw4T5zAGhRcoutMJhNBfa/CFhJaouv+yRZ6MpD4x7QNIycHkxa1FBEREREREXE/LpeLnTEpTF+4A0+bhcHd6wNgNptKvKil40QauFxYA4NKodKzKwgkjh/nxJrVeNSqhZFbNUZIKJAoR/HxR3jwwTHMm7fotM9mzJhOx46X0aZNu3KoTERERERExP0Yhott0Ums3BbP7pgUMnMcRIT4MOnurthOhhBms6nEi1o6UlIAsAaVfSBh8ffH5OFB2oo/sMcdwrtpM1xVZMqGAgk3tXnzJtq161DeZYiIiIiIiLiFPIeTdxdsZ1t0EtV8bLRvHMYlEf50bl6DmqF+HD+eDoDZdP6BhK0cAgmTyYQtNAx73CEwm8nesxtcLgUSlcmBnes5sH1tqbR9ScsuXNL8snOeN23au/z22y8EBAQSEhJKjx69sNvtTJw4jtjYGGrVqs24cRNZteoP9uzZxSuvvMCLL75OgwYNS6VuERERERGRisCe5+SdBdvYeSCZW/s2one7WlgtRS+JaDGbyHMaJWrfkXpqhETJ1pC4WDxqhJOXlEj4naOJf/89gCoRSGhRyzKycuUfbN36F7Nnz+W1195m3749AKSkJDN06C188skX1KpVm1mzPqR//4E0adKM//1vgsIIERERERGp0nLznEydv5WdB5IZNaApV3Wsc8YwAsBsAleJR0gkY7JaS7zt58USNmw4dZ+aiF/7jtjCw4GqEUhUmRESlzS/rFijGErLxo3r6NOnLzabDZvNRs+elwNQt269gnUi+vUbwOTJz5RbjSIiIiIiIu7iSGImW6OS2LD7GAfjT3Dntc3o3irinNeZzmdRy5RUrEFBmEym8y33gthCQgpeV+vYieTFi6pEIKEREmXEbDYXOY/JYrEUvHa5DKzWKpMRiYiIiIiIkJ3rYOn6WA4fzyg4tnbnUSZ9vIG5v+4nLTOX/wxuXqwwAsBiKvm2n46U5HKbrvFv/p27YvLwwFY9vOCYkZVK1o9vkndgYzlWdvHp128Z6dixM5999gk33DAUuz2X1atX4udXjZiYg+zdu5vGjZvy/feL6NixMwAWixWn01nOVYuIiIiIiJQOl8vFup0JfLV8P2mZdhZ7WRk9sDlbo5L4dfNhGtcOYMx1LQmq5lmidvN32Sje/Y3MTCx+fjhSU/C6pMF5PsnF5RFRk4bvvI/p5B+vjdR4spa8jisnA8/215VzdReXRkiUkW7detCmTTvuuOM2Hn/8EUJDw/D09KRWrdp8/PFHjBhxC6mpKURG3gFA585def31l9i2bUs5Vy4iIiIiInJxZeXk8f7CHXywaCfB/p7cf0MrvD2tvD1vK7//dYQrO9TmsWHtShxGwMlAohhTNrL37CZ67CPYExJwpKSUy5afZ3IqjHAeiyZr4WRw5uEz6Eks1S8t58ouLo2QKCPbt2+lTp26zJkzF4fDwZgxd9C5czduu21kkecPHx7J8OGRZVyliIiIiIhI6YpPymTq/G0kpmYz5PJL6d+5HmaziUtr+vP7X4fp2iKcGsE+591+cbf9tIWE4nI4OLF2NS6Hw60CCQBH7Bayl/0fJm9/fK59HLN/9fIu6aJTIFFG6tatx8yZH/Lll5/hchlcc81AGjZsVN5liYiIiIiIlJn4pEwmf7oJi8XE47e2o3GdwILPgqp5cn3PCx8BYDEXM5AIC8NWvQYnVq0EcJtAwmUY2Lcswb5hPuaQunj3fxSzT+C5L6yAFEiUEX//AN54453yLkNERERERKRc5DmcvP/tDsxmExNGdCQs0LtU7mMyFX+XDZ8WLUj7dTkA1sALCyRcLtcF79LhiN9D7prPMRJjsDbogtfld2CylnzaSkWhQEJERERERERKlcNpMPunvcQdz+Dhoa1LLYyA/BESxd1lw7f5PwKJ89xlI/NEMjvW/MChvX/RrvcQLm3ZpcRtOI7uxb7pW5yHd2LyDcKrzz1YG3QuFHDEpGcT4mXDz1Z5fsZXnicRERERERERtxN1OI2ZS3YRn5TFgC71aNMwtFTvZzZT7BES3k2a5V/gcmENCCjxvZxOB8s+n4I9N5tqQdXZ8NPnnEg6Sr3mnQgMjcBkOvs+EvlBxEKch3dg8vbHs8st2Jr1wWQrPCpiTUIqi2KPM7BuGN1qVJ7pGwokREREREREpFT8tS+R9xduJ8DXg4eGtqZtKYcRkL+opauYIyQsPj54XdqAvMTjBTtblITDnkNOVjptL7+BRm17sXHZV+zZtJw9m5ZTv0VnOve7rcjrnMeiyF0/D+eRXZi8quHZZRi25r1Pm57hcrlYmZDKD4cSaR7oy2VhJQ9N3JkCCREREREREbnoNu4+xrSFO6gX7scjN7Whmo9HmdzXXIIpGwBhN92CIzX1vO7ldOQBYLV5YrZYuKzfcFp0vYaNP39JwsHdp5+fGIP9z+9wHNx0ckTErdiaXXHaiAgAh+FiUewxNhw/QcsgP26+NByr+cLWqHA3CiTKSWZmBg89dC92ey6TJ79G3br1yrskERERERGRi2JXTAofLNrBpbX8efSmNnh7lt1PT7PJRAnyCLwbNDzve50KJCxWW8ExX/9gIi5twdGY3WSlp+JTLRDn8QP5QUTMZrB549H+OjxaX4PJo+i1NGIzsvn24DGOZtu5IiKIvrVCMF/ggpnuSIFEOdm3by82m40ZM2aXdykiIiIiIiIXzV/7Evlg0Q5qBPnw8NDWZRpGQP4IieJs+3kxFBVIAISE5//BOXXfeji2A2fsFvDwwaPD9Xi0vAqTp2+R7eU4nCw9nMT6Y2n426xENoqgWaBf6T5EOVIgUYb+/HMj778/ldTUVBISjuLp6cn//vcor7zyZnmXJiIiIiIickFcLhcLVx7gu1UHqVvDj4eHtsHXy3buCy8ys7n4235eqDMFEtVMeXT0zqbaxs9xevjg0fHG/CDiDCMiAA5n5jBnfzwn7A66VA/k6toheFrOvihmRVdlAgl7VDK5+5JLpW3PRsF4NCjeFjGHDsUyb95i9u7dzcyZHyiMEBERERGRSuGbFdEsXh1D95bhjLimCTZryReJvBgs5ThCwnn8ILmbvsEZu4Ugi4XDXjVpMmwCJg+fs7azNSmdeQcS8LNZuKdZHer4eZV67e6gygQS7qJOnXr4+VXeITciIiIiIlL1LFp9kMWrY+jVpiYjr2mCqRzXOzCZyjqQcGFNOUTWjsU4D20FT188Og1hX2I6B/ZsprHVi7N9G38lneDr6ATq+XkxvGEEfraq8zO9yjypR4Pij2IoTZ6ep6+eKiIiIiIiUlEtXR/LN39E07VF/siI8gwjIH+EhAswXK5SXwjSmZtFd+9MPNbNJsfDl7hG15Db+Ao61qxB0M717Nu2lvSUBAJCIsjJSicjNREvHz+8qwVhsVjZejKMqF/Nm5GNauLxrykahuEkLfEIKQlxpKcco16zTgSG1SzVZypLpRpIZGRkMGzYMKZNm0bt2rUByMvLY/To0dx333107twZgF27djF+/HgyMzPp2LEjzz77LFZrlclKREREREREKhyH02DhygN8vyaGjk2rc+e1Td1iJ4hTO2MahguzpXTrscZuwtdisKPRtSzxaYnZasN+JJ0T2Oh0cmHL9Us/x2QykXw0BtfJtS3MFiv2+u3ZEdEJ3xPxBG1cxrI1XpgtVgJDa1K9TiOOxuzmSPQOnA57/r1sHoTWvESBRHFs2bKFCRMmcPDgwYJj0dHRPPXUU+zcubPQuY8//jgvvPACbdu25amnnmLu3LkMHz68tEoTERERERGRC5CRncfb87YQdfgEPVtHENmvCRazeyzAaD6ZSBiGC0pxGQtXbibeh/4kHh++82tLjxqB9K8TyvyDCfxyJJnA+mFEXNKCrPQUbJ5eNO/cj+DwuuRmZ7IrJZ2/POoQ5MziKr9cHI1aYc/JwunMI/7gTmJ2b8TDy5f6LS4jrFYDgmvUwS8wFJPJPb7ji6XUAom5c+fyzDPP8MQTTxQcmzdvHqNHj+aTTz4pOHb48GFycnJo27YtADfeeCNTp06tlIFE+/Ydad++42mvRUREREREKorsXAdTvvqLw8czGTO4BZ2b1yjvkgopCCQu8k4bLpcLIzUeIykGI+0YzmNRmJ25LK9zPX5WM31qBWMymbihXg1O2B18G5PI3VeNPG2Byu3J6azJPkotH0/uaNwQ738t/mk4naQlH8U/qPppu3dUNqUWSEyePPm0Y6fCiX8GEseOHSMsLKzgfVhYGAkJCaVVloiIiIiIiJyHX/+M4/ctR0jNsJOZnccDN7aiTcPQ8i7rNKemjRjGxWnPZThx7FuNffsyjKSYvz+weXG8ektiQ1swMDwAL0t+sGAxmxjWIIL3dsby2f4j3N2sDsGeNlJz8/gxLpGtyRnU9vXkjsa1TgsjAMwWC0FhtS5O8W6u3BdqMAyj0KInLpfrvBZBCQk5feeKY8fMWK2Va0hLcVTEZzabzYSFVSvvMspEVXnOikr94/7UR+5N/ePe1D/uT33k3qpy/6z46zCzf9pLg9oBtG0URu+OdejYzL1GRpzqH3///BEJQcG++Pt6nHd7LpdB5u51pPz+BXlJh7GF1SWo32i867bAFhKByWJj2dLl4ISeDWsS7FN4A4MHfT14Zc1e3th2kPoBvhxIzcRiNjGoUQT9L62BzVLxfrddbOUeSISHh3P8+PGC94mJiVSvXr3E7SQlZZy2tYthGDgcFykWqyCsVnOFfGbDMDh+PL28yyh1YWHVqsRzVlTqH/enPnJv6h/3pv5xf+oj91aV+2d7dBLvLNhGw9oBPD6sHbaTfwB1p+/jn/2TlZm/COTx4+nkZpU8kHDlZpIXtY68Hb9gpBzGHBiB19UPYq3XHrvJhB0gOQfIIcZuwysnCWemneMn73uKF/BQi7qsSUhl34ksekUEcVlYAEGeNlKTMy/sgSsIs9lU5OCBU8o9kKhVqxaenp5s2rSJDh06sHDhQnr16lXeZYmIiIiIiFR5K7Yc4ZMf91Az1JcHbmxVEEa4M8vJNSScRsnWkDCyT2DfsoS8HcvBacccXAevPvdgvfQyTEUs2JnrNDhu9qZ62v4zthnkaWNA3bAzfl7VlXsgAfD6668zYcIEMjIyaNGiBSNGjCjvkkRERERERKq0FVuO8PEPu2lxSTD3Xd8Sb0+3+Pl4TqcWtXQVc1FLIyuVrM1LcO7+FZPTQUrtDlTv0B+v6peedTmB6PQsXCYzQRlHL0rdVVGp/4tavnz5acdmz55d6H3Tpk2ZN29eaZciIiIiIiIi55CV42DtzqN89vNeWlwSzENDWleIkRGnnFrU8lwjJFyGg5RVX2He8ysmw8mO4JasrtGdZK8QeuT6M+AcaxvuS8vC4nISkJN80WqvaipGxCUiIiIiIiKlyuVy8c2KA/ywNgan4aJR7QAeuKFiTNP4p1OzK8617eexuCi8di1jV0grclsO4NJa9XnA28aimOOsPZZGj/Ag/D2K/sl8LNvOpsQTVM9NxmY5facMKR4FEmUkIyODyZMn8dBD/+XBB8cwb96iYl/73Xff4O3tzVVXXVOKFYqIiIiIyMWUmJaNCRMhAV7lXUqRDJeL9Kw80jJySc2ws3p7POt3HaNL8xr0bl+LBjUDCqY/VCSnav73pgf/FlSrEVuvf4PWwf74/GP7zStrhrAlOZ3f4pMZXO/0DRcchsFX0UexmU00TdmDYbVd3AeoQhRIlJH09BPs27fnvK7dtm0L7dp1uMgViYiIiIjIxZaRnUdmTh7rdiaweHUM4KJ/53p0aBJGsL8Xft7l++N1f1wav/11mF0xKaRl2E8bRTDk8ksZ0KXeWddOcHenpmycK5DwsJjpWD3otOPBXjY6hvqz4XgajQN8aBr49y4RWQ4n8w4kEJ+VS2SjCBKiMnEokDhvVSaQiIray/795xcInEvDhk1o0KDxWc95663XSEw8ztSpb2C325k4cRyxsTHUqlWbceMm4u/vz/Lly/jyyznk5uaSl2fnySefJicnh5Ur/2DTpg2EhISSlpbG559/itlspmbNmkyc+Dyenp5nvbeIiIiIiJSuzJw8vlq+n5Vb4wuOdWpaHYvZxKLVB1m0+iAADWr6c1nzGlzWtDoBfmX33/F5DoMvftnHb5sP4+VhoW3DUEICvAj08yTA14PAap6Ennxf0RUEEiXbZKOQq2qFcjgzl9n74ulTM5j61byJy8xh7bE0MvIcDKwbRrNAPw478rAqkDhvVSaQKG+PPPI4Dz44hoce+i8333wdQ4feQps27XjvvbeZNetDHnjgURYunM+rr75FYGAgixcvZPbsWbz66pv06NGLdu060LlzV2666To++OBjgoKCee+9t4mNPUijRk3K+/FERERERKqc9Cw7836LYu+hVFLSc3E4XVzVsQ51a/hRI9iHhrUCABjQtR5Hk7KIT85i4+5jfLFsH1/+so/OzWpw+9WN8fG6+D9o7XlOjiRlkp3r5ODRE6zZfpS445lc07kug7vXx+sMayNUBpZiTtk4G1+bhdFNa/NlVDy/HPl70co6vl4MbxBBHb/8aThORx6eXj4XVnAVVnn/Ff5LgwaNzzmKoazUrVuPNm3aAdCv3wAmT34Gs9nMiy++xqpVK4iNjWHz5k2Yi9jrtnv3ntx771306nUFl1/eR2GEiIiIiEgZO56azYbdx/hpfSyZOQ7aNgyldYNQurUMp154tdPOrx3mR+2w/GH/g7rV50hiJqu2xfPThkPsi0tjUPf61ArzZcOuY9jznNz6/+zdeXycdbn38c+9zJrMZLInTdt0X2gpbSm0lFJA2WVHEBBQQOFR5Bw4oo8KHGURz6M8PnKOirIqICICiuxLCy3QFrpB6d6mW/Z9MklmvZfnjzuZNrRpC82e6/168Woyc889v3uyvJhvrt91nTbpczWSTBkmu2vaqG2OUtscpbK+nQ27mkimrPQxowsy+d7FRzN7Uv6RvwADnNIZSBzm2M/ueDSVayaOoCVpUBdPUuB1E/J0DY9MI4XWRxUSrdEkPo+Org2uJqMHM2wCiYFE26cLq21b6LpONBrl29/+BmeccTbHHDOL8eMn8Pzzz+732FtuuY3t2y9g+fL3ueeeO7nuuhs488xz+nL5QgghhBBCDEuWbfOv93fy0ge7sIFJo0JcdfokRhZkHvKx+xqRl8Glp05g9uR8HntlE396bTPg/GXftGyaWhPcdBjTLaJxg9Vb6/jH0h2E25KAs10hL+Rl/vRipo3JJsProiDbR05wYDbW7A2dFRKHGvt5OBRFIeRx7RdEdLKMFKrWu4FERV0bLy/feWFEnQAAIABJREFUxcpNdVx+2kROnzOqV5+vL0kg0Uc0TcM0TQB2797F1q2bmTRpCq+88hJz5sylvHwPiqJwzTXXYds299zzn1iW1eWxhmFw1VWX8tvfPsTVV1+LYRhs3bpFAgkhhBBCCCF60dbyMH9fsoNNOxvZVdPKCdOKuPCkseSHfEd03vEjsrj3W3Mpr2ujsr6d6eNyWL2lnife2ML/fWYt3z5vGht2NbF8fQ26plCcm8HZ80opr2vj7+9sp7KhHYBxI4J8/fRJlORnkpflHVJ/Qf8iDrepZU/ozQqJreVhXl2xm3VljXjcGidPiTG7tK1Xnqu/SCDRR3JyciksLOK+++6ipGQkjz/+CJWV5YwbN4EbbvguHo+HCRMmceWVX0VVFY4//gTWrfsYgDlzjuePf/w9mZmZXH/9jdxyy014PB6ys7O5/faf9e+FCSGEEEIIMUTZts3iNZX89e1teD0ahdl+rj5jEqfMKumxKRSKojC6MMDoQmerxymzSvC4NZ54fQv/+w/LsWybkvwMvC6Nd9ZW8u7HlRimTXGun4sXjmPciCBTS7MH9VSMnna4Yz97Qk8HErZts35nEy8v28W2ihYyfS4uPGksx42uIdWwGp97Qo8910AggUQf0XWdP/zhsYMec9dd93X5/JZbbgPgtNPO5LTTzkzffvrpZ/X8AoUQQgghhBBdvL2qgr8u2sbMCXn8+NrjaW+N98nznjCtiLHFQf6xdAczxucyf3oRiqJQH47xxkd7yMpwc9bc0s/VZ2I46cgjjriHxOEwjRRUbyb6yq+O6DyWDZ9EQrxZX0R5LIOQK8lXi2s4IacRV2Q5zXVxXEkVV1SBrB5a/AAggYQQQgghhBBCfEZtU5TnlpQxY3wu37vkaPxeV58FEgBFOX6+c+H0Lrflh3xcdYY0tT8UrWM4QG9XSFiWhWWZ0LQb084G9yTg84VEpg2r2zJ4qzmLupSLPFeKy/MbOS7Qhq6AnQgRyWnAVsBXWwAjjN65mH4igYQQQgghhBBC7MOybB57dRMuTeUbZ01J9yQQg4PSkQn0doWEaaQAyHIdhaEsIOWtRIvmoMYDKBz8e8awbVZEE7zTHqPZtCjWNa4KeZlWVI/tNUgoXpKmCyNYg+lL4K2YCS2lWNGhNSVFAgkhhBBCCCGE2McrK3azraKF678yleyAp7+XIz4nLd1DonefxzSSBLRccr2nkij+lERoBwBu70jyRlyBouxfLZEyLZZvruOV1eU0tSUZXxjgytklTB/lp6XhNeLt2wCl4z8LFI2cggvwTZgCgBpw9+5F9TEJJIQQQgghhBCiw9byMC++t5O5RxUyf3pRfy9HfAGdFS09MfbzYCzTYLR3Koa7mURoJ/7QNHRPDpHa90hRgS84MX1sLGHw7seVvLmynJa2JONGBLn23KM4qjQb24xTu/0JUrF6QiWnE8ifB4BtdYxy1YZuKCaBhBBCCCGEEEIAKcPkkZc3kpvl4ZozJ8vkikGqM5Cwe3nLhhFNUOwZT3TEYhQ0skeehap5aWtcTXvTJ/iyJtIWS/HWynIWra4gmjA4akw2N5x7FFM6JqNYZpK6HX8lFW8gf/wV+ILj0+dXhnAQ0UkCCSGEEEIIIYQA3llTSUNLnO9fPhOfR94qDVadYz97u0LC3NGK4jKwgzEyPRPRXBkAZGQfTWXFOt7avoml6+pIpEyOnZTPOSeUMrY42OUc4aq3SbZXkDf20i5hxHAhP2UDzIIFc3j//VX9vQwhhBBCCCGGlWjc4KVlu5g2NodpY3L6ezniCHQGEj3d1NK2baz2FEZVK8myZpS6KM3uXeiASw8BUB+O8fLHBSzbMAubauYeVcg580opyc/c73zxtj20NawikD8Xf2hqj651sJBAQgghhBBCCDGsWZbNM4u20R43+OrJw++v1ENNOpA4RIWEGY7TvmgntnEY3S9tGztpQscp1Uw3xgQXe3avZRx+atsz+eu/NvDRpjpUFY4tjbBwchtHzfrSAU9nGTGa9ryE5g6RVXzq57q+oUQCiT60Zs0qnnjiMVwuF9XVVZx44kJ8Ph/vvbcE27a5//4H0sc++ugf2bBhPXV1NVxyyde46KKv9uPKhRBCCCGEGJqicYNHX9nI2m0NnDu/lNKiQH8vSRyhjjzikIGE4tVxlWZhGxY2Fgl1G0m1HEMJEzRORbdzux7v1lD9LvTCDNSQl+qdG2nencVfVk9kW0MKj7uBM44bxenHjUJtW0FLzXrMVHt6K0enRHsljbtewEi1UDDuSlRtaE3O+DyGTSDR1vgJ7U0f98q5M3Jmkpl7zGEdu3HjBp588m9kZYU477zTuemmW3j00Se57767ePvtN7scm0wmeOqpv/fGkoUQQgghhBjWDNPi5WW7eGtVBfGEwZWnTeS0OaP6e1miB2iqM27TPMSWDcOqp8nzDK5QPkayBSPRhO7OxkpGYEwb/sIDv8ezbZuNu5t54Z1GdtbPxacnuWBmJqedMosMrwuApDaRlpolxCLb0+8VE+3lNFe8QTJahaZnUjjhG3gyh/f33LAJJAaKcePGU1jojA/KygoxZ87xABQWFtHaGuly7FFHTe/z9QkhhBBCCDHUWbbNY69sYsXGWo6dlM+588dIZcQQ0lkhYR+iQkL35OLPnk68dQeK6iF/3OV4gxOp2vAbkrH6/Y63bJtPtjfw8rJd7KxuJeBVOKV0O/PzdzN2+jfROsIIAJevGE3PJB7ZRmbuMaTijdSX/RVF9RAqOYOMnGPQdF+PXvdgNGwCiczcYw67iqE36XrXl1zTtG6P9XiG/pgXIYQQQggheptt23y6o5F/fbCLmsYooYCHqoZ2Ljl5HF85YUx/L0/0sMOdsqFqbrJHnrHf7S5vPql4Xfpzy7L5cFMtr67YTWV9O/khL984azJF9k7cRhXuhjioXd/XKYqCN2si0eaNGMkw9TueARQKJ16D7sk+8oscIoZNICGEEEIIIYQYflKGyZ9f38Ky9TXkZXmZMyWfqsYol54ynrPnlfb38kQv2Dtl44s93uXNJ9GwGsM0WL2lkX99sJPqxigl+Rl8+9yjOP6oAjRVZevajWi6ihZPgbb/W2tfcBLtjWup2vg7FBTyJ3z9C4URH1avpj7WyLnj9g9PBjsJJIQQQgghhBBDUiSa5H+eW0dZVYTzTxzDufPHoGtqfy9L9DJVObwpG91y5bNyTy4fLl9BfUuS4lw/371wOrMn56fPDWAbraCDlkiBuvettWEZ6KqONzAWVc/A5cklZ/R5uLy5B3q2LpJmCpeqo3Q8T3M8zDNbXiBppZhTOJOijIIvdk0DlAQSfWj27DnMnj0n/flzz72U/vj662884L9CCCGEEEKIz68hHOPXz35CYyTOdy+czpwpQ+uNnOje3gqJzxdIxJMG766t4vUPW4lEJ1Kab3PTRUcza1JelyAizW4DQI+nUDq2bLy2cxHvVrzPbcd+j3x/LiXTbgFFTQcMn5Uwk1S2VTMuq5SUmeLnH/5fxmSN5tppVwLwwvaXsbHRVZ13Kt7niskXf65rGugkkBBCCCGEEEIMCZZtU1bZwtJPqvhwYy0uXeP7X5vJpFGh/l6a6EOft0KiLZZi0eoKFq2uoC2WYsroLC4seJ+Z02YRKs7v/oF2FMuy0ZIGaDqRZCtv7l5M0krx2Ia/8P1jv4uudv+WuzHWzB8//ROVbdV895jrCMdbaIg30RBvYlbBDJJmkjV16zhn7Ok0x8N8WL2a88edRYbL/7lej4FMAgkhhBBCCCHEoGaYFks/qeLVFbtpiiRwu1QWHjOCM44fTUFIJhkMN5p6eIGEYVr8Y+kOFq+tJJE0mTkhj3NOKGVcUSbVm9/HSDQc8HGpeCPR8AZcWgvJuIUCoGq8uesdDNvkwvHn8M+yV3l68/NcMeUSXB2hhGVbJM0kXt3L1ubtPLb+aQzbIOTJ4oVtL2PZFqMCJdi2zZ82/JWUlWJssJTTR59CfayB5dUrWVm7llNGntiTL1e/kkBCCCGEEEIIMSjZts3qLfU8v6SM2uYYk0ZmccnJ45k5IQ+fR97qDFeduyO627Jh2TavLN/NmKJMXv9oD5PyDKZkVuGNrWTdP5tYnYhxwmnTSB1g9Ge8dSf1O5/FNhNoKjSFTXIVWN+wgfcqlzOv6FhOLz2FhJnktV1vU91ey7emX0WON5snNj7Lqtq1FGUUUNNeR4E/jxuOvobaaD0PffoEANdPv4o8Xw6/+/hRTh21gHPHnoGmapRkFvO1SRcyNmtMb71s/UJ+SoUQQgghhBCDhm3bvPFROe+srSAaN2iPG5TkZfDvX53BjPG53e7VF8OHoiioitLt2M+GcIx/LN3BNQuCnK7/E7VVxa0X4gtmkzdiLDW7t1BfVUt+kYZtWyiK0wg1Gt5Mw67ncHlyyZ98BasWv0T97vU8PyGXyPYXKfQXcM7Y0wE4d9wZjAqM4MlNz/LLVf/D9NyprKxdw7EFx9CeijI+awwXTTgXr+6h0F/AlOyJNCfCzMyfjqqo/NeC/0x/L3+0dCf1NW185bL5ffMC9iEJJIQQQgghhBCDQiSa5MnXt7B6az1TRoeYPi6DccVBTphWlG5kKASAqnZfIZEyndt9OSM559rb8Qey0V3u9P1VOzaw/v3HyS8M0lT+KjmjvkI8so2GXc/h9hVTMP7rqLoX00iBqhDRNc4afQrnjj+7SyB2TP50ijIK+cO6x1lRs4p5RXO4auqlXY6xbZtYNMWNM76JaZuoHeHHvsdUl7dQW92KbdtDLnCTQEIIIYQQQggxoLVGk3zwaQ0vL9tFImXytS9N4IzjRg25N2ei56iq0m0PCdO0AHDpGsGc/ZtWFo89is0rR1Jd0Ugxa2hr3IBCAkXLJrPwXBTN45zHSKW/B/P9+Qf8fkzWatw89Ua2Rrcxp3Dmfsfs2NLAopc2cfVN8/D5vQdcb2tLHNOwiLYnycj0HP6LMAhIICGEEEIIIYQYkBJJk7+8vZXl62swLZtpY7K5/LRJlORl9PfSxACnKgqWdeD7jI4KCV07cKClKAqzv3wZK998mmRZA1mhJOHmJHXVjZjGz8kI5pBTPIbmunL0jsocr2v/5qlGyuSVZz9lzoIxzDtxzgGfq7kximnatDTH8fnd+91vWTZtrQkAIuG4BBKiZ/zzn88BcOGFX+1y+6uvvsTatau5/faf9cOqhBBCCCGE6B91zVE+3FhLeV0bza0JCrJ97Klro6q+nS8fO5IFM4oZXRjo72WKQUJTlW63bBgdFRKapnb7+FDeCE6/8jZMI0WsrQXTdP6NNNZSV76V5po9KIqCL+gHIni1/YOCeMzAtiHaluz2eaLtzn3tHaHDZ7VFEnReRms4TvHIrG7PNRhJINFPPhtECCGEEEIIMZSlDItIe5LsoAd1n7J107L4y5tbeffjKhSgIMdPdqabjbubAfiPr81k2ticflq1GKwU5dBbNvTD6Dui6S4yQ3kAZOUWU1Q6hUmzT07fv+a9ByEVwasfKJBIARCLHiSQ6Agr2tsOHEi0tsTTH0fCsUOud7AZNoHEmoYIqxsivXLuY/OCzM4LHnoNa1bx4IP/jWlajBs3nuLiEVx//Y28/vor/PnPj5KRkUlRURE+nz99/G9+8ys0TWPatBns2rWD3/72ISoqyrn//l8QibTg8Xi59dYfMGnSlF65NiGEEEIIIXrCQy9tYPWWetwuleLcDEbk+hmRl8GOqghrtzVw2pyRnHX8aHKCe/fRD8UmfqJvqAerkLA6t2x0XyFxuBKWEzocuEKiM5BIdfv4aEcQ0d7qBBNb19eSiBuMnZxHZsCTDiRUVSGyTzgxVAybQGKgKC/fw3PPvczf/vYXABoa6nnwwf/m8cefJhjM4oc/vAWfz49hGNx770/55S9/w4QJE/nNb+5Pn+PnP/8pt976QyZNmsLOnTv4yU9u469/faG/LkkIIYQQQoiD2loeZvWWeuZNKyTgc1PV2M7mPWGWb6gF4IovT+T040bt9zgJI8QXpandj/3s3LLRI4GEbQDgOUggET9oILG3QsK2bZa8sRUjZbFscRkXXjUzHUjkFWYSCUsgMWjNPswqht42alQpmZmZ6c8//fQTpk+fQU5OLgBnnHE2q1evpKxsO6FQNhMmTATgK185nwceuJ9oNMqmTRu577670+eIxWK0tITJygr17cUIIYQQQghxCJZt87fF28gOePjGWVPwuLT0fbGEQTJlkjXEGvWJ/qcqYHe7ZcO5XeumqeXnEe8IJA64ZSN68C0btm3Tvk8PibZIAiNlMXPuKNatrGDn1gaibUkyAh5CuX4qd4ePeL0DzbAJJAYKj6frN6qiKOxbSaRpzi9oVVWx7f3bwlqWhdvt4U9/ejp9W11dLcHg0GpuIoQQQgghBr9kyuSZRdvYWd3K9V+Z2iWMAPB5dHweeUsiep6qKpiHaGrZM1s2TFAOUSERM7AsG1VVsG2bRNzA5dZIJU2sjnCkvTVJuCkKwOhxOVRXtFC1J4ymqQSyPARDXrauT2AaFpp+5OseKIbOlQxSM2bMZMOGddTX12FZFosXvwXAmDFjaW1tpaxsOwBvvfU6iqKQmZnJyJGjeOONVwFYuXIFN910Q7+tXwghhBBCiANpCMe494lVvPtxFWfNHc0J04v6e0liGFEP0tQyPfbzMJpaHsyKd3fQXD4Slw2qsv9b63jM2OfjFFs31PLIr9/n8QeW8daLm9LbNTIy3bS3JQg3Ok0rQ7k+RozKor6mjebGKMEsL8GQM1a0NTK0tm1IHNnPcnJyueWWH3DLLd/F6/UxZsxYAFwuF3feeQ/33vufKIrK6NGl6eqKn/70Xn71q/t4+ukn0HUXd999n+yvE0IIIYQQA8bO6ggPPLcOw7C49bJjOHpcbn8vSQwzqnqQQMI69NjPw1G+s5lEazaeAz8Nsdje3hGxaIryHc1omkpOXgZ11ZH0yM/8ogC7tjdSVx3B5dbwZ7gZMTrE2hXlxKIpAllegllOs9dIOE4ox39E6x5IJJDoQ7Nnz2H27DkAXH/9jenbTz31NE499bQux1qWxQcfLOH3v38Un8/HM888RX19PQClpWP47W8f6ruFCyGEEEIIcRjaYin+8d4OlqytIjvg4YdXzGJEXkZ/L0sMQ86UjQPf19lDQj/CHhLJhIGVcuGx956nak+YXdsbmf+l8ST2DSTak0TCMXILMhg1NocPl+xMb9EoKHYCiYrdYUI5fhRFoagkiKKAbeMEEqG9gcRQIoHEAKWqKoFAFt/+9jXouovi4mJ+9KM7+3tZQgghhBBCHFDKMPn13z5mT20bp8wawQULxhLwu/t7WWKY0g66ZaNnekgkEya24cbbEUjEYylnK0Z7kmPnj05XN7S2xInHUrSEY5SOz01XOFTtaQEgvzgAOBM3RpY6gwrcHp38ogB11a0Esrz4M93oLjU9JnSokEBiALv66m9y9dXf7O9lCCGEEEIIcVC2bfPkG1vZVdPKzZcczayJ+f29JDHMKaqCdcimlkdYIZE0UGwVj+UC4INFZeltGJGwE0Lk5GXQ2hInEo4Ta0+Rle0jO88JJCr3hNFdKqEcX/qc+27HGDE6Kx1IKIrCWRdPIyvbx1AigYQQQgghhBDiC0skTf62eBvvf1rNefPHSBghBgTtID0k0mM/1S9eIWEYVnpChiflpb6mla3raykdn8PusqZ0VURWjg92QF1VBIBgyNl+oaoK8agTUGTsM/Y2lLs3kJg+uwSXS0tv1xg1NucLr3egkkBCCCGEEEII8YWs39HIX97aSl1zjLPmjuaCk8b295KEAJwpG+ZBmlqqioJ6BFM2kom9EzTchpfG+nYA5iwoZXdZE82NUYyUhT/DjdfnoqYjkMjK9qFpKsFsH+HGKP4MN5qu4vW5iMdSXaolAlle5iwY84XXOBhIICGEEEIIIYT4XBIpk8de2cTKzXUUZPu47YpZTC3N7u9lCZGmKs5WogMxTLtHGlp2chle2iJOb4ec/EzcHo366lYAvD4XvgwXzQ1OA8vO8Z3ZOR2BRKbTZyUj4HYqKobYloxDkUBCCCGEEEIIcdhao0l+8/d17KqJcNHCcZx1/Ghc+pE1BxSip6nqQSokTOuIR34mE2b6Y83w0BaJ48twoesqwSwfdTWdgYSOz+eiGfB4dTxe5y14KM8P2xrxZziBRGbQSzJhoru0I1rXYCO/OfrZzTffeOiDhBBCCCGEGABs2+bhlzZSUd/G9y46mvPmj5EwQgxI6kGaWpqfqZD4aOlOXv7bus91/n0rJFTTTVskQSDo9HoIhLy0tzrNLZ0KCSd02Lf6IbujeWVnhcTck8fy5XOnfK41DAXy26OfrV27ur+XIIQQQgghxGF5f10163c2cdmpE5g1SZpXioFLPUhTS8O00DWVREU5e35xL7u3N1K+s5n2Q4zUTCYMPlyyk1TS7FIhoaQ8tEUSZASc5pSBrL1NKr0+F16/M4WjszklQHZeBkD6Mbn5GRSPyvoCVzq4yZaNPvTkk3/inXfewjQt5s6dRyLhfMN/+9vf4MEHH+UXv7iLHTvKALjooks5//yL+nO5QgghhBBCpFU3tvPM4m1MHhXi1Nkl/b0cIQ5KVRQs68D3GaaNpioka6qJlpXRrDv9HSp2hZk8vbDbc27dUMua5XsoGhkkmXQqJCzFAsNNayTOqLFOH5Vg1t5KCK/fha8zkNinQiK/KJMvnzuFcZPzjug6B7thE0h88Gk176+r7pVzL5hRzIlHFx/0mBUrlrFlyyYefvgJFEXhnnv+k3nz5vP888/y8MN/Zu3a1UQiER5//GkaGup58MH/kUBCCCGEEEIMCNsqwvz3c+vQNZVrz5mCqhxZQ0Ahept2kB4SpuVUSKheLzFXMD0GtGJnUzqQKN/ZxFsvbuLr/2tuuu9D2eYGAGLRVHrLRsoTJRX3YaQsMvfZstHJ49XTgURWaG8goSgKkw4SfgwXwyaQ6G+rVn3Exo3ruf76qwFIJOIUFhal7x83bjx79uzmP/7je8ybdyI33fTv/bVUIYQQQgghALBsm7dWlvP8kjJyg15uvewYCrL9/b0sIQ5JVZRDTtlQPV7aPE5VQ3aen/Jdzdi2jaIoNDdGScQN2lsTeLw60fYk1eVhAOLRFIbhlF8kPO3EIwUAZAad7RfBLCeQcHs0NE3F53f6RASzvYiuhk0gceLRh65i6E2WZXLZZVdw+eVXAdDa2oqmaTz11J8AyMoK8eSTz7Jy5YcsX/4B1113FU8++SyBQKDf1iyEEEIIIYanssoWFq2uYEdVhLpwjFkT87j2nKlk+lz9vTQhDsvBmlp2TtlQPB7a3DkoCsyYU8KS17fRWNdOXmEmqaTTIyIeTwGwa1sDnaeLRVPYto2qKRjuOLbtVAx19o4IdAQS3o6fl9IJuSw8cyLFI4dfj4hDkaaWfWT27ON4441XiUajGIbBj3/8fd59dxGapmEYBu+/v4R77vlP5s9fwC233IbP56Ourra/ly2EEEIIIYaZFRtq+D9Pr2HDriZK8jP41rlT+d7FR0sYIQaVg439NE3LqZDw+mjzZBP0Qen4XADKdzUDkEo5gUS0rolY2XbKNjeQle0jI+AmFk2STJhobjBcyfR5MwNOEOFya3j9rnQgoesq02aNQJGtTvsZNhUS/W3BgoVs376VG274JpZlMnfufM4++1w++GAp3/zmlTz00OO8++5irr76MtxuN2eeeQ7jx0/o72ULIYQQQohhZPmGGh5+aSOTR4W4SUIIMYipCgeZsmGjqyqmqtKe4ybfZ5IR8BAIemisa3OOSTpbMho/XAU7P6Qy73xmHDeSyt1h4tEULreG6gJDdwIJVVPwZez9eckvysTnc/fyVQ5+Ekj0oW9+81t885vf6nLbz3/+q/THd9xxV18vSQghhBBCCADKqlp4/NXNTBkd4tbLZuLSpZhaDF4H3bJhWXhdGuvKt6LmtuAxnWaTbq9OqmOcZ+cUjXgsRTyawLadsZ2NdTqxaArLtlF0G9PlTE7MDHi6VECcddE0qYg4DBJICCGEEEIIMUxZts0ry3ezdms9VQ3thDLdfOfC6RJGiEHPGfvZfYWE5lWJx53AwDIbAWerRbKjd0RnD4lk0iJpO2+bW+0IZQ3ryVbHoKh+0M30lo3OCRuddJd20PUZrRF2/+xORnz3ZnzDuDJeftMIIYQQQggxDBmmxaMvb+QfS3fg0lUWzCjm+5fPJOCXMnMx+Glq94GE00NCJS/TmbBhJJ3efW63ng4iOntIJAyblOo0q6yp+JQJFS3E2zvGfuomluZUSAQ6JmwcrmRVFWZLC7FtWz//xQ0hUiEhhBBCCCHEMPTUm1tZvqGWixeO4ysnlEp5uRhSFFWhmzwiPfYzr8CZepFIhLFtG5dbIxKOAXsrJFKmSkpzwoZw0y5KTB3LVIi1p7B8BpoWB/aO/OzUOT60O0a4o3lmXV33x7S00PbxWrJOWoiiDs1agqF5VUIIIYQQQohurd5Sz9JPqjh73mjOnT9Gwggx5GhK91M2DNNCU1U0zfn7vGVYVLfX4nJr6SCis6llwlaJe5ztGEZbPS7TCSDisRSWaqCrCY6ZBBOOKujyHFW/+2/qnn6y2/UZ4TAAyYNMVowse5+6J/9EeNFbh3PJg5IEEkIIIYQQQgwTlm2zrqyBP722idKiABedNK6/lyRErzhYU0vTciokdN3p86DbCusaNlCXrCORSAF7t2wk8wzqxjtbOzIScdwdgQSAqSXx2DbHzXCTk5eRvj1ZU0P7x2uJ79zZ7fqM5gNXSES3bCbVUO+cp7oagIbn/06isvLwL34QkUBCCCGEEEKIYSAaT3Hvn1fxm7+vw+vWuPH8aeiavB0QQ5OqKtgHqZDQtb0VEm5cvLTjDTZHtmCkLGzbTk/ZsHUw3SpgkZNS0xUSAIbqBBKoXRtYRpa979wfael2fZ1bNozmJqxCIxRqAAAgAElEQVSU0xgz1dxMxa9/RcM/XgAgWVuDe+QoVJ+PmkcfwrasL/BKDGzyG0gIIYQQQoghzrQs/vDiBsrr2rj2nCn84sYTKMrx9/eyhOg16kG3bNhomoKuO4GEV/UwJXsifq8HUDBSVrpSwtbAVhVQYuQbni4VEmG7hVDKJF5VjxV3brcti8jyDwAwW1uxuxs92lEhgW2Tqm9wzvfm62CaJCrKAUjWVOMbP56CK64isWc3LUveObIXZQCSQKIPrVmziu9974b+XoYQQgghhBhGGlviPPzSRtbvbOLqMydz0owRUhkhhryDbtn4TIWEjs7Ns75NKCMAQDJhYBk2Nja2CijgVyE7pXepkGgnxoxwnOo/P0f4ncUARDeux2huxjt2HHYyiZ2I7/f8AEZLGFdhEQCpulrMtjbCS98FTSNZU40RbsZqb8ddWEzmccfjmzKVhn88j9Ea6aFXaGCQ30RCCCGEEEIMQSnD4oWlZfzoj8tZvaWe808cw8JjRvT3soToE6oCts0BKxQ6p2x0VkiYptMvwqmQgGh7ElBQtDiK4myT8GkWdqQV3Uqi2M7xmstmfGsSbJtkbY3z2I0bUVwugictdJ4r0orRGqH2L09gxZ0JHrZtY4bD+CZNApw+EuHFb2MnEuScfQ6YJm1r1wDgKipCURQKrrwKK5EgsuyD3ni5+s2wGfuZ2voBqS1Le+XcrskLcU068bCPX7t2NQ899HsSiTitrW3827/dykknncKbb77O008/gaqqjBgxgjvvvIeWljB3330nsVgMVVX493//AdOnH8369Z/ywAP3k0wmCYVC/OAHP2HkyFG9cn1CCCGEEGJwKatq4bFXNlHdGGX+9CIuOmkcuVne/l6WEH1GVZ3JMZZto+0zRcaybCzbRldVVFVFAUzbCR0yfH4iQHNLGwC6mgDVuU+zY5htrSiAbiVIaX7GZOaiOzs79jairKvFVVCIKycHADPSQrxsOy3vLMYzajShhadgtrViGwaeklGo/gySNVW0ffIxGUfPIHD8PJpefonWVSsBcBcVA+AZUcLoH9+JKy+vN1+2PjdsAomB5Pnn/8aPfnQnpaVjWL16JQ88cD8nnXQKDz/8IA899DjZ2Tn87ncPsGfPLt57bwnz5y/gyiuvYcWKZaxb9zGTJ0/hZz/7Cffc819MnTqNxYvf5mc/u51HHnmivy9NCCGEEEL0o6ZInNdW7GHx2gqyAx5uvewYjh6X29/LEqLPaZ2BhGWz7w4ls6MxpKY592somLbTyDLg81FNjKYWZ1uER01id1RIqAknpFD9GbiNOCnNz9RAPpZTLEGq3pmWkaqrxVVYhBbMcp6vNUKqqRGA1o8+JLTwlHT/CD07hKuggMiHK7ATCbJOPhV3YRGKrhPbugVF17sEEN4xY3r6Zep3wyaQcE068XNVMfSmO++8h2XL3uOdd95mw4ZPicWc0p0TTzyJ73znehYuPIWTT/4SEydOJhaLcfvtP2Tr1i3Mn7+ASy65jPLy3QQCAaZOnQbAl750Gr/85c9pa2sjFAr256UJIYQQQoh+EI0bPL+kjKWfVGHbcMrMEr56ynh8nmHzv/tCdKEqnYFE19sN09nC0dlHRVMULFXFTiYJ+jOBGC2RdgB8xIl1VEioSSeQ8IwcibstTjswJTMP0+g4b1MTVipFqq6OjKNnoAWc92VGJILREUjEtmzGCIcxwmFnDaFs3AWFJHbtRM/OIePoGSiahntECYk9u3EVFKCoQ7vLwtC+ugHqppu+zaZNG5g8eQrXXHNdel/TLbfcxr33/pJAIMg999zJG2+8yowZM3nqqWeZO/cEFi16k//9v2/FOmC3WBurM54TQgghhBDDxuot9dzxyAre/biSk2eO4P/8rxO4+szJEkaIYa1zy8ZnJ20YphMwpAMJVcVSVax4nFBGJgDNHYGEn+Te8ylO8uAuKUlP2vDqYHcEEtg28bLt2IaBq6AQPeA0yDQjEVKNTaiZmWDbtK5emR75qYeycRUUAJB10kIUzRkf6hk50nmuwuIeejUGLvkt1cdaWyPU1FTzu989jNvt5sEH/wfLsjAMg6uuupTf/vYhrr76WgzDYOvWLZSVbSMvr4DLLruCWbPmcN11X2f06FJaWlrYtGkDU6dOY9GitygsLCbYURYkhBBCCCGGvubWBE+/tZXVW+sZVZDJzZfMYGyxVMsKAftUSNifDSScz9NbNjQNS9Ww4nGyM5z3U5FIFPDiM+OAq+N8TvLgKRmJ69MtKAq4VJN9/yYc3bgBAHdBIYquo/oz0hUSvomTSNXX0/rhcvzTjgZFQc/KwjdhAmpGBsGTTk6fx9PRG9BVVNSzL8oAJIFEHwsEgsyZczxXX30Zuq4ze/ZxxONxUqkU119/I7fcchMej4fs7Gxuv/1nJJNJ7rrrDl599SVUVeWOO+7C7XZz992/4Ne//iXxeIxgMIu77/5Ff1+aEEIIIYToZZZtU1HXxvqdTbyyfDeGaXHJyeM48/jRMspTiH3s29RyX2ZnhYTaWSGhORUSiTiBLKcRZTxq4AI8RhRwQgoFJ3lwjyhhROQliufPRrFTWMbec7d3BBKdVQ96MIgZacFoasQ/ZSr+qUdR//RTJGtq0QIBFF0nY/oMxv/mtyj7NN50dwQSbgkkRE+aPXsOs2fPAeDmm/8jffttt/0IgNNPP4vTTz9rv8f9/veP7Hfb9OkzePjhP/fSSoUQQgghxEBjWha/ff5TPilz9qNPLc3mmjMnU5jj7+eVCTHwqPs0tdyXYXX2kOiokNA1UpqKnUjg6djmZMedrRO6uXfLhqJaqP4M9OxsAslmCnOT2JaFbYLq92MnkyR270LRdfRsJ9jQgkFSdbVY8Th6bi6hU79MsrqalncW4Rlduvfc+4QRAP5Jk8m94CIyZx3bky/JgCSBhBBCCCGEEAOcbds89eZWPilr5KKTxnLC9CLysnz9vSwhBiytm0DC/EwPCV13kejoIaEoCrZmoqfcANjJRPpximqhZ2Xt7Q3R1gYhN5YBWkYGBIKkamtw5e9tRKkFg8S2bwPAlZOLoigUXPF1VK8XPSvU7doVXSf3vAt64mUY8CSQEEIIIYQQokPKMGmNpsjwunC71P3+ctlfVmyoZcnHVZwzr5TzThzb38sRYsDr/NHdr0LiMz0kdN2V3rLR+tGHqIqFbTt9I0wjvs8JbbSsLBSPF0XXMVtbwQo5FRIBP1pnINGxXQOcLRudYz70HKdqQlFV8i+5tFeueTCSQEIIIYQQQgxrtm2zeks9b6+uYEdVS5exgAG/i6PH5XDUmBzW72hCUeDqMyf3ab8G07J48f2djC7I5OKTx/XZ8woxmHXb1NL6TIWEy4WlORUS9c88jXvk+SRwYSs2+z7SVkEPZqEoCmpmJmZbK1iZWAa4MjJw5eUD4CooTD+mc/QngCs3tzcuc9CTQEIIIYQQQgxZsYTBntpWGlrilBYGGFngjPVLpkzeXVvJjuoIVQ1RKurbKMzx8+VjR1KY4ycaN2iLpWiKxFmxsZaln1TjcWskkiaxhMGNF0xDU/smlFixoZa6cIybLz46/SZLCHFwWjdjP83OwLHjft3txlRVkpWVTq8HTBKAolmYHWM4bUvD1DW0rCyi0Xb0QACzrQ3bNLAMUDMyceU7gYR7nwoJrXMKoqbt/Vh0IYGEEEIIIYQYcppbEyxeU8HiNRXEEnvn8o0tDpAT8LKjOkJza4L8kJfsTA/fOGsyC2YUHzBk6Aw1xhYHeWdtJX9bvB3Pa5u59pypvR4QGKbFSx/sYnRhJjMn5vXqcwkxlOydstH1dqOjh4TWWSHh9mCpKrEdZc7ntgEKaKqNqTuBhMftg0CAxMiRvP7cXzguFCKjtRUsE9t0ekgcqEJCDzoVEnp2drqvhOiqVwOJtrY2Lr/8cv7whz8wcuRIli1bxi9+8QsSiQRnn302t956KwCbNm3i9ttvp729nTlz5nDXXXeh65KVCCGEEEKIz2dreZgX39/J5t3NABw7pYAFRxeRm+Xj07JG1myrp6YpSmG2jxvOO4rJo7MPeU6fR08fd+bxo4klDP71wS58bp0rTpvYq30mXl62i7pwjFsunTFg+lkIMRikt2x000MivWXD7cLSNBK7dzmfWwZooKs2pqahqSo5eUHM7AySRYVQtomk34+3ri5dIaH5M8iYcQz5l38d/5Sp6efSOgIJV87+2zVSqRRLl77NccfNJziMqyd67V3/J598wh133MGuXbsAiMfj/OQnP+HJJ5+kuLiYG2+8kSVLlnDyySfzgx/8gHvvvZeZM2fyk5/8hGeffZYrr7yyt5YmhBBCCCGGmPpwjL+/s51VW+rJDng478QxnDCtqMtIzJK8DM6aO/qIn+uCBWOJJ03eXFmO16Nz8cLe6euwszrCy8t2c8K0ImaMl+oIIT6P7sZ+7p2y0TH2U9OxVRXLMFAAV0cg4VLB1DVcuo7L5SIej9Pe3uacw+fFbG3FSjhTONSMDFSXi+zTTu/yXJ2BRGdDy321tDRTWVnOqFFVwzqQ6LW6kWeffZaf/vSnFHTsoVm3bh2lpaWMGjUKXdc577zzeP3116msrCQejzNz5kwALr74Yl5//fXeWpYQQgghhBjEUobV5XPDtPjnezu4/eEVrNvRyIUnjeW+G+Zx4UnjuoQRPUlRFL72pQksPKaYl5ft4rUPd/f4czS3JvjDi+vJynTz9dMn9vj5hRjq9m7Z+GxTy84pG51jP52/0VsdWyp0MwmAX9cxNQ2Xy43L5cIwUrS1OYGE5fdjRaMYEedzzb//75pNm9ZT3tQIHLhCItERZsTjsSO4ysGv1yokfv7zn3f5vK6ujvyORh8ABQUF1NbW7nd7fn4+tbW1vbWsflNXV8vdd99JLBZDVRXmzz+JTZs28stf/j8AnnvuGSoqKpg0aTKvvfYyLS1hTjxxITfeeFM/r1wIIYQQon8ZpsWSj6tYsbGGHVURZk7I44bzp9EUifPYq5soq4wwb1ohl54ygeyAp0/WpCgK15w5hXjS5O/vlOFz65wyq6RHzh1uS/Crv66lNZri+5fPxO919ch5hRhOut+ysX+FBDiBhGZZaIYTFOiYmJqOy+3G5XKTSiXTFRJ2ptMcN1HdiA1sbA0zNdxMKORs7YrFoqxevYKCgiJOuOE7eCdO2m99nYFEIhHf777hpM8aNViW1WXfm23bKIrS7e2fV25u5n631dWp6LqTdC2vWsWyyo++wMoPbX7J8ZwwYs5Bj3n11X+xYMFJXHXVN1i+/APKyrazdesmotE2gsEgixa9xa233saOHWXU19fxzDPPf+E+Gp3XPJioqkp+fqC/l9Enhst1Dlby9Rn45Gs0sMnXZ2AbTF+faDzFJ9saKKsIs3RtJdWN7YwfmcVpx43m7ZV7+OljH1EfjuHz6PzgqmNZOGtkv6zzx9fO5b4/fcSTb24hO+TntOO/2JaQlGGxpybCJ9sa+Oubm0kZFnfdcAJHjZVRgQPJYPoZGo72/frkNDmVB8EsX5fb/f4mAAryA+Rn+6muzgDA0lTcoTy0lBMQuDWbuK4RyMwgGMzAMAzi8XYAXCHnfKn6FkxdY1tDLTm1e5g40fn5X7FiA5ZlYdsm475y2gHXWlHh/GvbxrD+vuqzQKKoqIj6+vr05/X19RQUFOx3e0NDQ3qbx+fR2Ni2X/plWRZGR1mfZdp8plqnx1imnX6e7syefRy33/5DNm/ezPz5C7joosuorKxi0aK3Oe64ebS0hJk0aSrbt29n0qQpgHrIcx6Irn+xx/U3y7Kor2/t72X0uvz8wLC4zsFKvj4Dn3yNBjb5+gxsg+XrY5gWT725hWXrazFMC1VRKC0KcOtlxzB9bA6KojBxRJC/v7udc+aVcvpxowj63f16bdefPYW29iQP/G0tqzZUc+mpEwhmuA/rsbZt89GmOp56cwvtcQOAKaNDfP30SeRn9u91ia4Gy8/QcPXZr09rxAkkmpraqc/c+/PYHHZuj4SjKIZJLOZM4bFUFfeYcWjbndCBZALT5QJUUikb0zRpaWkBoC1pkOnzEa1uTo8GratrpL6+FcuyWLv2YwCi0Xi33zONjc65wuHWIf19parKAYsHOvVZIHHMMcewc+dOdu/ezciRI3n55Ze55JJLKCkpwePxsHr1ao499lhefPFFFi5c2OPPP7f4WOYWH9vj5z1cM2bM5KmnnmXZsvdZtOhNXn31Jb71re/wyCMP0toa4Ywzzk4f6/H0TamhEEIIIcRAkjJMfveP9awra+SUWSXMnVrA2OIgbpfW5bg5UwqYM+Xz/wGrt7hdGrdedgz/+mAXryzfxbINNUwaGWL25HyOnZRPTtCbPnZXTYRFq50/jdo2VDa0s7umlfEjglx4ygQy3CqlhQGZqCHEEequqeV+Yz87Rntauo53zBi0rU6YoFkpp6mly9my4ZzLeWwymcRdMpL49m1YPh8AbW1OqFBevototJ2MjExSqWS365MeEo4+CyQ8Hg//9V//xc0330wikeDkk0/mrLPOAuD+++/njjvuoK2tjWnTpnHNNdf01bL6zO9//wB5eQVcdtkVzJo1h+uu+zrTpx9NQ0MDb7zxKvfdd39/L1EIIYQQot8kkib/88I6Nu5q5pozJ/dYP4a+omsqFy8cx9yjClm5qZbVW+v569vbeHbxdhYeM4KJI7P4dEcTKzbU4PXo+DzOm6CCkI+vfWkCp80ZSVFh1pD+S6kQfakzkDA/29QyPfazaw8J95ixaJmZaFbKud1IdDS1dOFyde3jkkwm8ZSUEN++LV0h0RlIVFdX4XK5KC0dy5YtG7tdX2fviERCAoletXjx4vTHJ5xwAv/617/2O2bKlCk899xzvb2UfnXJJV/jrrvu4NVXX0JVVe644y4Avvzl0/noo+WUlPTPvkchhBBCiP4WSxg88PdP2FbZwvVfmcqJRxf395K+sJK8DEpOGseFJ42jpinKWyvLWfpJFe+srcTj1jhtziguWDAWv7fP/i4oxLC0t6ll19tNq7OpZdcpGzmXXY5aUYneEUgoZhxTVdNTNjplZgY6Agnn/ZvZ0b8vFot2bOtoJisrG7fbg2maWJaFqu7f4y+Z7KyQiH/hPopDgfwm7COFhUX8/veP7Hf7tdd+m2uv/Xb683POOY9zzjmvL5cmhBBCCNFvovEU/+/ZT9hZ3cqN50/j+KmF/b2kHlOU4+fqMydz9rzRtMVSjCrIRDvAGxMhRM/rfstGx9hPtWuFhGEYKB5PukJCTSWwFaXLlg2AUCiHpqYG3B2BhO3e+5a6vb2NlpYwJSWj0o9JJpN4vXu3bXXqrJCwbZtEInHAY4YDCSSEEEIIIUS/SKRMfvXMx1TUtfGdC6dz7OT8Qz9oEMrL8pGX5evvZQgxrKQrJPbbsmGhqQqKomBbFtSXAZCs2oIVi6UrJEi0AgG0SBWKGQZAV1UyrCg1iRhqyhnMYLv3Vk80NjYQj8fIygqlqypSqe4CiYSzBtsmHo8N20BCIlohhBBCCNEvXl2+m901rXx3CIcRQoj+oXVTIWGadnq7hlVXhvH+4wDE1r+FsfYf+FMtFLOHjPZKAOxNi7FWPguAz2hD3b0aw7RILHsU1QWWZ28gUVVVDtCxZcOpkEilUgdcXyKRIBjM6vg4fsBjwuEmli1bQjLZfXPMwU4CCSGEEEII0We2lodZvKaCHVURXvtwN/OmFTJrkoQRQoiepajdV0ikG1oWTSRwwe3Ox7MuxHfOLWi2ySlzstFsJ0jInH8FgXNudT4uLMU/0xnM4Dr/P8k8bi7a6Anpc1dWdgYSofSWjQNN2rAsi2QyQVZWCOh+0kZ5+R62b9/CkiVvpSd8DDWyZUMIIYQQQvQK07JQFac0OmWYPL9kB2+uLE/f7/NofO3UCQc5gxBCfDHdVUgYlp0e+QngChU5x3kCuApHA2DbLsyOLR+enGI82bkAZIZy8YYKgI2YGXkUXfcd6tatgY9XkZGRSXt7G6qqdTS+dJpWHiiQ6Kx4CAadQCIW2xtI7Nmzk0Agi+zsHGKxdhRFobq6klWrVnD88fOP+HUZaCSQEEIIIYQQPc60LO7+0yoM0+KceaW88dEeKurbOXV2CSdOL+b9T6s5qjSbrExPfy9VCDEEdeQRmPs1tdxbIQF7p2yYpoHqdX4fGeEwpu6M8+ycsuH1+sjNzU9vxdgbOKTQNI1AIEh7exvBYBZqx3QO57j9t2x0PrZzy0ZnhYRpmixdupgxY8axYMGpRKNRgsEscnLyKCvbynHHnTDkpnFIICGEEEIIIXrcB5/WUF7XRsDv4tFXNhH0u7jl0hnMGJ8HwLgRwX5eoRBiKFO72bJhmhb6PtNuVFVFURQMw2DDts1Ec7IJhJsxO6ZvuFwuVFXlkkuuQFU16upqgL1VDoaRQtddZGYGANLbMPb2kOg8zkiHH509I7xeHx6Ph3jc+byhoR7LMmlvbwOcUaI+Xwb5+YXs3LmdWCyK35/Rky9Tv5NAQgghhBBC9KiUYfLi+zsZPyLID66YxaotdUwfm0sww33oBwshRA/onLKxf4WEjaZ1rTLQdZ1UKsnGjevILipkRHMzptZZIeE0rewcD+p2O1UU+1ZIuFz7BxL79pCoq6vhjTdeYuHCL1NaOo5Ewnmsx+PF6/WRSDgVEp1hRzTaDjiBREFBIaFQNgDhcPOQCySkqeUAs2DBnP5eghBCCCHEFxZuS/Dkm1tpbk1w8cnjcbs05k8vljBCCNGnvG4nUEgkzS63O1s2ur4N1jSdhoY6LMvCcukY+wQSuu7qcuzeLRv7Vkjo+wQS2R3n1Jz+OakkLS1hbNvmgw/epampIV0h4fF48Hp96QqJzkCivb0d27aJRtvx+TIIhXIAZ+rGUCMVEkIIIYQQokds2NnEA899gmnanDq7hKml2f29JCHEMOX16ChAe9zocrtp2V16SIBTIdHU1AiApesYLWGsEYUo7O0x0Wn/HhIGuu6ioKCYgoIiioqKAVAUBZfLTTKZIhaLdjzWw7vvvsWkSUcBewOJcLgJ27apr69BVVUsyyQSacGyLPx+P16vt+O45h59jQaCYRNIRJZ9QMv7S3vl3FkLFhKcf+Ihj1uzZhVPPPEYLpeL6uoqTjxxIT6fj/feW4Jt29x//wPpYx999I/U1tawa9dOWlrCXHDBxVx55TW9sn4hhBBCiCMVSxg8/tom8kM+/u2rMyjM9vf3koQQw5iqKPi9Ou3xrk0lDdPqMmUDnGoGu6PXhKnr2Mkkpqah6/p+TSR13YWiKF0qJJwtG5mcddb5XY51uVwdPSRs3G4P8+YtYPHiNygr2wI4AYXX6yUWixEON5NMJhk1qpTy8t00NNQB4PM5WzRCoewhGUjIlo0+tnHjBm677cc88siTvPDCs4RC2Tz66JNMmDCRt99+s8uxW7Zs4je/+T2PPvoUL774Alu2bO6nVQshhBBCHNwLS3fQHElw7TlTJYwQQgwIGV4X0c9USBimja7uXyHRyexoeOkEEl23a8C+lQ9OhURnU8sDcbvdpFIpYrEYPp+PESNGkZkZoKUljNvtQVEUvF4fyWSC6uoKAMaMcUYhdwYSfr/z+zQrK5uWluZ0cDJUDJsKieD8Ew+riqG3jRs3nsJCZ9ZtVlaIOXOOB6CwsIjW1kiXY0877cz0N+CCBQtZvXolkydP6dsFCyGEEEIcwvbKFhavruBLs0cyoSSrv5cjhBAAB6yQME0Lt6fr2+DOhpUAlrY3kHC5D9z7xu12pysknKaWB35b7XK5SaWSmKaJz+dHVVUmTZrKmjUf4fF4AfD5fACsWrUCn89PYaGz5aOhob7jfuf9YHZ2NqlUivb2djIzMw//RRjghk0gMVB8dg+S1tEs5UD2vc/6/+zdeXiV5YH+8ftsOdn3PYGwhBBIIBBAVsEFELFuuOJWraO2tdU6bceZq46/mU6dttNNO9NF60xVXFABBVFBEQVlU/Y9LAkJWchG9v2c8/7+iERRAwSS856TfD/X5SU5eXPeO3kCSe48i8eQ3d79tQAAAGbocHn03LsHFRXu1IJZw8yOAwBdQgLt3zxD4hs2tZSksLBwNdfXSZI8DkfXSRlfFRDg/NIMCVe3MyQcDodaW1vU3t6umJg4SVJ6eqZ27twmp7PztI60tOHq6OiQYRiKi0tQUFCQLBaLamo697T4YoZE58aWdXUn+1UhwZINH7Z+/Udqb29XfX29NmxYr0mTppgdCQAA4DQrNhSotKpJd84dqSAnv+sC4DuCAx1f29TS5fF8w7Gfnb/4TUxMllsWGZLcDkfXkZ9f1VlIfPmUje4KiS82tTw10yEwMFC5uZM0fHiGpM6NLbOycpSdPU4JCUmyWCwKDg6Rx+NRQICzqyw5dfRnTU3/2keCrxo+zOl06sEH/0FNTU268857NHQov3UAAAC+48PtxXp7U6FmjE1STnqs2XEA4DSdMyQ6l2y43B4ZxjfPkAgMDFJ4eITCwsIli+SxWuWxf/MeElLnko26umZ5PB65XK4zFBcBamlpksvl6lqaIUmjR489c+6QUDU1NXbNjpA6fzZMTk497Xn6AwoJL8rNnajc3IldLy9Z8lbXn++994HT/i9JY8eOO+1lAAAAM7k9HtU1tqvsZLM+O1Chj3eValx6rO66YqTZ0QDga0KCHGpqcckwDL3xcb4+3F4ij2EoPTn8tOsmTJgsl8uloqJjkiSPzda5h8QZiob29ja53Z2zL860ZMPl6rzm1AyJcxEcHPKNbzN79vxzfg5/QSEBAACAr6lvbldYkKPryLuDhTV6+q19qmvsnKYc4LBq+tgk3TEn42u/bQQAXxAcaJfHMNTa7tbx8ka1trslSXb76f9mBQQ4FRDg7Cog3Dar3FbrWZZstKmjo+Pz5+t+U8tTelJIhIR0FhKnion+jELCRzEzAgAAmKGusU0vrzmszw5WKCEqSDnpsZpgdeEAACAASURBVGpobtfm/eVKjA7WtdOHKjo8UCMHRcoZwIbbAHxXSGBnodDc6lJNY5tyhsdoYma8hiaFf+P1p2Y6uG02uS2WbguJ4OBgud1uNTU1SlK3151vIREcHNrjt/FX/b6QMAyjq9mHb+pvZ+kCAOCvisob9NvFO9Xa7tbsiakqOtGgNVuLFRbi0LSsRN02J4ONKwH4jeDP/71qau1QbUObMgZFavqYpG6v75ohYbfLY7F0e8pGaGhnoVFb27nB5Jn2mjilJ3s/fDFDgkLCr1mtNrnd3R/DAt/gdrtktfIbFgAAzFRQVq8/vLZLDrtV/3x7rpJjO78h5pc7APxVSGDnj7u1je1qanUpKtR5xutPFRLtAZ3/724pxqljN2trT57xulPPZ7FY5HQGnnPusLCIz+/zzTM5+pN+XUgEBYWqoaFWkZExslhY2+iLDMOjhoYaBQX1n7N0AQDwJwVl9Vq27qj2HatRVJhTj942XvFRX/xWjjICgL8K/nzJRklV59KKqLAzFxKnfpHd8fnMhu5nSIRJkmpqTn5+3ZmXbAQGBvXo39KoqGjNn3+dYmLizvlt/FW/LiRCQyNUU1Op8vJiSQNjWYDVapXH4zE7Rg9YFBAQqNDQCLODAAAwoBiGobc3FWr5JwUKDXLohlnDNGtcikKDmFkKoH84NUOipLJJkhR5lkLiixkSnUVC90sxnAoICDjrko1Tz3c+e0HExsb3+G38Ub8uJCwWi6KjB8ZAnhIXF6bKygazYwAAAB+3dnuJlq3P10Wj4nXnFSO7Nn8DgP4i5POC9VQhcbYlG1+fIdH9v4uhoWE6ebL6jNedmiHRk/0jBhrWMQAAAAwwZdVNev3DIxozLEYPXJNFGQGgXwoMsMlqsai0+vNC4hxnSLgiIk57+ZucWrYhnX1Ty4FwWsb5opAAAAAYQNwej55deUAOu1X3zM9kjwgA/ZbFYlFwoF0dLo+cAbaznhJktVplsVhkJHTOsj9TIRES8kUh4XB0t6klMyTOhkICAABgAHlnU6EKyup15xUjFXmW6csA4O+CP99H4mzLNaTOAsPhCFBzc7Ok7mc+SF/MkLBYLN2eGGi32zVlysVKT8/saewBo1/vIQEAAIAvFJTVa8WGY7poVLwuGpVgdhwA6HOnNrY823KNU+x2u5qbO5d4nMuSDbvdccaZZhkZo8416oBEIQEAADAAfLyzRE8t3qHwkADdMXek2XEAwCtOHf15rjPCvlxCdHfsp/RFIXGm0gJnRyEBAADQz23YU6b/ffuA0lMi9L3rsjnaE8CA0dMZEqcKBovFIpvtm5diSFJoaKikzhkVOH989AAAAPqxippmvfj+IWUPj9FDC8bIbmMLMQADx6lThM59yYaj6/9nWorhcATI6XQyQ+ICUUgAAAD0U+0dbj3z1n7ZLBb948IJkstldiQA8KpTm1r2dMnGuRQNYWERZ9z4EmdHIQEAANAPNbV26I9LdqugtF7fuy5bcVFBqqxsMDsWAHjV+c6QOJdCYurUmeLk5AtDIQEAANCPeAxDW/aVa9n6fNU1tem712VrYma82bEAwBSJMcFyOmyKjwo6p+tPFRHnMvMhKir6grKBQgIAAKDf8HgM/eXNvdp2qFKDE0J1/zWjNSI10uxYAGCanOExeuqhGQpwdL9B5Zf1ZIYELhyFBAAAQD9gGIYWvZenbYcqddMlw3XF5MGyMpcYwABnsVjOuYyQeraHBC4chQQAAEA/8M7mQq3bWaqrpqbpyilpZscBAL9EIeFdnPsEAADg53YertKydfm6aFS8FswcZnYcAPBbXxz7GWBykoGBGRIAAAB+bFtehZ5deUCDE8N0z/xRsrBMAwDO2xd7SPCjsjfwUQYAAPBTyz8p0PJPCjQ0KVw/vGGMnD1YJw0A+LovlmwwQ8IbKCQAAAD80I7DlVr+SYGmZSfq2/My5bCzEhcALlRPjv3EheMrFwAAgJ+pbWzT3985qMEJoZQRANCLOPbTu/jqBQAA4EcaWzr01Ou71d7h1v1XZ1FGAEAvCg4OkdVqVVhYuNlRBgSWbAAAAPiJxpYO/faVHSqtbtIPFoxRcmyI2ZEAoF8JDg7WLbd8mxkSXkIhAQAA4Acamtv128U7VVbdrIduGKvsYTFmRwKAfokywnsoJAAAAHxcSVWT/vrmXlXUtujhG8cqa2i02ZEAALhgFBIAAAA+7MMdJXplzWEFBtj0o5tyNCotyuxIAAD0im4Liffee++Mbzh37txeDwMAAIAv7D5arUWr8zRmWIzuvWqUwkMCzI4EAECv6baQWLRoUbdvZLFYKCQAAAD6gMcwtPtotWoa2rRs3VGlxoXqweuzFeCwmR0NAIBedV6FBAAAAPrGO5sKtWx9viQpPNhBGQEA6LfOuIfE0aNH5XQ6lZqaKklauXKlRo0apeHDh3slHAAAwEBSVN6g5Z8UaGJmvBZePkKhQQ457FazYwEA0Ce6/Qq3bds2LVy4UAUFBV2PFRYW6vbbb9euXbu8Eg4AAGCgKD/ZrKdX7FNokEN3XTFSUWFOyggAQL/W7QyJJ598Uk899ZSmTp3a9diDDz6oMWPG6Pe//72ef/55rwQEAADor+qb2rUnv1oFZfX6eHeZHDarHrw+W6FBDrOjAQDQ57otJBoaGk4rI06ZOXOmfvOb3/RpKAAAgP6subVDi947pK0HK+T2GApwWDUuPVYLZ49QZKjT7HgAAHhFt4WEYRjdvpHVyvRBAACA82EYhv7+7kHtPFyly3JTNX1MolLjQmW1WsyOBgCAV3VbSKSlpWnjxo2aNm3aaY9v3LhRsbGxfR4MAADgXNU3tevlNYfU1NKh6y4epsEJYWrrcPfJ0gePx1B5TbPqGts1OCFUwYE9u8e6naXallepmy4ZriunpPV6PgAA/EW3hcTDDz+su+++WzfccINyc3NlGIZ27NihJUuW6K9//as3MwIAAHRr99EqPbvygFrbXQpy2vXEom1dr5sxJkm3Xj5CwYGnf8vT1u6WxSI57FZZLOc+M2FfwUm9vOaQyqqbJUnxkUF69PZcRYU51dbuljPg9OM5DcNQUXmjCssbFBsRqK15lVq3s0RZQ6N1xeTBF/BeAwDg/7otJIYPH67nn39ef/vb3/Sb3/xGVqtVOTk5evnllzV4MF9AAQCAOTpcbm3eX672Do9qGtr07uZCpcSF6oFrxismIlDrd5Wptd2lxpYOfbCtWAcKa/STheOUEBUswzC0akuRlq3Pl9tjKDk2RD+6aaxiI4LOet+3Nx3T0nX5io8M0t1XZirAYdULq/L0q5e2yemwq7iyUaFBDo1IjdC07ERV1rZqw94ylVQ2dT2H1WLR5bmpun7mMFl7UIQAANAfWYwzbRbhR6qrG+Xx9It35YLExYWpsrLB7BjoBuPj2xgf38cY+TZvjM/WgxV6ec0h1Ta2dz02eXSC7r4yU06H7WvXHy2p01NLdstht+rqaUO0Na9C+4/VKDcjTmmJYVq9pUhBTpt+snC8EqKCv/Ge7R1ubdhTpkXvHdKU0Qm6Z/6oruM4DxfX6o9LdisxJlhZQ6JV29imXUeqVdfUmW94crimZSdq1JBonaxvVUxEYLf36Wv8/fF9jJFvY3x8G+Pjm6xWi2JiQrt9fbeFxC9+8YszPvFjjz12Ycl6GYVEJ/4i+jbGx7cxPr6PMfJtfT0+m/ed0N/e2q8hSWG68ZJ0JceGqK3dpbjIoDMuuzhe0ajfvLJDjS0dCg8J0FVT0jR7YqosFosKTzTod6/ulM1m0U9vHa/k2BBJUnFloz7eVaY9+dU6cbJzeUb20Gg9dONY2W1n3tzb7fEor6hWUWFOJcWE9N4H4ALx98f3MUa+jfHxbYyPbzpbIdHtko3IyMiuPy9evFi33npr7yYDAAA4Bx6Pofe3HtdrHx7RyMGRevimnC9mQ4QEnPXtB8WH6hf/MFm1jW1KjQ89balEWmKYHr1tvH6zeKd+/fJ2XTw2WS1tLq3bWSqr1aLMwZGaMjpBiTHBGj8i9qxlhCTZrFaNHhJ93u8vAAADRbeFxA9+8IOuP69Zs+a0lwEAALyhtd2l37+6S0dK6jQuPVYPXJP1jUszziY8JEDh3ZQXKXGh+ufbc/XMin1a/WmRPB5Ds8anaMHMYX1ySgcAAOjUbSHxZT3ZfRoAAKA3GIah51fl6Whpne69apSmZSf22fckidHBevzuSXJ7PGpr93ztVA4AAND7+GoLAAB8isdj6HhFo7bmVWjL/nJdP3OYpo9J8sq9bVarggPPviwDAABcOAoJAADgMxqa2/WnZXt0qLhOkjR+RKyumppmcioAANAXui0kxo8f3zUtsrW1Vbm5uZI6p09aLBZt377dOwkBAEC/ZxiG9h07qRffO6ST9W26fU6GsodFK/4sJ2gAAAD/1W0hsXLlSm/mAAAAA1RJVZOee+eAjpbWKzrcqX9aOF7pqRFmxwIAAH2s20IiJSVFhw4d0rFjx5STk6OEhARv5gIAAP1UU2uHNuwuU8GJBtmsFn12sEJOh013zRup6dlJctjZwwEAgIGg20Ji6dKl+vWvf620tDQVFRXpd7/7nWbMmOHNbAAAoB/YV3BS1fWtigx1avuhSm3ed0LtLo9iwgPl8ng0dliM7piboYhQp9lRAQCAF3VbSCxatEhvvfWWEhIStGPHDv3hD3+gkAAAAOfEMAxV1rXqrQ0F2rDnRNfjAXarpmQl6LLcVA1OCDMxIQAAMNsZT9k4tUxj/Pjxqqmp8UogAADg3zbtO6FX1hxWY0uHLBbp6mlDNH1Moqrr2zQ4IVQhgQ6zIwIAAB/QbSHx1R2tbTZbn4cBAAD+q7quRa+sOaz3tx5XemqEpmcnKmNQpJJiQiRJ8VHBJicEAAC+5IwzJL6MI7cAAMBXVdW26JM9ZTp0vFaHjtfKY0iXjEvWbXMyZLexOSUAAOhet4XEwYMHlZub2/Vya2urcnNzZRiGLBaLtm/f7pWAAADA97g9Hr29qVBvbyqUy+3R4Pgw3XDZCOWmxyiBmRAAAOAcdFtIrFmzxps5AACAn/AYhp5796A27DmhiZnxuvWydEWHByouLkyVlQ1mxwMAAH6i27mUx48fV0pKyjf+99prr3kzIwAA8BGGYejVD45ow54Tumb6EH3/umxFhweaHQsAAPihbguJH/3oR8rLyzvtsfr6et1777166623+jwYAADwPas/Pa73tx7X5RNSde2MoWbHAQAAfqzbQuLxxx/XAw88oLKyMkmde0pcf/31cjgcWrZsmdcCAgAA3/DpgXK99uERTcyM18LZI9jwGgAAXJBu95CYP39+14yIO++8U7/97W/1wAMP6P7777/gmz7zzDNaunSpAgICNH/+fH3ve9/TgQMH9LOf/UxNTU2aOHGi/v3f/112+zkfAgIAAPpQXlGNnl25XyNSI3Tft0bJShkBAAAu0BnP47r11lt13XXX6ec//7mefPLJXikjNm7cqLfeektLly7Vm2++qV27dum9997TT3/6Uz3++ONavXq1DMNgnwoAAHxESWWj/nvpHsVGBOmHN4yVw24zOxIAAOgHznpA+P3336/vfOc7evHFF+XxeC74hvv379eMGTMUGhoqm82miy++WIsWLVJra6vGjRsnSVqwYIFWrVp1wfcCAAAX5nhFo/7rlR1y2K165OYchQY5zI4EAAD6iW7XRIwfP75rbahhGGppadGECRNksVhksVi0bdu287phVlaW/vM//1MPPPCAgoKCtHbtWtntdsXFxXVdExcXp/Ly8h49b0xM6Hnl6Y/i4sLMjoAzYHx8G+Pj+xgj72hpc2nNp0V65b2DCnDY9MT3pisl7uxfaxkf38b4+D7GyLcxPr6N8fE/3RYSK1eu/NpjLpdLq1at0nPPPXfeN5w6daoWLFigO++8U5GRkZo6dao2bdp02sZYhmH0eKOs6upGeTzGeefqLzgD3rcxPr6N8fF9jJF37M2v1rNvH1B9U7vSUyP0D1eNUoCMs37sGR/fxvj4PsbItzE+vo3x8U1Wq+WMkwe6LSRSUlK6/lxXV6dXX31VL730kpqbm3XnnXeed6DGxkbNnTtX99xzjyTp2WefVWpqqrZu3dp1TVVVleLj48/7HgAAoGeq6lq09WCljpbUaduhSqXEhegH149RemqE2dEAAEA/dcZjLPLz8/X8889rxYoVSklJUWtrq9auXauwsPOfClNcXKxHH31US5cuVUtLi5YsWaInnnhCe/bs0bZt2zRhwgQtX75cM2fOPO97AACAr3O5Pdp5uEorNx1TU4tLt8/JUHS4U6u2FOnTAxXyGIaiw52aM3GQbpg1TAEONq8EAAB9p9tC4v7779fevXs1f/58vfDCCxozZowuu+yyCyojJCkzM1Nz587VNddcI7fbrbvvvlsTJkzQb3/7Wz322GNqbGxUVlaW7rrrrgu6DwAA6FRd16pl6/O180iVWtpcSogOVqDTpj8u3S1JcgbYNHtiqmZPTFVsRJDJaQEAwEDRbSGxf/9+ZWVlacSIEUpLS5OkHu/r0J0HH3xQDz744GmPZWZmasmSJb3y/AAAoHNPprXbS7Tko6MyZOiiUQkaPyJWOcNj5fYY+mBbsQwZmpWTrOBATs8AAADe1W0h8dFHH+m9997TK6+8oieeeEKXXHKJ2travJkNAACcI7fHo8PH65QSF6Kw4ADVN7fr+XcPasfhKmUPi9Zdc0cqNvKL2Q9Wq0XzJg82MTEAABjoui0k7Ha75s+fr/nz5+vIkSNavHix2traujakXLhwoTdzAgCAr6hvbtf+gpM62dCmj3eVqrymRQ67VekpETp0vFaSdOvlIzRnYmqvzXIEAADoLWfc1PKU9PR0PfbYY/rxj3+sFStWaPHixRQSAACYwGMY8ngM5R2v1d9W7FN9c4ckaXB8qO69apSOltTpQGGNLs1N0SXjUpQcG2JyYgAAgG92ToXEKUFBQbrlllt0yy239FUeAADQjYOFNfrzm3vV2NJZQiTHhugHN4xVckywgpx2WSwWTR+TZHJKAACAc9OjQgIAAJhj15Eq/emNvYqLDNScSYMUGGDTzLHJcgZwNCcAAPBPFBIAAPi4uqZ2Pbtyv1JiQ/TjW8cpNIgTMQAAgP+zmh0AAACc2cvvH1Jbh1v3XzOaMgIAAPQbFBIAAPiw3Uer9dnBCl09faiSYtigEgAA9B8UEgAA+LBVWwoVEx6oKycPNjsKAABAr6KQAADAR5VUNupgUa0uzU2R3caXbAAA0L/w3Q0AAD5q7Y4S2W1WXTyWozwBAED/QyEBAIAPamhu18a9JzR5VLzCggPMjgMAANDrOPYTAAAfU9fUrt8t3iG326M5kwaZHQcAAKBPUEgAAOBDWtpc+s0rO1RV16KHb8rR4IQwsyMBAAD0CZZsAADgIwzD0HPvHlRZdZMevmGssoZEmx0JAACgz1BIAADgIz7cUaLPDlZowcxhGkUZAQAA+jkKCQAAfEB9c7uWrjuqrKHRunJKmtlxAAAA+hyFBAAAPuCtDcfU1u7RwstHyGqxmB0HAACgz1FIAABgstKqJn20o0QzxyUrOTbE7DgAAABeQSEBAICJyk8263ev7lRggE3XzhhqdhwAAACv4dhPAABMUN/cro17TmjVp0XyeAz9dOF4RYQEmB0LAADAaygkAADwsoraFv3i+a1qbOnQ8JRw3T0vUylxoWbHAgAA8CoKCQAAvKit3a3/WbpHhmHo/909SWmJYWZHAgAAMAV7SAAA4EUvrM5TSWWjHrgmizICAAAMaBQSAAB4ydaDFdq074Sunj5E2cNizI4DAABgKgoJAAC8oK6xTS+szlNaYpi+NW2I2XEAAABMRyEBAEAfa2516cnXd6utw637vjVadhtffgEAAPiOCACAPtTe4dZTS3apuLJR378uW8mxIWZHAgAA8AkUEgAA9BGPYehvK/frSHGd7rt6tHLSY82OBAAA4DMoJAAA6AOGYWjJR0e1La9SN1+WrotGJZgdCQAAwKdQSAAA0MsMw9Cy9flataVIl+amaO6kQWZHAgAA8Dl2swMAANCfNLZ06OU1h7R5X7kuGZes2+dkyGKxmB0LAADA51BIAADQS7blVWrRe3lqaunQtTOG6prpQygjAAAAukEhAQDAeThZ36oPd5Ro68EKudweRYY6dbS0XoMTQvWPN+docEKY2REBAAB8GoUEAADn6HBxrdpdHp2sa9XitUfU1u7WqLRIhQQ5dKK6WQtmDtO8yYNlt7FFEwAAwNlQSAAAcBYdLrdeev+Q1u8q63osPSVC/3D1aMVHBpmYDAAAwH9RSAAAcAZt7W797rWdOlJcp6umpil7aLQ6XB6NGhIlm5WZEAAAAOeLQgIAgG643B79ZfleHS2p03evzdJFoxLMjgQAANBvUEgAAPAVHS6PPthWrPW7SnXiZLPumjeSMgIAAKCXUUgAAPoFl9uj6vpWhQUFqKGlXfml9RoUH6rUuNAeP89f3tyrnUeqlJ4aoe/NzNakzPg+Sg0AADBwUUgAAPxaXWObln9SoK15lWps6fja68ePiNW07ERlDY1WYMCZv+x1uDz637f3a+eRKt0xN0OX5ab2VWwAAIABj0ICAOCXDMPQtrxKvbA6T63tbk0YGadRaVFqau1QUIBdQ5PCteNwpT7YVqwdh6sU5LRpwczhunR8iqxWy9eer7quVX9+c48Kyhp006XDKSMAAAD6GIUEAMBvuN0e7TxcpdqmNm3ae0KHi+uUlhCm+64ereTYkK9dn5YYpm9NG6IjxXV6e9MxvfT+IW3YU6ZbLkvXyMFRkjqXaKzbWapl64/KMKQHrx+jCSPjvPyeAQAADDwUEgAAv2AYhp56dYc+3FYsSYoICdCdV4zUxWOTZLd1f/ym3WZVZlqURg6O1OZ95Vqy7qh+/fIOxUcGKS4qSPml9WppcylrSJTuvGKk4qOCvfUuAQAADGgUEgAAn+fxGFry0VF9uK1YV08bopk5yYoIDThjEfFVFotFU7MTlTsyTut3lupQca3KT7ZoUmacxo+I09jhMbJYvr6UAwAAAH2DQgIA4NP2FlTrtbVHVFzZpHlTh+i6i4deUHHgdNg0Z9IgzZk0qBdTAgAAoKcoJAAAPqm+uV2vfnBYm/aVKz4ySA9ck6X5Fw9XdXWj2dEAAADQCygkAAA+48TJZhWVNyi/tF4f7SyR223o6mlD9K1pQ+SwW7/xdAwAAAD4JwoJAIBPKDzRoP94fqs8hiGLRZoyOkHfmjZESTFfPz0DAAAA/o9CAgBgOo/H0HOrDio02KFHbspRXGSQggP5EgUAANCfnfv25AAA9JEPther8ESDbps9QmmJYZQRAAAAAwCFBADAVBU1zVq2Ll/Zw6I1KTPe7DgAAADwEgoJAIBpPB5Dz759QFarRXfPy7yg4zwBAADgXygkAACmefOTfB0prtMdczIUHR5odhwAAAB4EYt0AQBeZxiGlq3P19ubCjVjbJKmZCWYHQkAAABeRiEBAOgzHS6PjhTXymKxKDMtSlJnGbH4gyN6f+txzRqXrDuvGMlSDQAAgAGIQgIA0OvaOtxa/WmRVm0pUmu7W5J0ybhkXZyTrLXbi7VhzwnNnpCqhbNHUEYAAAAMUBQSAIAL5jEMVdW2KDjQoV1HqrRsfb5qGtqUmxGnGWOTdKS4Tu9sLtRHO0slSVdNTdOCmcMoIwAAAAYwCgkAwAU5XtGo51cdVH5pfddjQ5PC9MA1WcoYFClJGpceqzHDolXT2KaRg6IUFeY0Ky4AAAB8BIUEAOC8HS2t069e3K7gQLtuvSxdhqSY8EDljoyT9SuzH0YOjjInJAAAAHwShQQA4Ly4PR69sCpP4SEB+n/3TFJ4cIDZkQAAAOBHrGYHAAD4p/c/K9bxikbdNjuDMgIAAAA9xgwJAECPNLd2aMlHR/XRzlKNS49Vbkas2ZEAAADghygkAADnrKKmWX94bZcqals0d9IgXX8xJ2UAAADg/FBIAADOyd78aj3z1n5J0qO35XadoAEAAACcDwoJAMAZ1Ta2afEHh/XpgQolRgfroRvHKjE62OxYAAAA8HMUEgCAr3G5Pcovrdeh47V6d0uhOlyGrpsxVFdOGSyH3WZ2PAAAAPQDFBIAgNO0trv0u1d36mhJvSQpa0iU7pg7UgnMigAAAEAvopAAAHTpcHn0p2V7lF9arzuvGKlx6bGKCnOaHQsAAAD9EIUEAKDLsvVHte9Yje69apSmj0kyOw4AAAD6MavZAQAAvqGovEHvf1asmTnJlBEAAADocxQSAAC53B69sDpPIUF23XjJcLPjAAAAYACgkACAAc4wDC1anaf80nrdPidDoUEOsyMBAABgAKCQAIABbvWnx/Xx7jJ9a9oQXTQqwew4AAAAGCAoJABgAKtpaNMbH+dr/IhYXX/xULPjAAAAYAChkACAAeydTYXyeAzdclm6LBaL2XEAAAAwgFBIAMAAVV3XqnW7SjRjbJLio4LNjgMAAIABxpRCYvny5brqqqt01VVX6de//rUk6cCBA1qwYIGuuOIK/exnP5PL5TIjGgAMGO9sLpQkXT1tiLlBAAAAMCB5vZBoaWnRE088oUWLFmn58uXaunWrNm7cqJ/+9Kd6/PHHtXr1ahmGoddee83b0QBgwGhs6dCGPWWakpWo6PBAs+MAAABgAPJ6IeF2u+XxeNTS0iKXyyWXyyW73a7W1laNGzdOkrRgwQKtWrXK29EAYMBYt7NE7S6P5k4aZHYUAAAADFB2b98wNDRUDz/8sK688koFBQVp0qRJcjgciouL67omLi5O5eXlPXremJjQ3o7qt+LiwsyOgDNgfHzbQBifDpdHH+4o1biMOI0fnWR2nB4bCGPkzxgf38b4+D7GyLcxPr6N8fE/Xi8kDh48qKVLl+rDDz9UWFiYfvKTn2jDhg2n7e5uGEaPd3uvrm6Ux2P0dly/dZkY9QAAIABJREFUExcXpsrKBrNjoBuMj28bKOPzzuZCnaxv1bfnjfS793egjJG/Ynx8G+Pj+xgj38b4+DbGxzdZrZYzTh7w+pKNTz75RFOnTlVMTIwCAgK0YMECbdmyRZWVlV3XVFVVKT4+3tvRAKBXlNc0a1/BSXkM3ytJj52o1xvr8zVxZJyyh0abHQcAAAADmNcLiczMTG3cuFHNzc0yDENr167VRRddJKfTqW3btknqPIVj5syZ3o4GABekpqFNP3/uM/3L05v1u1d36i9v7lV7h9vsWF0qa1v09PJ9Cg8J0F3zMns8Ew0AAADoTV5fsjFjxgzt379fCxYskMPh0JgxY3T//fdrzpw5euyxx9TY2KisrCzddddd3o4GAOetsaVDv391p6rqW3Xr5SPU3uHWsvX5qmvaqUduylGQ0+v/3J5m99FqPbNinwxJD984VqFBDlPzAAAAAKZ8h3z//ffr/vvvP+2xzMxMLVmyxIw4AHBOOlweHTtRr+MVjZIki8WisuomlVQ2qai8QW0dHj1yc45GpUVJkuKjgvTMiv168vVdeuTmHAUGmFNK1De16+kVexUbEaQfLBijuMggU3IAAAAAX2bur+wAwE+0tLn0yxe3qbiy6bTHAxxWpcSGaPyIOE0fk6iRg6O6XnfRqARZLBY9vXyf/vzGXv3ophxZrd5fJrFk3VG1d3j03WuzKCMAAADgMygkAOAsDMPQ/71zQKVVzfrO/FEaPSRKNptVbrdHkWFOWc+wF8OkzHg1tXbohVV5WrGhQNddPMyLyaVDx2v1ye4yzbtosJJiQrx6bwAAAOBMKCQA4AzqGtu05KOj2pZXqVsuS9eMsUk9fo5ZOck6WlKnFRuOKTE6WFOyEvsg6elcbo/e3VKkFZ8UKDrcqaunD+nzewIAAAA9QSEBAN3YfbRaf3lzr1xuj+ZPSdPcSYPO63ksFovunDtSVbWt+ttb+9XQ0qEhiWFKignpk80liysa9b9vH1BheYMuGhWv2+dkmL6pJgAAAPBVfIcKAN9gX8FJ/c+yPUqODdb3rs1WQnTwBT1fgMOmH92co/9ZuluvrDksSYoICdBjd01UTERgb0RWbWObVnxSoPW7yhQSZNf3r8vWxMz4XnluAAAAoLdRSADo91xuj7bmVShzcJQiQ51nvb6kqkn/vWy3kmKC9ZNbx/faLAanw6aHb8rRkeI6NbZ06O/vHtBTS3bpX+6YcMEzGLbsL9ei1Xlq63DrkvHJunbGUIUFB/RKbgAAAKAvUEgA6NfKa5r19PJ9OnaiQXabVbNykrVg1rBuC4AOl0fPrNgnp8OmR27O6fUlFXabVZmfHwsa5LTrD6/t0i9e2Kp75o9SekpEj5/P5fboxfcOaf2uUg1PDte93xqtxAuczQEAAAB4A4UEgH4rr6hGf1y6RxZJd1+ZqfzSOq3dUay9x07q1svSFR4SoEHxobLbrJI6T9NY/MFhHa9o1EM3jj2n2RQXImtotB65JUfPvXNAv1y0TTnpsZo3ebAyBkWe09vXNLTp6RX7dOh4reZPSdP1M4fKZrX2aWYAAACgt1BIAOiX9uRX67+X7lFsRKD+8eYcxUYGaWZOsqaMTtTTK/bpqSW7JUlDk8L141vGKTjQrqUfHtGHO0o0b/JgjUuP9UrOrCHR+vm9k7VqS5E+3FGiX720XddMH6JrZgzt9jhRwzD08e4yvbr2sNxuQ/dfPdorJ3cAAAAAvYlCAkC/4zEMvfTeIcVHBenR28aftpdCZlqUnrhvsorKG1VW3aSX1xzWf728XeEhAdpbcFKTRyfoxkuGezVvkNOu62cO01VT0/Tie4e0YsMxHTvRoFsvH6HE6GAZhqH8snrll9QrNMihT/aU6UBhjTIHR+rbV2YqIYolGgAAAPA/FBIA+p3dR6pVUdui716b9Y0bOwYHOpSZFqXMtM5NLv/vnQNyewxdf0m65k1M7XZmQl8LcNh0z/xMDU4I1dL1+frXZ7coMTpYLrdH5TUtXdcFBth01xUjNXNcsmlZAQAAgAtFIQGg33l/63FFhzs1YWTcWa8dnxGnP46IlcViUVxcmCorG7yQsHsWi0WzJw7SpFEJWv1pkSprWuRyezT3os5lJC1tLoWHBPT6ZpsAAACAt1FIAOhXjlc06kBhjW66ZPg5b/Bo8cFZBhEhAbr50vSvPR4V1rcbbQIAAADewnbsAPqVVVsK5XTYdHFOstlRAAAAAJwBhQSAfqOytkVb9ldo1rhkljQAAAAAPo5CAkC/sWpLkaxW6YqLBpsdBQAAAMBZUEgA6Bfqm9r18e4yTctOYp8FAAAAwA9QSADoFzbsLes8jWLSILOjAAAAADgHFBIA/J5hGFq/s1QjUiOUHBtidhwAAAAA54BCAoDfyyuqVXlNi2ZysgYAAADgNygkAPi99btKFey0a1JmvNlRAAAAAJwjCgkAfq2lzaWteZWakpWgAIfN7DgAAAAAzhGFBAC/tv1QpVxuj6ZmJZodBQAAAEAPUEgA8Gtb9pcrNiJQw5LDzY4CAAAAoAcoJAD4rbqmdu0/VqPJoxNksVjMjgMAAACgBygkAPitrQcr5DEMTRmdYHYUAAAAAD1EIQHAb328u1SD40OVEhdqdhQAAAAAPUQhAcAvFZ5oUFF5oy7OSTY7CgAAAIDzQCEBwC+t310qh92qKVks1wAAAAD8EYUEAL/T3uHW5n3lmjAyTiGBDrPjAAAAADgPFBIA/M6nByrU0ubSxWNZrgEAAAD4KwoJAH7FMAyt2XZcybEhyhwcaXYcAAAAAOeJQgKAXzlSUqei8kbNnpAqi8VidhwAAAAA54lCAoBfWbO1WMFOu6ZmJZodBQAAAMAFoJAA4Dcqa1u0/VClZoxNkjPAZnYcAAAAABeAQgKA33hrwzFZLBZdcdFgs6MAAAAAuEAUEgD8QvnJZm3ce0KXjk9RVJjT7DgAAAAALhCFBAC/sGJDgew2i+ZPTTM7CgAAAIBeQCEBwOdV1bVoy/4KXTI+RREhAWbHAQAAANALKCQA+Lz3PyuWxSLNnTTI7CgAAAAAegmFBACf1tTaofW7SnXRqHhFhweaHQcAAABAL6GQAODTVn96XG0dbk7WAAAAAPoZCgkAPuvYiXq9u7lQU0YnaHBCmNlxAAAAAPQiCgkAPqnD5dazKw8oLNih2+dmmB0HAAAAQC+jkADgk5atz1dpVZO+c9UohQQ6zI4DAAAAoJdRSADwOXlFNXrv0+O6dHyKsofGmB0HAAAAQB+gkADgUypqW/Tsyv2KiwzSzZemmx0HAAAAQB+xmx0AAE4pKKvXk6/vksdj6Me3jpEzwGZ2JAAAAAB9hEICgE9obnXpqSW75XTY9MjNOUqKCTE7EgAAAIA+xJINAD7hzY/z1dDUru9dl00ZAQAAAAwAFBIATFdU3qAPthfrkvEpGpoUbnYcAAAAAF5AIQHAVB0uj55deUBhQQ4tmDXM7DgAAAAAvIQ9JAB4XV1Tu15be1jxUcGqb2pXcWWjHrpxrEICHWZHAwAAAOAlFBIAvOpoSZ3+9MYeNTR3yO0xJEmX5qZoXHqsyckAAAAAeBOFBACvqWlo05Ov71JwoF3/+u2Jstus2ldwUrPGJZsdDQAAAICXUUgAPu5ISZ1CAu1+f/KExzD07Mr96nB79MjN45QYHSxJSo717/cLAAAAwPmhkAB82O6jVfrjkj2SpDmTUrVg5jA57DaTU52fdzYV6kBhje6+MrOrjAAAAAAwcFFIAD7qSEmd/vzmXg2KD1VaYqhWf3pcLpeh2+dmmB2tx/bmV+uN9fmaPDpBF49NMjsOAAAAAB9AIQGYqMPllseQnI4vZj14DEPvfXpcS9cdVXS4Uz+6aawiQp1yOux6f+txjcuIVdaQaBNT90x5TbOeXrFPKXGhuntepiwWi9mRAAAAAPgACgnAizpcbuUV1SivqFYHi2p0pKReNqtFl01I0fTsJAU57fq/t/dr37EajR8Rq3vmj1JoUOdRmDfMGqa9BdX635X7ddcVmcpJj/H5H+4bWzr05Ou7ZbFY9IMF2XIG+OdyEwAAAAC9j0IC8ILaxja9uvaIdhyqVLvLI4ukQQmhuiw3RXVN7Vq1uUjvbi6SJAXYrbpr3kjNykk+rXAIcNj0wDVZ+tMbe/THpbuVPSxaD90wVnab1aT36sw8hqE/v7FH1XUt+smt4xUfxb4RAAAAAL5AIQH0kZY2l9btLFVJVaO2H6pSh8ujeVPSNDQxVBmDIhUS6Oi69vqZw3SoqFYVtc2aMjqx25MnBieE6Yn7puiDbcV6de0Rvf7hUS2cPcJb71KPbNxzQgeLanX3lZnKGBRpdhwAAAAAPoZCAugDBWX1enr5PlXUtigiNECj0qJ00yXDlT0yQZWVDV+7Pj4ySPGRQef03HabVVdcNFjV9a16f+txDUsO1+TRCb39LlyQ5laXlqw7quEp4ZrBJpYAAAAAvgGFBNDLjlc06lcvbVdYsEP/fHtun80OuPnSdOWX1uvlNYc0Zli0gr8048Jsb6zPV0NTux6+caysPr7PBQAAAABz+Obic8BPtbW79dflexXstOtfvz2pT5cq2G1W3Tl3pBqbO7Riw7E+u09Pbdlfrg+2F+vyCakamhRudhwAAAAAPopCAuglbe1uPfPWPp2obtZ9V49WREhAn98zLTFMM8cla83WYpVWNfX5/c6mpKpJf3/3gNJTI3TzZelmxwEAAADgwygkgF5QUdOsXyzaqp2Hq3Tr5SM0eki01+69YOYw2W0WvfdZkdfu2Z2VG4/JZrXq+9dl++zpHwAAAAB8Az8xABeotKpJv3xpu2ob2vSPt4zTnEmDvHr/sOAATclK1OZ95Wps6fDqvb+svrldWw9WaHp2oiJDnablAAAAAOAfKCSAC1BW3aRfv7xdhiH98+25yhrqvZkRX3b5hFS1uzz6ZHeZKfeXpA17yuT2GJo1PsW0DAAAAAD8B4UEcJ7qm9r1h9d2ySLp0dvGKyUu1LQsg+JDlTEoUmu3F8vt8Xj9/m6PR+t2lCpjUKRSYkO8fn8AAAAA/odCAjgPNQ1tevL1XapvatdDN+YoKcb8H8LnTBykqrpWbcur9Op9j52o1388v1UVtS2aPSHVq/cGAAAA4L/sZgcA/M3egmo9s2K/OlwefffabA1L9o2jLcdnxCoxOljvbC7UpMx4WSyWPr/n5n0n9H/vHFBIoEPfvy5bE0bG9fk9AQAAAPQPFBJAD1TXterPb+xVbESgvnddtk/MjDjFarHoysmD9fd3D2rfsZPKHhrTJ/dpa3frSGmdth6s0LqdpRo5KFIPLhij0CBHn9wPAAAAQP9EIQGcI8Mw9NyqgzIM6aEbxio2MsjsSF8zJStRb3ycr1fWHNY/3RamiJCAXnvufcdO6tUPjqikslGGJIfdqlnjknXb7Aw57Kz+AgAAANAzFBLAOXC5PVq2Pl/7Ck7qjrkZPllGSJ0lwX3fGq2nlu7Wr17arn9aOF5RYT0/gtPt8ai4okkpcSFq7/DojY/z9cG2YiVGB+uaGUM1JDFMmWlRcjpsffBeAAAAABgIKCSAszhxslnPrNinYycaNDMnSZf4+LGWo4ZE68e3jNPvX9ulv7y5V4/ePl426zfPYDAMQ8vW52trXqWmZSUoPTVSTS0dWr6hQCWVTYoMDZDHY6ihuUOX56bqxkuHU0IAAAAA6BUUEhiwXG6P3B6j2x+w2zrcWr+zVEvXH5XDZtX3r8vWxMx4L6c8PyNSI3X3vEw9vWKf3vy4QFdNTZPdZpXd9kUx0d7h1usfHdUH24qVFBOsNz4u6HpdbESgFl4+QnsKqmUY0g2zhmlIom9s3gkAAACgf/B6IfH666/rxRdf7Hq5uLhY1157rWbPnq1f/vKXamtr05VXXqlHHnnE29EwgLS2u/T7V3eppKpR86ekKT4qWCWVjbJaO0+mKD/Zot1Hq9TU6lLW0Gh9Z/6o81r6YKbJoxO0/9hJvb2pUG9vKpTNalFKXIhCgxxqbnWpuLJRLrehuZMG6ZbL0lVV16rqulZZrRYNTQqTw27TnEmDzH43AAAAAPRTXi8kbrrpJt10002SpMOHD+vBBx/Ufffdp4ULF2rRokVKSkrSAw88oHXr1mnWrFnejocBoMPl1p+W7dHR0jplpEZq6bp8SZJFkvH5NVFhTo1Ki9LlE1KVMSjSK0do9oXb52RoaHK4WtvcamhpV1F5o9ra3QoJcmj2hEHKGhqt0UOiZLFYFBcZpDgf3RsDAAAAQP9j6pKNf/u3f9Mjjzyi48ePKy0tTYMGdf429uqrr9aqVasoJNCrDMPQ5n3leuPjfFXVteo780dpxtgkFZ5okCSlxIV0Xeew9499EgIcNl0yzrf3vAAAAAAwMJlWSGzcuFGtra268sortXLlSsXFxXW9Lj4+XuXl5T16vpiY0N6O6Lfi4sLMjuBzOlxu/c/ru7R263ENT43Qj27NVU5G5+ectz9ejI9vY3x8H2Pk2xgf38b4+D7GyLcxPr6N8fE/phUSixcv1j333CNJ8ng8p02JNwyjx1Pkq6sb5fEYZ7+wn4uLC1NlZYPZMXyKYRj6w2u7tLfgpK6dMVRXTx8iq8ViyseJ8fFtjI/vY4x8G+Pj2xgf38cY+TbGx7cxPr7JarWccfLAN58F2Mfa29v12Wef6bLLLpMkJSYmqrKysuv1lZWVio/3j9MM4Ps27y/X3oKTWjh7hK6dMVRWP90PAgAAAAD6E1MKiby8PA0ZMkTBwcGSpJycHBUUFKiwsFBut1srV67UzJkzzYiGfqat3a0lHx1VWkKYLp+QanYcAAAAAMDnTFmycfz4cSUmJna97HQ69atf/Uo//OEP1dbWplmzZmnevHlmREM/8+6WQtU0tOmBa7KYGQEAAAAAPsSUQmL+/PmaP3/+aY9NnTpVK1asMCMO+qnSqia9s7lQF42KV8agSLPjAAAAAAC+xJQlG0Bf8xiGnlt1UE6HTQtnZ5gdBwAAAADwFRQS6Jc+3lWqI8V1uvXyEYoICTA7DgAAAADgKygk0O80t3Zo6bp8ZaRGaFp24tnfAAAAAADgdRQS6HdWbDimppYOLZydIQsbWQIAAACAT6KQQL9SVt2kD7YV6+KcJKUlhpkdBwAAAADQDQoJ9Cuvrj0ih92q62cONzsKAAAAAOAMKCTQb+zJr9buo9W6ZvpQNrIEAAAAAB9HIYF+obGlQ4tW5yk+KkizJ6aaHQcAAAAAcBYUEvB5hmFo/a5S/f2dA2pq7fja6z0eQ0+v2Kfaxjbdd/Vo2W18WgMAAACAr7ObHQA4k7LqJi3+4Ij25FdLko6U1OmhG8cqISpYklRV16JX1hzWvoKT+va8kRqeHGFmXAAAAADAOaKQgE/yeAz93zsHtGnvCTkcVt0+J0MpsSH60xt79Pj/fqq5kwaprqldW/aXyyLppkuHa9a4FLNjAwAAAADOEYUEfNIne8q0ce8JzZ6Yqm9NG6Lw4M5NKv/9OxfptQ+P6O1NhXI6bJqalahrpg9RdHigyYkBAAAAAD1BIQGf09ru0hvr85WeEqGFl4+QxWLpel10eKC+e222FsxsVlhwgIKcfAoDAAAAgD9i9z/4nFVbilTX1K6bL0s/rYz4svioYMoIAAAAAPBjFBLwKQVl9Xp7U6Emj05QegobVAIAAABAf0UhAZ/R3OrSX5fvVWRogO6Ym2F2HAAAAABAH2LOO0xX09Cmj3aUaN2uUjU2d+ifb89VSKDD7FgAAAAAgD5EIQHTNLV26KX3DunTAxUyDENjh8do3uTBSk9lqQYAAAAA9HcUEjBFaVWT/rhkt6rrWzVnUqouzU1VfGSQ2bEAAAAAAF5CIQGvq6pt0W8W75BhSI/elsuMCAAAAAAYgCgk4BVHS+v09sZChQY7dLi4Th0dHv3LHblKiQs1OxoAAAAAwAQUEugV5TXNCgsKUHDg6Z9SHS633vy4QKs+LVJYkEMeQ3J7DD1841jKCAAAAAAYwCgkcMFKq5r08+c+U1xkkP7ljgldpcSh47V6ftVBlVU3a2ZOkm6+dISCnDZ5DEM2KyfOAgAAAMBARiGBHssrqtGRkjq1tLk1fkSsFq3Ok91m1YmTzfrzm3s0eVSCdh+t1rZDlYoKc+ofb85R9rCYrre3WSwmpgcAAAAA+AIKCfRIXlGNfv3yDkmS1WLRO5sLJUk/vGGMGps79Pd3D2r/sRo5A2y6bsZQXXHRYDkDbGZGBgAAAAD4IAoJnDPDMPTG+nxFhAboP+6dLKtF2rK/XFarReNHxEmSRgyKlNUixUQEsiwDAAAAANAtCgmcs33HTupQcZ3umJuh0CCHJOnS3NTTrkmMDjYjGgAAAADAz/ArbJyTU7MjYsKdunhsstlxAAAAAAB+jkIC52TnkSoVlDXo6ulD5bDzaQMAAAAAuDD8ZImz8hiG3lhfoPioIE3LTjQ7DgAAAACgH6CQwFltz6tUcWWjrp0xVHYbnzIAgP/f3r0HR1XmaRx/OneS6BAwicBEbhKiMFzGMGoJBBUMISQhuAwuWSgKEISIltxELgZBqpBCZBS1REBKoNZlEQIBjU52K7sEHAmsAgpFHO4JIQkQMQnk1v3uH5Zdy0IcQrpPN+338xd9qvvU+/LwC+mnT3cDAAC0HM8u8Q/l7j+r6IhWeviBaE8vBQAAAADgIygk8Kv+XnJFJ8//pMHxMfLzs3l6OQAAAAAAH0EhgV/118JzahUcoMf+wGdHAAAAAABch0ICTbr8U60OHq9QQu/2CgkK8PRyAAAAAAA+hEICTdp/rFwOYzSob3tPLwUAAAAA4GMoJNCkg0Xlui86XFERoZ5eCgAAAADAx1BI4KYu/1SrEyU/Kb57lKeXAgAAAADwQRQSuKn/KaqQJMXHUUgAAAAAAFyPQgI3deB4hTpEhuneNrxdAwAAAADgehQSuME3RRUqOvej+nF1BAAAAADATSgkcJ2zZVVak3NUndvdpaF/us/TywEAAAAA+CgKCTg12h36YOf3ahXsr+dH9lJQoL+nlwQAAAAA8FEUEnD6svCcSi9d1fikOEXcFezp5QAAAAAAfBiFxB3uSnWd/uvbEh05eUkOh9GlK9d0ouSKjDHNOs+lK7XaufeU+na7R7263uOm1QIAAAAA8LMATy8At6euwa5/zSvSnsOl+qV7CA0O0NW6RklSr65t9S9Pxeqe37W6pfN98h8/SEb658Hd3LVkAAAAAACcKCTuMPUNdh09U6nt/31SxeXVejL+9xrQq73KLl/VNz9cVPdObVRTU6fsglOa8/5X6hh9l2KiwhUV0UpD4mMUHHTj50IcOXlJB4sqNHJgl1suMAAAAAAAaAkKCS9Xfa1BhcfKdOB4hUov1einmgY5jFF4q0C9OKq3enVtK0mKiQpXfFyUIiPvUkVFleLjorT/WJm+O3lZ35++rIIjdTpXXq3n0nrIZrM5z19WeVWb/1qk6DahSuRbNQAAAAAAFqGQ8FJ1DXblHTinz/52Rtfq7GrXNlQ9O7dV67uCFBvTWt1jIhQY0PRHgES2bqXkRzsp+dFOkqTP/3ZG/55/Qh0iw5T0cEedKatS9p6TOnq6Uv5+Ns34c+9fPR8AAAAAAK5EIeFljDEqOFKq7D2nVFlVpz7336O0/p11X3T4dVc2NNfQh+/TqQtVyt5zSrv2nVGj3aG7w4KUPrCL+v+hHd+qAQAAAACwFIWEFzHG6N/+8+/6svCcurS/W1NSeyg2prVLzm2z2TQ55UE9+mC0jp/7Ub8LC9Ljf+ygkCD+CQAAAAAArMezUS9gjNG58mrlHShWwZFSPfnH32vMkG4tuiLiZgL8/dQ3NlJ9YyNdel4AAAAAAJqLQsLDrtY2ak3O9zp84pL8bDYl/ilGf378fpeXEQAAAAAAeBMKCQ+q+PGa/rL1sMouX9U/Deqq/r3a6e7QIE8vCwAAAAAAt6OQ8JCicz9q9bYjMsZoxug+eqBjhKeXBAAAAACAZSgkPMAYozU53yssJEAvjuqte9uEenpJAAAAAABYikLCA2w2m14a1Vtt7g5Rq2AiAAAAAAD89vBs2EM6RIZ7egkAAAAAAHiMn6cXAAAAAAAAfnsoJAAAAAAAgOUoJAAAAAAAgOUoJAAAAAAAgOUoJAAAAAAAgOUoJAAAAAAAgOUoJAAAAAAAgOUoJAAAAAAAgOUoJAAAAAAAgOUoJAAAAAAAgOUoJAAAAAAAgOUoJAAAAAAAgOUoJAAAAAAAgOUoJAAAAAAAgOUoJAAAAAAAgOUoJAAAAAAAgOUoJAAAAAAAgOUoJAAAAAAAgOUoJAAAAAAAgOUoJAAAAAAAgOUoJAAAAAAAgOUCPL0AV/Hzs3l6CV6DvwvvRj7ejXy8Hxl5N/LxbuTj/cjIu5GPdyMf7/OPMrEZY4xFawEAAAAAAJDEWzYAAAAAAIAHUEgAAAAAAADLUUgAAAAAAADLUUgAAAAAAADLUUgAAAAAAADLUUgAAAAAAADLUUgAAAAAAADLUUgAAAAAAADLUUgAAAAAAADLUUjcAaqrqzV8+HAVFxdLkrZt26Zhw4YpJSVFr7/+uhobGyVJxcXFysjIUFpamsaOHauSkhJJUn19vWbPnq2kpCSlp6frxIkTHtuLr2ppRiUlJerbt6/S0tKUlpamiRMnemwvvuhW8zl8+LCefvpppaSkaMqUKaqoqJDEDFmhpRkxQ+6zevVqJScnKzk5WcuXL5ck7du3TykpKXrqqaf01ltvOe977NgxjRw5UomJiZo/f74zt/PnzysjI0NDhw7V1KlTVVNT45G9+CpXZLR9+3b179/fOUP/9zFomebk84s5c+Zo27ZtztvMkPu4Ih/mx72ak1FeXp7S0tKUmpqqadOm6cqVK5KYIa9m4NW+/fZbM3z4cNOjRw9z7tw5c+LECTNgwABTVlZmjDEmKyvLrF+/3hhjzKxZs8zmzZuNMcZ8/PHHZubMmcZkPoyhAAAJfklEQVQYY9auXWsWLlxojDFm//79ZtSoUR7Yie9yRUa5ubnOjOBat5qPw+EwCQkJ5quvvjLGGLN7924zZcoUYwwz5G6uyIgZco+9e/ea0aNHm7q6OlNfX2/GjRtncnJyTEJCgjl79qxpaGgwEyZMMPn5+cYYY5KTk80333xjjDHmlVdecf68mzx5stm1a5cxxpjVq1eb5cuXe2ZDPshVGS1evNjk5OR4bB++qrn5XLhwwUyZMsX06tXLfPrpp87zMEPu4ap8mB/3aU5GVVVV5rHHHjMXLlwwxhizatUqs2TJEmMMM+TNuELCy23ZskVZWVmKioqSJB0/flx9+vRx3n788ceVl5cnSXI4HKqurpYkXbt2TSEhIZKk/Px8paamSpL69euny5cv6/z581ZvxWe5IqMjR46oqKhIaWlpGjdunI4fP+6BnfimW82nsrJStbW1euSRR5zHCwoKVF9fzwy5mSsyYobcIzIyUnPnzlVQUJACAwPVtWtXnT59Wh07dlRMTIwCAgKUkpKi3NxclZSUqLa2Vn369JEkjRw5Urm5uWpoaFBhYaESExOvOw7XcEVG0s//D23fvl0pKSmaNWuW81VFtExz8pGknJwcPfnkk0pKSnKegxlyH1fkIzE/7tScjBoaGpSVlaXo6GhJUvfu3VVaWsoMeTkKCS+3dOlSxcfHO2/HxcXp0KFDKi0tld1uV25uri5evChJevHFF7VhwwYNGDBA69ev17PPPitJKi8vV2RkpPMckZGRunDhgrUb8WGuyCg4OFipqanavn27Jk6cqMzMTNXX13tkP77mVvOJiIhQaGioCgoKJEm7d+9WQ0ODKisrmSE3c0VGzJB7dOvWzfnk9fTp0/r8889ls9mum4eoqCiVlZXddE7KyspUWVmp8PBwBQQEXHccruGKjH7587Rp07Rz5061a9dOixcvtnYjPqo5+UjSpEmTNGrUqOvOwQy5jyvykZgfd2pORhERERoyZIgkqba2VmvWrNHgwYOZIS9HIXGH6dy5s2bOnKmpU6cqIyND3bt3V2BgoCTp5Zdf1uLFi7Vnzx699tprev7552WMkTFGNpvNeQ5jjPz8iN5dbiej6dOna8yYMfLz81NCQoJCQ0N18uRJD+/ENzWVj81m09tvv60PPvhAI0aMUFVVlVq3bq3AwEBmyGK3kxEz5F4//PCDJkyYoDlz5igmJuaGebDZbHI4HDc9/v/nR9INt9FyLclIkt5991099NBDstlsmjRpkvbs2WP5HnzZreTTFGbI/VqSj8T8WKE5GVVVVWny5MmKi4tTeno6M+Tl+I36DlNXV6devXopOztbn3zyiaKjoxUTE6PLly/r5MmTGjx4sCQpMTFRFRUVqqysVHR0tMrLy53nuHjxovNSaLje7WS0ceNGVVZWOs9hjHG2uHCtpvKRpICAAG3cuFHZ2dlKTU2Vw+FQ69atmSGL3U5GzJD7HDx4UOPHj9fMmTOVnp6ue++91/lhopJUUVGhqKioG47/Midt2rRRVVWV7Hb7dfeH67Q0o6qqKm3YsMF53Bgjf39/K7fg0241n6YwQ+7V0nyYH/drTkbl5eUaM2aMunfvrqVLl0pihrwdhcQd5urVqxo/fryqq6tVX1+vTZs2adiwYYqIiFBwcLAOHDgg6efBDQsLU5s2bZSQkKAdO3ZIkg4cOKDg4GC1b9/ek9vwabeTUWFhobZu3SpJ2r9/vxwOh7p06eLJbfispvKRpHnz5unw4cOSpI8++khDhw51vuLODFnndjJihtyjtLRUmZmZWrFihZKTkyVJvXv31qlTp3TmzBnZ7Xbt2rVLAwcOVIcOHRQcHKyDBw9Kknbs2KGBAwcqMDBQ8fHx+uyzzyRJ2dnZGjhwoMf25GtckVFoaKjWrl2rQ4cOSZI2bdrkvOwZLdOcfJrCDLmPK/JhftyrORnZ7XY999xzSkpK0vz5851XQTBD3o2Xj+4wERERyszM1OjRo9XY2Kjhw4crJSVF0s9fibNkyRLV1tYqLCxM77zzjiRp7NixevXVV5WcnKygoCDn1+XAPW4no/nz52vu3LnasWOHgoOD9eabb/KWADf5tXwWLVqkrKwsXbt27bpmnRmy1u1kxAy5x7p161RXV6dly5Y5jz3zzDNatmyZpk+frrq6OiUkJGjo0KGSpBUrVmjBggWqrq5Wjx49NG7cOElSVlaW5s6dq/fff1/t2rXTypUrPbIfX+SKjPz9/bVq1SotWrRItbW16tSpEz/nXKS5+TSFGXIPV+TD/LhXczLKy8vT0aNHZbfb9cUXX0iSevbsqaVLlzJDXsxmjDGeXgQAAAAAAPht4eUjAAAAAABgOQoJAAAAAABgOQoJAAAAAABgOQoJAAAAAABgOQoJAAAAAABgOb72EwAAuFVxcbGGDBmi2NhYSZLD4VBYWJjGjRunYcOG/epjV69erbi4OA0ePNiKpQIAAAtRSAAAALcLCQnRjh07nLdLSko0fvx4+fv7KzExscnHff3117r//vutWCIAALAYhQQAALBchw4d9MILL2jdunWKjY3V4sWLVVNTo4qKCsXFxWnVqlXaunWrvvvuOy1fvlz+/v5KSEjQihUrVFhYKLvdrgcffFALFixQeHi4p7cDAABuA58hAQAAPCIuLk5FRUXasmWLRowYoS1btujLL79UcXGx8vPzlZGRoZ49e2rOnDkaMmSI1qxZI39/f23btk07d+5UVFSUVqxY4eltAACA28QVEgAAwCNsNptCQkI0e/Zs7d27Vx9++KFOnz6t8vJyXb169Yb75+fnq6qqSvv27ZMkNTQ0qG3btlYvGwAAuAiFBAAA8IgjR44oNjZWM2bMkN1uV1JSkgYNGqTS0lIZY264v8Ph0Lx585SQkCBJqqmpUV1dndXLBgAALsJbNgAAgOVOnTql9957TxMmTFBBQYEyMzOd37hx6NAh2e12SZK/v78aGxslSf3799fmzZtVX18vh8OhhQsXauXKlR7bAwAAaBmukAAAAG5XW1urtLQ0SZKfn5+Cg4M1Y8YMDRo0SC+99JIyMzMVGhqq8PBw9evXT2fPnpUkPfHEE1q5cqUaGho0bdo0vfHGG0pPT5fdbtcDDzyguXPnenJbAACgBWzmZtdEAgAAAAAAuBFv2QAAAAAAAJajkAAAAAAAAJajkAAAAAAAAJajkAAAAAAAAJajkAAAAAAAAJajkAAAAAAAAJajkAAAAAAAAJajkAAAAAAAAJb7X5BbMSsVywEnAAAAAElFTkSuQmCC\n",
          "text/plain": "<Figure size 1296x720 with 1 Axes>"
         },
         "metadata": {},
         "output_type": "display_data"
        }
       ]
      }
     },
     "6752c9b1935d422581c87bb0bd7f731a": {
      "model_module": "@jupyter-widgets/controls",
      "model_module_version": "1.5.0",
      "model_name": "DropdownModel",
      "state": {
       "_options_labels": [
        "True",
        "False"
       ],
       "description": "arima",
       "index": 0,
       "layout": "IPY_MODEL_85a0cf271c724c82a2c3648cd9b0ce42",
       "style": "IPY_MODEL_9f53e419496e4deb94b87c7b7a065699"
      }
     },
     "706947e0b05144fb99c80bb4d3cfdb79": {
      "model_module": "@jupyter-widgets/controls",
      "model_module_version": "1.5.0",
      "model_name": "DescriptionStyleModel",
      "state": {
       "description_width": ""
      }
     },
     "771567fb257d41558b1986c7820c841c": {
      "model_module": "@jupyter-widgets/controls",
      "model_module_version": "1.5.0",
      "model_name": "DropdownModel",
      "state": {
       "_options_labels": [
        "SLIND",
        "PHCI",
        "UR"
       ],
       "description": "Indicator",
       "index": 1,
       "layout": "IPY_MODEL_795826a1094b4d93b7182fdd601a4dcd",
       "style": "IPY_MODEL_56c315473dc3459ea5c9f7f57a538a82"
      }
     },
     "795826a1094b4d93b7182fdd601a4dcd": {
      "model_module": "@jupyter-widgets/base",
      "model_module_version": "1.2.0",
      "model_name": "LayoutModel",
      "state": {}
     },
     "81346bbdf39f43cc9f99a2e155a9b4a4": {
      "model_module": "@jupyter-widgets/base",
      "model_module_version": "1.2.0",
      "model_name": "LayoutModel",
      "state": {}
     },
     "85a0cf271c724c82a2c3648cd9b0ce42": {
      "model_module": "@jupyter-widgets/base",
      "model_module_version": "1.2.0",
      "model_name": "LayoutModel",
      "state": {}
     },
     "8e81f612124a4b91adb5bedf2da1bd57": {
      "model_module": "@jupyter-widgets/base",
      "model_module_version": "1.2.0",
      "model_name": "LayoutModel",
      "state": {}
     },
     "9c716668b2334fb1a7446c3d8d414e2c": {
      "model_module": "@jupyter-widgets/controls",
      "model_module_version": "1.5.0",
      "model_name": "DescriptionStyleModel",
      "state": {
       "description_width": ""
      }
     },
     "9f53e419496e4deb94b87c7b7a065699": {
      "model_module": "@jupyter-widgets/controls",
      "model_module_version": "1.5.0",
      "model_name": "DescriptionStyleModel",
      "state": {
       "description_width": ""
      }
     },
     "9f7bbbed27fd4c15b61e08b8e0a64f39": {
      "model_module": "@jupyter-widgets/controls",
      "model_module_version": "1.5.0",
      "model_name": "DropdownModel",
      "state": {
       "_options_labels": [
        "True",
        "False"
       ],
       "description": "mlr",
       "index": 0,
       "layout": "IPY_MODEL_ad276b99ce354a6f9302fa978f494ccb",
       "style": "IPY_MODEL_e4be3b04f13b46a19e487a2343516b28"
      }
     },
     "a044d2b3e5b34c0185573f2d183a2450": {
      "model_module": "@jupyter-widgets/controls",
      "model_module_version": "1.5.0",
      "model_name": "DropdownModel",
      "state": {
       "_options_labels": [
        "True",
        "False"
       ],
       "description": "rf",
       "index": 0,
       "layout": "IPY_MODEL_14767b4177bc456bb7e6019f5085c959",
       "style": "IPY_MODEL_eb6195e0749442e4b481f39750d189f1"
      }
     },
     "a1228150445d4314bf47900333e8af1c": {
      "model_module": "@jupyter-widgets/base",
      "model_module_version": "1.2.0",
      "model_name": "LayoutModel",
      "state": {}
     },
     "a534b2c85ce548cf82e811d231012c17": {
      "model_module": "@jupyter-widgets/controls",
      "model_module_version": "1.5.0",
      "model_name": "DropdownModel",
      "state": {
       "_options_labels": [
        "True",
        "False"
       ],
       "description": "ets",
       "index": 0,
       "layout": "IPY_MODEL_ce208b7b463b4f02844a3913b67856b6",
       "style": "IPY_MODEL_537f592b822e45f5a97706ab730368a5"
      }
     },
     "a91572438c3f446cab16e64c58014b09": {
      "model_module": "@jupyter-widgets/base",
      "model_module_version": "1.2.0",
      "model_name": "LayoutModel",
      "state": {}
     },
     "ad276b99ce354a6f9302fa978f494ccb": {
      "model_module": "@jupyter-widgets/base",
      "model_module_version": "1.2.0",
      "model_name": "LayoutModel",
      "state": {}
     },
     "adc8e522cc1f4846b13b2a8362135f23": {
      "model_module": "@jupyter-widgets/controls",
      "model_module_version": "1.5.0",
      "model_name": "DropdownModel",
      "state": {
       "_options_labels": [
        "True",
        "False"
       ],
       "description": "mlp",
       "index": 0,
       "layout": "IPY_MODEL_4633805ec2404e37b6e7384149e69bdf",
       "style": "IPY_MODEL_ff0062eb9e5342be8ebf15268356100b"
      }
     },
     "bd2a1360c4f343d28bada15700c3de6a": {
      "model_module": "@jupyter-widgets/controls",
      "model_module_version": "1.5.0",
      "model_name": "DescriptionStyleModel",
      "state": {
       "description_width": ""
      }
     },
     "be0b9ffa6193438fb40def9422eeec23": {
      "model_module": "@jupyter-widgets/controls",
      "model_module_version": "1.5.0",
      "model_name": "DescriptionStyleModel",
      "state": {
       "description_width": ""
      }
     },
     "be27eabf965d480fb90c4a6857aff39c": {
      "model_module": "@jupyter-widgets/controls",
      "model_module_version": "1.5.0",
      "model_name": "DescriptionStyleModel",
      "state": {
       "description_width": ""
      }
     },
     "c4e9ec58dcd44a948c8acfc41b0f3ef6": {
      "model_module": "@jupyter-widgets/base",
      "model_module_version": "1.2.0",
      "model_name": "LayoutModel",
      "state": {}
     },
     "ce208b7b463b4f02844a3913b67856b6": {
      "model_module": "@jupyter-widgets/base",
      "model_module_version": "1.2.0",
      "model_name": "LayoutModel",
      "state": {}
     },
     "d743d087f64c42e1a18e00f76192c01f": {
      "model_module": "@jupyter-widgets/controls",
      "model_module_version": "1.5.0",
      "model_name": "DropdownModel",
      "state": {
       "_options_labels": [
        "True",
        "False"
       ],
       "description": "adaboost",
       "index": 0,
       "layout": "IPY_MODEL_402864afcf4c43b2b07004007fe550e9",
       "style": "IPY_MODEL_706947e0b05144fb99c80bb4d3cfdb79"
      }
     },
     "e10d43a218d445ba870c64572f9d05bb": {
      "model_module": "@jupyter-widgets/base",
      "model_module_version": "1.2.0",
      "model_name": "LayoutModel",
      "state": {}
     },
     "e4be3b04f13b46a19e487a2343516b28": {
      "model_module": "@jupyter-widgets/controls",
      "model_module_version": "1.5.0",
      "model_name": "DescriptionStyleModel",
      "state": {
       "description_width": ""
      }
     },
     "e77c54251edb438ca70e56e34b107ad0": {
      "model_module": "@jupyter-widgets/controls",
      "model_module_version": "1.5.0",
      "model_name": "ButtonModel",
      "state": {
       "description": "Show Forecast",
       "layout": "IPY_MODEL_25fba0b819aa45fb93556c61c2e0234d",
       "style": "IPY_MODEL_5954c160ea8e4935b72cfdad2aa94ce3"
      }
     },
     "eb6195e0749442e4b481f39750d189f1": {
      "model_module": "@jupyter-widgets/controls",
      "model_module_version": "1.5.0",
      "model_name": "DescriptionStyleModel",
      "state": {
       "description_width": ""
      }
     },
     "f434f67aa0a7442c8d3bc8e69a41e6b5": {
      "model_module": "@jupyter-widgets/base",
      "model_module_version": "1.2.0",
      "model_name": "LayoutModel",
      "state": {}
     },
     "f83f0a05616842a3b41c9dfbce1efdf7": {
      "model_module": "@jupyter-widgets/controls",
      "model_module_version": "1.5.0",
      "model_name": "DescriptionStyleModel",
      "state": {
       "description_width": ""
      }
     },
     "f8a44f12f70f45eda1385493598b64b7": {
      "model_module": "@jupyter-widgets/controls",
      "model_module_version": "1.5.0",
      "model_name": "DropdownModel",
      "state": {
       "_options_labels": [
        "True",
        "False"
       ],
       "description": "tbats",
       "index": 0,
       "layout": "IPY_MODEL_8e81f612124a4b91adb5bedf2da1bd57",
       "style": "IPY_MODEL_be0b9ffa6193438fb40def9422eeec23"
      }
     },
     "ff0062eb9e5342be8ebf15268356100b": {
      "model_module": "@jupyter-widgets/controls",
      "model_module_version": "1.5.0",
      "model_name": "DescriptionStyleModel",
      "state": {
       "description_width": ""
      }
     }
    },
    "version_major": 2,
    "version_minor": 0
   }
  }
 },
 "nbformat": 4,
 "nbformat_minor": 4
}
