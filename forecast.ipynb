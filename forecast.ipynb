{
 "cells": [
  {
   "cell_type": "code",
   "execution_count": 1,
   "metadata": {},
   "outputs": [],
   "source": [
    "import pandas as pd\n",
    "import numpy as np\n",
    "import os\n",
    "import datetime\n",
    "import matplotlib.pyplot as plt\n",
    "import seaborn as sns\n",
    "from ipywidgets import widgets\n",
    "from IPython.display import display, clear_output\n",
    "import pickle\n",
    "import pandas_datareader as pdr\n",
    "from tqdm.notebook import tqdm as log_progress"
   ]
  },
  {
   "cell_type": "code",
   "execution_count": 2,
   "metadata": {},
   "outputs": [],
   "source": [
    "from Forecaster import Forecaster"
   ]
  },
  {
   "cell_type": "code",
   "execution_count": 3,
   "metadata": {},
   "outputs": [],
   "source": [
    "futures = ['2020-07-01','2020-08-01','2020-09-01','2020-10-01','2020-11-01','2020-12-01','2021-01-01',\n",
    "           '2021-02-01','2021-03-01','2021-04-01','2021-05-01','2021-06-01','2021-07-01','2021-08-01',\n",
    "           '2021-09-01','2021-10-01','2021-11-01','2021-12-01','2022-01-01','2022-02-01','2022-03-01',\n",
    "           '2022-04-01','2022-05-01','2022-06-01','2022-07-01','2022-08-01','2022-09-01']\n",
    "\n",
    "states = [e.replace('\"','') for e in open('state_abb.txt').read().split('\\n')]\n",
    "\n",
    "rerun = False"
   ]
  },
  {
   "cell_type": "code",
   "execution_count": 4,
   "metadata": {},
   "outputs": [],
   "source": [
    "def get_regressors(futures,recession_length=15,month_lags=24,year_lags=0):\n",
    "    \"\"\" gets a vector of external regressors from FRED\n",
    "        extracts the recession indicator and maps to length specified in recession_length\n",
    "        adds month and year lags\n",
    "        adds an inidcator of when the last recession occured\n",
    "        Paramaters: futures : list\n",
    "                        a list of dates in format YYYY-mm-01\n",
    "                        if there is overlap between the earlier dates and what is extracted from FRED, that will be handled in the function\n",
    "                    recession_length : int, default 15\n",
    "                        the total assumed length of the recession\n",
    "                        this does not take into account the amount of months the recession has already gone\n",
    "                    month_lags : int, default 24\n",
    "                        the amount of month lags you want added of the recession inidcator from FRED\n",
    "                    year_lags : int, default 0\n",
    "                        the amount of year lags you want added of the recession inidcator from FRED\n",
    "    \"\"\"\n",
    "    externals = pdr.get_data_fred(['JHDUSRGDPBR','UTUR'],start='1900-01-01').reset_index()\n",
    "    externals['JHDUSRGDPBR'].fillna(method='ffill',inplace=True)\n",
    "    externals = externals[['DATE','JHDUSRGDPBR']]\n",
    "    futures = pd.to_datetime([d for d in futures if d not in list(externals['DATE'].apply(lambda x: str(x)[:10]))])\n",
    "    past_recession_periods = externals.loc[externals['DATE'] >= '2019-10-01','JHDUSRGDPBR'].sum()\n",
    "    recession_left = recession_length - past_recession_periods\n",
    "    recession_array = [1] * max(0,int(recession_left)) + [0] * (max(0,len(futures)) - int(recession_left))\n",
    "    externals_future = pd.DataFrame({'DATE':futures,'JHDUSRGDPBR':recession_array})\n",
    "    externals = externals.append(externals_future,ignore_index=True,sort=False)\n",
    "    for i in range(min(1,month_lags),month_lags+1):\n",
    "        if i == 0:\n",
    "            break\n",
    "        externals[f'JHDUSRGDPBR_lagMonth_{i}'] = externals['JHDUSRGDPBR'].shift(i)\n",
    "    for i in range(min(1,year_lags),year_lags+1):\n",
    "        if i == 0:\n",
    "            break\n",
    "        externals[f'JHDUSRGDPBR_lagYear_{i}'] = externals['JHDUSRGDPBR'].shift(i*12)\n",
    "    externals['LastRecession'] = externals[['DATE','JHDUSRGDPBR','JHDUSRGDPBR_lagMonth_1']].apply(lambda x: str(x[0]) if (x[1] == 1) & (x[2] == 0) else None, axis=1)\n",
    "    externals['LastRecession'].fillna(method='ffill',inplace=True)\n",
    "    externals['t'] = range(externals.shape[0])\n",
    "    return externals.copy()\n",
    "\n",
    "def pickle_out(obj):\n",
    "    \"\"\" writes out forecast results as a pickle file to the pickled folder\n",
    "        Parameters: obj : any data type\n",
    "                        the object to be written out -- this will be a Forecaster object\n",
    "    \"\"\"\n",
    "    with open('pickled/AllStatesForecasts-{0}.pickle'.format(str(datetime.datetime.now()).split('.')[0].replace(':','')),'wb') as f:\n",
    "        pickle.dump(obj,f)\n",
    "\n",
    "def pickle_in(which='latest'):\n",
    "    \"\"\" reads a pickle object saved in the pickled folder\n",
    "        Parameters: which : str, default \"latest\"\n",
    "                        if \"latest\", will read in the most recently created file in the pickled folder\n",
    "                        any other argument should be a datetime-like str and correspond with a file name in the pickled folder\n",
    "                        ex. to extract the AllStatesForecast-2020-09-11 121129.pickle file, this would be \"2020-09-11 121129\"\n",
    "    \"\"\"\n",
    "    if which == 'latest':\n",
    "        from stat import S_ISREG, ST_CTIME, ST_MODE\n",
    "        from collections import Counter\n",
    "        files = {}\n",
    "        for pckl in os.listdir('pickled'):\n",
    "            files[pckl] = os.stat('pickled/' + pckl)[ST_CTIME] # creation time\n",
    "        most_recent_pickle = Counter(files).most_common(1)[0][0] # greatest creation time = most recent created pickle\n",
    "        f= open(f'pickled/{most_recent_pickle}','rb')\n",
    "    else:\n",
    "        f= open(f'pickled/AllStatesForecasts-{which}.pickle','rb')\n",
    "    x = pickle.load(f)\n",
    "    f.close()\n",
    "    return x\n",
    "\n",
    "def visualize():\n",
    "    \"\"\" visualize the forecast results\n",
    "        leverages Jupyter widgets\n",
    "        relies on the ExternalsData object type\n",
    "        add new forecast names to the model_options list\n",
    "    \"\"\"\n",
    "    def display_user_selections(states_selection,ei_selection,model_selections):\n",
    "        \"\"\" displays graphs with seaborn based on what user selects from dropdown menus\n",
    "        \"\"\"\n",
    "        selected_data = forecasts[f'{states_selection}{ei_selection}']\n",
    "        ax = sns.lineplot(x = pd.to_datetime(selected_data.current_dates), y = selected_data.y, ci = None)\n",
    "        forecast_periods = selected_data.future_dates\n",
    "        labels = ['Actual']\n",
    "        max_display = [max(selected_data.y)]\n",
    "        for k, v in model_selections.items():\n",
    "            if (v == 'True') & (k in selected_data.forecasts.keys()):\n",
    "                max_display.append(max(selected_data.forecasts[k]))\n",
    "                sns.lineplot(x = pd.to_datetime(forecast_periods), y = selected_data.forecasts[k])\n",
    "                if k == 'average':\n",
    "                    labels.append('{0}'.format(selected_data.info['average']['model_form'].split(':')[0]))\n",
    "                else:\n",
    "                    labels.append('{0}'.format(selected_data.info[k]['model_form']))\n",
    "        \n",
    "        print('MAPEs:')\n",
    "        models_best_to_worst = selected_data.order_all_forecasts_best_to_worst()\n",
    "        for m in models_best_to_worst:\n",
    "            if m!='naive':\n",
    "                print('  {}: {:.3f}'.format(m,selected_data.mape[m]))\n",
    "        \n",
    "        plt.legend(labels=labels,loc='best')\n",
    "        plt.xlabel('')\n",
    "        plt.ylabel(f'{states_selection}{ei_selection}')\n",
    "        plt.title(f'{states_selection}{ei_selection} Forecast')\n",
    "        plt.ylim(min(0,min(selected_data.y)),1.1*max(max_display))\n",
    "        plt.show()\n",
    "\n",
    "    def on_button_clicked(b):\n",
    "        \"\"\" passes the user options to the display_user_selections function after the button is pressed\n",
    "        \"\"\"\n",
    "        states_selection = states_dropdown.value\n",
    "        ei_selection = ei_dropdown.value\n",
    "        model_selections = {}\n",
    "        for k,s in model_dropdown.items():\n",
    "            model_selections[k] = s.value\n",
    "        with output:\n",
    "            clear_output()\n",
    "            display_user_selections(states_selection,ei_selection,model_selections)\n",
    "    \n",
    "    bool_op = ['True','False']\n",
    "    model_options = [\n",
    "        'arima',\n",
    "        'arima_no_reg',\n",
    "        'tbats',\n",
    "        'rf',\n",
    "        'adaboost',\n",
    "        'gbt',\n",
    "        'svr',\n",
    "        'mlr',\n",
    "        'ridge',\n",
    "        'lasso',\n",
    "        'mlp',\n",
    "        'average'\n",
    "    ]\n",
    "    states_dropdown = widgets.Dropdown(options=states, description = 'State')\n",
    "    ei_dropdown = widgets.Dropdown(options=['SLIND','PHCI','UR'], description = 'Indicator')\n",
    "    model_dropdown = {}\n",
    "    for m in model_options:\n",
    "        model_dropdown[m] = widgets.Dropdown(options=bool_op.copy(), description = m)\n",
    "\n",
    "    # never changes\n",
    "    button = widgets.Button(description=\"Show Forecast\")\n",
    "    output = widgets.Output()\n",
    "\n",
    "    display(states_dropdown,ei_dropdown)\n",
    "    for d, k in model_dropdown.items():\n",
    "        display(k)\n",
    "    display(button, output)\n",
    "    \n",
    "    button.on_click(on_button_clicked)   "
   ]
  },
  {
   "cell_type": "code",
   "execution_count": 5,
   "metadata": {},
   "outputs": [],
   "source": [
    "if rerun:\n",
    "    externals = get_regressors(futures)\n",
    "    forecasts = {}\n",
    "    for s in log_progress(states):\n",
    "        for ei in ('SLIND','PHCI','UR'):\n",
    "            d = Forecaster()\n",
    "            d.get_data_fred(f'{s}{ei}')\n",
    "            d.process_xreg_df(externals,date_col='DATE')\n",
    "            d.check_xreg_future_current_consistency()\n",
    "            d.forecast_mlp(test_length=2,hyper_params={'hidden_layer_sizes':(10,50,),'solver':'lbfgs','activation':'relu'})\n",
    "            d.forecast_rf(test_length=2,hyper_params={'n_estimators':500,'max_depth':3})\n",
    "            d.forecast_gbt(test_length=2,hyper_params={'max_depth':3,'n_estimators':500})\n",
    "            d.forecast_adaboost(test_length=2,hyper_params={'learning_rate':.5,'n_estimators':250})\n",
    "            d.forecast_mlr(test_length=2)\n",
    "            d.forecast_ridge(test_length=2,alpha=10)\n",
    "            d.forecast_lasso(test_length=2,alpha=.05)\n",
    "            d.forecast_svr(test_length=2,hyper_params={'kernel':'linear','C':0.05, 'epsilon':1.25})\n",
    "            d.forecast_arima(test_length=2,Xvars='top_3')\n",
    "            d.forecast_arima(test_length=2,Xvars=None,call_me='arima_no_reg')\n",
    "            d.forecast_tbats(test_length=2)\n",
    "            d.forecast_average(models='top_4')\n",
    "            forecasts[f'{s}{ei}'] = d\n",
    "    pickle_out(forecasts)\n",
    "else:\n",
    "    forecasts = pickle_in('latest')"
   ]
  },
  {
   "cell_type": "code",
   "execution_count": 6,
   "metadata": {},
   "outputs": [
    {
     "data": {
      "application/vnd.jupyter.widget-view+json": {
       "model_id": "b5b7067d80754ff8aabce4f68c25ca23",
       "version_major": 2,
       "version_minor": 0
      },
      "text/plain": [
       "Dropdown(description='State', options=('AL', 'AK', 'AZ', 'AR', 'CA', 'CO', 'CT', 'DE', 'FL', 'GA', 'HI', 'ID',…"
      ]
     },
     "metadata": {},
     "output_type": "display_data"
    },
    {
     "data": {
      "application/vnd.jupyter.widget-view+json": {
       "model_id": "bdc45c3cb5fd47e5814a5728b09e787c",
       "version_major": 2,
       "version_minor": 0
      },
      "text/plain": [
       "Dropdown(description='Indicator', options=('SLIND', 'PHCI', 'UR'), value='SLIND')"
      ]
     },
     "metadata": {},
     "output_type": "display_data"
    },
    {
     "data": {
      "application/vnd.jupyter.widget-view+json": {
       "model_id": "badc2d002c094f1bb441895c850fe436",
       "version_major": 2,
       "version_minor": 0
      },
      "text/plain": [
       "Dropdown(description='arima', options=('True', 'False'), value='True')"
      ]
     },
     "metadata": {},
     "output_type": "display_data"
    },
    {
     "data": {
      "application/vnd.jupyter.widget-view+json": {
       "model_id": "e820e06aced5442881647134a713dba4",
       "version_major": 2,
       "version_minor": 0
      },
      "text/plain": [
       "Dropdown(description='arima_no_reg', options=('True', 'False'), value='True')"
      ]
     },
     "metadata": {},
     "output_type": "display_data"
    },
    {
     "data": {
      "application/vnd.jupyter.widget-view+json": {
       "model_id": "7b03985721de4730b51d8f08e1d4cce7",
       "version_major": 2,
       "version_minor": 0
      },
      "text/plain": [
       "Dropdown(description='tbats', options=('True', 'False'), value='True')"
      ]
     },
     "metadata": {},
     "output_type": "display_data"
    },
    {
     "data": {
      "application/vnd.jupyter.widget-view+json": {
       "model_id": "b9e47ec84d0c4e669f0fff24a9f899dd",
       "version_major": 2,
       "version_minor": 0
      },
      "text/plain": [
       "Dropdown(description='rf', options=('True', 'False'), value='True')"
      ]
     },
     "metadata": {},
     "output_type": "display_data"
    },
    {
     "data": {
      "application/vnd.jupyter.widget-view+json": {
       "model_id": "486b68cb443346a5a6f7a93c2154d9d7",
       "version_major": 2,
       "version_minor": 0
      },
      "text/plain": [
       "Dropdown(description='adaboost', options=('True', 'False'), value='True')"
      ]
     },
     "metadata": {},
     "output_type": "display_data"
    },
    {
     "data": {
      "application/vnd.jupyter.widget-view+json": {
       "model_id": "dccd518b8aaf4b4883e80fe7ab42db83",
       "version_major": 2,
       "version_minor": 0
      },
      "text/plain": [
       "Dropdown(description='gbt', options=('True', 'False'), value='True')"
      ]
     },
     "metadata": {},
     "output_type": "display_data"
    },
    {
     "data": {
      "application/vnd.jupyter.widget-view+json": {
       "model_id": "146cbf3c5a504a7e952203371d8ff41d",
       "version_major": 2,
       "version_minor": 0
      },
      "text/plain": [
       "Dropdown(description='svr', options=('True', 'False'), value='True')"
      ]
     },
     "metadata": {},
     "output_type": "display_data"
    },
    {
     "data": {
      "application/vnd.jupyter.widget-view+json": {
       "model_id": "674fd42185bc4c0680676c1adf259768",
       "version_major": 2,
       "version_minor": 0
      },
      "text/plain": [
       "Dropdown(description='mlr', options=('True', 'False'), value='True')"
      ]
     },
     "metadata": {},
     "output_type": "display_data"
    },
    {
     "data": {
      "application/vnd.jupyter.widget-view+json": {
       "model_id": "ff37a92758c9428f9a1e112f4d2af2fe",
       "version_major": 2,
       "version_minor": 0
      },
      "text/plain": [
       "Dropdown(description='ridge', options=('True', 'False'), value='True')"
      ]
     },
     "metadata": {},
     "output_type": "display_data"
    },
    {
     "data": {
      "application/vnd.jupyter.widget-view+json": {
       "model_id": "a1b07921409f46b88bc94a58aecd0599",
       "version_major": 2,
       "version_minor": 0
      },
      "text/plain": [
       "Dropdown(description='lasso', options=('True', 'False'), value='True')"
      ]
     },
     "metadata": {},
     "output_type": "display_data"
    },
    {
     "data": {
      "application/vnd.jupyter.widget-view+json": {
       "model_id": "02422dfd0e8c4cd0921c87f945051867",
       "version_major": 2,
       "version_minor": 0
      },
      "text/plain": [
       "Dropdown(description='mlp', options=('True', 'False'), value='True')"
      ]
     },
     "metadata": {},
     "output_type": "display_data"
    },
    {
     "data": {
      "application/vnd.jupyter.widget-view+json": {
       "model_id": "d3187ae03008469c9142be68f340c9ae",
       "version_major": 2,
       "version_minor": 0
      },
      "text/plain": [
       "Dropdown(description='average', options=('True', 'False'), value='True')"
      ]
     },
     "metadata": {},
     "output_type": "display_data"
    },
    {
     "data": {
      "application/vnd.jupyter.widget-view+json": {
       "model_id": "450b1b5cdd2b4d7cb94d3af191ccf630",
       "version_major": 2,
       "version_minor": 0
      },
      "text/plain": [
       "Button(description='Show Forecast', style=ButtonStyle())"
      ]
     },
     "metadata": {},
     "output_type": "display_data"
    },
    {
     "data": {
      "application/vnd.jupyter.widget-view+json": {
       "model_id": "71ab89a1aa4a452a8e673f27e915bbeb",
       "version_major": 2,
       "version_minor": 0
      },
      "text/plain": [
       "Output()"
      ]
     },
     "metadata": {},
     "output_type": "display_data"
    }
   ],
   "source": [
    "sns.set(rc={'figure.figsize':(18,10)})\n",
    "visualize()"
   ]
  },
  {
   "cell_type": "code",
   "execution_count": null,
   "metadata": {},
   "outputs": [],
   "source": []
  }
 ],
 "metadata": {
  "kernelspec": {
   "display_name": "Python 3",
   "language": "python",
   "name": "python3"
  },
  "language_info": {
   "codemirror_mode": {
    "name": "ipython",
    "version": 3
   },
   "file_extension": ".py",
   "mimetype": "text/x-python",
   "name": "python",
   "nbconvert_exporter": "python",
   "pygments_lexer": "ipython3",
   "version": "3.7.6"
  },
  "widgets": {
   "application/vnd.jupyter.widget-state+json": {
    "state": {
     "02422dfd0e8c4cd0921c87f945051867": {
      "model_module": "@jupyter-widgets/controls",
      "model_module_version": "1.5.0",
      "model_name": "DropdownModel",
      "state": {
       "_options_labels": [
        "True",
        "False"
       ],
       "description": "mlp",
       "index": 0,
       "layout": "IPY_MODEL_cf0e74660276462b86897ae2d509a3dd",
       "style": "IPY_MODEL_f676112b2bc34b39ae5541da625c883c"
      }
     },
     "03b7fc8ad17141b8bbc6fad7c335c9d7": {
      "model_module": "@jupyter-widgets/base",
      "model_module_version": "1.2.0",
      "model_name": "LayoutModel",
      "state": {}
     },
     "063d334ba082491692424470429365a3": {
      "model_module": "@jupyter-widgets/controls",
      "model_module_version": "1.5.0",
      "model_name": "DescriptionStyleModel",
      "state": {
       "description_width": ""
      }
     },
     "146cbf3c5a504a7e952203371d8ff41d": {
      "model_module": "@jupyter-widgets/controls",
      "model_module_version": "1.5.0",
      "model_name": "DropdownModel",
      "state": {
       "_options_labels": [
        "True",
        "False"
       ],
       "description": "svr",
       "index": 0,
       "layout": "IPY_MODEL_318d1874e8be4239b25d276e2659fbad",
       "style": "IPY_MODEL_b8e2ed4958114fd6bd7c5b17ad5905d9"
      }
     },
     "1717d260dc9d4300b4f83385bbf1f1c5": {
      "model_module": "@jupyter-widgets/controls",
      "model_module_version": "1.5.0",
      "model_name": "DescriptionStyleModel",
      "state": {
       "description_width": ""
      }
     },
     "18efb4c5934248eb80f10385208a78f9": {
      "model_module": "@jupyter-widgets/controls",
      "model_module_version": "1.5.0",
      "model_name": "DescriptionStyleModel",
      "state": {
       "description_width": ""
      }
     },
     "276c1314f13f4e2fa8731ca4b18cb3d3": {
      "model_module": "@jupyter-widgets/base",
      "model_module_version": "1.2.0",
      "model_name": "LayoutModel",
      "state": {}
     },
     "318d1874e8be4239b25d276e2659fbad": {
      "model_module": "@jupyter-widgets/base",
      "model_module_version": "1.2.0",
      "model_name": "LayoutModel",
      "state": {}
     },
     "36e9943bfe314716b6b6e9f6b1e63f75": {
      "model_module": "@jupyter-widgets/base",
      "model_module_version": "1.2.0",
      "model_name": "LayoutModel",
      "state": {}
     },
     "450b1b5cdd2b4d7cb94d3af191ccf630": {
      "model_module": "@jupyter-widgets/controls",
      "model_module_version": "1.5.0",
      "model_name": "ButtonModel",
      "state": {
       "description": "Show Forecast",
       "layout": "IPY_MODEL_60644e51d0a845c5a288eeda1b228903",
       "style": "IPY_MODEL_aa12f8482f2f4994833034e61b7015ed"
      }
     },
     "46e250b9b8834e2ab228b23d3ba8cef7": {
      "model_module": "@jupyter-widgets/base",
      "model_module_version": "1.2.0",
      "model_name": "LayoutModel",
      "state": {}
     },
     "486b68cb443346a5a6f7a93c2154d9d7": {
      "model_module": "@jupyter-widgets/controls",
      "model_module_version": "1.5.0",
      "model_name": "DropdownModel",
      "state": {
       "_options_labels": [
        "True",
        "False"
       ],
       "description": "adaboost",
       "index": 0,
       "layout": "IPY_MODEL_a0ea708c05234ce6bcdfa3e7f62f1241",
       "style": "IPY_MODEL_a61e24b0769a4b66814a8d51b5d4a10d"
      }
     },
     "518efb20c15a4c01850a59544fe62618": {
      "model_module": "@jupyter-widgets/base",
      "model_module_version": "1.2.0",
      "model_name": "LayoutModel",
      "state": {}
     },
     "59631909c44d43608199bee6dcac03ea": {
      "model_module": "@jupyter-widgets/controls",
      "model_module_version": "1.5.0",
      "model_name": "DescriptionStyleModel",
      "state": {
       "description_width": ""
      }
     },
     "60644e51d0a845c5a288eeda1b228903": {
      "model_module": "@jupyter-widgets/base",
      "model_module_version": "1.2.0",
      "model_name": "LayoutModel",
      "state": {}
     },
     "674fd42185bc4c0680676c1adf259768": {
      "model_module": "@jupyter-widgets/controls",
      "model_module_version": "1.5.0",
      "model_name": "DropdownModel",
      "state": {
       "_options_labels": [
        "True",
        "False"
       ],
       "description": "mlr",
       "index": 0,
       "layout": "IPY_MODEL_dd11e4a51b28479b910dc30eb20cc7fd",
       "style": "IPY_MODEL_e1e5617a2cb7489893b21cc1378534b4"
      }
     },
     "7024bdb7e6294cc59389883a1e67e6e0": {
      "model_module": "@jupyter-widgets/base",
      "model_module_version": "1.2.0",
      "model_name": "LayoutModel",
      "state": {}
     },
     "71ab89a1aa4a452a8e673f27e915bbeb": {
      "model_module": "@jupyter-widgets/output",
      "model_module_version": "1.0.0",
      "model_name": "OutputModel",
      "state": {
       "layout": "IPY_MODEL_36e9943bfe314716b6b6e9f6b1e63f75",
       "outputs": [
        {
         "name": "stdout",
         "output_type": "stream",
         "text": "MAPEs:\n  mlp: 0.022\n  average: 0.050\n  lasso: 0.058\n  svr: 0.059\n  ridge: 0.060\n  mlr: 0.092\n  adaboost: 0.235\n  rf: 0.244\n  gbt: 0.252\n  arima_no_reg: 1.349\n  arima: 1.533\n  tbats: 2.275\n"
        },
        {
         "data": {
          "image/png": "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\n",
          "text/plain": "<Figure size 1296x720 with 1 Axes>"
         },
         "metadata": {},
         "output_type": "display_data"
        }
       ]
      }
     },
     "7b00401eb3a04abb9400b75fcfdd4a54": {
      "model_module": "@jupyter-widgets/controls",
      "model_module_version": "1.5.0",
      "model_name": "DescriptionStyleModel",
      "state": {
       "description_width": ""
      }
     },
     "7b03985721de4730b51d8f08e1d4cce7": {
      "model_module": "@jupyter-widgets/controls",
      "model_module_version": "1.5.0",
      "model_name": "DropdownModel",
      "state": {
       "_options_labels": [
        "True",
        "False"
       ],
       "description": "tbats",
       "index": 0,
       "layout": "IPY_MODEL_46e250b9b8834e2ab228b23d3ba8cef7",
       "style": "IPY_MODEL_063d334ba082491692424470429365a3"
      }
     },
     "88d4e2edbe9441d59d85f08f9aaa7b95": {
      "model_module": "@jupyter-widgets/controls",
      "model_module_version": "1.5.0",
      "model_name": "DescriptionStyleModel",
      "state": {
       "description_width": ""
      }
     },
     "89b64b2f490d4d4f959f0251bd0c29a2": {
      "model_module": "@jupyter-widgets/controls",
      "model_module_version": "1.5.0",
      "model_name": "DescriptionStyleModel",
      "state": {
       "description_width": ""
      }
     },
     "9149d001a5224cc2a096c806bf240c98": {
      "model_module": "@jupyter-widgets/controls",
      "model_module_version": "1.5.0",
      "model_name": "DescriptionStyleModel",
      "state": {
       "description_width": ""
      }
     },
     "a0ea708c05234ce6bcdfa3e7f62f1241": {
      "model_module": "@jupyter-widgets/base",
      "model_module_version": "1.2.0",
      "model_name": "LayoutModel",
      "state": {}
     },
     "a1b07921409f46b88bc94a58aecd0599": {
      "model_module": "@jupyter-widgets/controls",
      "model_module_version": "1.5.0",
      "model_name": "DropdownModel",
      "state": {
       "_options_labels": [
        "True",
        "False"
       ],
       "description": "lasso",
       "index": 0,
       "layout": "IPY_MODEL_de2bd8970a244620a3cab3b738c777dc",
       "style": "IPY_MODEL_18efb4c5934248eb80f10385208a78f9"
      }
     },
     "a2307a389a194df3ac2ee6e1372378e4": {
      "model_module": "@jupyter-widgets/base",
      "model_module_version": "1.2.0",
      "model_name": "LayoutModel",
      "state": {}
     },
     "a61e24b0769a4b66814a8d51b5d4a10d": {
      "model_module": "@jupyter-widgets/controls",
      "model_module_version": "1.5.0",
      "model_name": "DescriptionStyleModel",
      "state": {
       "description_width": ""
      }
     },
     "a9da6cb7f41544c186a356e16d3d9242": {
      "model_module": "@jupyter-widgets/base",
      "model_module_version": "1.2.0",
      "model_name": "LayoutModel",
      "state": {}
     },
     "aa12f8482f2f4994833034e61b7015ed": {
      "model_module": "@jupyter-widgets/controls",
      "model_module_version": "1.5.0",
      "model_name": "ButtonStyleModel",
      "state": {}
     },
     "b45de08d4d634c78a2827c599c701380": {
      "model_module": "@jupyter-widgets/base",
      "model_module_version": "1.2.0",
      "model_name": "LayoutModel",
      "state": {}
     },
     "b5b7067d80754ff8aabce4f68c25ca23": {
      "model_module": "@jupyter-widgets/controls",
      "model_module_version": "1.5.0",
      "model_name": "DropdownModel",
      "state": {
       "_options_labels": [
        "AL",
        "AK",
        "AZ",
        "AR",
        "CA",
        "CO",
        "CT",
        "DE",
        "FL",
        "GA",
        "HI",
        "ID",
        "IL",
        "IN",
        "IA",
        "KS",
        "KY",
        "LA",
        "ME",
        "MD",
        "MA",
        "MI",
        "MN",
        "MS",
        "MO",
        "MT",
        "NE",
        "NV",
        "NH",
        "NJ",
        "NM",
        "NY",
        "NC",
        "ND",
        "OH",
        "OK",
        "OR",
        "PA",
        "RI",
        "SC",
        "SD",
        "TN",
        "TX",
        "UT",
        "VT",
        "VA",
        "WA",
        "WV",
        "WI",
        "WY"
       ],
       "description": "State",
       "index": 43,
       "layout": "IPY_MODEL_e13e05feb1c54b059733f0a39aee7a69",
       "style": "IPY_MODEL_59631909c44d43608199bee6dcac03ea"
      }
     },
     "b8e2ed4958114fd6bd7c5b17ad5905d9": {
      "model_module": "@jupyter-widgets/controls",
      "model_module_version": "1.5.0",
      "model_name": "DescriptionStyleModel",
      "state": {
       "description_width": ""
      }
     },
     "b9e47ec84d0c4e669f0fff24a9f899dd": {
      "model_module": "@jupyter-widgets/controls",
      "model_module_version": "1.5.0",
      "model_name": "DropdownModel",
      "state": {
       "_options_labels": [
        "True",
        "False"
       ],
       "description": "rf",
       "index": 0,
       "layout": "IPY_MODEL_a2307a389a194df3ac2ee6e1372378e4",
       "style": "IPY_MODEL_1717d260dc9d4300b4f83385bbf1f1c5"
      }
     },
     "badc2d002c094f1bb441895c850fe436": {
      "model_module": "@jupyter-widgets/controls",
      "model_module_version": "1.5.0",
      "model_name": "DropdownModel",
      "state": {
       "_options_labels": [
        "True",
        "False"
       ],
       "description": "arima",
       "index": 0,
       "layout": "IPY_MODEL_b45de08d4d634c78a2827c599c701380",
       "style": "IPY_MODEL_f74bffbc90144fdab1d1622515159f9f"
      }
     },
     "bb29c44dafbf45329cf05e25bbd7cfaa": {
      "model_module": "@jupyter-widgets/controls",
      "model_module_version": "1.5.0",
      "model_name": "DescriptionStyleModel",
      "state": {
       "description_width": ""
      }
     },
     "bdc45c3cb5fd47e5814a5728b09e787c": {
      "model_module": "@jupyter-widgets/controls",
      "model_module_version": "1.5.0",
      "model_name": "DropdownModel",
      "state": {
       "_options_labels": [
        "SLIND",
        "PHCI",
        "UR"
       ],
       "description": "Indicator",
       "index": 2,
       "layout": "IPY_MODEL_518efb20c15a4c01850a59544fe62618",
       "style": "IPY_MODEL_89b64b2f490d4d4f959f0251bd0c29a2"
      }
     },
     "cf0e74660276462b86897ae2d509a3dd": {
      "model_module": "@jupyter-widgets/base",
      "model_module_version": "1.2.0",
      "model_name": "LayoutModel",
      "state": {}
     },
     "d3187ae03008469c9142be68f340c9ae": {
      "model_module": "@jupyter-widgets/controls",
      "model_module_version": "1.5.0",
      "model_name": "DropdownModel",
      "state": {
       "_options_labels": [
        "True",
        "False"
       ],
       "description": "average",
       "index": 0,
       "layout": "IPY_MODEL_a9da6cb7f41544c186a356e16d3d9242",
       "style": "IPY_MODEL_bb29c44dafbf45329cf05e25bbd7cfaa"
      }
     },
     "dccd518b8aaf4b4883e80fe7ab42db83": {
      "model_module": "@jupyter-widgets/controls",
      "model_module_version": "1.5.0",
      "model_name": "DropdownModel",
      "state": {
       "_options_labels": [
        "True",
        "False"
       ],
       "description": "gbt",
       "index": 0,
       "layout": "IPY_MODEL_276c1314f13f4e2fa8731ca4b18cb3d3",
       "style": "IPY_MODEL_88d4e2edbe9441d59d85f08f9aaa7b95"
      }
     },
     "dd11e4a51b28479b910dc30eb20cc7fd": {
      "model_module": "@jupyter-widgets/base",
      "model_module_version": "1.2.0",
      "model_name": "LayoutModel",
      "state": {}
     },
     "de2bd8970a244620a3cab3b738c777dc": {
      "model_module": "@jupyter-widgets/base",
      "model_module_version": "1.2.0",
      "model_name": "LayoutModel",
      "state": {}
     },
     "e13e05feb1c54b059733f0a39aee7a69": {
      "model_module": "@jupyter-widgets/base",
      "model_module_version": "1.2.0",
      "model_name": "LayoutModel",
      "state": {}
     },
     "e1e5617a2cb7489893b21cc1378534b4": {
      "model_module": "@jupyter-widgets/controls",
      "model_module_version": "1.5.0",
      "model_name": "DescriptionStyleModel",
      "state": {
       "description_width": ""
      }
     },
     "e820e06aced5442881647134a713dba4": {
      "model_module": "@jupyter-widgets/controls",
      "model_module_version": "1.5.0",
      "model_name": "DropdownModel",
      "state": {
       "_options_labels": [
        "True",
        "False"
       ],
       "description": "arima_no_reg",
       "index": 0,
       "layout": "IPY_MODEL_7024bdb7e6294cc59389883a1e67e6e0",
       "style": "IPY_MODEL_7b00401eb3a04abb9400b75fcfdd4a54"
      }
     },
     "f676112b2bc34b39ae5541da625c883c": {
      "model_module": "@jupyter-widgets/controls",
      "model_module_version": "1.5.0",
      "model_name": "DescriptionStyleModel",
      "state": {
       "description_width": ""
      }
     },
     "f74bffbc90144fdab1d1622515159f9f": {
      "model_module": "@jupyter-widgets/controls",
      "model_module_version": "1.5.0",
      "model_name": "DescriptionStyleModel",
      "state": {
       "description_width": ""
      }
     },
     "ff37a92758c9428f9a1e112f4d2af2fe": {
      "model_module": "@jupyter-widgets/controls",
      "model_module_version": "1.5.0",
      "model_name": "DropdownModel",
      "state": {
       "_options_labels": [
        "True",
        "False"
       ],
       "description": "ridge",
       "index": 0,
       "layout": "IPY_MODEL_03b7fc8ad17141b8bbc6fad7c335c9d7",
       "style": "IPY_MODEL_9149d001a5224cc2a096c806bf240c98"
      }
     }
    },
    "version_major": 2,
    "version_minor": 0
   }
  }
 },
 "nbformat": 4,
 "nbformat_minor": 4
}
