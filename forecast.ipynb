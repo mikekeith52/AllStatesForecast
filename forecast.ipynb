{
 "cells": [
  {
   "cell_type": "code",
   "execution_count": 1,
   "metadata": {},
   "outputs": [],
   "source": [
    "import pandas as pd\n",
    "import numpy as np\n",
    "import os\n",
    "import datetime\n",
    "import matplotlib.pyplot as plt\n",
    "import seaborn as sns\n",
    "from ipywidgets import widgets\n",
    "from IPython.display import display, clear_output\n",
    "import pickle\n",
    "import pandas_datareader as pdr\n",
    "from tqdm.notebook import tqdm as log_progress"
   ]
  },
  {
   "cell_type": "code",
   "execution_count": 2,
   "metadata": {},
   "outputs": [],
   "source": [
    "from Forecaster import Forecaster"
   ]
  },
  {
   "cell_type": "code",
   "execution_count": 3,
   "metadata": {},
   "outputs": [],
   "source": [
    "def get_monthly_futures(start,n_periods):\n",
    "    \"\"\" Returns a list of future dates to forecast for in the form 'yyyy-mm-01'\n",
    "        Parameters: start : str\n",
    "                        a date in the form 'yyyy-mm-01'\n",
    "                    n_periods : int \n",
    "                        how many periods to go out\n",
    "                        the size of the resulting list\n",
    "    \"\"\"\n",
    "    first_month = int(start.split('-')[1])\n",
    "    months = [first_month + i for i in range(n_periods)]\n",
    "    years = [int(start.split('-')[0])] * n_periods\n",
    "    while max(months) > 12:\n",
    "        for i, m in enumerate(months):\n",
    "            if m > 12:\n",
    "                months[i] -= 12\n",
    "                years[i] += 1\n",
    "    return ['{}-{:02d}-01'.format(y,m) for y, m in zip(years,months)]\n",
    "\n",
    "def get_regressors(futures,recession_length=18,month_lags=24,year_lags=0):\n",
    "    \"\"\" returns a dataframe of external regressors from FRED\n",
    "        extracts the recession indicator and maps to length specified in recession_length\n",
    "        adds month and year lags\n",
    "        adds an inidcator of when the last recession occured\n",
    "        adds a time trend\n",
    "        Parameters: futures : list\n",
    "                        a list of dates in format YYYY-mm-01\n",
    "                        if there is overlap between the earlier dates and what is extracted from FRED, that will be handled in the function\n",
    "                    recession_length : int, default 18\n",
    "                        the total assumed length of the recession (last one began 10/1/2019)\n",
    "                        this does not take into account the amount of months the recession has already gone\n",
    "                    month_lags : int, default 24\n",
    "                        the amount of month lags you want added of the recession inidcator from FRED\n",
    "                        must be at least 1\n",
    "                    year_lags : int, default 0\n",
    "                        the amount of year lags you want added of the recession inidcator from FRED\n",
    "    \"\"\"\n",
    "    externals = pdr.get_data_fred(['JHDUSRGDPBR','CPIAUCSL'],start='1900-01-01').reset_index()\n",
    "    externals = externals[externals['DATE'] >= externals.loc[~externals['JHDUSRGDPBR'].isnull(),'DATE'].min()]\n",
    "    externals['JHDUSRGDPBR'].fillna(method='ffill',inplace=True)\n",
    "    externals = externals[['DATE','JHDUSRGDPBR']]\n",
    "    futures = pd.to_datetime([d for d in futures if d not in list(externals['DATE'].apply(lambda x: str(x)[:10]))])\n",
    "    past_recession_periods = externals.loc[externals['DATE'] >= '2019-10-01','JHDUSRGDPBR'].sum()\n",
    "    recession_left = recession_length - past_recession_periods\n",
    "    recession_array = [1] * max(0,int(recession_left)) + [0] * (max(0,len(futures)) - int(recession_left))\n",
    "    externals_future = pd.DataFrame({'DATE':futures,'JHDUSRGDPBR':recession_array})\n",
    "    externals = externals.append(externals_future,ignore_index=True,sort=False)\n",
    "    for i in range(min(1,month_lags),month_lags+1):\n",
    "        if i == 0:\n",
    "            break # 0 lags specified\n",
    "        externals[f'JHDUSRGDPBR_lagMonth_{i}'] = externals['JHDUSRGDPBR'].shift(i)\n",
    "    for i in range(min(1,year_lags),year_lags+1):\n",
    "        if i == 0:\n",
    "            break # 0 lags specified\n",
    "        externals[f'JHDUSRGDPBR_lagYear_{i}'] = externals['JHDUSRGDPBR'].shift(i*12)\n",
    "    externals['LastRecession'] = externals[['DATE','JHDUSRGDPBR','JHDUSRGDPBR_lagMonth_1']].apply(lambda x: str(x[0]) if (x[1] == 1) & (x[2] == 0) else None, axis=1)\n",
    "    externals['LastRecession'].fillna(method='ffill',inplace=True)\n",
    "    externals['t'] = range(externals.shape[0])\n",
    "    return externals.copy()\n",
    "\n",
    "def pickle_out(obj):\n",
    "    \"\"\" writes out forecast results as a pickle file to the pickled folder\n",
    "        Parameters: obj : any data type\n",
    "                        the object to be written out -- this will be a Forecaster object\n",
    "    \"\"\"\n",
    "    with open('pickled/AllStatesForecasts-{0}.pickle'.format(str(datetime.datetime.now()).split('.')[0].replace(':','')),'wb') as f:\n",
    "        pickle.dump(obj,f)\n",
    "\n",
    "def pickle_in(which='latest'):\n",
    "    \"\"\" reads a pickle object saved in the pickled folder\n",
    "        Parameters: which : str, default \"latest\"\n",
    "                        if \"latest\", will read in the most recently created file in the pickled folder\n",
    "                        any other argument should be a datetime-like str and correspond with a file name in the pickled folder\n",
    "                        ex. to extract the AllStatesForecast-2020-09-11 121129.pickle file, this would be \"2020-09-11 121129\"\n",
    "    \"\"\"\n",
    "    if which == 'latest':\n",
    "        most_recent_file = max([f for f in os.listdir('pickled')])\n",
    "        f= open(f'pickled/{most_recent_file}','rb')\n",
    "    else:\n",
    "        f= open(f'pickled/AllStatesForecasts-{which}.pickle','rb')\n",
    "    x = pickle.load(f)\n",
    "    f.close()\n",
    "    return x\n",
    "\n",
    "def visualize():\n",
    "    \"\"\" visualize the forecast results\n",
    "        leverages Jupyter widgets\n",
    "        relies on the ExternalsData object type\n",
    "        add new forecast names to the model_options list\n",
    "        Parameters: top : int\n",
    "                        the top number of models (by evaluated MAPE) to display\n",
    "    \"\"\"\n",
    "    def display_user_selections(states_selection,ei_selection,models_selection):\n",
    "        \"\"\" displays graphs with seaborn based on what user selects from dropdown menus\n",
    "        \"\"\"\n",
    "        sns.set(rc={'figure.figsize':(18,10)})\n",
    "        selected_data = forecasts[f'{states_selection}{ei_selection}']\n",
    "        selected_data.display_ts_plot(models=f'top_{models_selection}',print_mapes=True)\n",
    "\n",
    "    def on_button_clicked(b):\n",
    "        \"\"\" passes the user options to the display_user_selections function after the button is pressed\n",
    "        \"\"\"\n",
    "        states_selection = states_dropdown.value\n",
    "        ei_selection = ei_dropdown.value\n",
    "        models_selection = models_dropdown.value\n",
    "        with output:\n",
    "            clear_output()\n",
    "            display_user_selections(states_selection,ei_selection,models_selection)\n",
    "    \n",
    "    states_dropdown = widgets.Dropdown(options=states, description = 'State')\n",
    "    ei_dropdown = widgets.Dropdown(options=['SLIND','PHCI','UR'], description = 'Indicator')\n",
    "    models_dropdown = widgets.Dropdown(options=range(1,14), description = 'No. Models')\n",
    "\n",
    "    # never changes\n",
    "    button = widgets.Button(description=\"Show Forecast\")\n",
    "    output = widgets.Output()\n",
    "\n",
    "    display(states_dropdown,ei_dropdown,models_dropdown)\n",
    "    display(button, output)\n",
    "    \n",
    "    button.on_click(on_button_clicked)   "
   ]
  },
  {
   "cell_type": "code",
   "execution_count": 4,
   "metadata": {},
   "outputs": [],
   "source": [
    "# a list of state abbreviations\n",
    "states = [e.replace('\"','') for e in open('state_abb.txt').read().split('\\n')]\n",
    "# a list of future dates\n",
    "futures = get_monthly_futures('2020-08-01',27)"
   ]
  },
  {
   "cell_type": "code",
   "execution_count": 5,
   "metadata": {},
   "outputs": [],
   "source": [
    "# whether or not to rerun the forecast - if false, will read in a pickled forecast\n",
    "rerun = False\n",
    "if rerun:\n",
    "    externals = get_regressors(futures)\n",
    "    forecasts = {}\n",
    "    for s in log_progress(states):\n",
    "        for ei in ('SLIND','PHCI','UR'):\n",
    "            d = Forecaster()\n",
    "            d.get_data_fred(f'{s}{ei}')\n",
    "            d.process_xreg_df(externals,date_col='DATE')\n",
    "            d.check_xreg_future_current_consistency()\n",
    "            d.forecast_mlp(test_length=12,hyper_params={'hidden_layer_sizes':(10,50,),'solver':'lbfgs','activation':'relu'})\n",
    "            d.forecast_rf(test_length=12,hyper_params={'max_depth':3,'n_estimators':500})\n",
    "            d.forecast_gbt(test_length=12,hyper_params={'max_depth':3,'n_estimators':500})\n",
    "            d.forecast_adaboost(test_length=12,hyper_params={'learning_rate':.5,'n_estimators':250})\n",
    "            d.forecast_mlr(test_length=12)\n",
    "            d.forecast_ridge(test_length=12,alpha=10)\n",
    "            d.forecast_lasso(test_length=12,alpha=.05)\n",
    "            d.forecast_svr(test_length=12,hyper_params={'kernel':'linear','C':0.05,'epsilon':1.25})\n",
    "            d.forecast_auto_arima(test_length=12,Xvars=['JHDUSRGDPBR'],call_me='auto_arima_JHDUSRGDPBR')\n",
    "            d.forecast_auto_arima(test_length=12,Xvars=None)\n",
    "            d.forecast_tbats(test_length=12)\n",
    "            d.forecast_ets(test_length=12)\n",
    "            d.forecast_average(models='top_4')\n",
    "            forecasts[f'{s}{ei}'] = d\n",
    "    pickle_out(forecasts)\n",
    "else:\n",
    "    forecasts = pickle_in('latest')"
   ]
  },
  {
   "cell_type": "code",
   "execution_count": 6,
   "metadata": {},
   "outputs": [
    {
     "data": {
      "application/vnd.jupyter.widget-view+json": {
       "model_id": "f43aef4b2dc84a0b8d41d8780b1b53bf",
       "version_major": 2,
       "version_minor": 0
      },
      "text/plain": [
       "Dropdown(description='State', options=('AL', 'AK', 'AZ', 'AR', 'CA', 'CO', 'CT', 'DE', 'FL', 'GA', 'HI', 'ID',…"
      ]
     },
     "metadata": {},
     "output_type": "display_data"
    },
    {
     "data": {
      "application/vnd.jupyter.widget-view+json": {
       "model_id": "c7fb8ca433b049b5a5bfba9226599fb7",
       "version_major": 2,
       "version_minor": 0
      },
      "text/plain": [
       "Dropdown(description='Indicator', options=('SLIND', 'PHCI', 'UR'), value='SLIND')"
      ]
     },
     "metadata": {},
     "output_type": "display_data"
    },
    {
     "data": {
      "application/vnd.jupyter.widget-view+json": {
       "model_id": "c0dc20b8ed914a5ab87a74000a5edde0",
       "version_major": 2,
       "version_minor": 0
      },
      "text/plain": [
       "Dropdown(description='No. Models', options=(1, 2, 3, 4, 5, 6, 7, 8, 9, 10, 11, 12, 13), value=1)"
      ]
     },
     "metadata": {},
     "output_type": "display_data"
    },
    {
     "data": {
      "application/vnd.jupyter.widget-view+json": {
       "model_id": "86a78baf6f0f4fbeb2e4debccaacc05b",
       "version_major": 2,
       "version_minor": 0
      },
      "text/plain": [
       "Button(description='Show Forecast', style=ButtonStyle())"
      ]
     },
     "metadata": {},
     "output_type": "display_data"
    },
    {
     "data": {
      "application/vnd.jupyter.widget-view+json": {
       "model_id": "018248e716c54e13a7425d8cd6f11bbd",
       "version_major": 2,
       "version_minor": 0
      },
      "text/plain": [
       "Output()"
      ]
     },
     "metadata": {},
     "output_type": "display_data"
    }
   ],
   "source": [
    "visualize()"
   ]
  },
  {
   "cell_type": "code",
   "execution_count": null,
   "metadata": {},
   "outputs": [],
   "source": []
  }
 ],
 "metadata": {
  "kernelspec": {
   "display_name": "Python 3",
   "language": "python",
   "name": "python3"
  },
  "language_info": {
   "codemirror_mode": {
    "name": "ipython",
    "version": 3
   },
   "file_extension": ".py",
   "mimetype": "text/x-python",
   "name": "python",
   "nbconvert_exporter": "python",
   "pygments_lexer": "ipython3",
   "version": "3.7.6"
  },
  "widgets": {
   "application/vnd.jupyter.widget-state+json": {
    "state": {
     "018248e716c54e13a7425d8cd6f11bbd": {
      "model_module": "@jupyter-widgets/output",
      "model_module_version": "1.0.0",
      "model_name": "OutputModel",
      "state": {
       "layout": "IPY_MODEL_7bbba6c2eb3d449ba0f531cf8eba4ce8",
       "outputs": [
        {
         "name": "stdout",
         "output_type": "stream",
         "text": "ridge 12-period test-set MAPE: 0.28591774049268914 \naverage 12-period test-set MAPE: 0.31978580079007485 \ngbt 12-period test-set MAPE: 0.3211045767683966 \n"
        },
        {
         "data": {
          "image/png": "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\n",
          "text/plain": "<Figure size 1296x720 with 1 Axes>"
         },
         "metadata": {},
         "output_type": "display_data"
        }
       ]
      }
     },
     "32d1019eb19343f58f7af4b6b9de4723": {
      "model_module": "@jupyter-widgets/base",
      "model_module_version": "1.2.0",
      "model_name": "LayoutModel",
      "state": {}
     },
     "4f874293e90a4a329ecf723b938ba9e8": {
      "model_module": "@jupyter-widgets/controls",
      "model_module_version": "1.5.0",
      "model_name": "DescriptionStyleModel",
      "state": {
       "description_width": ""
      }
     },
     "7bbba6c2eb3d449ba0f531cf8eba4ce8": {
      "model_module": "@jupyter-widgets/base",
      "model_module_version": "1.2.0",
      "model_name": "LayoutModel",
      "state": {}
     },
     "86a78baf6f0f4fbeb2e4debccaacc05b": {
      "model_module": "@jupyter-widgets/controls",
      "model_module_version": "1.5.0",
      "model_name": "ButtonModel",
      "state": {
       "description": "Show Forecast",
       "layout": "IPY_MODEL_dcb5b1b0eb774be69ff30a126a9eadf3",
       "style": "IPY_MODEL_8c8899353c1d43c192af9fbb13d147f5"
      }
     },
     "887007fa49a44bd5976dcd0d179f7ce4": {
      "model_module": "@jupyter-widgets/controls",
      "model_module_version": "1.5.0",
      "model_name": "DescriptionStyleModel",
      "state": {
       "description_width": ""
      }
     },
     "8c8899353c1d43c192af9fbb13d147f5": {
      "model_module": "@jupyter-widgets/controls",
      "model_module_version": "1.5.0",
      "model_name": "ButtonStyleModel",
      "state": {}
     },
     "b91ead1e9e7e4b1e810dafe1701350fd": {
      "model_module": "@jupyter-widgets/controls",
      "model_module_version": "1.5.0",
      "model_name": "DescriptionStyleModel",
      "state": {
       "description_width": ""
      }
     },
     "c0dc20b8ed914a5ab87a74000a5edde0": {
      "model_module": "@jupyter-widgets/controls",
      "model_module_version": "1.5.0",
      "model_name": "DropdownModel",
      "state": {
       "_options_labels": [
        "1",
        "2",
        "3",
        "4",
        "5",
        "6",
        "7",
        "8",
        "9",
        "10",
        "11",
        "12",
        "13"
       ],
       "description": "No. Models",
       "index": 2,
       "layout": "IPY_MODEL_ebe6d74025cb46f8a7c883796ed02f11",
       "style": "IPY_MODEL_b91ead1e9e7e4b1e810dafe1701350fd"
      }
     },
     "c0fe39faddd944559c87c6e01b2ad18f": {
      "model_module": "@jupyter-widgets/base",
      "model_module_version": "1.2.0",
      "model_name": "LayoutModel",
      "state": {}
     },
     "c7fb8ca433b049b5a5bfba9226599fb7": {
      "model_module": "@jupyter-widgets/controls",
      "model_module_version": "1.5.0",
      "model_name": "DropdownModel",
      "state": {
       "_options_labels": [
        "SLIND",
        "PHCI",
        "UR"
       ],
       "description": "Indicator",
       "index": 2,
       "layout": "IPY_MODEL_c0fe39faddd944559c87c6e01b2ad18f",
       "style": "IPY_MODEL_4f874293e90a4a329ecf723b938ba9e8"
      }
     },
     "dcb5b1b0eb774be69ff30a126a9eadf3": {
      "model_module": "@jupyter-widgets/base",
      "model_module_version": "1.2.0",
      "model_name": "LayoutModel",
      "state": {}
     },
     "ebe6d74025cb46f8a7c883796ed02f11": {
      "model_module": "@jupyter-widgets/base",
      "model_module_version": "1.2.0",
      "model_name": "LayoutModel",
      "state": {}
     },
     "f43aef4b2dc84a0b8d41d8780b1b53bf": {
      "model_module": "@jupyter-widgets/controls",
      "model_module_version": "1.5.0",
      "model_name": "DropdownModel",
      "state": {
       "_options_labels": [
        "AL",
        "AK",
        "AZ",
        "AR",
        "CA",
        "CO",
        "CT",
        "DE",
        "FL",
        "GA",
        "HI",
        "ID",
        "IL",
        "IN",
        "IA",
        "KS",
        "KY",
        "LA",
        "ME",
        "MD",
        "MA",
        "MI",
        "MN",
        "MS",
        "MO",
        "MT",
        "NE",
        "NV",
        "NH",
        "NJ",
        "NM",
        "NY",
        "NC",
        "ND",
        "OH",
        "OK",
        "OR",
        "PA",
        "RI",
        "SC",
        "SD",
        "TN",
        "TX",
        "UT",
        "VT",
        "VA",
        "WA",
        "WV",
        "WI",
        "WY"
       ],
       "description": "State",
       "index": 9,
       "layout": "IPY_MODEL_32d1019eb19343f58f7af4b6b9de4723",
       "style": "IPY_MODEL_887007fa49a44bd5976dcd0d179f7ce4"
      }
     }
    },
    "version_major": 2,
    "version_minor": 0
   }
  }
 },
 "nbformat": 4,
 "nbformat_minor": 4
}
