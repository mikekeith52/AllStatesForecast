{
 "cells": [
  {
   "cell_type": "code",
   "execution_count": 1,
   "metadata": {},
   "outputs": [],
   "source": [
    "import pandas as pd\n",
    "import numpy as np\n",
    "import os\n",
    "import pandas_datareader as pdr"
   ]
  },
  {
   "cell_type": "code",
   "execution_count": 2,
   "metadata": {},
   "outputs": [],
   "source": [
    "from Forecaster import Forecaster"
   ]
  },
  {
   "cell_type": "code",
   "execution_count": 3,
   "metadata": {},
   "outputs": [],
   "source": [
    "futures = ['2020-08-01','2020-09-01','2020-10-01','2020-11-01','2020-12-01','2021-01-01',\n",
    "           '2021-02-01','2021-03-01','2021-04-01','2021-05-01','2021-06-01','2021-07-01','2021-08-01',\n",
    "           '2021-09-01','2021-10-01','2021-11-01','2021-12-01','2022-01-01','2022-02-01','2022-03-01',\n",
    "           '2022-04-01','2022-05-01','2022-06-01','2022-07-01','2022-08-01','2022-09-01','2022-10-01']"
   ]
  },
  {
   "cell_type": "code",
   "execution_count": 4,
   "metadata": {},
   "outputs": [],
   "source": [
    "def get_regressors(futures,recession_length=15,month_lags=24,year_lags=0):\n",
    "    \"\"\" gets a vector of external regressors from FRED\n",
    "        extracts the recession indicator and maps to length specified in recession_length\n",
    "        adds month and year lags\n",
    "        adds an inidcator of when the last recession occured\n",
    "        Paramaters: futures : list\n",
    "                        a list of dates in format YYYY-mm-01\n",
    "                        if there is overlap between the earlier dates and what is extracted from FRED, that will be handled in the function\n",
    "                    recession_length : int, default 15\n",
    "                        the total assumed length of the recession\n",
    "                        this does not take into account the amount of months the recession has already gone\n",
    "                    month_lags : int, default 24\n",
    "                        the amount of month lags you want added of the recession inidcator from FRED\n",
    "                    year_lags : int, default 0\n",
    "                        the amount of year lags you want added of the recession inidcator from FRED\n",
    "    \"\"\"\n",
    "    externals = pdr.get_data_fred(['JHDUSRGDPBR','CPIAUCSL'],start='1900-01-01').reset_index()\n",
    "    externals = externals[externals['DATE'] >= externals.loc[~externals['JHDUSRGDPBR'].isnull(),'DATE'].min()]\n",
    "    externals['JHDUSRGDPBR'].fillna(method='ffill',inplace=True)\n",
    "    externals = externals[['DATE','JHDUSRGDPBR']]\n",
    "    futures = pd.to_datetime([d for d in futures if d not in list(externals['DATE'].apply(lambda x: str(x)[:10]))])\n",
    "    past_recession_periods = externals.loc[externals['DATE'] >= '2019-10-01','JHDUSRGDPBR'].sum()\n",
    "    recession_left = recession_length - past_recession_periods\n",
    "    recession_array = [1] * max(0,int(recession_left)) + [0] * (max(0,len(futures)) - int(recession_left))\n",
    "    externals_future = pd.DataFrame({'DATE':futures,'JHDUSRGDPBR':recession_array})\n",
    "    externals = externals.append(externals_future,ignore_index=True,sort=False)\n",
    "    for i in range(min(1,month_lags),month_lags+1):\n",
    "        if i == 0:\n",
    "            break\n",
    "        externals[f'JHDUSRGDPBR_lagMonth_{i}'] = externals['JHDUSRGDPBR'].shift(i)\n",
    "    for i in range(min(1,year_lags),year_lags+1):\n",
    "        if i == 0:\n",
    "            break\n",
    "        externals[f'JHDUSRGDPBR_lagYear_{i}'] = externals['JHDUSRGDPBR'].shift(i*12)\n",
    "    externals['LastRecession'] = externals[['DATE','JHDUSRGDPBR','JHDUSRGDPBR_lagMonth_1']].apply(lambda x: str(x[0]) if (x[1] == 1) & (x[2] == 0) else None, axis=1)\n",
    "    externals['LastRecession'].fillna(method='ffill',inplace=True)\n",
    "    externals['t'] = range(externals.shape[0])\n",
    "    return externals.copy()"
   ]
  },
  {
   "cell_type": "code",
   "execution_count": 5,
   "metadata": {},
   "outputs": [],
   "source": [
    "externals = get_regressors(futures)"
   ]
  },
  {
   "cell_type": "code",
   "execution_count": 6,
   "metadata": {},
   "outputs": [],
   "source": [
    "f = Forecaster()"
   ]
  },
  {
   "cell_type": "code",
   "execution_count": 11,
   "metadata": {},
   "outputs": [],
   "source": [
    "f.get_data_fred('UTUR')\n",
    "f.process_xreg_df(externals,date_col='DATE')\n",
    "f.forecast_rf(test_length=3)\n",
    "f.forecast_rf(test_length=3,call_me='rf2',hyper_params={'n_estimators':1000,'max_depth':3})"
   ]
  },
  {
   "cell_type": "code",
   "execution_count": 15,
   "metadata": {},
   "outputs": [
    {
     "data": {
      "text/plain": [
       "{'rf': {'holdout_periods': 3,\n",
       "  'model_form': 'Random Forest {}',\n",
       "  'test_set_actuals': [5.3, 4.5, 4.1],\n",
       "  'test_set_predictions': [8.214000000000004,\n",
       "   8.200000000000003,\n",
       "   8.229000000000005],\n",
       "  'test_set_ape': [0.5498113207547178,\n",
       "   0.8222222222222229,\n",
       "   1.0070731707317087]},\n",
       " 'rf2': {'holdout_periods': 3,\n",
       "  'model_form': \"Random Forest {'n_estimators': 1000, 'max_depth': 3}\",\n",
       "  'test_set_actuals': [5.3, 4.5, 4.1],\n",
       "  'test_set_predictions': [5.740128902164917,\n",
       "   5.74292496708493,\n",
       "   5.7501010691564405],\n",
       "  'test_set_ape': [0.08304318908772029, 0.2762055482410955, 0.40246367540401]}}"
      ]
     },
     "execution_count": 15,
     "metadata": {},
     "output_type": "execute_result"
    }
   ],
   "source": [
    "f.info"
   ]
  },
  {
   "cell_type": "code",
   "execution_count": 13,
   "metadata": {},
   "outputs": [
    {
     "data": {
      "text/plain": [
       "{'rf': [4.530000000000005,\n",
       "  4.590000000000004,\n",
       "  4.700000000000005,\n",
       "  5.287000000000005,\n",
       "  5.778000000000005,\n",
       "  6.328000000000003,\n",
       "  6.732000000000004,\n",
       "  6.995000000000004,\n",
       "  7.22,\n",
       "  7.293999999999998,\n",
       "  7.328999999999999,\n",
       "  7.4049999999999985,\n",
       "  7.453999999999999,\n",
       "  7.534999999999997,\n",
       "  7.521999999999996,\n",
       "  7.511999999999995,\n",
       "  7.5049999999999955,\n",
       "  7.427999999999996,\n",
       "  7.327999999999999,\n",
       "  7.206000000000002,\n",
       "  7.075000000000002,\n",
       "  7.057,\n",
       "  6.924999999999999,\n",
       "  6.761,\n",
       "  6.633000000000003,\n",
       "  6.542000000000005],\n",
       " 'rf2': [4.652241289180027,\n",
       "  4.7161641266477465,\n",
       "  4.85559697025184,\n",
       "  5.175915159517984,\n",
       "  5.5154436477800814,\n",
       "  5.950768086779065,\n",
       "  6.349471644817935,\n",
       "  6.657336162829097,\n",
       "  6.915201092801552,\n",
       "  7.063870036803678,\n",
       "  7.118906199674119,\n",
       "  7.187489549894485,\n",
       "  7.236832527789884,\n",
       "  7.270430484380893,\n",
       "  7.2648672203870595,\n",
       "  7.25887239798654,\n",
       "  7.253653354069585,\n",
       "  7.241672643949897,\n",
       "  7.159189139372893,\n",
       "  7.023547924151543,\n",
       "  6.840376317001933,\n",
       "  6.642535487500261,\n",
       "  6.427703666997643,\n",
       "  6.161785756839841,\n",
       "  5.944950486420877,\n",
       "  5.7883036858302015]}"
      ]
     },
     "execution_count": 13,
     "metadata": {},
     "output_type": "execute_result"
    }
   ],
   "source": [
    "f.forecasts"
   ]
  },
  {
   "cell_type": "code",
   "execution_count": null,
   "metadata": {},
   "outputs": [],
   "source": []
  }
 ],
 "metadata": {
  "kernelspec": {
   "display_name": "Python 3",
   "language": "python",
   "name": "python3"
  },
  "language_info": {
   "codemirror_mode": {
    "name": "ipython",
    "version": 3
   },
   "file_extension": ".py",
   "mimetype": "text/x-python",
   "name": "python",
   "nbconvert_exporter": "python",
   "pygments_lexer": "ipython3",
   "version": "3.7.6"
  },
  "widgets": {
   "application/vnd.jupyter.widget-state+json": {
    "state": {},
    "version_major": 2,
    "version_minor": 0
   }
  }
 },
 "nbformat": 4,
 "nbformat_minor": 4
}
