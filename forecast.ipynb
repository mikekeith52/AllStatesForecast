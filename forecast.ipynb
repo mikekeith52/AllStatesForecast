{
 "cells": [
  {
   "cell_type": "code",
   "execution_count": 1,
   "metadata": {},
   "outputs": [],
   "source": [
    "import pandas as pd\n",
    "import numpy as np\n",
    "import os\n",
    "import datetime\n",
    "import matplotlib.pyplot as plt\n",
    "import seaborn as sns\n",
    "from ipywidgets import widgets\n",
    "from IPython.display import display, clear_output\n",
    "import pickle\n",
    "import pandas_datareader as pdr\n",
    "from tqdm.notebook import tqdm as log_progress"
   ]
  },
  {
   "cell_type": "code",
   "execution_count": 2,
   "metadata": {},
   "outputs": [],
   "source": [
    "from Forecaster import Forecaster"
   ]
  },
  {
   "cell_type": "code",
   "execution_count": 3,
   "metadata": {},
   "outputs": [],
   "source": [
    "def get_monthly_futures(start,n_periods):\n",
    "    \"\"\" Returns a list of future dates to forecast for in the form 'yyyy-mm-01'\n",
    "        Parameters: start : str\n",
    "                        a date in the form 'yyyy-mm-01'\n",
    "                    n_periods : int \n",
    "                        how many periods to go out\n",
    "                        the size of the resulting list\n",
    "    \"\"\"\n",
    "    first_month = int(start.split('-')[1])\n",
    "    months = [first_month + i for i in range(n_periods)]\n",
    "    years = [int(start.split('-')[0])] * n_periods\n",
    "    while max(months) > 12:\n",
    "        for i, m in enumerate(months):\n",
    "            if m > 12:\n",
    "                months[i] -= 12\n",
    "                years[i] += 1\n",
    "    return ['{}-{:02d}-01'.format(y,m) for y, m in zip(years,months)]\n",
    "\n",
    "def get_regressors(futures,month_lags=24,year_lags=0):\n",
    "    \"\"\" returns a dataframe of external regressors from FRED\n",
    "        extracts the recession indicator and maps to length specified in recession_length\n",
    "        adds month and year lags\n",
    "        adds an inidcator of when the last recession occured\n",
    "        adds a time trend\n",
    "        Parameters: futures : list\n",
    "                        a list of dates in format YYYY-mm-01\n",
    "                        if there is overlap between the earlier dates and what is extracted from FRED, that will be handled in the function\n",
    "                    recession_length : int, default 18\n",
    "                        the total assumed length of the recession (last one began 10/1/2019)\n",
    "                        this does not take into account the amount of months the recession has already gone\n",
    "                    month_lags : int, default 24\n",
    "                        the amount of month lags you want added of the recession inidcator from FRED\n",
    "                        must be at least 1\n",
    "                    year_lags : int, default 0\n",
    "                        the amount of year lags you want added of the recession inidcator from FRED\n",
    "    \"\"\"\n",
    "    externals = pdr.get_data_fred(['JHDUSRGDPBR','CPIAUCSL'],start='1900-01-01').reset_index()\n",
    "    externals = externals[externals['DATE'] >= externals.loc[~externals['JHDUSRGDPBR'].isnull(),'DATE'].min()]\n",
    "    externals['JHDUSRGDPBR'].fillna(method='ffill',inplace=True)\n",
    "    externals = externals[['DATE','JHDUSRGDPBR']]\n",
    "    futures = pd.to_datetime([d for d in futures if d not in list(externals['DATE'].apply(lambda x: str(x)[:10]))])\n",
    "    recession_array = 0\n",
    "    externals_future = pd.DataFrame({'DATE':futures,'JHDUSRGDPBR':recession_array})\n",
    "    externals = externals.append(externals_future,ignore_index=True,sort=False)\n",
    "    for i in range(min(1,month_lags),month_lags+1):\n",
    "        if i == 0:\n",
    "            break # 0 lags specified\n",
    "        externals[f'JHDUSRGDPBR_lagMonth_{i}'] = externals['JHDUSRGDPBR'].shift(i)\n",
    "    for i in range(min(1,year_lags),year_lags+1):\n",
    "        if i == 0:\n",
    "            break # 0 lags specified\n",
    "        externals[f'JHDUSRGDPBR_lagYear_{i}'] = externals['JHDUSRGDPBR'].shift(i*12)\n",
    "    externals['LastRecession'] = externals[['DATE','JHDUSRGDPBR','JHDUSRGDPBR_lagMonth_1']].apply(lambda x: str(x[0]) if (x[1] == 1) & (x[2] == 0) else None, axis=1)\n",
    "    externals['LastRecession'].fillna(method='ffill',inplace=True)\n",
    "    externals['t'] = range(externals.shape[0])\n",
    "    return externals.copy()\n",
    "\n",
    "def pickle_out(obj):\n",
    "    \"\"\" writes out forecast results as a pickle file to the pickled folder\n",
    "        Parameters: obj : any data type\n",
    "                        the object to be written out -- this will be a Forecaster object\n",
    "    \"\"\"\n",
    "    with open('pickled/AllStatesForecasts-{0}.pickle'.format(str(datetime.datetime.now()).split('.')[0].replace(':','')),'wb') as f:\n",
    "        pickle.dump(obj,f)\n",
    "\n",
    "def pickle_in(which='latest'):\n",
    "    \"\"\" reads a pickle object saved in the pickled folder\n",
    "        Parameters: which : str, default \"latest\"\n",
    "                        if \"latest\", will read in the most recently created file in the pickled folder\n",
    "                        any other argument should be a datetime-like str and correspond with a file name in the pickled folder\n",
    "                        ex. to extract the AllStatesForecast-2020-09-11 121129.pickle file, this would be \"2020-09-11 121129\"\n",
    "    \"\"\"\n",
    "    if which == 'latest':\n",
    "        most_recent_file = max([f for f in os.listdir('pickled')])\n",
    "        f= open(f'pickled/{most_recent_file}','rb')\n",
    "    else:\n",
    "        f= open(f'pickled/AllStatesForecasts-{which}.pickle','rb')\n",
    "    x = pickle.load(f)\n",
    "    f.close()\n",
    "    return x\n",
    "\n",
    "def visualize():\n",
    "    \"\"\" visualize the forecast results\n",
    "        leverages Jupyter widgets\n",
    "        relies on the ExternalsData object type\n",
    "        add new forecast names to the model_options list\n",
    "        Parameters: top : int\n",
    "                        the top number of models (by evaluated rmse) to display\n",
    "    \"\"\"\n",
    "    def display_user_selections(states_selection,ei_selection,models_selection):\n",
    "        \"\"\" displays graphs with seaborn based on what user selects from dropdown menus\n",
    "        \"\"\"\n",
    "        sns.set(rc={'figure.figsize':(18,10)})\n",
    "        selected_data = forecasts[f'{states_selection}{ei_selection}']\n",
    "        selected_data.plot(models=f'top_{models_selection}',metric='rmse',print_metric=True,plot_fitted=True)\n",
    "\n",
    "    def on_button_clicked(b):\n",
    "        \"\"\" passes the user options to the display_user_selections function after the button is pressed\n",
    "        \"\"\"\n",
    "        states_selection = states_dropdown.value\n",
    "        ei_selection = ei_dropdown.value\n",
    "        models_selection = models_dropdown.value\n",
    "        with output:\n",
    "            clear_output()\n",
    "            display_user_selections(states_selection,ei_selection,models_selection)\n",
    "    \n",
    "    states_dropdown = widgets.Dropdown(options=states, description = 'State')\n",
    "    ei_dropdown = widgets.Dropdown(options=['SLIND','PHCI','UR'], description = 'Indicator')\n",
    "    models_dropdown = widgets.Dropdown(options=range(1,15), description = 'No. Models')\n",
    "\n",
    "    # never changes\n",
    "    button = widgets.Button(description=\"Show Forecast\")\n",
    "    output = widgets.Output()\n",
    "\n",
    "    display(states_dropdown,ei_dropdown,models_dropdown)\n",
    "    display(button, output)\n",
    "    \n",
    "    button.on_click(on_button_clicked)   "
   ]
  },
  {
   "cell_type": "code",
   "execution_count": 4,
   "metadata": {},
   "outputs": [],
   "source": [
    "# a list of state abbreviations\n",
    "states = [e.replace('\"','') for e in open('state_abb.txt').read().split('\\n')]\n",
    "# a list of future dates\n",
    "futures = get_monthly_futures('2020-02-01',33)"
   ]
  },
  {
   "cell_type": "code",
   "execution_count": 5,
   "metadata": {},
   "outputs": [],
   "source": [
    "# whether or not to rerun the forecast - if false, will read in a pickled forecast\n",
    "rerun = False\n",
    "if rerun:\n",
    "    externals = get_regressors(futures)\n",
    "    forecasts = {}\n",
    "    for s in log_progress(states):\n",
    "        for ei in ('SLIND','PHCI','UR'):\n",
    "            f = Forecaster()\n",
    "            if ei == 'PHCI':\n",
    "                f.get_data_fred(f'{s}{ei}',i=2)\n",
    "            else:\n",
    "                f.get_data_fred(f'{s}{ei}',i=1)\n",
    "            f.process_xreg_df(externals,date_col='DATE')\n",
    "            f.forecast_mlp(test_length=12,hyper_params={'hidden_layer_sizes':(10,50,),'solver':'lbfgs','activation':'relu'})\n",
    "            f.forecast_mlr(test_length=12)\n",
    "            f.forecast_ridge(test_length=12,alpha=10)\n",
    "            f.forecast_lasso(test_length=12,alpha=.05)\n",
    "            f.forecast_svr(test_length=12,hyper_params={'kernel':'linear','C':0.05,'epsilon':1.25})\n",
    "            f.forecast_auto_arima(test_length=12,Xvars='top_2',call_me='arima_2_vars')\n",
    "            f.forecast_auto_arima(test_length=12,Xvars=None)\n",
    "            f.forecast_auto_hwes(test_length=12)\n",
    "            f.forecast_tbats(test_length=12)\n",
    "            f.forecast_ets(test_length=12)\n",
    "            f.forecast_prophet(test_length=12,Xvars='all')\n",
    "            f.forecast_prophet(test_length=12,Xvars='top_2',call_me='prophet_2_reg')\n",
    "            f.forecast_prophet(test_length=12,call_me='prophet_no_reg')\n",
    "            f.forecast_average(models='top_4',metric='rmse')\n",
    "            forecasts[f'{s}{ei}'] = f\n",
    "    pickle_out(forecasts)\n",
    "else:\n",
    "    forecasts = pickle_in('latest')"
   ]
  },
  {
   "cell_type": "code",
   "execution_count": 6,
   "metadata": {},
   "outputs": [],
   "source": [
    "with open('forecast_info.csv','w') as f:\n",
    "    # column headers\n",
    "    f.write(';'.join([\n",
    "        'symbol',\n",
    "        'state',\n",
    "        'ei',\n",
    "        'series_start_date',\n",
    "        'series_end_date',\n",
    "        'n_obs',\n",
    "        'model_form',\n",
    "        'model_nickname',\n",
    "        'externals',\n",
    "        'holdout_periods',\n",
    "        'rmse',\n",
    "        'last_predicted_test_value',\n",
    "        'last_actual_test_value',\n",
    "        'is_best_model'\n",
    "    ]))\n",
    "    # data\n",
    "    for k, dat in forecasts.items():\n",
    "        dat.set_best_model()\n",
    "        for m in dat.forecasts:\n",
    "            f.write('\\n')\n",
    "            f.write(';'.join([\n",
    "                dat.name,\n",
    "                dat.name[:2],\n",
    "                dat.name[2:],\n",
    "                str(dat.current_dates[0]),\n",
    "                str(dat.current_dates[-1]),\n",
    "                str(len(dat.y)),\n",
    "                dat.info[m]['model_form'],\n",
    "                m,\n",
    "                str(dat.feature_importance[m].index.to_list()) if m in dat.feature_importance.keys() else 'None',\n",
    "                str(dat.info[m]['holdout_periods']),\n",
    "                str(dat.rmse[m]),\n",
    "                str(list(dat.info[m]['test_set_predictions'])[-1]),\n",
    "                str(dat.info[m]['test_set_actuals'][-1]),\n",
    "                '1' if m == dat.best_model else '0'\n",
    "            ]))\n",
    "\n",
    "forecast_info = pd.read_csv('forecast_info.csv',sep=';')"
   ]
  },
  {
   "cell_type": "code",
   "execution_count": 7,
   "metadata": {},
   "outputs": [
    {
     "data": {
      "image/png": "[encoded data removed]",
      "text/plain": [
       "<Figure size 864x432 with 1 Axes>"
      ]
     },
     "metadata": {},
     "output_type": "display_data"
    }
   ],
   "source": [
    "forecast_info1 = forecast_info.replace([np.inf, -np.inf], np.nan).dropna()\n",
    "forecast_info2 = forecast_info1.loc[(forecast_info1['is_best_model'] == 1)]\n",
    "\n",
    "sns.set(rc={'figure.figsize':(12,6)})\n",
    "sns.distplot(forecast_info1['rmse'], color='red', label='Test Set rmse')\n",
    "sns.distplot(forecast_info2['rmse'], color='skyblue', label='Test Set rmse - Best Models Only')\n",
    "plt.xlabel('')\n",
    "plt.title('Forecast rmses')\n",
    "plt.legend()\n",
    "plt.show()"
   ]
  },
  {
   "cell_type": "code",
   "execution_count": 8,
   "metadata": {},
   "outputs": [
    {
     "name": "stdout",
     "output_type": "stream",
     "text": [
      "all models median rmse: 3.0788570429442457\n",
      "best models median rmse: 3.0515823945075704\n"
     ]
    }
   ],
   "source": [
    "print('all models median rmse:',forecast_info1['rmse'].median())\n",
    "print('best models median rmse:',forecast_info2['rmse'].median())"
   ]
  },
  {
   "cell_type": "code",
   "execution_count": 9,
   "metadata": {},
   "outputs": [
    {
     "data": {
      "application/vnd.jupyter.widget-view+json": {
       "model_id": "721cda6c54a14d198ae64e08304e5d99",
       "version_major": 2,
       "version_minor": 0
      },
      "text/plain": [
       "Dropdown(description='State', options=('AL', 'AK', 'AZ', 'AR', 'CA', 'CO', 'CT', 'DE', 'FL', 'GA', 'HI', 'ID',…"
      ]
     },
     "metadata": {},
     "output_type": "display_data"
    },
    {
     "data": {
      "application/vnd.jupyter.widget-view+json": {
       "model_id": "6737e08f45d64b22a1a4382b5cd47a6f",
       "version_major": 2,
       "version_minor": 0
      },
      "text/plain": [
       "Dropdown(description='Indicator', options=('SLIND', 'PHCI', 'UR'), value='SLIND')"
      ]
     },
     "metadata": {},
     "output_type": "display_data"
    },
    {
     "data": {
      "application/vnd.jupyter.widget-view+json": {
       "model_id": "f050aa6c07324daeb76a9cd47c6b31de",
       "version_major": 2,
       "version_minor": 0
      },
      "text/plain": [
       "Dropdown(description='No. Models', options=(1, 2, 3, 4, 5, 6, 7, 8, 9, 10, 11, 12, 13, 14), value=1)"
      ]
     },
     "metadata": {},
     "output_type": "display_data"
    },
    {
     "data": {
      "application/vnd.jupyter.widget-view+json": {
       "model_id": "cc62cf87d2fc4c92a5410d3031fcf098",
       "version_major": 2,
       "version_minor": 0
      },
      "text/plain": [
       "Button(description='Show Forecast', style=ButtonStyle())"
      ]
     },
     "metadata": {},
     "output_type": "display_data"
    },
    {
     "data": {
      "application/vnd.jupyter.widget-view+json": {
       "model_id": "08eb20fc75aa43278d3665fa142bbdf6",
       "version_major": 2,
       "version_minor": 0
      },
      "text/plain": [
       "Output()"
      ]
     },
     "metadata": {},
     "output_type": "display_data"
    }
   ],
   "source": [
    "visualize()"
   ]
  },
  {
   "cell_type": "code",
   "execution_count": null,
   "metadata": {},
   "outputs": [],
   "source": []
  }
 ],
 "metadata": {
  "kernelspec": {
   "display_name": "Python 3",
   "language": "python",
   "name": "python3"
  },
  "language_info": {
   "codemirror_mode": {
    "name": "ipython",
    "version": 3
   },
   "file_extension": ".py",
   "mimetype": "text/x-python",
   "name": "python",
   "nbconvert_exporter": "python",
   "pygments_lexer": "ipython3",
   "version": "3.7.6"
  },
  "widgets": {
   "application/vnd.jupyter.widget-state+json": {
    "state": {
     "08eb20fc75aa43278d3665fa142bbdf6": {
      "model_module": "@jupyter-widgets/output",
      "model_module_version": "1.0.0",
      "model_name": "OutputModel",
      "state": {
       "layout": "IPY_MODEL_28eaf984c9654dcdbfac9f0fde3b788b",
       "outputs": [
        {
         "name": "stdout",
         "output_type": "stream",
         "text": "ridge 12-period test-set rmse: 2.741297507648404 \n"
        },
        {
         "data": {
          "image/png": "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\n",
          "text/plain": "<Figure size 1296x720 with 1 Axes>"
         },
         "metadata": {},
         "output_type": "display_data"
        }
       ]
      }
     },
     "19667a792d4943f0a744f93ab505f804": {
      "model_module": "@jupyter-widgets/base",
      "model_module_version": "1.2.0",
      "model_name": "LayoutModel",
      "state": {}
     },
     "1fcc2177eca245cc9afaf74d0a7e495c": {
      "model_module": "@jupyter-widgets/controls",
      "model_module_version": "1.5.0",
      "model_name": "DescriptionStyleModel",
      "state": {
       "description_width": ""
      }
     },
     "24f1b664fbaf4b1baf184f6ce9cf5b7d": {
      "model_module": "@jupyter-widgets/base",
      "model_module_version": "1.2.0",
      "model_name": "LayoutModel",
      "state": {}
     },
     "28eaf984c9654dcdbfac9f0fde3b788b": {
      "model_module": "@jupyter-widgets/base",
      "model_module_version": "1.2.0",
      "model_name": "LayoutModel",
      "state": {}
     },
     "2f05f516527b441f88a37fab9724ead1": {
      "model_module": "@jupyter-widgets/base",
      "model_module_version": "1.2.0",
      "model_name": "LayoutModel",
      "state": {}
     },
     "31a6a32d876547ad8b705345fafd31e4": {
      "model_module": "@jupyter-widgets/controls",
      "model_module_version": "1.5.0",
      "model_name": "DescriptionStyleModel",
      "state": {
       "description_width": ""
      }
     },
     "631932863a3c48e1bddee0c9f1201475": {
      "model_module": "@jupyter-widgets/base",
      "model_module_version": "1.2.0",
      "model_name": "LayoutModel",
      "state": {}
     },
     "6737e08f45d64b22a1a4382b5cd47a6f": {
      "model_module": "@jupyter-widgets/controls",
      "model_module_version": "1.5.0",
      "model_name": "DropdownModel",
      "state": {
       "_options_labels": [
        "SLIND",
        "PHCI",
        "UR"
       ],
       "description": "Indicator",
       "index": 2,
       "layout": "IPY_MODEL_24f1b664fbaf4b1baf184f6ce9cf5b7d",
       "style": "IPY_MODEL_1fcc2177eca245cc9afaf74d0a7e495c"
      }
     },
     "721cda6c54a14d198ae64e08304e5d99": {
      "model_module": "@jupyter-widgets/controls",
      "model_module_version": "1.5.0",
      "model_name": "DropdownModel",
      "state": {
       "_options_labels": [
        "AL",
        "AK",
        "AZ",
        "AR",
        "CA",
        "CO",
        "CT",
        "DE",
        "FL",
        "GA",
        "HI",
        "ID",
        "IL",
        "IN",
        "IA",
        "KS",
        "KY",
        "LA",
        "ME",
        "MD",
        "MA",
        "MI",
        "MN",
        "MS",
        "MO",
        "MT",
        "NE",
        "NV",
        "NH",
        "NJ",
        "NM",
        "NY",
        "NC",
        "ND",
        "OH",
        "OK",
        "OR",
        "PA",
        "RI",
        "SC",
        "SD",
        "TN",
        "TX",
        "UT",
        "VT",
        "VA",
        "WA",
        "WV",
        "WI",
        "WY"
       ],
       "description": "State",
       "index": 1,
       "layout": "IPY_MODEL_2f05f516527b441f88a37fab9724ead1",
       "style": "IPY_MODEL_a77769b94e7f46e58db0a503e5f098c3"
      }
     },
     "a77769b94e7f46e58db0a503e5f098c3": {
      "model_module": "@jupyter-widgets/controls",
      "model_module_version": "1.5.0",
      "model_name": "DescriptionStyleModel",
      "state": {
       "description_width": ""
      }
     },
     "cc62cf87d2fc4c92a5410d3031fcf098": {
      "model_module": "@jupyter-widgets/controls",
      "model_module_version": "1.5.0",
      "model_name": "ButtonModel",
      "state": {
       "description": "Show Forecast",
       "layout": "IPY_MODEL_19667a792d4943f0a744f93ab505f804",
       "style": "IPY_MODEL_e2cd3aa9973a49c9b1ba5d6475f18fe4"
      }
     },
     "e2cd3aa9973a49c9b1ba5d6475f18fe4": {
      "model_module": "@jupyter-widgets/controls",
      "model_module_version": "1.5.0",
      "model_name": "ButtonStyleModel",
      "state": {}
     },
     "f050aa6c07324daeb76a9cd47c6b31de": {
      "model_module": "@jupyter-widgets/controls",
      "model_module_version": "1.5.0",
      "model_name": "DropdownModel",
      "state": {
       "_options_labels": [
        "1",
        "2",
        "3",
        "4",
        "5",
        "6",
        "7",
        "8",
        "9",
        "10",
        "11",
        "12",
        "13",
        "14"
       ],
       "description": "No. Models",
       "index": 0,
       "layout": "IPY_MODEL_631932863a3c48e1bddee0c9f1201475",
       "style": "IPY_MODEL_31a6a32d876547ad8b705345fafd31e4"
      }
     }
    },
    "version_major": 2,
    "version_minor": 0
   }
  }
 },
 "nbformat": 4,
 "nbformat_minor": 4
}
