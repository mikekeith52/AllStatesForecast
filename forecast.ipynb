{
 "cells": [
  {
   "cell_type": "code",
   "execution_count": 1,
   "metadata": {},
   "outputs": [
    {
     "name": "stderr",
     "output_type": "stream",
     "text": [
      "C:\\Users\\uger7\\Anaconda3\\lib\\site-packages\\statsmodels\\tools\\_testing.py:19: FutureWarning: pandas.util.testing is deprecated. Use the functions in the public API at pandas.testing instead.\n",
      "  import pandas.util.testing as tm\n"
     ]
    }
   ],
   "source": [
    "import pandas as pd\n",
    "import numpy as np\n",
    "import os\n",
    "import datetime\n",
    "import matplotlib.pyplot as plt\n",
    "import seaborn as sns\n",
    "from ipywidgets import widgets\n",
    "from IPython.display import display, clear_output\n",
    "import pickle\n",
    "import pandas_datareader as pdr\n",
    "from tqdm.notebook import tqdm as log_progress"
   ]
  },
  {
   "cell_type": "code",
   "execution_count": 2,
   "metadata": {},
   "outputs": [],
   "source": [
    "from Forecaster import Forecaster"
   ]
  },
  {
   "cell_type": "code",
   "execution_count": 3,
   "metadata": {},
   "outputs": [],
   "source": [
    "def get_monthly_futures(start,n_periods):\n",
    "    \"\"\" Returns a list of future dates to forecast for in the form 'yyyy-mm-01'\n",
    "        Parameters: start : str\n",
    "                        a date in the form 'yyyy-mm-01'\n",
    "                    n_periods : int \n",
    "                        the size of the resulting list\n",
    "    \"\"\"\n",
    "    first_month = int(start.split('-')[1])\n",
    "    months = [first_month + i for i in range(n_periods)]\n",
    "    years = [int(start.split('-')[0])] * n_periods\n",
    "    while max(months) > 12:\n",
    "        for i, m in enumerate(months):\n",
    "            if m > 12:\n",
    "                months[i] -= 12\n",
    "                years[i] += 1\n",
    "    return ['{}-{:02d}-01'.format(y,m) for y, m in zip(years,months)]\n",
    "\n",
    "def get_regressors(futures,recession_length=18,month_lags=24,year_lags=0):\n",
    "    \"\"\" gets a matrix of external regressors from FRED\n",
    "        extracts the recession indicator and maps to length specified in recession_length\n",
    "        adds month and year lags\n",
    "        adds an inidcator of when the last recession occured\n",
    "        adds a time trend\n",
    "        Parameters: futures : list\n",
    "                        a list of dates in format YYYY-mm-01\n",
    "                        if there is overlap between the earlier dates and what is extracted from FRED, that will be handled in the function\n",
    "                    recession_length : int, default 15\n",
    "                        the total assumed length of the recession\n",
    "                        this does not take into account the amount of months the recession has already gone\n",
    "                    month_lags : int, default 24\n",
    "                        the amount of month lags you want added of the recession inidcator from FRED\n",
    "                    year_lags : int, default 0\n",
    "                        the amount of year lags you want added of the recession inidcator from FRED\n",
    "    \"\"\"\n",
    "    externals = pdr.get_data_fred(['JHDUSRGDPBR','CPIAUCSL'],start='1900-01-01').reset_index()\n",
    "    externals = externals[externals['DATE'] >= externals.loc[~externals['JHDUSRGDPBR'].isnull(),'DATE'].min()]\n",
    "    externals['JHDUSRGDPBR'].fillna(method='ffill',inplace=True)\n",
    "    externals = externals[['DATE','JHDUSRGDPBR']]\n",
    "    futures = pd.to_datetime([d for d in futures if d not in list(externals['DATE'].apply(lambda x: str(x)[:10]))])\n",
    "    past_recession_periods = externals.loc[externals['DATE'] >= '2019-10-01','JHDUSRGDPBR'].sum()\n",
    "    recession_left = recession_length - past_recession_periods\n",
    "    recession_array = [1] * max(0,int(recession_left)) + [0] * (max(0,len(futures)) - int(recession_left))\n",
    "    externals_future = pd.DataFrame({'DATE':futures,'JHDUSRGDPBR':recession_array})\n",
    "    externals = externals.append(externals_future,ignore_index=True,sort=False)\n",
    "    for i in range(min(1,month_lags),month_lags+1):\n",
    "        if i == 0:\n",
    "            break\n",
    "        externals[f'JHDUSRGDPBR_lagMonth_{i}'] = externals['JHDUSRGDPBR'].shift(i)\n",
    "    for i in range(min(1,year_lags),year_lags+1):\n",
    "        if i == 0:\n",
    "            break\n",
    "        externals[f'JHDUSRGDPBR_lagYear_{i}'] = externals['JHDUSRGDPBR'].shift(i*12)\n",
    "    externals['LastRecession'] = externals[['DATE','JHDUSRGDPBR','JHDUSRGDPBR_lagMonth_1']].apply(lambda x: str(x[0]) if (x[1] == 1) & (x[2] == 0) else None, axis=1)\n",
    "    externals['LastRecession'].fillna(method='ffill',inplace=True)\n",
    "    externals['t'] = range(externals.shape[0])\n",
    "    return externals.copy()\n",
    "\n",
    "def pickle_out(obj):\n",
    "    \"\"\" writes out forecast results as a pickle file to the pickled folder\n",
    "        Parameters: obj : any data type\n",
    "                        the object to be written out -- this will be a Forecaster object\n",
    "    \"\"\"\n",
    "    with open('pickled/AllStatesForecasts-{0}.pickle'.format(str(datetime.datetime.now()).split('.')[0].replace(':','')),'wb') as f:\n",
    "        pickle.dump(obj,f)\n",
    "\n",
    "def pickle_in(which='latest'):\n",
    "    \"\"\" reads a pickle object saved in the pickled folder\n",
    "        Parameters: which : str, default \"latest\"\n",
    "                        if \"latest\", will read in the most recently created file in the pickled folder\n",
    "                        any other argument should be a datetime-like str and correspond with a file name in the pickled folder\n",
    "                        ex. to extract the AllStatesForecast-2020-09-11 121129.pickle file, this would be \"2020-09-11 121129\"\n",
    "    \"\"\"\n",
    "    if which == 'latest':\n",
    "        most_recent_file = max([f for f in os.listdir('pickled')])\n",
    "        f= open(f'pickled/{most_recent_file}','rb')\n",
    "    else:\n",
    "        f= open(f'pickled/AllStatesForecasts-{which}.pickle','rb')\n",
    "    x = pickle.load(f)\n",
    "    f.close()\n",
    "    return x\n",
    "\n",
    "def visualize():\n",
    "    \"\"\" visualize the forecast results\n",
    "        leverages Jupyter widgets\n",
    "        relies on the ExternalsData object type\n",
    "        add new forecast names to the model_options list\n",
    "        Parameters: top : int\n",
    "                        the top number of models (by evaluated MAPE) to display\n",
    "    \"\"\"\n",
    "    def display_user_selections(states_selection,ei_selection,models_selection):\n",
    "        \"\"\" displays graphs with seaborn based on what user selects from dropdown menus\n",
    "        \"\"\"\n",
    "        sns.set(rc={'figure.figsize':(18,10)})\n",
    "        selected_data = forecasts[f'{states_selection}{ei_selection}']\n",
    "        selected_data.display_ts_plot(models=f'top_{models_selection}',print_mapes=True)\n",
    "\n",
    "    def on_button_clicked(b):\n",
    "        \"\"\" passes the user options to the display_user_selections function after the button is pressed\n",
    "        \"\"\"\n",
    "        states_selection = states_dropdown.value\n",
    "        ei_selection = ei_dropdown.value\n",
    "        models_selection = models_dropdown.value\n",
    "        with output:\n",
    "            clear_output()\n",
    "            display_user_selections(states_selection,ei_selection,models_selection)\n",
    "    \n",
    "    states_dropdown = widgets.Dropdown(options=states, description = 'State')\n",
    "    ei_dropdown = widgets.Dropdown(options=['SLIND','PHCI','UR'], description = 'Indicator')\n",
    "    models_dropdown = widgets.Dropdown(options=range(1,14), description = 'No. Models')\n",
    "\n",
    "    # never changes\n",
    "    button = widgets.Button(description=\"Show Forecast\")\n",
    "    output = widgets.Output()\n",
    "\n",
    "    display(states_dropdown,ei_dropdown,models_dropdown)\n",
    "    display(button, output)\n",
    "    \n",
    "    button.on_click(on_button_clicked)   "
   ]
  },
  {
   "cell_type": "code",
   "execution_count": 4,
   "metadata": {},
   "outputs": [],
   "source": [
    "# a list of state abbreviations\n",
    "states = [e.replace('\"','') for e in open('state_abb.txt').read().split('\\n')]\n",
    "# a list of future dates\n",
    "futures = get_monthly_futures('2020-08-01',27)"
   ]
  },
  {
   "cell_type": "code",
   "execution_count": 5,
   "metadata": {},
   "outputs": [],
   "source": [
    "# whether or not to rerun the forecast - if false, will read in a pickled forecast\n",
    "rerun = False\n",
    "if rerun:\n",
    "    externals = get_regressors(futures)\n",
    "    forecasts = {}\n",
    "    for s in log_progress(states):\n",
    "        for ei in ('SLIND','PHCI','UR'):\n",
    "            d = Forecaster()\n",
    "            d.get_data_fred(f'{s}{ei}')\n",
    "            d.process_xreg_df(externals,date_col='DATE')\n",
    "            d.check_xreg_future_current_consistency()\n",
    "            d.forecast_mlp(test_length=12,hyper_params={'hidden_layer_sizes':(10,50,),'solver':'lbfgs','activation':'relu'})\n",
    "            d.forecast_rf(test_length=12,hyper_params={'n_estimators':500,'max_depth':3})\n",
    "            d.forecast_gbt(test_length=12,hyper_params={'max_depth':3,'n_estimators':500})\n",
    "            d.forecast_adaboost(test_length=12,hyper_params={'learning_rate':.5,'n_estimators':250})\n",
    "            d.forecast_mlr(test_length=12)\n",
    "            d.forecast_ridge(test_length=12,alpha=10)\n",
    "            d.forecast_lasso(test_length=12,alpha=.05)\n",
    "            d.forecast_svr(test_length=12,hyper_params={'kernel':'linear','C':0.05,'epsilon':1.25})\n",
    "            d.forecast_arima(test_length=12,Xvars='top_3')\n",
    "            d.forecast_arima(test_length=12,Xvars=None,call_me='arima_no_reg')\n",
    "            d.forecast_tbats(test_length=12)\n",
    "            d.forecast_ets(test_length=12)\n",
    "            d.forecast_average(models='top_4')\n",
    "            forecasts[f'{s}{ei}'] = d\n",
    "    pickle_out(forecasts)\n",
    "else:\n",
    "    forecasts = pickle_in('latest')"
   ]
  },
  {
   "cell_type": "code",
   "execution_count": 6,
   "metadata": {},
   "outputs": [
    {
     "data": {
      "application/vnd.jupyter.widget-view+json": {
       "model_id": "4e76d88ddca44fb3860cece7b6092141",
       "version_major": 2,
       "version_minor": 0
      },
      "text/plain": [
       "Dropdown(description='State', options=('AL', 'AK', 'AZ', 'AR', 'CA', 'CO', 'CT', 'DE', 'FL', 'GA', 'HI', 'ID',…"
      ]
     },
     "metadata": {},
     "output_type": "display_data"
    },
    {
     "data": {
      "application/vnd.jupyter.widget-view+json": {
       "model_id": "22a783d3433d4739b26bca91200a957b",
       "version_major": 2,
       "version_minor": 0
      },
      "text/plain": [
       "Dropdown(description='Indicator', options=('SLIND', 'PHCI', 'UR'), value='SLIND')"
      ]
     },
     "metadata": {},
     "output_type": "display_data"
    },
    {
     "data": {
      "application/vnd.jupyter.widget-view+json": {
       "model_id": "afbaf8d1f634459896c0b1b0ff6801d5",
       "version_major": 2,
       "version_minor": 0
      },
      "text/plain": [
       "Dropdown(description='No. Models', options=(1, 2, 3, 4, 5, 6, 7, 8, 9, 10, 11, 12, 13), value=1)"
      ]
     },
     "metadata": {},
     "output_type": "display_data"
    },
    {
     "data": {
      "application/vnd.jupyter.widget-view+json": {
       "model_id": "fbd4034a32154a7484c8583adbb8a9ea",
       "version_major": 2,
       "version_minor": 0
      },
      "text/plain": [
       "Button(description='Show Forecast', style=ButtonStyle())"
      ]
     },
     "metadata": {},
     "output_type": "display_data"
    },
    {
     "data": {
      "application/vnd.jupyter.widget-view+json": {
       "model_id": "cf8bb2a562eb47b2903bd44a20b1b56a",
       "version_major": 2,
       "version_minor": 0
      },
      "text/plain": [
       "Output()"
      ]
     },
     "metadata": {},
     "output_type": "display_data"
    }
   ],
   "source": [
    "visualize()"
   ]
  },
  {
   "cell_type": "code",
   "execution_count": null,
   "metadata": {},
   "outputs": [],
   "source": []
  }
 ],
 "metadata": {
  "kernelspec": {
   "display_name": "Python 3",
   "language": "python",
   "name": "python3"
  },
  "language_info": {
   "codemirror_mode": {
    "name": "ipython",
    "version": 3
   },
   "file_extension": ".py",
   "mimetype": "text/x-python",
   "name": "python",
   "nbconvert_exporter": "python",
   "pygments_lexer": "ipython3",
   "version": "3.7.4"
  },
  "widgets": {
   "application/vnd.jupyter.widget-state+json": {
    "state": {
     "0193a2c1132a47bd85895c090fd8851e": {
      "model_module": "@jupyter-widgets/base",
      "model_module_version": "1.2.0",
      "model_name": "LayoutModel",
      "state": {}
     },
     "0d8ca479feb047a18ccd8b8d6c56d86e": {
      "model_module": "@jupyter-widgets/base",
      "model_module_version": "1.2.0",
      "model_name": "LayoutModel",
      "state": {}
     },
     "156d047296cc4c3487310d951e0435c7": {
      "model_module": "@jupyter-widgets/controls",
      "model_module_version": "1.5.0",
      "model_name": "DropdownModel",
      "state": {
       "_options_labels": [
        "SLIND",
        "PHCI",
        "UR"
       ],
       "description": "Indicator",
       "index": 0,
       "layout": "IPY_MODEL_0d8ca479feb047a18ccd8b8d6c56d86e",
       "style": "IPY_MODEL_7fe459187e8a4699b4b278f31ec9da83"
      }
     },
     "15b9c5c5cc8247c2851ee2427f70b2d6": {
      "model_module": "@jupyter-widgets/controls",
      "model_module_version": "1.5.0",
      "model_name": "DropdownModel",
      "state": {
       "_options_labels": [
        "True",
        "False"
       ],
       "description": "tbats",
       "index": 0,
       "layout": "IPY_MODEL_91a14bc9a6a84a3baa4fedbef1d6992d",
       "style": "IPY_MODEL_7c2e82201bfe4f9f8e8ded1ff0f68912"
      }
     },
     "18d11d87fdfd4983b1291df8cd35c7f3": {
      "model_module": "@jupyter-widgets/base",
      "model_module_version": "1.2.0",
      "model_name": "LayoutModel",
      "state": {}
     },
     "1e911181492442bdaf82faca7f1c2560": {
      "model_module": "@jupyter-widgets/controls",
      "model_module_version": "1.5.0",
      "model_name": "DescriptionStyleModel",
      "state": {
       "description_width": ""
      }
     },
     "23d56e6de2ca4ceb912fe45c5ffc8a65": {
      "model_module": "@jupyter-widgets/base",
      "model_module_version": "1.2.0",
      "model_name": "LayoutModel",
      "state": {}
     },
     "241a742eddbb4ec2bb7c9ffa3b8bed55": {
      "model_module": "@jupyter-widgets/controls",
      "model_module_version": "1.5.0",
      "model_name": "DropdownModel",
      "state": {
       "_options_labels": [
        "True",
        "False"
       ],
       "description": "ridge",
       "index": 0,
       "layout": "IPY_MODEL_f896f092a0c4466ca7aa5fe3d7d8cc59",
       "style": "IPY_MODEL_acde0457b3924e06add7e6e1baa67130"
      }
     },
     "284e822dd3784eb9b3d2c97afbd21b9e": {
      "model_module": "@jupyter-widgets/controls",
      "model_module_version": "1.5.0",
      "model_name": "DescriptionStyleModel",
      "state": {
       "description_width": ""
      }
     },
     "2989f6ce4ca549b49dcb48775d2ef4f1": {
      "model_module": "@jupyter-widgets/controls",
      "model_module_version": "1.5.0",
      "model_name": "ButtonModel",
      "state": {
       "description": "Show Forecast",
       "layout": "IPY_MODEL_39c8c9e5fdfa43348f7b148f777d03d6",
       "style": "IPY_MODEL_9ecf10f4188e42aab0d77615c6466bd1"
      }
     },
     "351434845b23437e9c2a6da6cb3be46e": {
      "model_module": "@jupyter-widgets/controls",
      "model_module_version": "1.5.0",
      "model_name": "DescriptionStyleModel",
      "state": {
       "description_width": ""
      }
     },
     "385674f9ff0e48c68b6a89ff6077868b": {
      "model_module": "@jupyter-widgets/controls",
      "model_module_version": "1.5.0",
      "model_name": "DropdownModel",
      "state": {
       "_options_labels": [
        "True",
        "False"
       ],
       "description": "rf",
       "index": 0,
       "layout": "IPY_MODEL_54af8da28e304e38b5398681f6828a44",
       "style": "IPY_MODEL_b548efdac6df461cba6843ec26f54c85"
      }
     },
     "39c8c9e5fdfa43348f7b148f777d03d6": {
      "model_module": "@jupyter-widgets/base",
      "model_module_version": "1.2.0",
      "model_name": "LayoutModel",
      "state": {}
     },
     "4074fcc882c047d3b059e62db5df56cc": {
      "model_module": "@jupyter-widgets/output",
      "model_module_version": "1.0.0",
      "model_name": "OutputModel",
      "state": {
       "layout": "IPY_MODEL_f084e06969504baca14c063f3ba10f64",
       "outputs": [
        {
         "name": "stdout",
         "output_type": "stream",
         "text": "arima_no_reg 3-period test-set MAPE: 0.0891671860720684 \ntbats 3-period test-set MAPE: 0.09148498337110977 \nets 3-period test-set MAPE: 0.11293095359994333 \naverage 3-period test-set MAPE: 0.2096730604715528 \nmlr 3-period test-set MAPE: 0.5451091188430898 \ngbt 3-period test-set MAPE: 0.9414555612965652 \nlasso 3-period test-set MAPE: 1.0800759690751935 \nsvr 3-period test-set MAPE: 1.0962188656801821 \narima 3-period test-set MAPE: 1.1900548682916636 \nridge 3-period test-set MAPE: 1.3340164529332068 \nmlp 3-period test-set MAPE: 1.3486358967102203 \nrf 3-period test-set MAPE: 2.0205769578619144 \nadaboost 3-period test-set MAPE: 2.7543393219687924 \n"
        },
        {
         "data": {
          "image/png": "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\n",
          "text/plain": "<Figure size 1296x720 with 1 Axes>"
         },
         "metadata": {},
         "output_type": "display_data"
        }
       ]
      }
     },
     "439a163b98a7435eb26b66959176fd3b": {
      "model_module": "@jupyter-widgets/controls",
      "model_module_version": "1.5.0",
      "model_name": "DescriptionStyleModel",
      "state": {
       "description_width": ""
      }
     },
     "54af8da28e304e38b5398681f6828a44": {
      "model_module": "@jupyter-widgets/base",
      "model_module_version": "1.2.0",
      "model_name": "LayoutModel",
      "state": {}
     },
     "5b39b191bc48490eb7c06d676642d529": {
      "model_module": "@jupyter-widgets/controls",
      "model_module_version": "1.5.0",
      "model_name": "DropdownModel",
      "state": {
       "_options_labels": [
        "True",
        "False"
       ],
       "description": "average",
       "index": 0,
       "layout": "IPY_MODEL_d8f40d67750b481a95039c17ecf1ae34",
       "style": "IPY_MODEL_6ba3109eea354282a96ab210433228c1"
      }
     },
     "60156c5ab3fe4adfac4ae2ec2416db1c": {
      "model_module": "@jupyter-widgets/controls",
      "model_module_version": "1.5.0",
      "model_name": "DropdownModel",
      "state": {
       "_options_labels": [
        "True",
        "False"
       ],
       "description": "lasso",
       "index": 0,
       "layout": "IPY_MODEL_a43d187ae68b4ad0bee9e0f30d85c1f2",
       "style": "IPY_MODEL_65aab7a9110a49f69062d7c5577cb35f"
      }
     },
     "65aab7a9110a49f69062d7c5577cb35f": {
      "model_module": "@jupyter-widgets/controls",
      "model_module_version": "1.5.0",
      "model_name": "DescriptionStyleModel",
      "state": {
       "description_width": ""
      }
     },
     "67a667c01f034d8399ba1e688ece08fa": {
      "model_module": "@jupyter-widgets/controls",
      "model_module_version": "1.5.0",
      "model_name": "DescriptionStyleModel",
      "state": {
       "description_width": ""
      }
     },
     "6ba3109eea354282a96ab210433228c1": {
      "model_module": "@jupyter-widgets/controls",
      "model_module_version": "1.5.0",
      "model_name": "DescriptionStyleModel",
      "state": {
       "description_width": ""
      }
     },
     "770dac54074d49e39950b100c6586d02": {
      "model_module": "@jupyter-widgets/base",
      "model_module_version": "1.2.0",
      "model_name": "LayoutModel",
      "state": {}
     },
     "7c2e82201bfe4f9f8e8ded1ff0f68912": {
      "model_module": "@jupyter-widgets/controls",
      "model_module_version": "1.5.0",
      "model_name": "DescriptionStyleModel",
      "state": {
       "description_width": ""
      }
     },
     "7fe459187e8a4699b4b278f31ec9da83": {
      "model_module": "@jupyter-widgets/controls",
      "model_module_version": "1.5.0",
      "model_name": "DescriptionStyleModel",
      "state": {
       "description_width": ""
      }
     },
     "82caf388cd184afe9f79bb0bc4d91950": {
      "model_module": "@jupyter-widgets/controls",
      "model_module_version": "1.5.0",
      "model_name": "DropdownModel",
      "state": {
       "_options_labels": [
        "True",
        "False"
       ],
       "description": "svr",
       "index": 0,
       "layout": "IPY_MODEL_95ccd6923d74459fa3e8e8d584c0d14e",
       "style": "IPY_MODEL_284e822dd3784eb9b3d2c97afbd21b9e"
      }
     },
     "8cda39fb2430437ebd9d4026fb334406": {
      "model_module": "@jupyter-widgets/controls",
      "model_module_version": "1.5.0",
      "model_name": "DescriptionStyleModel",
      "state": {
       "description_width": ""
      }
     },
     "91a14bc9a6a84a3baa4fedbef1d6992d": {
      "model_module": "@jupyter-widgets/base",
      "model_module_version": "1.2.0",
      "model_name": "LayoutModel",
      "state": {}
     },
     "943f38cfcb87489c88bcac5094e050c1": {
      "model_module": "@jupyter-widgets/base",
      "model_module_version": "1.2.0",
      "model_name": "LayoutModel",
      "state": {}
     },
     "95ccd6923d74459fa3e8e8d584c0d14e": {
      "model_module": "@jupyter-widgets/base",
      "model_module_version": "1.2.0",
      "model_name": "LayoutModel",
      "state": {}
     },
     "97d0ce36b3f6406aa28389ce99a93266": {
      "model_module": "@jupyter-widgets/controls",
      "model_module_version": "1.5.0",
      "model_name": "DescriptionStyleModel",
      "state": {
       "description_width": ""
      }
     },
     "9ecf10f4188e42aab0d77615c6466bd1": {
      "model_module": "@jupyter-widgets/controls",
      "model_module_version": "1.5.0",
      "model_name": "ButtonStyleModel",
      "state": {}
     },
     "9f654ba7d40f4e9ea4abb014b0e7ed77": {
      "model_module": "@jupyter-widgets/base",
      "model_module_version": "1.2.0",
      "model_name": "LayoutModel",
      "state": {}
     },
     "a1c66bf41fab457cb52b9bf8dad07a42": {
      "model_module": "@jupyter-widgets/controls",
      "model_module_version": "1.5.0",
      "model_name": "DropdownModel",
      "state": {
       "_options_labels": [
        "True",
        "False"
       ],
       "description": "gbt",
       "index": 0,
       "layout": "IPY_MODEL_ec7bc2e35c9c4a46ac98c36f40a46898",
       "style": "IPY_MODEL_b4dd481f44694a7e8a6948b02d48ec1b"
      }
     },
     "a43d187ae68b4ad0bee9e0f30d85c1f2": {
      "model_module": "@jupyter-widgets/base",
      "model_module_version": "1.2.0",
      "model_name": "LayoutModel",
      "state": {}
     },
     "acde0457b3924e06add7e6e1baa67130": {
      "model_module": "@jupyter-widgets/controls",
      "model_module_version": "1.5.0",
      "model_name": "DescriptionStyleModel",
      "state": {
       "description_width": ""
      }
     },
     "b4dd481f44694a7e8a6948b02d48ec1b": {
      "model_module": "@jupyter-widgets/controls",
      "model_module_version": "1.5.0",
      "model_name": "DescriptionStyleModel",
      "state": {
       "description_width": ""
      }
     },
     "b548efdac6df461cba6843ec26f54c85": {
      "model_module": "@jupyter-widgets/controls",
      "model_module_version": "1.5.0",
      "model_name": "DescriptionStyleModel",
      "state": {
       "description_width": ""
      }
     },
     "c970fcd56d324d30a26039aeaa521ba1": {
      "model_module": "@jupyter-widgets/controls",
      "model_module_version": "1.5.0",
      "model_name": "DropdownModel",
      "state": {
       "_options_labels": [
        "True",
        "False"
       ],
       "description": "mlp",
       "index": 0,
       "layout": "IPY_MODEL_943f38cfcb87489c88bcac5094e050c1",
       "style": "IPY_MODEL_439a163b98a7435eb26b66959176fd3b"
      }
     },
     "d26494a28c2c438a95053229a838aafc": {
      "model_module": "@jupyter-widgets/controls",
      "model_module_version": "1.5.0",
      "model_name": "DropdownModel",
      "state": {
       "_options_labels": [
        "True",
        "False"
       ],
       "description": "ets",
       "index": 0,
       "layout": "IPY_MODEL_9f654ba7d40f4e9ea4abb014b0e7ed77",
       "style": "IPY_MODEL_f04477edbf044e429a978a650b65f408"
      }
     },
     "d331c4172938457a9552b4e6c855ef11": {
      "model_module": "@jupyter-widgets/controls",
      "model_module_version": "1.5.0",
      "model_name": "DropdownModel",
      "state": {
       "_options_labels": [
        "AL",
        "AK",
        "AZ",
        "AR",
        "CA",
        "CO",
        "CT",
        "DE",
        "FL",
        "GA",
        "HI",
        "ID",
        "IL",
        "IN",
        "IA",
        "KS",
        "KY",
        "LA",
        "ME",
        "MD",
        "MA",
        "MI",
        "MN",
        "MS",
        "MO",
        "MT",
        "NE",
        "NV",
        "NH",
        "NJ",
        "NM",
        "NY",
        "NC",
        "ND",
        "OH",
        "OK",
        "OR",
        "PA",
        "RI",
        "SC",
        "SD",
        "TN",
        "TX",
        "UT",
        "VT",
        "VA",
        "WA",
        "WV",
        "WI",
        "WY"
       ],
       "description": "State",
       "index": 0,
       "layout": "IPY_MODEL_0193a2c1132a47bd85895c090fd8851e",
       "style": "IPY_MODEL_351434845b23437e9c2a6da6cb3be46e"
      }
     },
     "d8f40d67750b481a95039c17ecf1ae34": {
      "model_module": "@jupyter-widgets/base",
      "model_module_version": "1.2.0",
      "model_name": "LayoutModel",
      "state": {}
     },
     "e77edd81269948a499704c34d9938bce": {
      "model_module": "@jupyter-widgets/controls",
      "model_module_version": "1.5.0",
      "model_name": "DropdownModel",
      "state": {
       "_options_labels": [
        "True",
        "False"
       ],
       "description": "mlr",
       "index": 0,
       "layout": "IPY_MODEL_770dac54074d49e39950b100c6586d02",
       "style": "IPY_MODEL_8cda39fb2430437ebd9d4026fb334406"
      }
     },
     "ec7bc2e35c9c4a46ac98c36f40a46898": {
      "model_module": "@jupyter-widgets/base",
      "model_module_version": "1.2.0",
      "model_name": "LayoutModel",
      "state": {}
     },
     "f04477edbf044e429a978a650b65f408": {
      "model_module": "@jupyter-widgets/controls",
      "model_module_version": "1.5.0",
      "model_name": "DescriptionStyleModel",
      "state": {
       "description_width": ""
      }
     },
     "f056e82a02474b2384c0d8ad5095aa50": {
      "model_module": "@jupyter-widgets/controls",
      "model_module_version": "1.5.0",
      "model_name": "DropdownModel",
      "state": {
       "_options_labels": [
        "True",
        "False"
       ],
       "description": "adaboost",
       "index": 0,
       "layout": "IPY_MODEL_23d56e6de2ca4ceb912fe45c5ffc8a65",
       "style": "IPY_MODEL_67a667c01f034d8399ba1e688ece08fa"
      }
     },
     "f084e06969504baca14c063f3ba10f64": {
      "model_module": "@jupyter-widgets/base",
      "model_module_version": "1.2.0",
      "model_name": "LayoutModel",
      "state": {}
     },
     "f4a46fe6dd304778a54003395641ffbd": {
      "model_module": "@jupyter-widgets/controls",
      "model_module_version": "1.5.0",
      "model_name": "DropdownModel",
      "state": {
       "_options_labels": [
        "True",
        "False"
       ],
       "description": "arima_no_reg",
       "index": 0,
       "layout": "IPY_MODEL_18d11d87fdfd4983b1291df8cd35c7f3",
       "style": "IPY_MODEL_1e911181492442bdaf82faca7f1c2560"
      }
     },
     "f896f092a0c4466ca7aa5fe3d7d8cc59": {
      "model_module": "@jupyter-widgets/base",
      "model_module_version": "1.2.0",
      "model_name": "LayoutModel",
      "state": {}
     },
     "f93564869a4c4c539815df91dc120527": {
      "model_module": "@jupyter-widgets/controls",
      "model_module_version": "1.5.0",
      "model_name": "DropdownModel",
      "state": {
       "_options_labels": [
        "True",
        "False"
       ],
       "description": "arima",
       "index": 0,
       "layout": "IPY_MODEL_ff0fbe2938ec4f98ad9e97c60bf456ef",
       "style": "IPY_MODEL_97d0ce36b3f6406aa28389ce99a93266"
      }
     },
     "ff0fbe2938ec4f98ad9e97c60bf456ef": {
      "model_module": "@jupyter-widgets/base",
      "model_module_version": "1.2.0",
      "model_name": "LayoutModel",
      "state": {}
     }
    },
    "version_major": 2,
    "version_minor": 0
   }
  }
 },
 "nbformat": 4,
 "nbformat_minor": 4
}
