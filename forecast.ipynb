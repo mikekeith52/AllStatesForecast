{
 "cells": [
  {
   "cell_type": "code",
   "execution_count": 1,
   "metadata": {},
   "outputs": [],
   "source": [
    "import pandas as pd\n",
    "import numpy as np\n",
    "import os\n",
    "import datetime\n",
    "import matplotlib.pyplot as plt\n",
    "import seaborn as sns\n",
    "from ipywidgets import widgets\n",
    "from IPython.display import display, clear_output\n",
    "import pickle\n",
    "import pandas_datareader as pdr\n",
    "from tqdm.notebook import tqdm as log_progress"
   ]
  },
  {
   "cell_type": "code",
   "execution_count": 2,
   "metadata": {},
   "outputs": [],
   "source": [
    "from Forecaster import Forecaster"
   ]
  },
  {
   "cell_type": "code",
   "execution_count": 3,
   "metadata": {},
   "outputs": [],
   "source": [
    "# List of future dates to forecast for\n",
    "futures = ['2020-07-01','2020-08-01','2020-09-01','2020-10-01','2020-11-01','2020-12-01','2021-01-01',\n",
    "           '2021-02-01','2021-03-01','2021-04-01','2021-05-01','2021-06-01','2021-07-01','2021-08-01',\n",
    "           '2021-09-01','2021-10-01','2021-11-01','2021-12-01','2022-01-01','2022-02-01','2022-03-01',\n",
    "           '2022-04-01','2022-05-01','2022-06-01','2022-07-01','2022-08-01','2022-09-01','2022-10-01']\n",
    "# a lit of state abbreviations\n",
    "states = [e.replace('\"','') for e in open('state_abb.txt').read().split('\\n')]\n",
    "# whether or not to rerun the forecast - if false, will read in a pickled forecast\n",
    "rerun = False"
   ]
  },
  {
   "cell_type": "code",
   "execution_count": 4,
   "metadata": {},
   "outputs": [],
   "source": [
    "def get_regressors(futures,recession_length=15,month_lags=24,year_lags=0):\n",
    "    \"\"\" gets a vector of external regressors from FRED\n",
    "        extracts the recession indicator and maps to length specified in recession_length\n",
    "        adds month and year lags\n",
    "        adds an inidcator of when the last recession occured\n",
    "        Paramaters: futures : list\n",
    "                        a list of dates in format YYYY-mm-01\n",
    "                        if there is overlap between the earlier dates and what is extracted from FRED, that will be handled in the function\n",
    "                    recession_length : int, default 15\n",
    "                        the total assumed length of the recession\n",
    "                        this does not take into account the amount of months the recession has already gone\n",
    "                    month_lags : int, default 24\n",
    "                        the amount of month lags you want added of the recession inidcator from FRED\n",
    "                    year_lags : int, default 0\n",
    "                        the amount of year lags you want added of the recession inidcator from FRED\n",
    "    \"\"\"\n",
    "    externals = pdr.get_data_fred(['JHDUSRGDPBR','CPIAUCSL'],start='1900-01-01').reset_index()\n",
    "    externals = externals[externals['DATE'] >= externals.loc[~externals['JHDUSRGDPBR'].isnull(),'DATE'].min()]\n",
    "    externals['JHDUSRGDPBR'].fillna(method='ffill',inplace=True)\n",
    "    externals = externals[['DATE','JHDUSRGDPBR']]\n",
    "    futures = pd.to_datetime([d for d in futures if d not in list(externals['DATE'].apply(lambda x: str(x)[:10]))])\n",
    "    past_recession_periods = externals.loc[externals['DATE'] >= '2019-10-01','JHDUSRGDPBR'].sum()\n",
    "    recession_left = recession_length - past_recession_periods\n",
    "    recession_array = [1] * max(0,int(recession_left)) + [0] * (max(0,len(futures)) - int(recession_left))\n",
    "    externals_future = pd.DataFrame({'DATE':futures,'JHDUSRGDPBR':recession_array})\n",
    "    externals = externals.append(externals_future,ignore_index=True,sort=False)\n",
    "    for i in range(min(1,month_lags),month_lags+1):\n",
    "        if i == 0:\n",
    "            break\n",
    "        externals[f'JHDUSRGDPBR_lagMonth_{i}'] = externals['JHDUSRGDPBR'].shift(i)\n",
    "    for i in range(min(1,year_lags),year_lags+1):\n",
    "        if i == 0:\n",
    "            break\n",
    "        externals[f'JHDUSRGDPBR_lagYear_{i}'] = externals['JHDUSRGDPBR'].shift(i*12)\n",
    "    externals['LastRecession'] = externals[['DATE','JHDUSRGDPBR','JHDUSRGDPBR_lagMonth_1']].apply(lambda x: str(x[0]) if (x[1] == 1) & (x[2] == 0) else None, axis=1)\n",
    "    externals['LastRecession'].fillna(method='ffill',inplace=True)\n",
    "    externals['t'] = range(externals.shape[0])\n",
    "    return externals.copy()\n",
    "\n",
    "def pickle_out(obj):\n",
    "    \"\"\" writes out forecast results as a pickle file to the pickled folder\n",
    "        Parameters: obj : any data type\n",
    "                        the object to be written out -- this will be a Forecaster object\n",
    "    \"\"\"\n",
    "    with open('pickled/AllStatesForecasts-{0}.pickle'.format(str(datetime.datetime.now()).split('.')[0].replace(':','')),'wb') as f:\n",
    "        pickle.dump(obj,f)\n",
    "\n",
    "def pickle_in(which='latest'):\n",
    "    \"\"\" reads a pickle object saved in the pickled folder\n",
    "        Parameters: which : str, default \"latest\"\n",
    "                        if \"latest\", will read in the most recently created file in the pickled folder\n",
    "                        any other argument should be a datetime-like str and correspond with a file name in the pickled folder\n",
    "                        ex. to extract the AllStatesForecast-2020-09-11 121129.pickle file, this would be \"2020-09-11 121129\"\n",
    "    \"\"\"\n",
    "    if which == 'latest':\n",
    "        most_recent_file = max([f for f in os.listdir('pickled')])\n",
    "        f= open(f'pickled/{most_recent_file}','rb')\n",
    "    else:\n",
    "        f= open(f'pickled/AllStatesForecasts-{which}.pickle','rb')\n",
    "    x = pickle.load(f)\n",
    "    f.close()\n",
    "    return x\n",
    "\n",
    "def visualize():\n",
    "    \"\"\" visualize the forecast results\n",
    "        leverages Jupyter widgets\n",
    "        relies on the ExternalsData object type\n",
    "        add new forecast names to the model_options list\n",
    "    \"\"\"\n",
    "    def display_user_selections(states_selection,ei_selection,model_selections):\n",
    "        \"\"\" displays graphs with seaborn based on what user selects from dropdown menus\n",
    "        \"\"\"\n",
    "        selected_data = forecasts[f'{states_selection}{ei_selection}']\n",
    "        ax = sns.lineplot(x = pd.to_datetime(selected_data.current_dates), y = selected_data.y, ci = None)\n",
    "        forecast_periods = selected_data.future_dates\n",
    "        labels = ['Actual']\n",
    "        max_display = [max(selected_data.y)]\n",
    "        for k, v in model_selections.items():\n",
    "            if (v == 'True') & (k in selected_data.forecasts.keys()):\n",
    "                max_display.append(max(selected_data.forecasts[k]))\n",
    "                sns.lineplot(x = pd.to_datetime(forecast_periods), y = selected_data.forecasts[k])\n",
    "                if k == 'average':\n",
    "                    labels.append('{0}'.format(selected_data.info['average']['model_form'].split(':')[0]))\n",
    "                else:\n",
    "                    labels.append('{0}'.format(selected_data.info[k]['model_form']))\n",
    "        \n",
    "        print('MAPEs:')\n",
    "        models_best_to_worst = selected_data.order_all_forecasts_best_to_worst()\n",
    "        for m in models_best_to_worst:\n",
    "            if m!='naive':\n",
    "                print('  {}: {:.3f}'.format(m,selected_data.mape[m]))\n",
    "        \n",
    "        plt.legend(labels=labels,loc='best')\n",
    "        plt.xlabel('')\n",
    "        plt.ylabel(f'{states_selection}{ei_selection}')\n",
    "        plt.title(f'{states_selection}{ei_selection} Forecast')\n",
    "        plt.ylim(min(0,min(selected_data.y)),1.1*max(max_display))\n",
    "        plt.show()\n",
    "\n",
    "    def on_button_clicked(b):\n",
    "        \"\"\" passes the user options to the display_user_selections function after the button is pressed\n",
    "        \"\"\"\n",
    "        states_selection = states_dropdown.value\n",
    "        ei_selection = ei_dropdown.value\n",
    "        model_selections = {}\n",
    "        for k,s in model_dropdown.items():\n",
    "            model_selections[k] = s.value\n",
    "        with output:\n",
    "            clear_output()\n",
    "            display_user_selections(states_selection,ei_selection,model_selections)\n",
    "    \n",
    "    bool_op = ['True','False']\n",
    "    # the models that you will have the option to display in the graph\n",
    "    model_options = ['arima','arima_no_reg','tbats','ets','rf','adaboost','gbt','svr','mlr','ridge','lasso','mlp','average']\n",
    "    states_dropdown = widgets.Dropdown(options=states, description = 'State')\n",
    "    ei_dropdown = widgets.Dropdown(options=['SLIND','PHCI','UR'], description = 'Indicator')\n",
    "    model_dropdown = {}\n",
    "    for m in model_options:\n",
    "        model_dropdown[m] = widgets.Dropdown(options=bool_op.copy(), description = m)\n",
    "\n",
    "    # never changes\n",
    "    button = widgets.Button(description=\"Show Forecast\")\n",
    "    output = widgets.Output()\n",
    "\n",
    "    display(states_dropdown,ei_dropdown)\n",
    "    for d, k in model_dropdown.items():\n",
    "        display(k)\n",
    "    display(button, output)\n",
    "    \n",
    "    button.on_click(on_button_clicked)   "
   ]
  },
  {
   "cell_type": "code",
   "execution_count": 5,
   "metadata": {},
   "outputs": [],
   "source": [
    "if rerun:\n",
    "    externals = get_regressors(futures)\n",
    "    forecasts = {}\n",
    "    for s in log_progress(states):\n",
    "        for ei in ('SLIND','PHCI','UR'):\n",
    "            d = Forecaster()\n",
    "            d.get_data_fred(f'{s}{ei}')\n",
    "            d.process_xreg_df(externals,date_col='DATE')\n",
    "            d.check_xreg_future_current_consistency()\n",
    "            d.forecast_mlp(test_length=2,hyper_params={'hidden_layer_sizes':(10,50,),'solver':'lbfgs','activation':'relu'})\n",
    "            d.forecast_rf(test_length=2,hyper_params={'n_estimators':500,'max_depth':3})\n",
    "            d.forecast_gbt(test_length=2,hyper_params={'max_depth':3,'n_estimators':500})\n",
    "            d.forecast_adaboost(test_length=2,hyper_params={'learning_rate':.5,'n_estimators':250})\n",
    "            d.forecast_mlr(test_length=2)\n",
    "            d.forecast_ridge(test_length=2,alpha=10)\n",
    "            d.forecast_lasso(test_length=2,alpha=.05)\n",
    "            d.forecast_svr(test_length=2,hyper_params={'kernel':'linear','C':0.05, 'epsilon':1.25})\n",
    "            d.forecast_arima(test_length=2,Xvars='top_3')\n",
    "            d.forecast_arima(test_length=2,Xvars=None,call_me='arima_no_reg')\n",
    "            d.forecast_tbats(test_length=2)\n",
    "            d.forecast_ets(test_length=2)\n",
    "            d.forecast_average(models='top_4')\n",
    "            forecasts[f'{s}{ei}'] = d\n",
    "    pickle_out(forecasts)\n",
    "else:\n",
    "    forecasts = pickle_in('latest')"
   ]
  },
  {
   "cell_type": "code",
   "execution_count": 6,
   "metadata": {},
   "outputs": [
    {
     "data": {
      "application/vnd.jupyter.widget-view+json": {
       "model_id": "22a6190c027049db98b7358275d246a1",
       "version_major": 2,
       "version_minor": 0
      },
      "text/plain": [
       "Dropdown(description='State', options=('AL', 'AK', 'AZ', 'AR', 'CA', 'CO', 'CT', 'DE', 'FL', 'GA', 'HI', 'ID',…"
      ]
     },
     "metadata": {},
     "output_type": "display_data"
    },
    {
     "data": {
      "application/vnd.jupyter.widget-view+json": {
       "model_id": "34ac047363674290b4c2557efe2726bd",
       "version_major": 2,
       "version_minor": 0
      },
      "text/plain": [
       "Dropdown(description='Indicator', options=('SLIND', 'PHCI', 'UR'), value='SLIND')"
      ]
     },
     "metadata": {},
     "output_type": "display_data"
    },
    {
     "data": {
      "application/vnd.jupyter.widget-view+json": {
       "model_id": "f2b236f3c3c140b69a7dbacd84b12e45",
       "version_major": 2,
       "version_minor": 0
      },
      "text/plain": [
       "Dropdown(description='arima', options=('True', 'False'), value='True')"
      ]
     },
     "metadata": {},
     "output_type": "display_data"
    },
    {
     "data": {
      "application/vnd.jupyter.widget-view+json": {
       "model_id": "9a922c7aad2440c4b94c1a2bed3be120",
       "version_major": 2,
       "version_minor": 0
      },
      "text/plain": [
       "Dropdown(description='arima_no_reg', options=('True', 'False'), value='True')"
      ]
     },
     "metadata": {},
     "output_type": "display_data"
    },
    {
     "data": {
      "application/vnd.jupyter.widget-view+json": {
       "model_id": "f0910f6b0b00448a8b360bdb816026d9",
       "version_major": 2,
       "version_minor": 0
      },
      "text/plain": [
       "Dropdown(description='tbats', options=('True', 'False'), value='True')"
      ]
     },
     "metadata": {},
     "output_type": "display_data"
    },
    {
     "data": {
      "application/vnd.jupyter.widget-view+json": {
       "model_id": "59a918418c2b41ab9fed9be50263eea4",
       "version_major": 2,
       "version_minor": 0
      },
      "text/plain": [
       "Dropdown(description='ets', options=('True', 'False'), value='True')"
      ]
     },
     "metadata": {},
     "output_type": "display_data"
    },
    {
     "data": {
      "application/vnd.jupyter.widget-view+json": {
       "model_id": "1e8b71f7bd054b3aaf8e83494e492aa2",
       "version_major": 2,
       "version_minor": 0
      },
      "text/plain": [
       "Dropdown(description='rf', options=('True', 'False'), value='True')"
      ]
     },
     "metadata": {},
     "output_type": "display_data"
    },
    {
     "data": {
      "application/vnd.jupyter.widget-view+json": {
       "model_id": "13b6f854916c4fb0a5be20bd11547093",
       "version_major": 2,
       "version_minor": 0
      },
      "text/plain": [
       "Dropdown(description='adaboost', options=('True', 'False'), value='True')"
      ]
     },
     "metadata": {},
     "output_type": "display_data"
    },
    {
     "data": {
      "application/vnd.jupyter.widget-view+json": {
       "model_id": "b34744c01e7e44849cc35b4a29c8d7b7",
       "version_major": 2,
       "version_minor": 0
      },
      "text/plain": [
       "Dropdown(description='gbt', options=('True', 'False'), value='True')"
      ]
     },
     "metadata": {},
     "output_type": "display_data"
    },
    {
     "data": {
      "application/vnd.jupyter.widget-view+json": {
       "model_id": "023866acebf64a20880f89206535cec3",
       "version_major": 2,
       "version_minor": 0
      },
      "text/plain": [
       "Dropdown(description='svr', options=('True', 'False'), value='True')"
      ]
     },
     "metadata": {},
     "output_type": "display_data"
    },
    {
     "data": {
      "application/vnd.jupyter.widget-view+json": {
       "model_id": "82b9e05eee1840cba5544a64e3684d10",
       "version_major": 2,
       "version_minor": 0
      },
      "text/plain": [
       "Dropdown(description='mlr', options=('True', 'False'), value='True')"
      ]
     },
     "metadata": {},
     "output_type": "display_data"
    },
    {
     "data": {
      "application/vnd.jupyter.widget-view+json": {
       "model_id": "21783ffbbc4e41e2ab5a6ee47a92a74c",
       "version_major": 2,
       "version_minor": 0
      },
      "text/plain": [
       "Dropdown(description='ridge', options=('True', 'False'), value='True')"
      ]
     },
     "metadata": {},
     "output_type": "display_data"
    },
    {
     "data": {
      "application/vnd.jupyter.widget-view+json": {
       "model_id": "128038b368df4100bef99202170e2f61",
       "version_major": 2,
       "version_minor": 0
      },
      "text/plain": [
       "Dropdown(description='lasso', options=('True', 'False'), value='True')"
      ]
     },
     "metadata": {},
     "output_type": "display_data"
    },
    {
     "data": {
      "application/vnd.jupyter.widget-view+json": {
       "model_id": "23114ccf59e349ec8d7b619f50e61637",
       "version_major": 2,
       "version_minor": 0
      },
      "text/plain": [
       "Dropdown(description='mlp', options=('True', 'False'), value='True')"
      ]
     },
     "metadata": {},
     "output_type": "display_data"
    },
    {
     "data": {
      "application/vnd.jupyter.widget-view+json": {
       "model_id": "0c417d354ab94abba605a0d71cb75486",
       "version_major": 2,
       "version_minor": 0
      },
      "text/plain": [
       "Dropdown(description='average', options=('True', 'False'), value='True')"
      ]
     },
     "metadata": {},
     "output_type": "display_data"
    },
    {
     "data": {
      "application/vnd.jupyter.widget-view+json": {
       "model_id": "0718ced102b34985b7f4dd60f7cc7d8f",
       "version_major": 2,
       "version_minor": 0
      },
      "text/plain": [
       "Button(description='Show Forecast', style=ButtonStyle())"
      ]
     },
     "metadata": {},
     "output_type": "display_data"
    },
    {
     "data": {
      "application/vnd.jupyter.widget-view+json": {
       "model_id": "b3f8ba6f0c864eb2a92c715607d9bcdc",
       "version_major": 2,
       "version_minor": 0
      },
      "text/plain": [
       "Output()"
      ]
     },
     "metadata": {},
     "output_type": "display_data"
    }
   ],
   "source": [
    "sns.set(rc={'figure.figsize':(18,10)})\n",
    "visualize()"
   ]
  },
  {
   "cell_type": "code",
   "execution_count": null,
   "metadata": {},
   "outputs": [],
   "source": []
  }
 ],
 "metadata": {
  "kernelspec": {
   "display_name": "Python 3",
   "language": "python",
   "name": "python3"
  },
  "language_info": {
   "codemirror_mode": {
    "name": "ipython",
    "version": 3
   },
   "file_extension": ".py",
   "mimetype": "text/x-python",
   "name": "python",
   "nbconvert_exporter": "python",
   "pygments_lexer": "ipython3",
   "version": "3.7.6"
  },
  "widgets": {
   "application/vnd.jupyter.widget-state+json": {
    "state": {
     "023866acebf64a20880f89206535cec3": {
      "model_module": "@jupyter-widgets/controls",
      "model_module_version": "1.5.0",
      "model_name": "DropdownModel",
      "state": {
       "_options_labels": [
        "True",
        "False"
       ],
       "description": "svr",
       "index": 1,
       "layout": "IPY_MODEL_1c9133ace5114fd8b376d1c75ad3e835",
       "style": "IPY_MODEL_4d82769d22e645e09b46e939d665e7ef"
      }
     },
     "02ba0216404e43d4aac1fd7b208bebc4": {
      "model_module": "@jupyter-widgets/controls",
      "model_module_version": "1.5.0",
      "model_name": "DescriptionStyleModel",
      "state": {
       "description_width": ""
      }
     },
     "0718ced102b34985b7f4dd60f7cc7d8f": {
      "model_module": "@jupyter-widgets/controls",
      "model_module_version": "1.5.0",
      "model_name": "ButtonModel",
      "state": {
       "description": "Show Forecast",
       "layout": "IPY_MODEL_73b80d2f63d64adb8de5a7a8c34cad6f",
       "style": "IPY_MODEL_61b057caed9845beb96a3320f1a1cf43"
      }
     },
     "0c417d354ab94abba605a0d71cb75486": {
      "model_module": "@jupyter-widgets/controls",
      "model_module_version": "1.5.0",
      "model_name": "DropdownModel",
      "state": {
       "_options_labels": [
        "True",
        "False"
       ],
       "description": "average",
       "index": 0,
       "layout": "IPY_MODEL_b71bc2d02e6e48a7ada56f71a28a5ce6",
       "style": "IPY_MODEL_836477991f724c6bb2a5a816572a12f4"
      }
     },
     "128038b368df4100bef99202170e2f61": {
      "model_module": "@jupyter-widgets/controls",
      "model_module_version": "1.5.0",
      "model_name": "DropdownModel",
      "state": {
       "_options_labels": [
        "True",
        "False"
       ],
       "description": "lasso",
       "index": 1,
       "layout": "IPY_MODEL_ae441452ce8143a1a3bf4840488d7c2c",
       "style": "IPY_MODEL_02ba0216404e43d4aac1fd7b208bebc4"
      }
     },
     "13b6f854916c4fb0a5be20bd11547093": {
      "model_module": "@jupyter-widgets/controls",
      "model_module_version": "1.5.0",
      "model_name": "DropdownModel",
      "state": {
       "_options_labels": [
        "True",
        "False"
       ],
       "description": "adaboost",
       "index": 1,
       "layout": "IPY_MODEL_c6b162513f6746be9912094bc7b29394",
       "style": "IPY_MODEL_44798a5516b64660a52f76e3e010725a"
      }
     },
     "1c9133ace5114fd8b376d1c75ad3e835": {
      "model_module": "@jupyter-widgets/base",
      "model_module_version": "1.2.0",
      "model_name": "LayoutModel",
      "state": {}
     },
     "1e8b71f7bd054b3aaf8e83494e492aa2": {
      "model_module": "@jupyter-widgets/controls",
      "model_module_version": "1.5.0",
      "model_name": "DropdownModel",
      "state": {
       "_options_labels": [
        "True",
        "False"
       ],
       "description": "rf",
       "index": 1,
       "layout": "IPY_MODEL_aa1b21346e7f466fbed480bf36a14fdb",
       "style": "IPY_MODEL_a09c31cbfe6c46efbd88b778bd94c5b5"
      }
     },
     "21783ffbbc4e41e2ab5a6ee47a92a74c": {
      "model_module": "@jupyter-widgets/controls",
      "model_module_version": "1.5.0",
      "model_name": "DropdownModel",
      "state": {
       "_options_labels": [
        "True",
        "False"
       ],
       "description": "ridge",
       "index": 1,
       "layout": "IPY_MODEL_c9d7924d371e4fa3a7a1bd6ac5289f94",
       "style": "IPY_MODEL_fcd88a9510e041f989cdaa3a8658dbe6"
      }
     },
     "22a6190c027049db98b7358275d246a1": {
      "model_module": "@jupyter-widgets/controls",
      "model_module_version": "1.5.0",
      "model_name": "DropdownModel",
      "state": {
       "_options_labels": [
        "AL",
        "AK",
        "AZ",
        "AR",
        "CA",
        "CO",
        "CT",
        "DE",
        "FL",
        "GA",
        "HI",
        "ID",
        "IL",
        "IN",
        "IA",
        "KS",
        "KY",
        "LA",
        "ME",
        "MD",
        "MA",
        "MI",
        "MN",
        "MS",
        "MO",
        "MT",
        "NE",
        "NV",
        "NH",
        "NJ",
        "NM",
        "NY",
        "NC",
        "ND",
        "OH",
        "OK",
        "OR",
        "PA",
        "RI",
        "SC",
        "SD",
        "TN",
        "TX",
        "UT",
        "VT",
        "VA",
        "WA",
        "WV",
        "WI",
        "WY"
       ],
       "description": "State",
       "index": 1,
       "layout": "IPY_MODEL_601311203f7f433d9a3309f918f1d53a",
       "style": "IPY_MODEL_a049a9f55bf1485ebeba1dc1ecc3b7dd"
      }
     },
     "23114ccf59e349ec8d7b619f50e61637": {
      "model_module": "@jupyter-widgets/controls",
      "model_module_version": "1.5.0",
      "model_name": "DropdownModel",
      "state": {
       "_options_labels": [
        "True",
        "False"
       ],
       "description": "mlp",
       "index": 0,
       "layout": "IPY_MODEL_236196b677f941f29e576253584a45e7",
       "style": "IPY_MODEL_d7820bdc362349f6abd9c3358ff5355a"
      }
     },
     "236196b677f941f29e576253584a45e7": {
      "model_module": "@jupyter-widgets/base",
      "model_module_version": "1.2.0",
      "model_name": "LayoutModel",
      "state": {}
     },
     "34ac047363674290b4c2557efe2726bd": {
      "model_module": "@jupyter-widgets/controls",
      "model_module_version": "1.5.0",
      "model_name": "DropdownModel",
      "state": {
       "_options_labels": [
        "SLIND",
        "PHCI",
        "UR"
       ],
       "description": "Indicator",
       "index": 2,
       "layout": "IPY_MODEL_769b5567201b4ce59c2a14cdd34596dd",
       "style": "IPY_MODEL_c4e80a6c40ea4fba9d3b9e8c592d3e99"
      }
     },
     "37498a23783b43129a75e139f435fdc7": {
      "model_module": "@jupyter-widgets/base",
      "model_module_version": "1.2.0",
      "model_name": "LayoutModel",
      "state": {}
     },
     "44798a5516b64660a52f76e3e010725a": {
      "model_module": "@jupyter-widgets/controls",
      "model_module_version": "1.5.0",
      "model_name": "DescriptionStyleModel",
      "state": {
       "description_width": ""
      }
     },
     "4d82769d22e645e09b46e939d665e7ef": {
      "model_module": "@jupyter-widgets/controls",
      "model_module_version": "1.5.0",
      "model_name": "DescriptionStyleModel",
      "state": {
       "description_width": ""
      }
     },
     "59a918418c2b41ab9fed9be50263eea4": {
      "model_module": "@jupyter-widgets/controls",
      "model_module_version": "1.5.0",
      "model_name": "DropdownModel",
      "state": {
       "_options_labels": [
        "True",
        "False"
       ],
       "description": "ets",
       "index": 1,
       "layout": "IPY_MODEL_5eceb3f1afde4b2c9a0cb20b73837fa0",
       "style": "IPY_MODEL_8e7913905c2743adad891f2c60f4d27c"
      }
     },
     "5c62028357f44635948733903398b7dd": {
      "model_module": "@jupyter-widgets/base",
      "model_module_version": "1.2.0",
      "model_name": "LayoutModel",
      "state": {}
     },
     "5eceb3f1afde4b2c9a0cb20b73837fa0": {
      "model_module": "@jupyter-widgets/base",
      "model_module_version": "1.2.0",
      "model_name": "LayoutModel",
      "state": {}
     },
     "601311203f7f433d9a3309f918f1d53a": {
      "model_module": "@jupyter-widgets/base",
      "model_module_version": "1.2.0",
      "model_name": "LayoutModel",
      "state": {}
     },
     "60f201eb7b0149c9a3086e4cccaf1fac": {
      "model_module": "@jupyter-widgets/base",
      "model_module_version": "1.2.0",
      "model_name": "LayoutModel",
      "state": {}
     },
     "61b057caed9845beb96a3320f1a1cf43": {
      "model_module": "@jupyter-widgets/controls",
      "model_module_version": "1.5.0",
      "model_name": "ButtonStyleModel",
      "state": {}
     },
     "73b80d2f63d64adb8de5a7a8c34cad6f": {
      "model_module": "@jupyter-widgets/base",
      "model_module_version": "1.2.0",
      "model_name": "LayoutModel",
      "state": {}
     },
     "769b5567201b4ce59c2a14cdd34596dd": {
      "model_module": "@jupyter-widgets/base",
      "model_module_version": "1.2.0",
      "model_name": "LayoutModel",
      "state": {}
     },
     "80ce99de4bca46d7ac6e69ea06da9337": {
      "model_module": "@jupyter-widgets/controls",
      "model_module_version": "1.5.0",
      "model_name": "DescriptionStyleModel",
      "state": {
       "description_width": ""
      }
     },
     "82b9e05eee1840cba5544a64e3684d10": {
      "model_module": "@jupyter-widgets/controls",
      "model_module_version": "1.5.0",
      "model_name": "DropdownModel",
      "state": {
       "_options_labels": [
        "True",
        "False"
       ],
       "description": "mlr",
       "index": 1,
       "layout": "IPY_MODEL_c887c99400454783846c0cf579f7086f",
       "style": "IPY_MODEL_c40305d7f1f74081bc8227ff6f4e88af"
      }
     },
     "836477991f724c6bb2a5a816572a12f4": {
      "model_module": "@jupyter-widgets/controls",
      "model_module_version": "1.5.0",
      "model_name": "DescriptionStyleModel",
      "state": {
       "description_width": ""
      }
     },
     "8e28cdf0b92a4044961b2e78b9012afc": {
      "model_module": "@jupyter-widgets/controls",
      "model_module_version": "1.5.0",
      "model_name": "DescriptionStyleModel",
      "state": {
       "description_width": ""
      }
     },
     "8e7913905c2743adad891f2c60f4d27c": {
      "model_module": "@jupyter-widgets/controls",
      "model_module_version": "1.5.0",
      "model_name": "DescriptionStyleModel",
      "state": {
       "description_width": ""
      }
     },
     "9a922c7aad2440c4b94c1a2bed3be120": {
      "model_module": "@jupyter-widgets/controls",
      "model_module_version": "1.5.0",
      "model_name": "DropdownModel",
      "state": {
       "_options_labels": [
        "True",
        "False"
       ],
       "description": "arima_no_reg",
       "index": 1,
       "layout": "IPY_MODEL_5c62028357f44635948733903398b7dd",
       "style": "IPY_MODEL_e428a0658ee14527a3c6208c60f09ac2"
      }
     },
     "a049a9f55bf1485ebeba1dc1ecc3b7dd": {
      "model_module": "@jupyter-widgets/controls",
      "model_module_version": "1.5.0",
      "model_name": "DescriptionStyleModel",
      "state": {
       "description_width": ""
      }
     },
     "a09c31cbfe6c46efbd88b778bd94c5b5": {
      "model_module": "@jupyter-widgets/controls",
      "model_module_version": "1.5.0",
      "model_name": "DescriptionStyleModel",
      "state": {
       "description_width": ""
      }
     },
     "aa1b21346e7f466fbed480bf36a14fdb": {
      "model_module": "@jupyter-widgets/base",
      "model_module_version": "1.2.0",
      "model_name": "LayoutModel",
      "state": {}
     },
     "aa70c4679b89479097d302ef37636ddf": {
      "model_module": "@jupyter-widgets/base",
      "model_module_version": "1.2.0",
      "model_name": "LayoutModel",
      "state": {}
     },
     "ae441452ce8143a1a3bf4840488d7c2c": {
      "model_module": "@jupyter-widgets/base",
      "model_module_version": "1.2.0",
      "model_name": "LayoutModel",
      "state": {}
     },
     "b34744c01e7e44849cc35b4a29c8d7b7": {
      "model_module": "@jupyter-widgets/controls",
      "model_module_version": "1.5.0",
      "model_name": "DropdownModel",
      "state": {
       "_options_labels": [
        "True",
        "False"
       ],
       "description": "gbt",
       "index": 1,
       "layout": "IPY_MODEL_60f201eb7b0149c9a3086e4cccaf1fac",
       "style": "IPY_MODEL_ef9a130ea7e943c8a8edf75cfc99138f"
      }
     },
     "b3f8ba6f0c864eb2a92c715607d9bcdc": {
      "model_module": "@jupyter-widgets/output",
      "model_module_version": "1.0.0",
      "model_name": "OutputModel",
      "state": {
       "layout": "IPY_MODEL_37498a23783b43129a75e139f435fdc7",
       "outputs": [
        {
         "name": "stdout",
         "output_type": "stream",
         "text": "MAPEs:\n  ridge: 0.185\n  mlr: 0.200\n  average: 0.239\n  svr: 0.279\n  lasso: 0.292\n  mlp: 0.299\n  gbt: 0.370\n  rf: 0.370\n  tbats: 0.375\n  arima: 0.376\n  arima_no_reg: 0.376\n  ets: 0.376\n  adaboost: 0.381\n"
        },
        {
         "data": {
          "image/png": "iVBORw0KGgoAAAANSUhEUgAABB4AAAJPCAYAAADbpBdbAAAABHNCSVQICAgIfAhkiAAAAAlwSFlzAAALEgAACxIB0t1+/AAAADh0RVh0U29mdHdhcmUAbWF0cGxvdGxpYiB2ZXJzaW9uMy4xLjMsIGh0dHA6Ly9tYXRwbG90bGliLm9yZy+AADFEAAAgAElEQVR4nOzde3zO9f/H8cd12MHYZmzMJoecVeRMhpwjolIhNBEVKUWlbw6RyKFSQuScQym/coxKkfOpVCQ5hTltzGZ2vHZ9fn/MLpttDNuuHZ73261b9rk+1+fz+nyuz+faruf1PpgMwzAQEREREREREckGZmcXICIiIiIiIiL5l4IHEREREREREck2Ch5EREREREREJNsoeBARERERERGRbKPgQURERERERESyjYIHEREREREREck2Ch5ERETyuYSEBIKCgujbt69j2alTp6hVq1aq9dasWUODBg3Ytm0bAFWqVOHixYup1vn+++/p2bMnADt27KBGjRp06tTJ8V+rVq14/vnnCQ8PT1PHqVOnqFatWqr1O3XqxJQpU7L6kLPE22+/zV9//eXsMkRERPI8q7MLEBERkez1ww8/ULVqVf766y+OHDlChQoV0qyzdOlSpk2bxrx586hWrVqmt12mTBm+++47x8+JiYm89NJLzJkzh9deey3N+u7u7qnWz822bt3KU0895ewyRERE8jwFDyIiIvnckiVLaN++PWXKlGH+/PmMHj061eMzZ85k+fLlLF68mNKlS9/RvqKiorh48SK1a9e+5ef++OOPTJ06FbvdTuHChRk2bBg1atTgk08+4ffff+f8+fNUqVKFSZMmMX36dNavX4/dbicwMJCRI0dSsmRJQkNDGTlyJEePHsVsNtO1a1d69erF77//zsSJE4mPjyc0NJQHHniA9957D5vNxpgxY9i7dy8uLi6ULl2acePGMXPmTM6fP8+QIUOYMGECNWvWvKPzIiIiUpApeBAREcnHDh8+zG+//cbHH3/MPffcQ8+ePRk8eLDj8QkTJjB79mxGjBhxW6HDiRMn6NSpEzabjYsXL+Lv70+7du145pln0l0/NjaWTp06OX62WCwsX76cI0eOMHLkSJYuXcpdd93Ftm3bePHFF/n+++8BCAkJYdWqVVitVr799lsOHTrEsmXLsFqtfPnll7z99tvMmjWLd955h3LlyjFt2jQuX75Mt27daNasGQsWLGDQoEE0aNCAK1eu0LJlS/766y9iY2PZuXMna9aswWQyMXHiRP755x8GDx7MypUrmTRpEvfdd98tnxcRERG5RsGDiIhIPrZkyRKaN2+Oj48PPj4+lC5dmq+++oqHH36Y6OhoDh06xMyZMxk8eDC1atWievXqjueaTKY027Pb7ZjN14aIStnV4ptvvuHDDz+kXbt2uLi4pFtPRl0ttm/fTsOGDbnrrrsAaNSoEcWKFXOMsXD//fdjtSb92fLzzz/z559/8vjjjztqiomJAZK6RwwdOhQAT09PVq1aBcD48ePZtGkTM2bM4OjRo8TFxREdHU3VqlWxWCw88cQTBAUF0bZtW2rUqHELZ1hERERuRsGDiIhIPhUdHc13332Hq6srLVq0AJK6QnzxxRe0bdsWd3d3pk+fjouLC/3792fgwIEsX76cokWLAuDj48OlS5coVqyYY5sXLlxwPH69xx9/nH379vHyyy/z1VdfOYKCzLDb7WmCDsMwsNlsAHh4eKRat2/fvnTv3h2A+Ph4IiIiALBaram2c/LkSXx8fHj22WepUqUKTZo0oV27duzbtw/DMPDy8uK7775j7969bN++nVdeeYU+ffrw9NNPZ7p2ERERuTHNaiEiIpJPrVy5kqJFi/Lrr7+yYcMGNmzYwI8//kh0dDTff/89ZrPZ0TKhX79+VKxYkddeew273Q5A06ZNWbhwoePniIgI/u///o9mzZpluM8hQ4Zw5swZFi1adEu1NmrUiM2bN3Py5EkAtm3bxpkzZ9IdWyEoKIivv/6aqKgoAKZMmcLrr7/u2M4333wDwOXLl3nmmWc4fvw4f/75J0OGDKFNmzacPXuWEydOYLfb+fnnnwkODqZWrVq89NJLdO7c2dHKwmKxOIIPERERuX1q8SAiIpJPLVmyhN69e2OxWBzLvLy86NmzJ/PmzUu1rslk4v333+fRRx/lo48+4tVXX+V///sf48ePp0OHDo5tdOrUiUcffTTDfXp5eTFkyBDGjRvHww8/jK+vb6ZqrVixIiNHjmTgwIEkJibi7u7OjBkz8PT0TLPuE088wblz53jyyScxmUyUKlWK8ePHAzBixAhGjRpFx44dMQyD/v37c++999KvXz8effRRPDw8KFmyJLVr1+a///7jiSeeYNOmTXTo0AEPDw+8vb0ZM2YMAK1bt2bo0KGMGjWKoKCgTB2HiIiIpGUyDMNwdhEiIiIiIiIikj+pq4WIiIiIiIiIZBsFDyIiIiIiIiKSbRQ8iIiIiIiIiEi2UfAgIiIiIiIiItlGwYOIiIiIiIiIZBsFDyIiIiIiIiKSbazOLuBWhYdfwW7XDKAFQfHiRbhwIcrZZYg4ne4FkSS6F0Su0f0gkkT3Qu5gNpvw8Smc4eN5Lniw2w0FDwWIXmuRJLoXRJLoXhC5RveDSBLdC7mfulqIiIiIiIiISLZR8CAiIiIiIiIi2SbPdbVIT2KijfDwUGy2eGeXIlno/Hkzdrvd2WWIOJ3uBckJVqsrPj5+WCz54k8DERERyUXyxV8X4eGhuLt7ULiwPyaTydnlSBaxWs3YbPqwJaJ7QbKbYRhcuRJJeHgovr6lnF2OiIiI5DP5oquFzRZP4cJeCh1ERERug8lkonBhL7UcFBERkWyRL4IHQKGDiIjIHdDvUREREcku+SZ4EBEREREREZHcR8FDNjp69DBBQXX55Zefbrje6dMhjBs3+rb3ExRU97afKyIiIiIiIpKdFDxko9WrV9C8eSu++275Ddc7e/YMISGncqgqERERERERkZyj4CGb2Gw21q//nueee4FDhw46goVdu3bwzDPd6NXrKV5//RWuXIliypRJ/PPP30ye/D579+5m4MB+ju2MHTuKNWtWAvDZZ5/Sr18wXbs+xsCB/bh48YJTjk1EREREREQks/LFdJopbfnzDJv/OJMt2w6qUYrG92VumrGtWzfj7+9PmTJladLkQb77bjl9+z7P6NHD+eCDT6hUqQozZkxl7dpVvPzyEObMmclrr73B3r27093eqVMnOXHiODNmzMFsNjNmzAjWrVtLt249svIQRURERERERLJUvgsecos1a1bQqlVbAFq2bM077wznwQdb4OfnR6VKVQB4/vmBABmGDSmVLn0XAwcOZuXKbzlx4j/27/+TwMDS2XcAIiIiIiIiIlkg3wUPje/LfKuE7BIefpHt27fyzz8HWbZsKYZhcPlyJNu3bwWuTVcWFRVFdPSVVM+9fjozm80GwMGDfzNq1P/o2rU7zZu3xGIxYxhGth+LiIiIiIiIyJ3Id8FDbvD992uoU6c+kyd/7Fg2e/ZnbN++lUuXwjl27Cjly9/NokXzMZlMNGjwAImJiQB4exfl9OkQ4uLiiIuLZd++36hXrwG//76HWrXq0LlzFyIiLrF162aaNWvhrEMUERERERERyRQFD9lg7dqV9Os3INWyxx57ksWLFzBp0se8++5IbLYEAgJKM3z4aBIS4omKusyYMcMZPnwMjRo1pmfPJylVKoCaNWsB0LJlG956ayi9ej0FQJUq1Thz5nSOH5uIiIiIiIjIrTAZeay9/oULUdjtqUs+e/Y//P3LOqkiyS5Wqxmbze7sMkScTveC5JTc/vvUz8+T0NDLzi5DJFfQ/SCSRPdC7mA2myhevEjGj+dgLSIiIiIiIiJSwCh4EBEREREREZFso+BBRERERERERLKNggcRERERERERyTYKHkREREREREQk2yh4EBEREREREZFso+BBRERERERERLKNgocsdubMaYKC6jJhwthUy//99x+CguqyZs3KGz6/S5eOnDlzmtOnQxg3bjQABw8eYPz4MWnWHTiwH3v37s664q8TFFQ3zbI1a1bSrl0LgoO7ExzcnW7dHuP998dis9myrY6MHDjwF9OmfZzj+5048T2eeaYbe/fupkuXjsC11+1648eP4eDBA2mWjx07Kt1rYfbsz5g9+7MsrTejfTlDWFgoQ4YMyrLtdenS8ab3QHT0Ff73v6EYhuFYtmrVt4wdO8rxc0JCAmPGDOfpp7vw7LNP899/x2+67yee6OS4D4KDu3Pu3FkAliz5gu7dH6dr18fYuHEDAOfPn+Pdd0fedJsDB/a7rdcqo+vvVqS8njMSFFSXM2dOO66pM2dOZ/icbds207lzO0aN+t8t1TF79mepXpvbqTM9UVFRDBs2BLiz6/C9997h7NkzAAwZMoiwsNBb3saaNSsZOLBfho8n/x65FTe7BpLP67x5nxMc3J3w8PBb2r6IiIjIncjW4CEqKooOHTpw6tSpVMu/+OILevbsmZ27dipvb2927NhGYmKiY9lPP/1A0aI+md7G2bNnCAlJOm9Vq1bnzTeHZ3mdtysoqCnz5i1m3rzFfPHFMg4fPsSqVd/leB3Hjx8jPPxiju93+/atzJ+/BDc3d9zd3W+47ptvDqdq1eo5VFnu5+vrx6RJWRcWubm53fQ1mDNnFo888hgmk4m4uDimT/+EKVM+SLXOsmVLcXcvxKJFXzNo0Gs3/OALEBFxCRcXq+M+mDdvMSVL+vP33/tZv34Nc+cuZvr0z/n00ylERkZQokRJihUrxrZtm29yPO64ud34eLJLZq5nV9ebn+9kP//8E717P8eoUWNvvnKqOtxueA4yU2d6Ll+O5N9//wHu7Drcu3e3I8SaNOljfH39bnkbN7tuk86B223Vd+NtuhMc3Jc6deqxZ8/OLN2+iIiIyI1Ys2vD+/bt4+233+b48eOplh8+fJiZM2dStmzZbNlvwqEtJPyzKVu27VKlKS6VG990vUKFPKhUqTL79v1G7dpJ31rt3LmdunXrO9YJCqrL5s1J39SuWbOS337bw//+N8rx+JQpkzh9OoTJk9+nefOWzJkzk6lTZ2aqzlOnTjJp0jgiIyNwc3Nn8OChlCzpT8+eT7F8+WqsVitHjx7mnXeGM3/+EtauXcWyZUuw2w2qVKnKq6++kek/ei0WCzVr1uLYsSMAGW6rQ4dWVKlSnQsXwvj88wXMnDmNTZt+wWq18Mgjj/Hkk93S1D1kyBtUqFCZsWNH4ebmxt9/H+DKlSsEB/ehceOmfP75DGJiYpg/fzZ+fiVYu3YVERGXaNy4KU880ZXx48dw7txZLBYL/foNoGHDB5g9+zPCwkI5efIE586dpUOHTjzzTJ9MHSuA3W7HxcUFgDJlylKjxv2Ox+bOncW///5DbGwsb789mnvuuZeBA/vx7LP9qFWrDlOnfsiWLZvx9fXFbrdTq1YdABYvXsCKFf+Ht3dRPD09qVbtHiAp4Jg9ewY2m41SpQJ5443/4e1dlC5dOtK2bXt27txGTEwsb7/9DlWrVstU/Z999il79uwiMjISX19fRo8ex9atv7Jnz25GjnwXSPpm1M3Njccee5IPPnifo0ePYLfbefrpXrRu/RBr1qxMda779x+Q7r52797JtGkfYzKZ8PT0ZNSo94iJieall/rz9dcrefnlF4mIuARAWNh5qle/lwkTPkr3GrJYLIwb9w5HjyZdZ48++gSPPPIo991Xk3LlynPw4AE+/3xGmg+TV65EsWXLJl58Menb7X37fsMw7Lz44iAOHPjLsd62bZvp2/d5AO6/vzaXLoVz9uxZ/P390z22v/8+gGEYvPDCs8TFxdGjR29atGjFtm1baNasheODY61addiy5VfatevAQw89zAcfTKBRo6AMX5/q1e+hQoWKHD78LxMmjCUxMRFXV1eGD3+HgIDSbNnyK7NmTccw7AQEBDJ06FsUK1bc8fxnn32a119/m6pVq5GYmEiXLh2ZM+cLzp49w8cff0BcXCze3kUZOvQtAgICGTiwH15e3hw7doTRo8c5rufPP5+Br68vnTt3SVVfUFBTfHyKpVoWHx/P8OFvcuLEfwQGlubNN4ezceMGfv11I7t378RsNnPPPfcyduw7JCYmUrPm/WzfvpUvv/yW9eu/Z/HiBZjNZgICAhg+fAwVK1ZOs4+UUt53Gzb8yNKlXxAXF0dCQjzDho3gvvtq8u+//zBhwnvExcXi5eXNiBFj+OijiYSFhTJs2BAGDXqVl17qz+zZCzN8X0zvXlm9eiVhYaEMHfoyn346iz59evLJJ59RsqQ/H388md27d2EyQdu27enRI5i9e3ezcOFc3N3dOX78GBUqVGTkyLGUL383995bA0hqFRUU1JSgoGaOYyxWrDiNGzcFSPMaXbhwId33hWTX/z5Jfg9KeV49PT2Ji4vL8ByLiIiIZLVsa/Hw1VdfMXLkSEqUKOFYFh8fz4gRIxg0KOuaWudWzZu35ueffwLg77/3U7FiJccH1sx4+eUhVKlSjddee+OW9z127EhefHEQc+Ys4vXX/8fIkW/h7V2U6tXvYceObQD88MM62rZtx9GjR1i58lumT5/DvHmL8fEpxpIlCzO9r4iIS+zatZ177qlxw21dunSJp5/uxbx5i9m06Rf+/HMfCxYsZebM+axZs5ILF8LS1D18+DDHfkJCTvHZZ3P5+OPpfPrpFOLj4+jb93mCgpo6goPQ0PPMmbOI/v0H8OGHE6lduy7z5y9lzJj3GTduNBcvXgDg8OF/+fDDT5k5cx5ffDGfy5cvZ/p4//77AGXKJIVmnp6evP76tWbk5crdzdy5i+nS5ak05/CXX37i0KF/+OKLrxgz5n1CQk4CSd1oVq9ewZw5i/joo2mEhp4HIDw8nBkzpjJ58lTmzl1M/foNmT79E8f2vL29mTVrAZ07P8bChXMyVfupUyc5ceI4M2bMYenS5ZQs6c+6dWtp0aINu3fvJDr6CgA//riOhx56mPnzZ1OlSjXmzPmCTz+dyYIFcxytcFKe64zMnz+boUOHMXv2QurVa8ChQwdTPT5lyjTmzVvM2LET8PAozEsvvZrhNfTnn/uIjIxk7tzFTJw4hX37fgOSWpR4eBSmatXq6X6DvWfPbipWrIzZnPRWV79+Q1588eU0wVpYWCjFi/s6fi5e3JfQ0HMZHlt8fDwNGjTio4+mMXbsRKZO/ZDjx49lsJ2k1/Tuuyty/PhRIiMjMtxunz79KVeuPF99tZiuXXswe/ZCHnnkUfbv/4Pw8ItMnPge48ZNYv78pdx3X00++GBCque3bdueH39cB8DevbuoWLESRYp4Mn78u4wcOZY5cxbRtWsP3n//WiuEChUqsmTJcipVquK4nvv2fT5N6AAwevS4NMvCwy/SpctTzJ+/hMDA0sybN4uOHTsTFNSUvn2fp2PHzrz77ij69u3PvHmLCQgIdLQGmzVrOh9+OJU5c76gVKlATpw4TsOGD/Dww49keI6S7zu73c53333DhAkfMX/+Erp378XChfMAeOed4QQH92XBgi9p2bINy5Yt5ZVXhuLr68e4cZMc28rofTGje6Vnz2B8ff2YOHFKqg/73377DefOnWP+/CXMmrWAjRs3sHVrUuuWv/76g8GDX2fRoq85d+4sO3Zs4+67KxIc3BdIuoZThg7pnevk18jXt8QN3xduJOV5DQgITHM/ioiIiGSnbGvxMHZs2ua1kydP5vHHH6d06dLZtVtcKjfOVKuE7BYU1JRZs6Zjt9v56acfaNGiNT/9tD7b9xsdHc3ffx/gvfdGO5bFxMQQEXGJNm3a89NP62ncuAk///wjn3zyGZs2/cypUyfp3783ADZbApUrV73hPjZv3kRwcHcMw8Aw7DRr1oLWrduyfPlXN9zWPffcC8Dvv++hRYvWuLq64urqyrx5izOoO9rxjXj79h2xWq2UKFGS++6ryR9//J6mrsqVq2K1Jl3Se/fu4o033gYgMLA01avf6/iGu3bturi4uODjUwwvLy+uXInC09Pzpuf24sULvPzy80yb9nm6jzdt+iAA5ctX4JdfNqR67Lff9tCsWXOsVis+Pj40bNj4ap17aNiwMR4eHgA0b96KxMREDhz4i3PnzjJoUNK38HZ7Il5e3o7tNWjwAJD0YXbjxp9vWjtA6dJ3MXDgYFau/JYTJ/5j//4/CQwsjYeHB40aNWbjxp8JCAgkIKA0vr5+7N69k7i4WFavXgFAbGwsx44dBVKf64wEBTXlrbeG0qRJM5o0aUa9eg3T9EGPjr7CW28NYfDgodx1Vxm++ebLdK+hRx/twokT//HqqwNp2LAxAwa8nKljPnXqRKrwMyOGYWAymVIuwWTKOJdt2vRBx+tdqlQATZs2Z+fO7Ve3c/12r23Hz68Ep0+HpHot09OoUWM++GACO3ZspXHjpjRr1ozNmzdTrdo9lCoVAMAjjzzm+KCdrFWrtjz//LMMGPAyP/ywjjZt2nHy5H+cPn2KN9981bHelStXHP+uXv3eG9ZyM2XKlKVmzVpAUvAxdmzqsSwiIyM4e/aMo6XHww93YtmypQA0btyEF17oQ9OmD9KsWQsqVaqS6f2azWbee28iW7b8yokT//Hbb3swm81cunSJCxfCaNy4CQCPPpoUoGQ0/kF674t+fiXSvVcysnfvLtq374DFYsFisdC6dTv27NlJ48ZNKV++AiVKlASgbNnyXL4cmeljTJb8Gt3sfSGzWrVqy8qV37J48UK6d8+/3R5FREQk98i24OF6W7Zs4cyZMwwbNowdO3bc9naKFy+SZtn582as1twxTqbFklSHl1cRKleuzP79+9i7dzcDBw5iw4YfMJtNjlotFhMmkwm7PRGTKeVyMxaL2bEs5b9TMplMWCypj91sNnB1deOLL5Y6lp0/f45ixXx48MEHmTr1Q/788zf8/f0pVcofMGjZsjWvvfY6kBRcJCYmOrZ5/T7NZhNNmjRjxIh30jn6G2+rcOGkD9euri6p6j59+jReXp4Z1m0ymXB1dUlRi4GrqwtxcbGO82I2m3B3d3esYxgGVuu1c2YygWHYr67nlmK5KdVrAjB27GjHgJBvvTWCatWSxmgoUcKP99+fzLJlSxg5Mu1gn8k1Jl8DVqvZ8RqZzalfQxcXK2az6eprS6rlhmHHZDKoWfN+Jk36CIC4uDhiYqId6xUq5J5mXxlJPsbDhw8yfPhbdOvWg1atWmG1Whz7fuSRTsyd+zkBAaXp0KEjVqsZw7AzatS7jm4cFy5cwNvbi++/X5vqXGfk6ad70rRpM7Zs+ZXp0z/h4MEDtG3b3lGvYRiMHj2cVq3a0KRJU8drm9415OnpyZIlX7Nz53a2bt1Cnz49WLz465sGRhaLGRcXl3Sv45SvR4kSJQkPv0DZsmUAuHjxIv7+JTI8xs2bN1G8uK/j2jCZkl7/kiVLcvHiRcfzLl26SPny5VPcT1asVstNz13r1m2oWfN+tmzZxLJli9m+fQtBQU3TvH+kvL8sFjMlS5agbNmy/PHHXvbs2cXrr7/JyZMnCQgIdNxbiYmJjhpNJhMeHoVu+f0z+ZpKuo+tjuebzTjOd/I6rq5WwEhxDkxX/29myJDX+fffQ2zdupl33x1Onz79adfu4UzVEB0dTb9+wbRt257atetQuXJlli37End3l1SvbVxcHGFhoanulZT/Tu998eDBAxneK8nnOuW/DcNItcxsTuqWZbGYcXNzS7E89f2e2XOd/Brd7H3h2u+Oa/tITExM83tix46d+Pv706NHT0droGRmsxk/v5sHsc6U2+sTyUm6H0SS6F7I/XIseFi1ahX//vsvnTp1Ijo6mrCwMF555RU++uijW9rOhQtR2O1GqmV2ux2bzZ6V5d62xMSkOmw2Ow8+2JJPP/2EKlWqAUl/nNrtBjabnaJFi/Lvv/9SvnwFNm3aiLe3t+MYkrZhxmazYbPZSUy0YxhGmmM0DIPExNTH7u5emNKl72L16lW0bdueXbu2M2HCOL766lvMZisNGjTiww8n8fjjT2Gz2alRozaLFi2kV69nKVrUh/ffH0tAQGn69OnvOI6U7HYj3VqATG/rvvtqsWzZEh555DFsNhuvvDKA8eM/SFP3xInj+PLLbzEMgx9+WE/Tpi04d+4s+/f/yRtvvM327Vsd5+j6umrXrsu33/4fXbv2ICTkFH/88Tuvvvomhw4dSnNc15/D5JYSyVI+VqNGbT78cFK6x5+8nZSvV/JrVKdOPRYvXkjHjo8SGxvLtm1bqV79PmrXrsvw4W8SHPwcLi4u/PLLBho2bEyVKtX566/RHD16jDJlyvL55zMJCwt19NtOb18ZSb7udu/ezf331+GRRx4jIuISW7b8SrNmLbDZ7Nx77/2cO3eeM2fO8NJLr2Kz2alVqy7ffLOMN954m7CwMHr37s6MGXNueA2k9NxzzzB06DC6dOlG4cKebN68kVatHnKc088++xSr1UqPHr0d28roGqpSpSrr1q1l9Ohx1K3bkF27dnD69BkqVCh8wxpKlSrN/v37b3odN2z4AKtXr+Lee2uyb9/vuLi44utbMsNjDAkJYfnybxg/fjKXLoXz668beeqpp7l48QITJ77Hk092JyYmhl27dvLss/0d2zl//hwlSpS66bkbMWIYrVq1pWPHx7jrrnJ88skH9O37PO+//y4nT56iVKkAli//mtq166R637DZ7LRp054pUz6gVq06WK1uBAaWITIykj179lCzZi1WrPiW9evXMnXqzHTfQzIj+ZpKTLRz/PgxDhw4QOXKVVmx4jvq1KnvuPbtdgN398IEBJTm119/pVGjxqxduxaTyURsbDw9ejzB1KkzefrpYOLjEzh48CCtW7fLVA3Hjh0HoEePYAzDYMyYESQmJuLuXhg/vxJs3bqV+vUbsnr1Kn7/fS/PPz+QxMREx30DSddheu+LN7pXLBYL8fEJqc577dp1WbVqJQ0aNCYhIYHvv19Lz56909yfKX8H3Mq5Tn6NMvO+4OnpzbFjR0lISOTMmdMcPvxvmtf4wIH91KhRC7s96fdnSna7ndDQzHc/y2l+fp65uj6RnKT7QSSJ7oXcwWw2pdtIIFmOBQ/jxoIlGEsAACAASURBVF3rr7pjxw6mTp16y6FDXtO4cVPGjx/jGLQupeefH8jrrw+mWLHi1Khxv6NLQbJy5coRFXWZMWOG8/DDnTLcx5AhLzu+vQNYuHAZI0e+y8SJ77F48QKsVhdGj37P0Yy8bdv2rFu3lgcfbAFApUqV6d37OQYNeh7DMKhYsTI9egTf1vFmdlvNmjXn4MEDPPvs09jtBk880Y0yZcqmqfvdd8c76o6Li6VPn54kJMQzdGjSYGrVqt3DnDkzmT79E8qWLZdqH6+8MpQJE8ayZs1KTCYTb7zxNr6+vmlquVUuLi7ExcXf8vOaNHmQv/8+QK9eT1GsWHHKlbsbgEqVqvDEE93o27cXnp6elCxZCkgaG+DNN0cwYsQw7PZE/PxKMmLE6Bvt4qZatmzDW28NpVevpwCoUqVaqubnzZo1JyIiAldXVwCeffY5Jk9+n549n8RuTxqQMTCwtGN8hZvp338AY8e+g8ViwcPDI1WgExYWysKFc6lQoRLPPvs0hpHUd/+TTz5L9xqyWCz88ssGevZ8EldXV9q2bU+FChUd28tocMm6devzyScfYrfb03yzm9Ljjz/FxInv0aPHk7i6ujB8+LWpbNPbbqdOj3P48GF69XoKu93OCy+8hL9/Kfz9S9GmTXv69u1FYqKNvn2fx88vqavH0aOHKVOmHF5eXmzevJHNmzdlOFtNz569ef/9d5k3bxZWqwuvv540iOTQof/jrbeGkJBgw9/fnzffHJHmuU2bNmfixHG88MJLALi6ujJmzHimTJlEfHw8Hh6Fefvt9FosXZPR4JLpCQwszdy5nxMScpK7765Iv34vplnn7bffYdy40cyaNY0KFSpdbQVgpU+f/rzyygDc3Nzw8fFJNcAuJE1X2bfv8+nODFOxYiUqVqxM9+5dMJtN1K/fyNEFa8SIMUyaNI5p0z7G27sow4ePpmjRopQs6c9LL/XnrbdSdwe5/n3xRvfKAw80YciQl/ngg2tjK3Tq9DgnT54gOLgbNpuNNm3a0axZ80xNd5ze4JIZycz7Qt269Vm9+ju6dXucsmVTD4CbLCEh4aZdpURERESykslIObl9NmjRogULFixINa5DcvCwcGHmBzFMll6Lh7Nn/8PfP3tmyRDnsVrN2Gx2xo4dRa1adWjfvqOzSwLgiSc68eWX/3fDD7J5iWEYJCQkMHjwAAYNeo0qVW48xkde88knH1C7dj1Hn/9bYRgG77//bpZMZ/vxx5OpW7cBDzwQREJCAlOmTGLIkGE3fyLX7oW8au7cWXTs+Ci+vr5s3LiB9evXMnbsxJs+b+nSL6hfvxF3310hB6osOKZMmUydOnXTDTty++9Tfaslco3uB5EkuhdyB6e3eNiwYUOaZQ0aNKBBgwbZvWuRbPHQQ+0JDu7GggVfOrsUh08/ncKuXWnHTqlatdpNPzRfuHCBHj2e4JFHOt9y6PDll4tYu3Z1muW+vr7pzjLhDL1792Ps2FE88EDQdQNI3tz58+cc41LciXPnznLhwgUeeCBpgMXjx49lqjVBflGypD+DB7+I1WrF09Mr00GOj08xype/O5urK1jmzfucP//cR9++/Z1dioiIiBQg2d7iIaupxUPBkde/5RXJKroXJKfk9t+n+lZL5BrdDyJJdC/kDjdr8ZA/2oqLiIiIiIiISK6k4EFEREREREREso2CBxERERERERHJNgoeRERERERERCTbKHjIRkePHiYoqC6//PKTs0u5LStW/B+dO7fj00+npPv4oUMHad68UbbXMXbsKNasWXnDdYKC6mZ7HSIiIiIiInLrFDxko9WrV9C8eSu++265s0u5LT/+uI633hrJgAEvp3ksNjaWDz+cSEJCghMqExERERERkbzC6uwC8iubzcb69d/z6aezeOGFZwkJOcWxY0dYseJbJkz4EICvv17KqVOneOmlwUybNoXffttDYqKd9u078NRTT7N3726mT/+YxEQ7d99dgf79BzBu3Biioi4TFhZK+/Yd6dv3eWw2GxMnvscff/yOn18JTCYTzzzTh9q167Jw4Tx+/vkHEhPtNGjQkBdeGITJZEpV6+rVK1i69AtMJhNVqlRj8ODX+fLLRfz9934mTx7PK68MoVGjoFTPmTr1Q558sht//rkv3eMfO3YU7u6FOHToIFFRl+nXbwDr1q3h8OFDNGnyIC+9NBi73c7HH09m9+5dmEzQtm17evQIxjAMpk79kK1bN1O8uC92u51ateoAsHbtKpYtW4LdblClSlVeffUN3NzcHPvdvXsn06Z9jMlkwtPTk1Gj3qNo0aJZ+dKKiIiIiIjILch3wcOOM3vYdmZXtmy7Ual6NChVJ1Prbt26GX9/f8qUKUuTJg/y3XfL6dfvRSZOHEdkZCReXl789NN6Bg16jZUr/w+AOXMWER8fz6uvDqRq1eoAnDx5gq+/XkWRIkVYvHghrVu3pV27DkRFRfHYYw/TpUtXfvzxe2JjY1i8+BvOnTtLr15dAdi+fSv//PM3s2YtwGQyMWbMCNavX0vbtu0ddR45cpgFC+Ywc+Y8vL2LMnny+8ydO4sBA15mz55dPPtsP2rXTt2NYfPmjcTGxtK8easbnoOwsFA++2wua9euYty4d1iyZDlubm507tye3r2fY/36tZw7d47585eQkJDASy/14+67KxIXF8uhQ/+wZMkywsMjCQ5OOp6jR4+wcuW3TJ8+Bzc3N2bMmMqSJQsJDu7r2Of8+bMZOnQY1ardw6JF8zl06CD16zfM1GsmIiIiIiIiWS/fBQ+5xZo1K2jVqi0ALVu25p13hvPccy/QtGlzNm7cQL16DYmIiHB8QP7330Ps2bMbgJiYaI4cOUy5cuW5666yFClSBIDu3Xuyd+9uFi9eyLFjR7DZEoiNjWHXrh107PgoJpMJf/9S1KlTD0j69v/Agb/o06cnAHFxsZQs6Z+qzt9/30Pjxk3w9k5qFfDII48ybtw7GR7XhQthzJ8/m48+mnbTc9Cw4QMAlCzpT/nyFfDxKQaAl5cXly9HsnfvLtq374DFYsFisdC6dTv27NlJQkICzZo1x2p1wcfHh4YNGwPw22+7OXXqJP379wbAZkugcuWqqfYZFNSUt94aSpMmzWjSpBn16il0EBERERERcaZ8Fzw0KFUn060Sskt4+MWrrQ0OsmzZUgzD4PLlSDZu3EDbtu35/PPpXL4cSZs27QBITLTz4ouDaNasBQCXLl2iUKFC7N//Z6puBJ988iGnT4fQuvVDNG36ILt378QwDMxmC4ZhT1OH3Z7Ik092o2vXHgBcvnwZi8Vy3TrGdc8ySExMzPDYtm7dTEREBAMG9HMsCw7uzrRps/DwKJxqXRcXF8e/r9/vjfZtMpkwUjyU/NzERDstWrTilVeGAhAdHZ2m1qeeeprGjZuydeuvTJv2MQ8+uJ9nnumT4fGIiIiIiIhI9tLgktng++/XUKdOff7v/9bw9dcr+eabVfTq9SzffvsN9957H2FhYaxbt4bWrR8CoE6duqxY8S02m43o6GhefLEP+/f/mWa7u3fvoHv3nrRo0YoTJ/4jNPQ8drudunXr8+OP6zEMg7CwUH77bQ8mk4nateuxbt0aoqOjsdlsDBv2WpoZNmrVqsPmzZuIjIwAYMWKb6lVK+MZIjp27MxXX33HvHmLmTdvMQDz5i1OEzpkRp06dVm7djWJiYnExsayfv331KpVl7p167Nhww/Ex8cTGRnJjh3bHLVu2vQL4eEXMQyDyZPH8dVXi1Nt87nnniE6+gpPPtmdJ5/szqFDB2+5LhEREREREck6+a7FQ26wdu1K+vUbkGrZY489yeLFC/jvv+O0bNmanTu3ERhYGoDOnbtw6tRJevfuTmJiIu3bd6R27brs3bs71TZ69AhmzJgRuLm5UaKEP1WrVuf06RA6dXqMw4f/pVevpyhe3Bd//1K4ublRq1YdDh8+RL9+wdjtiTRo8ADt2nVItc2KFSvRs2dvBg7sh81mo0qVagwdOix7T9BVnTo9zsmTJwgO7obNZqNNm3Y0a9YcgL//PkD37k9QrFhxypW7G4BKlSrTu/dzDBr0PIZhULFiZXr0CE61zf79BzB27DtYLBY8PDx44423c+RYRERERETE+f44EgaYqFGhuLNLkRRMhmFc3949V7twISpNE/2zZ//D37+skypyvq1bN2MYBo0bNyEqKorevZ9m9uwFeHl5O7u0O2K1mrHZ0nYhESlodC9ITsntv0/9/DwJDb3s7DJEcgXdDyJJrr8Xxi/ai91u8FZP53a/L2jMZhPFixfJ8HG1eMgHypUrz5gxI5g1azoAffv2z/Ohg4iIiIiIyK2yGwax8TZnlyHXUfCQDwQEBDJ9+mxnlyEiIiIiIuJcBsTEZTxYvjiHBpcUERERERGRfMFQi4dcKd8ED3lsqAoREZFcRb9HRUQkPzBIavGg32u5S74IHqxWV65cidTFJSIichsMw+DKlUisVldnlyIiInJHDCNpnIf4BA3MnZvkizEefHz8CA8PJSrqkrNLkSxkNpux2/WGIaJ7QXKC1eqKj4+fs8sQERG5I8lfRsfE23BztTi5GkmWL4IHi8WKr28pZ5chWUzTRIkk0b0gIiIikjnJbeBj4mwULeLm1FrkmnzR1UJEREREREQkOXmIjdfMFrmJggcRERERERHJFxxdLeI0s0VuouBBRERERERE8oVrXS3U4iE3UfAgIiIiIiIi+UJyi4fYeLV4yE0UPIiIiIiIiEi+kHJwSck9FDyIiIiIiIhI/nA1eYjR4JK5ioIHERERERERyRfsyV0t1OIhV1HwICIiIiIiIvmKWjzkLgoeREREREREJF+wX+1qoRYPuYuCBxEREREREckfrna10OCSuYuCBxEREREREckXHLNaqKtFrqLgQURERERERPIFQ4NL5koKHkRERERERCRfMBzTaSp4yE0UPIiIiIiIiEi+4Age4tTVIjdR8CAiIiIiIiL5xNWuFmrxkKsoeBAREREREZF8IXlwSVuiQYLN7tRa5BoFDyIiIiIiIpIvJHe1AI3zkJsoeBAREREREZF8wTAMrBYToJktchMFDyIiIiIiIpIvGAYUcrMCGmAyN1HwICIiIiIiIvmCwbXgQQNM5h4KHkRERERERCR/MAy1eMiFFDyIiIiIiIhIvmA3oEghFwAux8Q7uRpJpuBBRERERERE8o3iXu5YzCbOh8c4uxS5SsGDiIiIiIiI5AvJs1r4FS3E2QvRzi5HrlLwICIiIiIiIvmCYYDJZMK/mAdnwxU85BYKHkRERERERCRfMAAT4F/Mg3MXY7DbDWeXJCh4EBERERERkXzCMAwwgX9xD2yJdi5Exjq7JEHBg4iIiIiIiOQTBmA2mSjpUwiAcxfV3SI3UPAgIiIiIiIi+YJhJHWt8C9eGIAzCh5yBQUPIiIiIiIikj8YSS0evDxcKORm5ayCh1xBwYOIiIiIiIjkCwaAKXlmi0LqapFLKHgQERERERGRfMEwDExX/+1fzEMtHnIJBQ8iIiIiIiKSLxhGUmsHAL+ihbgYGYct0e7kqkTBg4iIiIiIiOQbV3MHCru7ABAbn+jEagQUPIiIiIiIiEg+YTcMR/Dg7mYBIDbO5sSKBBQ8iIiIiIiISH6RPLokUMjVCkCMWjw4nYIHERERERERyRcMcAwuWcjtavCgFg9Op+BBRERERERE8jzDMADSdrWIV/DgbAoeREREREREJM8zrv4/eVYLR1eLOHW1cDYFDyIiIiIiIpLnXd/iwdHVQi0enE7Bg4iIiIiIiOR5V3MHxxgP7q7Js1qoxYOzKXgQERERERGRPM+41tcCADdXCyY0uGRuoOBBRERERERE8oGk5MF8tcmD2WTC3c2irha5gIIHERERERERyfMcLR5ScHe1qqtFLpDtwUNUVBQdOnTg1KlTAHz55Zd06NCBjh07MmzYMOLj47O7BBEREREREcnnkoMHc/LokiQNMKkWD86XrcHDvn376NatG8ePHwfg2LFjzJ49m6VLl7JixQrsdjuLFy/OzhJERERERESkADC4bnRJoJCrhViN8eB02Ro8fPXVV4wcOZISJUoA4OrqysiRIylSpAgmk4nKlStz+vTp7CxBRERERERECoBrs1pcSx7c3azExKurhbNZs3PjY8eOTfVzYGAggYGBAFy8eJFFixYxbty4W9pm8eJFsqw+yf38/DydXYJIrqB7QSSJ7gWRa3Q/iCRJvheuxCQA4Onp5lhW1NOdyOhI3S9Olq3BQ0bOnTtH3759efzxx2nQoMEtPffChSjs9nRGDZF8x8/Pk9DQy84uQ8TpdC+IJNG9IHKN7geRJCnvhejYpODhSlScY5kJg6joBN0v2cxsNt2wkUCOz2px5MgRunbtyqOPPsqAAQNyevciIiIiIiKSDyV/P21KObikq5UYjfHgdDna4iEqKoo+ffrwyiuv0Llz55zctYiIiIiIiBQEKQeXdLMQG5+I3TBSzXYhOStHWzx8/fXXhIWFMXfuXDp16kSnTp2YMmVKTpYgIiIiIiIi+ZD96uiSKeOFQm5J37XHaYBJp8qRFg8bNmwAIDg4mODg4JzYpYiIiIiIiBQk6XW1uBo8xMTZHP+WnJfjYzyIiIiIiIiIZLXkKQhS9qhwd7UAaEpNJ1PwICIiIiIiInmekdzVIp0WD7EaYNKpFDyIiIiIiIhInmckd7VIsayQ69WuFvEKHpxJwYOIiIiIiIjkeUY6yYO7W1JXi9g4dbVwJgUPIiIiIiIikm+knDbT0eJBXS2cSsGDiIiIiIiI5HnJDR5SKuSmwSVzAwUPIiIiIiIikuddG1zy2jJ3Vw0umRsoeBAREREREZE8zzGdZopBHsxmE24uFg0u6WQKHkRERERERCTPS6/FA4C7q4UYDS7pVAoeREREREREJM9ztHi4LniwWEwk2u05Xo9co+BBRERERERE8j7HbJqpkwezyYRyB+dS8CAiIiIiIiJ5nj2DrhZmk8nRDUOcQ8GDiIiIiIiI5B/XBQ8ms8kRSohzKHgQERERERGRPM/IsKsF2JU7OJWCBxEREREREcnzMprVwmwyYSh5cCoFDyIiIiIiIpLnXZvVInXyYDKpq4WzKXgQERERERGRPO9aV4vUzGawq8WDUyl4EBERERERkTwvo64WJpMJxQ7OpeBBRERERERE8pHrB5c0qcWDkyl4EBERERERkTwvuauF+frBJc1ojAcnU/AgIiIiIiIieZ5B+oM8qMWD8yl4EBERERERkTzPMbikKW1XCzV4cC6rswsQEQE4Hx7N74cvOH72cLPywH3+mK8fHUhEREREJB0ZzWphMkGiWjw4lYIHEckV5qz+m0OnIlItK+RmoU6VEk6qSERERETykuSuFtd/b2U2m0hItDuhIkmm4EFEnO7YmUgOnYqgy4MVePD+AOwGjJ63i3W7Tip4EBEREZFMuVFXC7tyB6fSGA8i4nTrd52kkJuF5rUC8XB3oUghF1rXvYvDpyI4cjri5hsQEREREcmgq4XZbMLQIA9OpeBBRJzqYmQsu/4+T9OaARRyu9YIK6hGKQq5WVm386QTqxMRERGRvCJ5yszrWzyY0HSazqbgQUSc6sc9pwBoWad0quWF3Kw0uz+APf+cJ+xSjDNKExEREZG8KJ0xHtTVwrkUPIiI08TE2dj4+2nqVvXD17tQmsdb1SmN2WTih92nnFCdiIiIiOQlyd0p0nS1MKmrhbMpeBAio+O5EBHLhYhYwi/H6aaUHLP5zzPExNloU69Muo8X83KnXrUSbPrjNNGxthyuTkRERETykowGlzSZTepq4WSa1aKAOxwSwXsL96Ra1ufhajS+r5STKpKC5JffQqgY6M3dAV4ZrtO2Xhm27z/Hpn2neahB+gGFiIiIiEhytJC2xQPYlTs4lVo8FHAHjl/EBPR6qAq921Ul0Lcwa7b/p1YPku0io+M5cyGaWpV9b7heWX9PqpYpyg+7T2LT/MsiIiIikgFHV4vrx3gwmTCUPDiVgocC7nBIBAF+hXnw/kCa1AygfcOynLkQzV/HLjq7NMnnjoQkTZNZMdD7puu2qV+G8Mtx7P7nfHaXJSIiIiJ5lKPFw/VdLUzqauFsCh4KMLthcCQkMtUHv3rVSlC0iCvrdp5wYmVSEBwOicBiNlHO3/Om69aoUBz/Yh6s3HKctTv+48S5yzlQoYiIiIjkKRlkC2YzatHtZAoeCrAzYVeIibOlCh6sFjMt65TmwPFwTp6PcmJ1kt8dORVBOX9PXKyWm65rNpl4uFFSa5xlPx9hxnf7lVqLiIiISCrJ4YI53RYPzqhIkil4KMAOZ9DUvdn9gbi6mFm/S60eJHvYEu0cO3uZCpnoZpGs8X2lmPFaM/p2qMbZi9H8cfhCNlYoIiIiInmNI1tIZ4wHu5IHp1LwUIAdDomgSCEXSvgUSrW8SCEXgu4rxfb957gUFeek6iQ/O3EuigSbPVPjO6Tk6mKhQfWSFPdy43t1BxIRERGRFDIcXFLTaTqdgocCyjAM/j0ZQcVA7zSDrwC0rnsXdrvBhr0hTqhO8rvk1ja30uIhmcVspnW9Mhw6eYmjpyOzujQRERERyaOSswXTdU0ezKZrj4lzKHgooA6euMT5SzHUrFg83cdLFvPg/kq+/PJbCHEJiTlcneR3p8Oi8PRwwcfT7bae36RGKQq5WTUIqoiIiIg4XJvVIvVydbVwPgUPBdS6nSfw9HDhgXv9M1ynbf0yRMUksO2vszlYmRQE58NjKFG00M1XzEAhNysP1gpg9z/nCb0Uk4WViYiIiEhelVFXC02n6XwKHgqgkLAr/HHkAi1rl77hjAKVSntTzt+TdbtO6kaVLBV6KQY/n9sPHgBa1bkLs8nE6m3/EXopRteoiIiISEGXUVcLM/pb0ckUPBRAG38LwcVqpnntwBuuZzKZaFP/Ls5djOaPI5pBQLJGgs3Oxci4O2rxAODj6UaD6iXZtO80b8zYxorNx7KoQhERERHJi5J7U6TX1UK5g3MpeCiADp26RMVAbzw9XG+6bt0qJfDxdGO9+tJLFgmLiMEA/O4weADo2rISz3WsTtUyRflpzyni4jUeiYiIiEjBlX66YDZrjAdnU/BQwMTFJ3Lq/BUqBHplan2rxUyruqU5eOIS/529nM3VSUGQPCbD9dO43o4ihVxodI8/nZvczZVYG1v/OnPH2xQRERGRvMkxq8V1TR5MJnW1cDYFDwXMsTOR2A2DCgGZn8awWc0A3FwsrN+lVg9y586HXw0esqDFQ7JKpb0pX8qL9RqPRERERKTAutGsFoZxbfBJyXkKHgqYI6cjAKgQmPngwcPdhUb3lGTPP6HYEu3ZVZoUEOcvxeDqYsar8M27+mSWyWSibf27OBcew77DYVm2XRERERHJOxyzWly33Hw1iVDu4DwKHgqYIyGRlCzmQZFCLrf0vCplfIi32TkVGpVNlUlBERoeg1/RQmmawN2pOlX8KO7lxrqdJ7N0uyIiIiKSt6TpamFO+lktY51HwUMBYhgGR05HUCEgc+M7pJQ8JsSRkMisLksKmNCI2CztZpHMYjbTqu5dHDp5iWNndJ2KiIiIFDTJwULarhZJ/1dXC+dR8FCAhEbEcjk64Za6WSQr7uWOdxFXjoREZENlUlDYDYPQSzFZMqNFeprUCMDd1cIPu9TqQURERKTAySBXSO5qYVevcadR8FCAJIcGt9PiwWQyUTHAm8MKHuQOnAm7QoLNTmm/ItmyfQ93K01rBrDz7/NcjIzNln2IiIiISO6U3KDBnGZWC3W1cDYFDwXIkZAI3Fwst/2hr0KgN2ERsURcic/iyqSgSA6uKpa+9VY3mdWqbmkAftxzKtv2ISIiIiK5j5Hc5OH6rhbm5MElFTw4i4KHAuRISCTlS3k6brxbVfFqFw11t5DbdTgkgiKFXCjpkz1dLQB8vQtRt6ofG38/TUycLdv2IyIiIiK5i5F+7uAY88Gu3MFpFDwUEHEJiZw8H3Vb4zskK+tfBIvZpOBBbtvhkEgqBnpn+YwW12tTrwwxcTY2/3EmW/cjIiIiIrmHI3i47m/Na2M8KHlwFgUPBcTxM5HYDeOOggcXq4Wy/p4KHuS2XI6O59zFaMcMKdnp7gAvKpX25ofdJ/ULRkRERKSASO5qcf1XXGZNp+l0Ch4KiCOnk6YXvJ2BJVOqEODN8bOXsSVqSFi5NclTsVa8g/DrVrSpV4awiFj2HgrNkf2JiIiIiHNl3OIh9eOS8xQ8FBBHQiIo4VMITw/XO9pOhUAv4m12Tp6PyqLKCq5dB8+zYvMx1u08USCCnMMhEVjMJsqVyv4WDwC1KvlSomgh1u06kSP7ExEREZHc4fpevepq4XxWZxcg2c8wDI6cjuSecsXueFspB5gsn0MfIPOj8+HRzPj2L8dUw+6uFprdH+jUmrLbf2cjCfQrjJuLJUf2ZzabaF3vLhb9cIjDIRE51tJCRERERJwjo1krNJ2m86nFQwEQFhFL5JV4KmZB3/piXu74eLo5um7I7flx9ynMZhOTXnyAsv6erNt5Mt+/EZ69GENA8cI5us/G9/nj4WZl/U61ehARERHJ7zLsanH1U29+/3s7N1PwUAAcOZ00GOSdDCyZUoUALw0weQeiYxP49Y8zNKhekmJe7jxUvwxnL0bzx+ELzi4t28QnJHIxMpaSxTxydL/urlYerBXInkOhhF6KydF9i4iIiEjOSo4VMupqodzBedTVogA4EhKJm4uFQL+s+ba5QqA3u/8JJfxyHD6eblmyzYJk477TxCUk0qbeXQDUrerH17+48f3OE9xfyfeOtr180xH2Hgpz/BzoW5jnO92T7dNX3sz58BgMwD+HgweAlnVKs27nCX7ac4quLSvl+P5FREREJGckd7VI2+JBYzw4m1o8FABJ4zF4YjFnzctds2LSh+ONv4dkyfYKEluinR93n6JaWR/KlPQEwGI25QLoqAAAIABJREFU07LOXRw6eYlTdzBo54WIWNZsO4GLxUxAcQ+8PFzYdfA8+49dzKryb9vZi9GAc4IHH083qpXz4a9ccB5EREREJPs4ulpct1xjPDifgod8Lj4hkZPno7KsmwUkfXi8v6IvG/aGEJeQmGXbLQh2HzxP+P+zd+dRbR12vsC/92oXSGITCAmxG2O8YLDBS7wnXuIs7bhN0zRNO5m0Tt90Om1f86Z9nTntmaWdzrRv+mamr53pNpM2M1naJk2azXiNnTgOYPCGjQ1i04KEQCABQkLSve8PLGzHiFXSlcTvcw6nNZKufoRFur/7W0b909UOYfes1UEsYnFyCcmcY+fNAIA/O7QWf/pHa/E/H10PTboUR5rMS4o5GvpvJh7yshSCPH+5QQPb4Di8voAgz08IIYQQQuLorlaLqf+ligfhUOIhxfXYRxHieJTpozvR/8CmQoxNBHD2ij2qx01lPM/jSKMZuiwl1pZl33GbSilFXaUW71+xwzcZXPCxJ/xBnL5oQ92qXGRr5AAAsYjFvbUFaOt2LamSIhocLi8yVTLIpcJ0d4UTb139NBSVEEIIISRVhSsa2A+3WtCMB8FR4iHFhcvsS/XRXX25okCDknw1TrVSu8V83TCPoNcxin11xrv+GALArhoDfJMhtN42o2G+zly0YcIfuquSYleNAVIJiyNNwm51sLu8yMsUptoBAErz1WAwNe+EEEIIIYSkqAiJBYalVguhxTzxMDY2hgcffBAWiwUAcPbsWTz00EPYt28ffvjDH8b66Ze1yUAIpy5YUV2WDXWaNKrHZhgG1eXZsAyMwetb+BX65aihyYx0hQRb1uhmvL3MoIFCJkaHZWRBxw1xHI42W1BhzEBJ/p0JpnSFBNvW5uNcmwMjY/5Fx74UPM/DPuSFLs6rNG+nkIlh0KbRNhZCCCGEkBTGT1c83Pn56VYLSjwIJqaJh4sXL+Kxxx5DT08PAMDn8+Gb3/wmfvzjH+PNN9/ElStX8M4778QyhGXtbJsdo94ADmwqjMnxyw0a8AC6+ulkbi4OlxcXOgaxq8YAmUQ0431YhkGZQY3OBZ4ct9wYxJDHh/0fqnYI21tnBMfxONFiWXDc0TA6EYDXHxRksOTtygwamGweesEhhBBCCElRt97lRWi14OIaDrlNTBMPL730Er797W8jNzcXAHDp0iUUFRXBaDRCLBbjoYcewttvvx3LEJalqz0uvHy6C2++34tinQoVxoyYPE9JvhoMA3Ra4p94aO8dxsunu6Y/zlyyxT2GhTjabIZIxODeWsOs9ys3aGB1js+7imRqbkQfcjMV09tGPiwvU4n1K3JwssUK/2T8h4E6pjdaCNdqAQBleg0m/EH0D3kFjYMQQgghhMTG9FaLD1U8UKuF8GI66e073/nOHf8eGBiAVqud/ndubi4cDseCjpmdnR6V2FKVbzKIf3/tKka9kxCLWHzh0Drk5kZ3vsPtinRqmJ3j0GpVMTl+pON+65eNsAyMgWWmMps8D6yv1KE0its7omXUO4n3rtixq9aI8pKZkwNhG6vy8fsz3RjyBlBkzJzz2Ne6XeiyefCFQ+uQlxf5+/zovkp84/+9i0u9wzi4tWTBX8NSvNVkBsMA61fpkK0RLvlQtxb45ZvXMODxY/2qmdtdElmsfscISTb0u0DILfT7QMiU8O9C2s32cq1WBYXs1qlultsHAFBrFPR7I5C4jpjnOG56hyowdbWWmWHI3myGhsZoDcosTrVaMeqdxDcer52udHA6R2P2fMU6FT64aodjwDPjwMSl0GpVM8Y+NhGAZWAMH9tZige2FMPrC+Br/+8sXmxox+cerIpqDNHwxvs98E+GsGOtbs7vRaZSDIYBzrf1wziPCoEXG9qRJhejujhz1mNr0yUoyVfh5RMd2FCeHfXvVST+QAhvne3B+vIccJPBmP4szkUKHmlyMS60O1BTmiVYHIsR6XeBkOWGfhcIuYV+HwiZcvvvwtjNmWZDg2OQSW+1N3vcEwCAYdc4nGpZ/INcBliWmbVIIK5bLXQ6HZxO5/S/nU7ndBsGWTqO59HQZEaxToUVBfG58l+mV2PCH4JtcDwuzwcAXTb3zeee+hqVcgm2r8vHB1cdGB4VZoBiJMEQh+PnLVhdnImC3LmrdRQyMYza9HkNQRwY9qLlhnNqboR05rkRYQzDYH99IRzDE7jYsfCtGYt1rs2OsYnAXds2hMAwzPScB0IIIYQQknrCrRR3tVow4VaLeEdEwuJa8VBdXY3u7m709vaioKAAr7/+Oj72sY/FM4SUdtk0BLvLi8MPVy24kmSxym+2NpisbhRo49MG02mdqq64fYPDfXVGHD9vwYkWCz62sywucYSFOA7/8tvLGBi+e3ZAMMRhZGwSTx5cNe/jlRVo8P4VO4IhDmJR5Nzg0WYLWJbBntqCeR13w0otstUyHGkyo6ZCO/cDouD4eQsK89JjNmdkocr0alwyDcHrC0AplwgdDiGEEEIIiYEPnwqxN2c88DTjQTBxrXiQyWT43ve+hy996Us4ePAgSktLceDAgXiGkNIamszIVMmwcWX8qkhyMxVIV0gWvIlhKUxWNwpy0+64yp+boUBthRanWuM/QPH8dScudw0hL0uJ4nz1HR/lBRm4f3Mh1pTMv7S/pjwHvskQGq9Fnn8y7gvg3Uv92FSVh0zV/MrFRCyL+zYaccM8gu7+2F/1Hxnzw+Icx+YqXdwSYXMpu5ko66KqB0IIIYSQlHMrrzDzVgsaLimcuFQ8nDhxYvr/b9myBa+99lo8nnZZ6XOM4lrvMB7ZXTbrVfJoYxgG5QYNTNb4nMhxHI+ufg+2rrl7OOC+eiPO33Di7JV+7J5nFcBShbdK5GUq8OcfXxeV2QmrS7Kgz0lDQ6MZW1bPfNL+zgUb/IHQglsYdlTr8dp73TjS2IcvfGTNkmOdTbhdJF5tP/MxvYnF6saa0myhwyGEEEIIIVHER2i1YG+eHnG0TlMwca14ILFzpNEMmVSEndX6uD93mUENu8uLsYlAzJ/LOjgO/2QI5fq7T2bLDRqU5KvR0GSOWjZzwh9En2M04scHVx3o7h/F/vrCqA1sZBgG++qM6BsYQ3vfyF23B0McjjWbsaooE4V5C5vKq5CJsaNaj+Z2J4ZuTveNlU6rG2IRu+AYY0khE8OQk05zHgghhBBCUlD4DOCuGQ+gigehxXXGA4mNCX8Qjdcc2FVjEKRv/fY5D9Xls6+LXKrwVfQyw92rIxmGwd66Avz0tau43jeCVUVzr6Ocyz//5iJuWGZvI1EpJTNWYCzFltV5+N07JjQ09t31dTRdG8DI2CT++P75z4243X0bjDjaZMGx82Y8umdFNMKdUafVjeJ8FSTixMpvrijQ4GybHRP+4B1rlgghhBBCSHIL5xU+XDFMMx6ER++6U0B3vwchjkd1mTCl48U6NViGgckWn8SDSimBNmPmVZPrbpbPd1iWnngwWd24YXHjvo0FqCyMfKz8bCWkktm3SiyURCzCntoCvPpuN/qHxpGfnQbgZmtHUx/ys5VYs8iVkNkaOTZWanH6og0P31MSk5PvQDCEXvso7tso/DaLD9u6VoeTrVacudSfENs2CCGEEEJIdEy3Wnzo8zfzDrTVQkCJdSmSLEq4CqBUf3cVQDzIpCIYc9PjMueh0+ZBmV4TcVihUi6BPictKrE0NJmhkInxR9tLUVuhjfgRTgpE2+4aA8QiFkebzNOfu943gj7HGPbVGZfU2rG/vhAT/hDOXLRFI9S79NrHEAzx09UwiaRMr0FFgQZHm/oQokY/QgghhJCUE6nigaPMg2Co4iEFmGwe6HPSBF0PWG7Q4N3L/QhxHERsbPJZYxMBOFxebFs7e1tDmV6NlhtOcDy/6JPzwZEJNF8fwP76QsHK8dVpUmxdk4f3rtihkIvBgEFbtwsqpQRbVi+ttaMkX40KYwaONltw78aCBX/PrnQNzTh/IqxvYBTArS0SiWb/pkL86+8uo6l9AJurotsmQwghhBBChMHxd1c7ALcSETTjQTiUeEhyPM/DZHWjtkIraBxlBjWOt1hgdY7HbJhguLJjrqvoZQYNzlzqh8PlXXQ1wrHzFrAMg/s2xGc7RiT76wvRcmPwtqoHBh/fWRqV1o79dUb868uXcf66E/Wr8ub9OP9kCP/+Whu8/iBEbOTETmVhBjRp0iXHGQvV5TnIVsvQ3O6kxAMhhBBCSMqYOfMw3WpBFQ+CocRDkrO7vBj3BQW/slx224DJmCUebG6wDINi3ewtJeFYOq3uRSUeJvxBnL5oQ11lLrLU8kXFGi352Wn4ly9vj8mxq1fkIC9TgSONfairzI3YvvJhZ9vsGPcF8b8/XYsVBRkxiS3WWIbBCmMGrvUOg+f5eX/thBBCCCEkcfE8Zqx4Dn+OCh6EQzMeklx4loHQiYccjRyaNCk6rbNvgFgKk9UDY246ZNLZr/bnZyuhlIkXPefhzEUbfJMh7E3xwYPszbWd3f2j6Jhjc0cYx/M42mRGsU6VkPMbFqJMr4F7bBLDo36hQyGEEEIIIVEQKbEwPeOBMg+CocRDkjPZ3FDKxMjPVgoaB8MwKDNoYjZgkuN4dNk8M67R/DCWYVCqV8NkW3gShOd5HDtvQYUxAyX5wgzrjKeta/ORJhfjSGPfrPcLBEP43n+14C9+chZ2lxd764xJXyUQHsZqssV+KCohhBBCCIk9HjxmeotKMx6ER4mHJGeyulGqVy9pw0G0lBnUGBiZgGd8MurHtg6Owx8IoUw/v6vsZQYNbM5xeH3BBT3PwPAEBt0+bF49/5kHyUwmEWFXjQEXOgYxMDIR8X7N1524YR5BUZ4K++qMqKvMjWOUsWHMTYdEzE7PDiGEEEIIIcmN5+/eaAHcmvHA04wHwVDiIYlN+IOwOscFb7MIK79tzkO0hasX5lPxEL4fD6C7f2FXszvnOcAyleypLQDLMjjebIl4n5OtVuRmKvDFQ2vxyXtXQCxK/j8dYhGLYp0KXVTxQAghhBCSGiJttZhutYhvOOSW5D97WMa6+j3gMf+T8Vgr1qkgYhl0LqLFYS4mqxvpCgm0GYp53b80XwMGC0+CmGweKGQi6HMWtw0jGWWqZKhblYszl2zotLjR3e+546PlhhOdFjd2rTckRGVNNJXpNeixjyIY4oQOhRBCCCGELNFUq0Xk4ZLUaiEc2mqRxEwWNxhMnWQnAolYhGKdCle7h4Fd0T12l82DcoNm3nMFlHIx9DlpC06CdFrcKNVrUu4Eey57Nxpxrs2B7z53fsbbJWIW96xNvbWTZQY13m7kcL1vBKtLsoQOhxBCCCGELAHPY9Z1mtRqIRxKPCSxTpsb+pw0KOWJ823cVJWH/z7WgR67Z861l/M17gugf8iLLasXduJbZlCjud0JjufnlUiY8AdhHRxDbUXxIiNNXiX5avzlZzZgzBuY8fZsjRwqpTTOUcXeurJsqJUSHG02U+KBEEIIISTJ8ZFaLRhqtRAatVokKY7n0WWd35aHeNq6Jh9SCYtTrdaoHbP7Zg9+mX5hX2uZQQOvPwj7kHde9+/q94DngfKCxKggibcyvQbV5TkzfhRo04UOLyYkYhHu3VCAS6YhWJ1jQodDCCGEEEKWgOcjtFrcLHngqdVCMJR4SFL2IS+8/uC8tzzEi1IuxqZVeTh31QGvb+ar5wtlsnnAAChe4HrL8IDIznnOeTBZE6t1hcTH7toCSMUsjjSahQ6FEEIIIYQsQYROC5rxkAAo8ZCkwtsaShNw+8Ke2gJMBjicudQfleOZbG4YtGlQyBbWUpKXpUSmSobGa475PY/Vk3CtKyT20hUS1Ffl4fyNAXoxIoQQQghJZjwwU4c1e/Osl6NeC8FQ4iFJdfd7IJOKkJ+lFDqUuxTpVFhpzMCxZjNC3NK2BXA8j26bB6WLqOxgGQb3bijA1Z5h9DlG53wek9WdMKtJSXxVFmZgwh+CbXBc6FAIIYQQQsgicRG2WtCMB+FR4iFJ9dhHUZSnmu5XSjT76o0Y8vhx/rpzScdxuLwY9wUXPN8hbNd6PWRS0Zxl9NOtKwk2M4PEx0LbcgghhBBCSAKKkFgIt1rQjAfhUE15EgqGOPQ5xnDvBoPQoURUXZ6D3EwFjjSaUVeZO+81mB/WFR4suchKBKVcgu3r8nGyxYpP7C6DJl024/1MN084y6niYVnSZiigVkpgsrixa33i/l4lipExP/7Pixfg9QXv+LxcKsLXHl2PLLVcoMgIIYQQspzxPI9I12VZhqG2WgFRxUMSsjrHEQxxUVtXGQssw2BfnRHd/R6YrJ5FH8dk80AhE0OXvfiWkq1rdAhxPK6bRyLep9PqRppcjLwEbF0hsccwDMoMGqp4mKfj5y2wOcdRVZyJ1SVZUx/FWRgYnkBDEw3pJIQQQogweGDmIQ+YmvOwxC5wsgRU8ZCEeuxTJ/LF+SqBI5ndPWvy8crpLhxp6kN5wdpFHaPL6kapXj1dHrUYBdp0SCUsOi1u1K/Km/E+JpsHZQbNkp6HJLfyAg1aOwbh8U5CrZQKHU7C8gdCeOeCDTUVWjz1QNUdtwVDHE5ftOHhe0poSCshhBBC4o6PMFwSmLrQRBUPwqGKhyTU3T8KpUyM3AyF0KHMSiYVYVeNAS03nLjYOYhOizvix0yrNyf8QZidY4ue7xAmFrEozVdHvJo97gvANji+5OchyS28mtZEVQ+zOtdmx9hEAHs3Ftx12756I3yTIZy+aBMgMkIIIYQsdzzPz7hOE5iqyKYZD8KhS1JJqNcxiiKdatFzE+JpT20BjjT24Z9/e2nW+1UWZuAvPlV7x+cudjjB84uf73C7MoMGb53rg38yBJlUdMdt4TkSNN9heSvWqSAWsbjS5ULNCq3Q4SSsM5f6YcxNR4Ux467binXqqY025824b2MBxCLKbRNCCCEkfngg4jkStVoIixIPSYbnedhdXmxbmy90KPOSqZLh20/WY3jUF/E+V7pcaGgyo7vfg5L8W1UHr542IVstw6qizCXHUW7QgON59Ng9WFl45/FMVjcYBiihiodlTSoRYdOqXJy9YsfHdpZCKZcIHVLC8QdC6LWP4sCmwogv6vvrC/Evv7uE89ed2FQ1c2sTIYQQQkgs8DwfsdWChksKiy5HJZmRsUn4J0PQJdEQRENOGtaUZEf8+Mi2EihkIhxp7Jt+THe/B1dMQ9i70RiVq6Zls6xL7LS6UaBNh1xKebjlbm+dEf5ACKcv9gsdSkLq6fcgxPGzViGtK89GXpYSRxr7qJyREEIIIfHFI2KrBc14EBYlHpKM3eUFgKRKPMxFIRNjZ7UBze1O/FfDDfz30Rv41ZHrSJOLsb1aH5XnSFdIkJ+tRIflzsQDx/HosnmozYIAAArzVKgszMDx82aEqBbvLqbwettZqoPCG2167KO4McsmGUIIIYSQaJu11YKZGj5JhEGJhyTjSMHEAzB1pTlLLcP7bXacvWKHc3gCj9xbAYUselUIlUWZaO8dxvhtgyxtg+PwTYZQZqA2CzJl70Yjhjx+tN4YFDqUhNNpcUOXpYRqjq0fW9fokK6Q0GpNQgghhMTVbNWWDMuA4yjzIBSqLU8ydpcXUjGLTLVM6FCiKlMlwz/+j613fE6rVcHpHI3ac+xYp8fJFivOXrZjb50RwK3Wi2gMsCSpobo8B9oMORqazNhYmSt0OAmD53l0Wt1YX54z531lEhF21xjw+tkeOFxe5KVYopQQQgghiWmq4mHm22jGg7Co4iHJ2F1e5GYqwSbBRotEU6RToVSvxqkL1ulsqMnqhkopSfjVpCR+WJbBfRuM6LS6pzeeEGBgeAJjEwGUF8wvSbdnQwFEIoaqHgghhBASNzw/R6sFVTwIhhIPScbu8kKXTVcPF2t3jQH9Q1609w6D53ncsIygTK9JitWkJH62rcuHQibC919oxTM/fg8m291DSZeb6zfnNcy3OkiTJsXm1Tq8c8GGr/zru3jpRGcswyOEEEIImdpqEeG2qeGScQ2H3IYSD0kkGOIwOOKDLouuzi9WXWUuVEoJjjSZca13GM4RH2oq5i4dJ8uLQibGk/evwpaqPPgnQ3jjbK/QIQmK53m8c8GKvCwl8heQ+PzothLsrjEgN1OBo81muDyR1+oSQgghhERDxIoHlqGNWwKixEMScY5MgOP5lBssGU9SiQj31hbgkmkIL57ohFopweaqPKHDIgloY2UuPnOgEvduKMCFzsHpjTLLkcnqQXf/KPZuLFhQm1eWWo7H91Xg8ENV4HngWLMlhlESQgghZLnjeJrxkKgo8ZBE7EPhjRZpAkeS3HbXGiARszAPjGFXjQESsUjokEgC21NbALGIXdazChqa+qCUiXHPmvxFPT5Ho8DGSi1OXbDC6wtGOTpCCCGEkJtmSSywtNVCUJR4SCL26VWa1GqxFCqlFNvX5UMiZrG7xiB0OCTBqdOk2LomD2cv92PUOyl0OHHn9QVw/oYTO6r1kEkXn6TbX18I32QIzdcHohgdIYQQQsgtPI+I1ZkMM2tegsQYJR6SiN3lhVopgVIuETqUpPfonnL83ec2QZOeWmtJSWzsrSvEZJDDqVar0KHEncnmAc8Da0uzlnScYp0K6QoJOiwjUYqMEEIIIeROPIBI0yWp1UJYlHhIInaXl+Y7RIlELIKWVmiSeTLkpGFtaTaOt1gRCHJChxNXnRY3GAYo0auXdByGYVBu0KDTSitKCSGEEBIbU1stIq3TpFYLIVHiIYnYXV7kUeKBEEHsqzfCMz6JD646hA4lrjqtbhhz0yGXipd8rPICDRwu77JsWSGEEEJI7PGzDZdkQes0BUSJhyQx7gtg1BuAbgGr7Agh0VNVlIkCbToamvqWzSqmEMehq9+DcoMmKscLH8dEVQ+EEEIIiZFI+7cYarUQFCUeksT0YMlMSjwQIgSGYbC/3giLcxxXe4aFDicurM5x+CdDUUs8FOtUELEMOq3uqByPEEIIIeR2PM+DiVDywDLMsrl4lIgo8ZAkHOHEA1U8ECKY+lV50KRJcaSxT+hQ4iKcIIhW4kEqEaEwT0WJB0IIIYTExOzDJUEzHgREiYckYXd5wTIMDUQkREASMYt7NxTgSrcLFueY0OHE3PW+EWjSpMjWyKN2zHKDBt39HvgDoagdkxBCCCEECK/TnPk2lmVoxoOAKPGQJOxDXuRkyCEW0beMECHtqjFAKmbR0GQWOpSYGh71o+WGExtWaiOWLC7GhpVaBIIc3m+zR+2YhBBCCCEAbrZSzPy+hWY8CIvOYpOE3TVBqzQJSQDpCgnuWZuPc212uMdTdzvD8fMWcDyPfXXGqB53RYEGRXkqHG0yU58lIYQQQqKKxyxbLRjQew8BUeIhCXA8j4FhLyUeCEkQe+uMCIV4nDhvETqUmJjwB3Gq1YoNFVrkRnmgLcMw2FtXgP4hL9p6XFE9NiGEEEKWOZ6PmHhgWAYcF99wyC2UeEgCg24fJoMcDZYkJEHospSoLs/ByVYrJlNwVkHLDSe8/iD21RXG5Pj1q/KgVkrw7qX+mByfEEIIIcsTxwNMhFYLllotBEWJhyTQZZuaAF+arxY4EkJI2P56I8YmAjibgrMKOq1uKGVilBpi8zdHLGJRWZSJDgtttyCEEEJIdEVutWDA03RJwVDiIQl0WT2QSlgYtGlCh0IIuanCmIEinQoNjeaUy56brG6U6tVgozhU8sPKDBoMj/rh8vhi9hyEEEIIWV54no+0TRMMA9pqISBKPCQBk82DEp0aIpa+XYQkCoZhsL/eCLvLi8umIaHDiZoJfxBW5zjKDJqYPk/5zeN3WqnqgRBCCCHRwc8yXZJlGRouKSA6k01wgWAIfY7RmJU8E0IWb+PKXMilIlzpSp0hiV39HvAAymL8N8eYmw6pmIXJ6onp8xBCCCFk+eAxtb1iJjTjQViUeEhwvfYxhDgeZfrYXn0khCycWMRCl6WE3TUudChRY7K6wQAozY/t3xyxiEWxTkUVD4QQQgiJmtkqGliWAUe9FoKhxEOCM4UHS+qp4oGQRKTLVsLumhA6jKgxWT3Q56RBKRfH/LnKDBr0OUYRCKbeZhBCCCGExN9Up8XMJQ8Mc7MVgwiCEg8JrsvmQbZajox0mdChEEJmoMtUwuXxpcRaTY7n0WVzx7zNIqzcoEGI49FjH43L8xFCCCEktfE8P+tWC2q1EA4lHhKcbXAcxtx0ocMghESgy1aCB+AYTv6qB4fLi3FfMG6tXWU0YJIQQggh0cQj4lYLSjwIixIPCYzjeDiGJ6DLUgodCiEkgvDvp8PlFTiSpQsnAGK90SJMnSaFNkNOAyYJIYQQEhWztVqwLGjGg4Ao8ZDAhjw+BEMcdNmUeCAkUeVlTv1+9qdA4sFk9UApE8f1b065QQOT1U3rrQghhBCyZDwfueSBYRia8SAgSjwkMPvNE5m8TIXAkRBCIpFJRchUyWAfSoHEg82NUoMabKTmyBgoM2jgHp/EoNsXt+ckhBBCSGrieUR8H0OtFsKixEMCCycedNlpAkdCCJmNLksJx3ByJx68viBsznGUx3l1b3iehInmPBBCCCFkiWbLK7AMrdMUEiUeEpjd5YVCJoZaKRE6FELILHRZStiHvEndLtDd7wGP+M13CCvITYNMIqI5D4QQQghZMh58xOGSDAtQ3kE4lHhIYA6XF7osRcQBKYSQxKDLUsLrD2LUGxA6lEUzWd1gAJTq47NKM0zEsijJV9FmC0IIIYQsHT/LcEmGSeqLRMmOEg8JzO7y0kYLQpKAXjvVDmUeGBM4ksXheB4fXHOgRK+GQiaO+/OXGTQwD4zBPxmK+3MTQgghJHVwPBDpmi3NeBAWJR4SlH8yBJfHT4kHQpJAiU4NBlPDGZPRlS4X+oe8uHdDgSDPX27QgON59Nip3YIQQgghS8FHrHhgWIDj4hwOmUaJhwQVHlSXR4kHQhKeUi6GPicNXbbkPHEAGvfxAAAgAElEQVQ+2myGJl2KuspcQZ4/PFeC2i0IIYQQshSzbNOkVguBUeIhQU1vtKDEAyFJoVSvhsnqTroXNIfLi7ZuF/bUFkAsEuYlIV0hQV6WkgZMEkIIIWRJeCBi5oGhVgtBCfIu89VXX8UDDzyABx54AP/wD/8gRAgJr6d/FGIRC30OrdIkJBmUGTQY9wXhGJ4QOpQFudY3DACoF6jaIaxcr0ZnEiZuCCGEEJI4eD5yqwXLTFVE0HsNYcQ98TAxMYHvfOc7+PWvf41XX30Vzc3NOHv2bLzDSHgmmxtFunTBrkASQhYmvA3ClGTtAiaLGyqlBLmZCkHjKCvQYGwigIEkS9wQQgghJHHM2mrBMtP3iZWJE/8O33u/jt0TJLG4jy8PhULgOA4TExNQKpUIBoOQyWTxDiOhBUMceuyj2F1jEDoUQsg86bPTIJeK0GXz4J61+UKHM2+dVjfKDRrB1/aW62/NeaDZNoSQ5c5kc8+5olnjHIfbfStZK2IZVBZmQiKmi1Zk+eIx+1YLYGqbFxsxPbE0IcsV8FwQsi2fAsOKYvIcySruiYf09HR8+ctfxv333w+FQoG6ujrU1tbO+/HZ2ekxjC4xdJpHEAhyWF+ZB61WJXQ4glruXz9JLhWFmTAPjsfk5zYWx3SP+eEYnsD9W0sE/13Lyk5HukKCdosbH91TIWgsJLEJ/bNKSKyZLCP4zq/OL+qxn9pficf2rYxyRIQkvvBrA8sykMslM75WqFRyAFPnk1JJ9JMCoYkxjPpGAQDqgAPygqnfxZB3FKxMDkYkifpzJpO4Jx7a29vxu9/9DidPnoRKpcIzzzyDX/ziF/jc5z43r8cPDY2B41K7L6e5rR8AoE2XwukcFTga4Wi1qmX99ZPkk6OW4f22YQwMeKJaQRCr34XWDicAQJchT4jftW3r8nGksQ/XOgaQkyFs6wdJTPS6QJaDFxuuQyYR4WuProdIFPm1JDNTieGbW9AA4HfvmPD6GRN2rs2DRExXWsnycftrQyjIYdIfnPG1wuv1AwAGBkYhk8Yg8eDonP7/g1caIZPpwQcnMf7i18Gqc6F48OtgmNStSGJZZtYigbh/5e+++y62bNmC7OxsSKVSHDp0CI2NjfEOI6GZbG5o0qXIUlMLCiHJRJelxIQ/BM/4pNChzIvJ6oGIZVCsS4wryPdtKADLMDjabBE6FEIIEcTwqB+N1xzYvi4f5QUalOSrI36sMGbe8e+Dm4vg8QZwrs0h9JdBiGB48PNqtYgFzj31u8co1AhargAAAh1nwY8PI9R/HYG24zF53mQR94qHyspKfP/734fX64VCocCJEyewdu3aeIeR0LqsHpTphe+5JoQsjC57ajaB3eWFJj3xE4edVjeKdKqYlBsuRpZajvpVeTh90YaPbCuGUr68SxIJ+TCvL4jfnuqEPxC64/NymRif2FUekyt4JL5OtFjA8TzuqzMu+LGrijJhzE1HQ5MZ29bl0/tIsizxs+zTjHniYaQfYFhIKrZh8tLb4H1jCFx6G2x2ERilBv4PfgNx2SawCnVMnj/Rxb3iYdu2bXjggQdw6NAhPPzwwwgGgzh8+HC8w0hYvskgBkYmUJQgVyAJIfOny7yVeEh0IY5Dj90zvY0jUeyvN8IfCOHdy3ahQyEk4ZxsteDUBRs6LG50Wqc+OixunGyx4p2LNqHDI0vknwzhVKsVtRVa5C6i3YxhGOyrM8I6OI62blcMIiQk8fH81NrMmYS3WsSqbZ9z28GotRAX1wI8h/GX/jc4tx3S6vshqzsEhCYR6rsYk+dOBnGveACAw4cPU7IhAodrajpxPk11JyTpZGnkEIvYpEg89A96MRngUJKfWImHwjwVyvRqnGq1Yu/GArpiR8hNwRCH4+ctqCrOxDOfrLnjtu89dx5Hm/pw7wYDRGzq9g+nuveu9GPcF8T+usJFH2NTVR5++44JR5rMWFOaHcXoCEkWkfdpht9SxGqdJue2g9XoIMorh3zflxBoPw0EJyEu3QgwIjDKDAT7LkKycntsAkhwi3p1crkoixor4RMWHSUeCEk6LMMgL0sB+1DiJx667R4ASJj5DrfbVWOA3eVFe++w0KEQkjCarw9gZGwSezfeXYK/f1Mhhjx+NLc7BYiMRAPH82hoMqNUr0aZYfEJYbGIxb21BWjrdsHiHItihIQkB44HmCW2WviCfpx3XIRtzA6O5+b1vDzPgXM7wGZMrVSXFG+A8sBXoXzw62BYMRiGgdi4DkFLG3guuICvKHVErHhwu9345S9/CY1Gg89+9rMQiUTgOA7PPfccfvSjH9FAyBixu7xgAORm0kR3QpKRLksJi3Nc6DDm1NM/CoVMhLwETHLWVebiheMdONFqxarirKgd97X3utHeO4xnHquZfvNBSKI7fdGG5xpuIBTikJelxNqyu69iV5fnIC9LiZ++1oafv371jtu2rcvHZw9UxitcskgXOwcxMDyBQztKl1zptavGgNfP9uDbv2yc9986lVKCbz9ZD02adEnPTUgiiDhccp6tFi9cfwVNjhYAwHrtWjy15nGwc2yj4MdcQCgAVqOLeB9RYTUC108jZO+AWL9q1uOlooiJh2984xtgWRYulwscx+HAgQP48z//czgcDnzjG9+IZ4zLit3lRZZanjDD3gghC6PLUuJCxyCCIQ5iUeKWPPfYPSjKUyXkCbhUIsKO9Xq8/UEfBkYmFtXr/GHjvgDeOtcHfyCEq90uKkEmSYHjebx1rhc5Gjk2rNRi/YqcGX9nWYbB4Yeq0HLjzoqHHvsoTl+04eDmImhpRW1Ca2g0I1stw4aV2iUfK10hwdMfWY0um2de9w+FeBxp7MPx8xYc2lG65OcnREgcH3mrRfjzs1U8XHReQZOjBbuN2yBjpXi79wT+0HUEHym7f/bndU/Nppot8SA2VAGsCMG+i5R4uF1nZycaGhrg8Xjw5JNP4tlnn8Xu3bvx7LPPQqVKvNLcVGF3eacn4xNCko8uS4kQx2PQ7UvYlqlgiIN5YAz3zVCynSju22BEQ6MZR5vMeHxvxZKP984FG/yBEBQyMRqo95kkifbeYTiGJ/C5B1dh65r8We8bXql4u+FRP/7iJ2dxtMmMT0Xh94jERo/dg+vmETy6pzxqMzpqVmhRs2L+SQzHsBcnWyx4YEsRZHTxiyQzHhGrhsKJ20h5hxAXwgvXX0FBuh4fLTsIESPCaGAcDb0nkavIwRZ9XcSn5VxTq8DZjMiJB0aqgCh/JULmK8DmeX49KSRi4iEtLQ0Mw0Cj0cBut+OZZ57BoUOH4hnbssPzPOwuL7atnf3NBSEkcYWTDfYhb8ImHizOMQRDfELOdwjLVMmwuSoPZy7ZUGHMuOMqr0zCYnVJ1rzKkQdHJtDrGMOxZjOqijOx0piBV85048xFG7QZClQWZcbyy7iLyebGyOjkjLflaOS00YgAANxjfnRaPTjZakG6QoK6ytxFHSdTJcOmqjycvmTDCmMGstXyhNtkQ4CGJjPkUhG2r9MLFsP++kK0dgzildNdWF2ShdUlWQlZEUfIXHhEnC0554yHYb8bnslRPFS6H2J26jT50YqPYmjChf++/juoZWqszl4542MDpg/AZhnBKDSzxifKr8Rk88vg/eNgZGnz+ppSxby2WmRlZVHSIQ5Gxibhnwwl7MkKIWRu4ZkJibzZovtm+W2ibbT4sP2bCvF+mwM/+f2Vu277wkdWo35V3qyP5zgeP3jxAgaGp7YFPfVgFYy56XjzXB/+4612AMD/+uT6qM6RmE3/0Di++6vziFTgKWIZ/OP/2IpMlSwu8ZDE9e+vtaG9bwQAcHBzESTixV+BPlBfiPfb7PjJ76+AYYC/f3pLVNqXSHS4PD40XRvAvRsKoJQLsmwOALCiQIPyAg0amsxoaDLPq8qGkETE83zEIQ/hMQ2RZjwM+6b+7mbKMqY/J2JF+PzaJ/DDln/DTy8/i8crP456Xe0djwu5rOCc3ZBteWzOiyIi3Yqpx9g7IC5aP6+vKVVE/At3+380iUQSl2CWOwdttCAk6aUrJEhXSBI68dBpdUOdJkWORi50KLMq0Kbje1/YDK/vzunP//ZqG976oA91lbmzvsC3djgxMDyBx/dWYE1pFvIyp/62fvfwZnjGJ/FPL13AkSZz3BIPR5vMEIlY/MVjNZBK7iynHpsI4P+8cAEnWy04tKMsLvGQxNRj96C9bwQPbi1CfWXektsvC3LT8Q9Pb8GQx4fvP38BJ1sseHTPiihFS5bqeIsFHM/jvg0FgsbBMAy++kg1nCMT+NkfruLtD8zYslpHK41J0pkl73BbxcPMt4/43QCATPmdVQtysRxfqvk8fn7513j26gtgwWCjrubm83EI3DgDMCKIy7fMGZ8otxRgRQjZb1DiIayrqwsPPfQQAKCvr2/6/4f94Q9/iG1kyxCt0iQkNeiylQmfeCg3aJLiDWWORgF8qGpxX70Rv3r7Oq73jczaKvF2Yx+0GXLsrjFMT7IGpsrPM1Uy7KktwKvvdsM2OA59TmzLHUe9k3jvih1b1+ShvGDmMsz1K3JwqtWGB7cU04DhZSxcdn+gvihqV8BzMhTIyVCgdqUWZy7246PbS6mPPwH4JoN4p9WGDStzkZMAVSgKmRiFeSrsqzfiP95sR1uPC2tKaB4OSS48z8/ZasFHaLUIJx4yZHe/TqdL0vBn6z+Hb539e7S5rmOjrga+M88icP0MAEBctB6sYu5KUkYsA5tTjJC9Yx5fTWqJ+Ir2s5/9LJ5xEEwlHqRiFplqKrMlJJnpMpW43DUkdBgzco/54RzxYXeNsFfXlmLrah1eOd2FZ49cR1Fe+oz3CQQ5mKwePL634o6kw+121xrw5rleNDSZ8cf3x3bd4MlWKwJBDnvrCiPeZ1+dEa0dg/i/v7mIHI0Cn9hTjnQFVRwuJ7Euu79vQwGa2wfwz7+5iJwMBR7dU440Of2MCeW9y3Z4/UHsr0+sQb+bq3R4+XQXnmu4gWKdCns3GlFmmL1vnZBEEunCSvjzEVst/CNQiOWQi2euCBWzYuSl5WHAOwgACDk6wKRlQpRTBGnNg/OOT6SrQODKUfDBSTDi5bPCNuKrWn19fTzjIJhKPORmKmmYDyFJTpetxLuX+zHhD0IhE65ndyad1qn5DuVJ/CZSKhHhYzvL8PYHfehzjEW8X2VhxqzDetVKKbau0eG9y3Yc2lkKtTI2L/6BYAgnzluwtjQbhlkqKyqMGdhUlYde+yja+0aQo5Hj4W0lMYmJJKZYl92vKNCgflUueh1jaO8bgVYjx0P30M+YUFo7nDBo01CmT6y/xxIxi4/vLMOb53px0TSEQbcPf/nEhqSokiOE52cZLsneus9MRnzuGasdbpen1KLZcQEcx4EbHYRk5XbItz6+oBjFugoELr2FkLMb4vyZh1WmoojviJ944ok7/sCIRCJkZGRg586d+OhHPxqX4JYbu8uLwjyaaE5IstPdNmAy0QY4mqxuiEUMinQzVwokix3VeuyoXvoE+H11RrxzwYaTLVZ8JEYn+eeuOuDxBrBvjquaDMPg6YdXAwB++NJFnGi14v7NRZCIo7NejyS2eJTdMwyDL3xkDQDgn168gBMtUz9jYhH9jMUbx/Ew2TzYuiby6j0h3bM2H/eszceJFguea7iBDosbFcaMuR9IiMB4RM48zL3VYuSOwZIzyVXmYCI4gbFxJ5iAD2x6zoJjZHXlAICQw7SsEg8RX2k+/elP4/HHH5/++MQnPoENGzbg17/+Nf7jP/4jnjEuC8EQh8ERH3RZwvf4EUKWJpE3W3Ra3SjSqZY0JT+V5GenYV1ZNk60WDAZCEX9+DzPo6HJjAJtOqoWsLpzb10BPOOTaLzmiHpMJDFNl93Xxafsfm+dEe7xSTRdG4jL85E7WZxj8E+GEr767J61+UhXSHCksU/oUAiZF55HxOrxcOvlbOs056p4yFVMJRocQ10AAEa9iMSDXAUmPRvcYM+CH5vMIlY87N+/f8bPP/TQQ3jiiSfw5JNPxiyo5cg5MgGO52mwJCEpIDdDAYYB7EOJlXiY8AfRY/dgT23yzneIhf31hfj+8604d9URlSqK27X1uGB1juOpB1YtqEx5dXEW9Dlp+MUb1/CLN67N6zFiEYMvP1KN1XHa0kEWh+d5/NOLF9DWM3zXbWUGddx66deUZCE/W4mfvX4VP3/jKj69twK76W9D3JisU0PsEj3xIJOIsLvGgD+c7cGffO9ExPuJWAZf+tg6rCujYZREWJHaKIBb2y547u7bAlwQo5Njd220+LA8ZS4AwOE2QwcsquIBAEQ5xQhR4mF2Gk1yTEJPNuETFF1WbCerE0JiTyJmkaORwzGcWImHM5f6EQzxqF+VJ3QoCaWyMAOFuek40tiHbevyozpn50ijGZp0KTZVLey/OcMw+PyDVWjtcM77Macu2NDQaKbEQ4K7YR5BW88w6lfl3nWxoa4yN25xMAyDzz9UhQsdg2i54cQb53qxY70eIpbaLuKh0+qGJgnWGgPAgU2FkIhZBEMznK3ddOZSP958v4cSD0RwPPjIFQ+ztFq4/VMzsDLmaLXIkmdAxIjgGJ+qSGTV2kXFyWqLEew5D94/Dka2PM7/Fpx44HkewWBw7juSBbm1SpNaLQhJBbqstISqeAhxHI41m7GiQINSfWLNnRAawzDYX1+In71+FVe6XFF742xxjqGt24VDO0oX1UNfpFOhSLewuT9/eK8HzpEJaBNgNR+Z2ZFGM9IVEjx5cJXgKy2LdWoU69QoylPhX1++jJYbg3FNfixnybTWWCET48GtxbPeRykT44UTneixe1Cso9cYIiAec894mGGrxbBvBADmrHgQsSLkKLLhnHADsjQw0jsTyJOhAMSsCCwz++u+KKcYABAa6oNYv2rW+6aKiP9FRkZG7vro6enB3/3d32H9+vXxjHFZsLu8UCslUNJaK0JSgi5LCfuwN2IfYby13hjEoNuHfbOsc1zO6lblIlMlwx/OdqPxmgON1xxoueGc9QrfXBoazZBKWOyqMUQx0sh2VOsBBnjldBea2wfg9dFFgkTS3juM0xdtuNA5iD21BsGTDrerLs9BboYCb77fi8ZrDgwkWLVWqgmvNU6lFZXb1ukhk4rwyumpv6HuMb/QIZFlipt1q8XULfwM781G/FPtT5lzzHgApjZbDIS8d7VZ8DyPf2n9Kf6+8f9ibHJ81mOw2uKpeJ09cz5fqohY8bB582YwDDP9jWEYBllZWdixYwe++c1vxi3A5cLu8tJ8B0JSiC5LgckAh5FRP7LUwpfSHmnqgzZDjpoVi+tFTHViEYt9dUa8eKITJmvb9Oc/uacc++oXnqxxj/lx7qod26v1SFfEJ6GcpZZjQ4UW5646cO6qA9vX5ePJg8vjKkqi6+734B+fbwUAyKQi7InRuszFYlkG++qNeK7hBv7t1TZoM+T4+8Nbpt+kk+i63OUCAKwwpk7iQSkXY2e1Hg1NZlzuGsKqokz8r8dqhA6LLEt8xEoiTZoUDAOo0u5enx1OPEQaLsnzHMADDMsiV5mDq0wboLpzK023pxfdnl4AwI8u/Ax/VvN5pEtmbqMID5hcTnMeIiYe2tvb4xnHsmd3ebG+nE4ICEkV2sypUnfnyITgiYdOqxsmqwefum8FnUjMYm+dEdXlOQjdLMF89q12HDtvwX0bjQv+73a8xYpQiMe+jfHZUBD2+Yeq8JHtPrx1rhfvtznwsZ1lUM/wBovEV0OTGQqZCF//VC006TKolYn3PdldY0BVcRau9Q7j10euo+WGExup7SImTl2wIj9bidIEW7e8VI/sLsOOaj3OXbXj9bO96LWPLrhdjJCl4vlbQyQ/LC9LiR99ZQcUsrtPgYf9I1CI5ZCLZ37P5v/gJYTsN5D20W9Bp8xDkAFOykN4gL+V6DhteR9ykRyPr/o4nm17Hv/Y9K94et1nYUjPn/GYopxihPqvY+L4TyAyVEFauXNxX3SSiNhqce7cuYgP+uEPfxiTYJarcV8Ao94AdNlU8UBIqsi92WM/MDwhcCThkx4xtq2b+YWPTGEZBrosJQw5aTDkpGF/vRGDbh9aOwYXdBx/IIRTrVasX5EzvVo1XiRiEQw5aXhgSxGCIQ4nW61xfX5yN5fHh6ZrA9hRrUdhngqaBE0EMTd//ndW66HNkOPtxr4Zy5HJ0vTaR9Fl82DXekNSzHdYCBHLQp+ThgP1RZBLRbSCkwhirj9bH0462McH8EZXA1ocl5A5y2DJUO8FcAPd4CcnUKsuRvWoD28F+/HjS7/EhYHL6Hb3onXgEjblb0Bt7jp8pfYLCHIBfL/5R3jXem7Gv6eivDLw3hEEu5vhO/Mr9JmbMTo5tqivOxlErHj4yle+gmeffRYrV66c/pzH48FXv/pVdHd346tf/WpcAlwObg2WpMQDIakiSy0HyzAYGBEu8fDK6S5YB8fR2uHEgfpCyKULnie8rNWs0CJHI8cLxztwrs2OnTV6rCmZe/Dk+1fsGJsIYF9dfKsdbpefnYZ1Zdk42WLBwc2FkIgTZ57AcnPsvAUAcG+CtVdEwrIM9tUV4r+O3sA///YSdFlKfGJPeVS3vSxnpy5YIRWzuGetbu47JymlXIwd1Xoca7ZgMshhpTEDewX8e0iWF36WVouwEBdCk6MVp8zvwjxmAwMGFZll2Fu06477BTrfB6vJB6PKBue2AwA4lwVihsEnHR4UFW/GCU8Hrg5dn37MdsNmAECJpghfr/syfnX1RTx//WW0D3fi05WPQC6WTd9Xsvo+iPIr0Qs/ftPyC/R1vAR0ABm8CCvz1+OBkr3IVqTOpqqI70K/9a1v4emnn8bzzz+P/Px8tLe344tf/CJWrFiBl19+OZ4xpjyzYyqzZchZHqtUCFkOxCIW2RoZnAIlHrpsHvzhbA9yNHKU6tW4L84l/6mAZRl8bGcZ3ni/B+19wzA7x/Ddz2+ete2C43kcaTKjWKdChXH2lVyxtq/OiB+8cAHn2hzYXq0XNJblasIfxDsXbNhYqUWOJnk2jWxbm4/WDifsLi8umYZQVZyJdWXUDrpUPM/jYucgqstzUn6Y+P76QpisbnT3e3ChYxC1FVpkJ8HqUJL8+FmGS4adsZ3Db268Cn2aDh9f8TBqctfeNdsh5OiE78S/g80rh2z9A7c+7zKDkcjBALjPuBP3ZTwKk7sHY4FxpEvSkJ92a322RqbGF9c/heN9p/Gq6S2YRroR4IKQi2SoyV2LlZnl6J9w4LWut5GuSMNDdic4kQh9UgbtrhtYmVm+PBIPBw8ehMfjwVNPPYUnnngCP/jBD/D000/j8OHD8YxvWTDZ3FApJbT+jJAUk5uhEKzV4lizGXKpCH/9J/Uz9jKS+dlUlYdNVXloah/AT35/BRc6p95AR3LJNASHy4vDD1cJXka9qigTBdp0HG02Y9u6fMHjWY7evdyPCX8w6bbJyKQiPPPJGgRDHL7+b+/jSKOZEg9R4PL4MTI2KXhSMh4yVTL85Wc2wuXx4ev/9j6ONpvxyXtXCB0WSXG3liLMfr+6vBoUqYwoVhtnfG3kOQ6+d38NAOAcnQjceA9gRYBICm6oD+A5QKoAm6EDw4pQkVkW8blYhsXeol0oUOnxjuU9ZMgyMOJ347TlLE6YzwAA1mvX4tOrHoGc4xG0XIbv2I+hvOcZiLKT67VjLrO+G/3kJz8Jj8eDv/mbv8FPf/pTbN++PV5xLStdNg/K9Mmxy5kQMn/aTCV6rjmWfJwQx8+4czqSkTE/mtoHcO+GAko6REltRQ5yNHK8/UEf1pfngGFwx99snufB80BDYx+y1DJsXCn8UD6GYbCvzohfvnkNV3uHsbo4da6aJAOO43G0yYzyAg1K9ck5RFAsYrF3oxEvnexEd78HRToVtVwsQad1amp+eQqt0ZxLllqOuspcvHPRhge3FkMpF9PPEImZ8Duluc6p0iRKlGhmPqnnJjzwv/srcEO9kG1+DP4PXkCwuxlsbikYkQShoT7wXjfE+iow7PzbGFdlVWBVVsX0v/2hSfR6zJgMTWJ1duV0zKxq6uIGN+pcXokHADh8+DDcbjeee+453HPPPWDZiPMoySKM+wLoH/Jiy+rU7fUjZLnKzVBg3BeE1xdYdFntG+/34HfvdC34cQyTPD3lyUDETq3b/O9jHfjcP57EhpVafPGP1gKYSjp8//lWtPeNAAA+sbscYlFivFZuqsrDb98xoaHRTImHOLvcNYRBtw+f2F0udChLsqNaj9fe68bfPtsMsYjB/3qsBisKUv+KfSyYrG5IJSwKcpdXa+3++kKcu+rAn//zGaQrJPjbp+qhSZfN/UBCFupm5mGxqS0+FID3lb8G7x2BtP7jkKzdh6DlMkKWKxDlrQB4DoG2YwDPQ7T+wSWFKhNJZ6yUCCceeM/CBlsng4iJh5qamunMC8/zmJiYwIYNG8AwDBiGwfnz5+MWZCrrtnkAAGVJejWEEBJZuH1qYGQCxbqFJx78gRDe/qAPKwszsapoYW/09dlp1L4VZTvXGxAM8TBZ3Th/3QnzwBiMuem43jeC9r4RbFmdB2OuCrtrDUKHOk0iZrGn1oDfn+mGbXAcepolFDftfcMQi1hUJ/mqbKVcjC8eWguT1Y1jzRa88X4vvvIIJR4Wo9PqRmm+GqJldhGvSKfC5x+sQr/LizfO9uB4iwWHdkQuTSdksXjMr9UiEm6kH/zYEOS7PgdJxTYAgGTF1qnEg24FMDmBwM12DnHBmqjEfBdZGiCRgxt1xub4AoqYeHj99dfv+lwwGMTbb7+N//zP/4xlTMuKyeYBA6A4xXY5E0KA3MxbKzWLdQv/HT97xY5xXxBPPrQauarEXMG3nEjELA5sKsTYRACXu4fQ0NiHpx6swtuNfVApJfjsgUpIJYm3PWJXjQFvvN+Lo81mfPZApdDhLBudVjeK81WQiJP/JHN1cdZUxQwP/HYT4AMAACAASURBVP7dblgHx2kg9gL5J0Poc4zh4JbUKp2ery1rpip7bYPjONlixQObiyGTJt7fS5Lc+Fu9Fot6POea2kLE5pRMf05cthlykQTiolpwLvPU4dV5YNWR5z0tBcMwYNXalEw8RHw1NBgM0x/p6el444038JnPfAY///nP8dhjj8UzxqTW3e/BuTY7rnQNzXi7yeqGQZtGfdiEpCBtxtQE78VstuB4Hg1NZpTkq1BVQiXyiSRdIcH2dXqcu+rA0WYzLpmGcG9tQUImHQBArZRiy2odzl6x473L/bjeNyx0SCkvEAyh1z6acr38u2sNkIhZNDT2CR1K0umxe8DxfMr9TCzUgfpCjPuC+O0pE5raBxAIckKHRFJIOPEwy/KpWXHDNoAVgdXc2kzBsCwkpXVgWBZsph4QSSE2ro1CtJGxKi34FEw8zHq229XVhWeffRavvfYaDAYDfD4fTpw4AZVKFa/4kt6PX7mMIY8fAPD1T9VgZWHm9G3jvgBuWEZwz5p8ocIjhMSQXCpGRroUtsHxBT82vB3h6YdX0+DZBLS3zoh3Lljx/LEOyKUi7Eqg9oqZ7Ksz4r3L/fjFG9fAAPi7z29CfjZdsY6VXvsYgqHUO8lUKaXYtjYfZy7ZcGhHKfXpL0BrxyBYhkGpPrV+JhaqvECDigINjrdYcLzFgj/aUYqHthYLHRZJETw//0HcMwm5LGA1+WBEM58iMyIJlB/9K7Cq2LbQMSotOMsV8DyfUu8BI1Y8HD58GJ/+9KchkUjwq1/9Cq+//jrS0tIo6bBAf/0n9fjbz21CmlyM4+ctd9x2qtWKyQCHnetpvzohqapUr4Hp5iyXhQhvR9iwMjalfGRpcjMU+P6f3oPvHt6Mf/jCFqiVid0Ko89Jww/+dCu+9ccbIRKxONZsmftBZNHC2wvKUizxAEwlsUIhHsdb6Gdovry+IE5ftKF+VS7SFYsbNJxK/uej6/Hdw5uxqigTx89bqOqBRM18t1pEwg1bwWbNfiFBlF0IRqpc1PHni1XlAMFJ8BMLf/+YyCImHq5evYrVq1djxYoVKCoqArD4b+JyppRLYMhJw/ZqPVpuDMLl8QEAAkEOx85bsLo4E4V5lMwhJFWVGzQYGJ6AZ3xy3o/ptY+ivW8E920wJsx2BHI3TZoUuiwlVAmedAjTpMtQrFNjy+o8vHe5H2MTAaFDSlmdVjdyMxTQpCXHz8ZC5GUpUVOhxckWK/yTIaHDSQpnLtngmwxhX71R6FASglQigi5LiYNbiuAZn8S5NrvQIZFUEd5qsYhTVj7gAz/qBJspfAXj9GaLFGu3iNhqcerUKTQ0NOD555/Hd77zHezatQt+vz+esaWU3TUGHPmgD//y20vIUssx7gvAPTaJpx5YJXRohJAYCpdam6xu1FTMXr3Q3e/B62d7YHd5IZOKsKOa2rBI9O2rM+LMpX6carXiQSpxjjqen9p8UpXC60sP1Bei5YYT717up7W9cwhxHI41m7HSmLGoIcOprKooE8bcdLx8ugutHYmzOnBNaRb21NLPdTLibrZaMHMs1OTGhhC4dgq8fxySyh0Q5RRPzXcA5qx4iAfm5uBKbnQQorzkXsl8u4iJB7FYjIMHD+LgwYPo7OzECy+8AL/fj3379uHJJ5+kAZMLpM1Q4MDmQrR1uaarHjavzqO96oSkuCJdOkQsg855JB5+c7IT3fZR5GUocGh7KZRyKskl0WfQpmN1SRaOn7dgf31hSmxdSCTtfSNwj09idUnm3HdOUuUFGpTq1TjRYsGeWgNVxM6iud2JIY8fj+9dKXQoCYdhGDyyqwy/e6dr+r2x0EYnArjSPYSNK3OhTsGKpeVirj9JIVs7Ji++CfA8uJF+KB/8+vRGC1Gm8Emn8AyJVNtsMa9VCuXl5firv/orfO1rX8Nrr72GF154gRIPi/DIrnI8skvoKAgh8SQRi1CsU033fEcSbq94ZFcZ7t9cFKfoyHK1v86If3rpIhqvOXDPWqqsiaaTrVakycXYuDJX6FBianeNAb944xqu942gsih1kyxLwfM8jjT2IS9LiXXl2UKHk5DWlGZjTWni/LfpHxrHX/7sA5xqtf7/9u48SM76vBf9d0YzGu37aJcQSCBAIGFArEYCAxJiR4CN4YQQ4hg7tm/KRUKwnZhKDOXEJ8fk5nBP3aQSw/Ee+5rlgM0mMIsAow0QxoDFIiSNtkH7OpJm+v4hM0CQQAK93T3i86nqQtPz9vs+XfQz0/Pt35LzP3ngBz+AqvLW2pIfFIXWH3Jy6g4+KdueuTvb5tyetrXL07qmKenUOTU9K7+2Vk1dQzoNOzy1XfevdYL26mOOrl275jOf+UzuuOOOouoB2O+MHtY7ry/bkB2tu19A64HZi9LQuZPFZimLcQf2y9AB3fPA7MUfeRVw3rZuY0ue+X1zTj5ySNVur7qvTDx0YLp3qcuvn2nao+O372jL9h2tu721tu1/CwwuWLIuC5dvyJSJI1JrVEiHMKR/9xx5UP88/ExTtrTsSFtbdfx83NH6/v2zr29tHfT3QmkvFnmoqalJ/aGTkppOaZl3Z3a8+nRqB4xMTW11jALsds51O+vbj+zRiAcAPrwxw3rngdmL82rTundtqfuW1eu3ZtaLK3Pa0cNMr6AsampqMmXiiNx270tZsGRdDhnRp9Il7RcefW5pWttKOfUTlZ8jXLTO9Z1y8pFD8tDcJVmzoSV9e+5+a827Zr6eu2a+/r7n69rQKTd+7oT3PU9Hc/+sRenRtT4nHTG40qWwF86cODzf/c/n8qWbH0vPbvW56c9OqOhuJK8sWZd//PG8tJYxBBnSv1v+7urjOtwC16W9XFyytluf1I36RHa88pukvmu6fvLK4opD8ABQtCMO6pduDXV5aF7TLoOHh+YtSVuplDOPteI55XPM2Mbcdu9LeXnRGsHDPrB9R2senteUIw7ql8H9it1qrVp86pjheXDO4jw8b0kunjx6l8dsadmRB2YvysHDe2f86F0PqW9tLeWuma/n0WebcuEpBxVZctmsWL05zy54M+ecNCoN+/nol/3NuFH9ctW0Q7Nq3dbc/eTCPPpsU845cVTF6rn36TfStaEuU8u0K8rajdvy0NwlmfPSypwwrmOFZqX2xSX3XOfxZ6X1zTfSZfLV6dR/ZDGFkUTwAFC4Lp3rMvkTQ3Pf04vy5totGdCna/v3tm7bkUefWZpjDmlM4zvuh6J171KfoQO659Wl+9c+4ZXymxdWZP2mbZl63MfnjevAPl1zzB+21jznxAPSpfN731Y+9tzSbGlpzWWnH5wDh+x+V4dXlq7LY88tzXknj0qnKhnq/FE8MGdxOnWqyelH7/+jX/Y3NTU1mTRh57TH15aua1+ItxKf/q9Y83aAVa7wo61Uyu8Wrs59sxbl+MMHdajFY98aE7I3NXcaNCY9PvvfiymId+n4P9kBOoDTjx6e2pqazJi75F33Pz5/WTa37PhY/bFC9RgzrFdebVrXYefzVotSqZQHZi/O8MYeOfxjttDi1ONHZnPLjvzs16/mieeXvef24B+2kny/0CHZuVjl2o3b8uyCVWWqvBgLlqzN488tzRPzl+WEwwend4/9Z+rIx9GU40Zm7cZtmfXiirJd8/nXVrX3z//361dTW1uT08o4fau2piZTjxuZRSs25p6n3sjcl5s7zlpAeznVgvIy4gGgDPr16pKJhw3MY88tzfknH5huXerS1lbKg7MXZ8yw3hk9bP9auZiOYfSw3nnsuWVZvmpzhg7oXulyOqzfvr46TW9uyp+ec1iH+nRwXxg9tHcOHdknjzzTlEd2s9DkH5916AeeZ8LoAenfqyEPzV2cY8ZWflX5D2P1+q35zo+fSWtbKZ1qa8o2NJ7iHPHWQryzFufEcYML7+9Xm9bl5p899677PnnkkLKvfXLiuEG5a+brueOx15IkX7royA7Rlx9mqgXlI3gAKJMpE0fkNy+syOPzl2bqcSMz7/fNeXPd1nz6tDGVLo2PqTF/CLxeaVonePgI7p+1KH16dM7xhw+qdCkV8dVPH5W1G1t2+b36utr02YNP/Wtra3L6MSPys1+/koXL12fU4PcfIVGNHpq7c72eb/zRMWns2zW9unWudEl8RO9ciPelRWtzWMEjmu6btSjdGuryjSuPaZ/a0a9X+UfN1Nd1yo2fOz4btmzPP/3kmdw/e1HHCB7+8N+PWwDcUZhqAVAmowb3ytgRfTJjzuK0trXlgdmL09inS44+pPp/mbN/GtyvW3p0rc8rTesqXUqHtWjFhvxu4ZqcfszwDrcC/L5SX1ebxj5dd3nbk9DhLZOPGpquDZ1y/6zFBVZbjC0tO/LIs005duzAjB7WW+iwHznh8EHp2a0+D8xaVOh1Vq7ZnHkvN+e0o4dlSP/u7T1UqTVPujbUZWCfrjlz4oi8smRdh/g90T4jRO5QlYx4ACijKceNyP/8xfP59g/n5bWl63P5GQenttZvSCqjpqYmY4b1zoIl1f+Gslo9MHtxGuo7fSy20Cxa14a6TJowNA/OXpJNW7dnzNDeOf+TB1a6rPd48Y01uX/Worxz2vuGzduypaU1Zx1vvZ79Tef6TjntE8Pyf55YmGWrNmVI/307OmxJ88bc/uhrWbl2yx9G/gzfp+f/qE4ZPyR3Pf56/v3u32Vw/24558QDcvDw6twJ6a2pFrVGPFSlj2c0D1AhE8YMyPGHD0qpVMr40f3zyfFDKl0SH3NHHNQvK1ZvzqtLhQ97a82Gljz9uxX55Pgh6d6lvtLl7BemTByZQ0b0zso1W3LnzNfT1Lyx0iW9S6lUyn8+vCCvNq3Lxi3b2m81Ncmnjh72gYto0jGddvTOEU0PzlnywQfvpbsefz2/e2N1Guprc+EpB+7VKKFy6NK5LpeeNjrdu9ZlwZK1uf3R1ypdEh2UEQ8AZVRbU5Nrzh9X6TKg3UlHDM4vHn0tD85enNEXWOR0b7w1p//MiRYR3Ff69mzIdZcfnQ2bt+Wv/teTuX/24lx99mGVLqvd7xevzaIVG3PlWWNz6lFGuXxc9O7eOSeOG5Qnn1+Wi045MD330VSa5rVbMm9Bc84+4YBcPHn0PjlnESYfNSyTjxqWe3/zRn7+yKtpenNThlXhukBtFpesakY8AMDHWJfOdZk0YUjmvNSc1eu3FnKNHa1t2dKy41237TvaCrlWuWzdtiOPPNOUow9pzMA+XStdzn6nZ7fOOXn8kPzmheVZuXZLxV8vbaVStrTsyAOzF6dH1/qcNG5wReuh/KZMHJFtO9p2u3vL3ij94fX04OzFqa0p73aZH8XJ44ekrlNNHp63JFtadlTfNpvt22mKHqqREQ8A8DF3+tHD88DsxXnsuaW58JSD9um5V63bmr/5j6fTsq31Xfd3rq/N3//p8R32j/aZ85dlc8uOTD3OnP6iTJk4Io/Ma8r1/+9TFX+9/I+fPpsX31iTJDnnxAPSub5TReqgcoY19sgRB/XLQ/OactbxB6S+7sN/fnvbvS/l8fnLkiTHHz4o/Xp12VdlFqpXt845duzA/HpeU349rymTJgzNVdM+eLvccnkrnpQ7VCcjHgDgY25An645YFDP/H7x2n1+7gfnLM727W255NTR+fRpY/Lp08bk0lNHp62tVPgq8UVpayvlwTmLM2ZY7/YtSdn3BvXtli9ffGQuPXV0WltLebBCu128vmx9XnxjTU4cNyifPePgnH3CARWpg8qbOnFk1m/alqd/t+JDn2P1+q158rfLM2F0/1z2qTEdbkvtS08bk8s+NSbjR/fPE88vy5oNu95KtyLemmoheKhKRjwAABkzrHcem780O1rb9tm2kJu3bs+jzy3NcYcPfM8fa8tWbc7M+cty4SkHpUfXjrUw47zfN6d57dYO9wdDR/SJgxuTg5Olqzbl8eeX5oJTDiz76+XheUvSUN8pV5w5Nt26eOv8cXb4qL4Z1tg9D8xelJOPHPyhhvQ/PK8pbaVSLj/zkDR2wBFffXs2ZMpxI3PUwQPytX/9TX79TFOmT9q3I+U+rLd305Q8VCM/PQGAjBneOzPmLsmS5o0ZNfijrcy/eeuOzP39yixYvC4t21ozdeJ7pyNMPW5EZj6/LD+ZsSCHHdA3x4xtTNeG6n5bsmL15ry8eG0enrskA/t03flHMWUx9biReeL55fnJjAUZO3LnVn59enTO+NEDCrvmCwtXp3nNljz9u5U5ZfwQoQOpqanJlIkjcuuvXspdM1/f6ykSpVIpjz7blKMPbuyQocM7DezbLUcdPCCPPNOUAb27ZEj/bhXfZrP0dvJAFfITFABonzLwypJ1Hzl4uHPma5nxh23njjioXw4Y3PM9xwxr7JGjxgzIUy8sz1MvLM/SVZuqegRBqVTKLXc8n6bmTUmSK6eOTW2td7flMvy/vF7e8s2rjv3Ir9ddWb56c77702dTStKptianHzN8n1+DjumEwwfnrpmv5/88sfBDPb4m2W/Whpl63Mg8s2Bebrv3pdR1qs0/femk9NpHO358GCVTLaqa4AEASL9eXdKvV0NeaVqXM4798NtDbt66I4/PX5bjDhuYT582Jr267/5N6JemH5F1G7flpw8tyKPPNuW8k0ZV7aiH376+Ok3Nm/LfphySYw5pfN/nRTH+/KIjsn7TtiTJ9h1t+fv/PTv3z1pcyBbFD8xenE6davPNq45N354N6d6lY00Hojj1dbW56XMnZNPW7R/q8Z3rO3W46WW7c8iIPvmXvzgly1Ztyrd/OC+PPtOU804+sGL1vDXiwVSL6lSdv90BgLIbM6x3Xm1a95HOMXP+0rRsa81Zx4/8wGHInWpr069Xl0w74YDMebk5jz23tGo/Cbzv6UXp06NzJk0Yus/WwGDv1HWqfddratKEoXlw9pJcPPmgDOi974atr9+8LU88vywnHTE4wxt77LPzsv9o6NwpDZ3tbJIkPbrW5+DhfXLEQf3y8LymTDvhgIr9jGyfaSF3qEqCBwAgSTJ6WO/MenFlVq/f+oGhQalUyo9nLMiyVZvedf8byzfk4OG992r4+4FDemXsiD6558mFef61VZl46MBMPmrv9rVv2daaW+99MRu3fPCnkN261OdPph36vqMr5r68Mr9+pinJzk/RXnxjTS49dbTQoYqceeyIzJizJDf/7Lk09umay888ZI+227z7yYV5edGa3X5//aZt2b6jLVOP+/Ajf+DjZsqxI/Ldnz2Xb/9wXvr1asifTDs03co9Uqh9qoXkoRr57QkAJEmOPKh/krTvL/9+Xl60Ng/NXZJ1m7Zl2/a29tuwAd0/1ArnF08enWEDumfF6s35z4dfyZaWHXv1+JnPL8usF1dmS0vru+r5r7eWba2Z89LKPPbc0t2ea0drW348Y0Gamjdl2/a2bN/RlvGj++91GEKx+vXqkgs+eWC6d6nP7xauyT1PLvzAx6xcuyV3PvZaVq3butvXSJfOdTnnxAMypH/34p8E7CfGHdgvJx85OLW1ydyXm9uD23J6e6oF1ciIBwAgSTK4X7dMGN0/D81dkmnHj0zn+t0PJb5v1qL07Fafv73y2Pc9bk+NGd471/+3Y/L6svX51v+ek8fnL8uUiXv2iXNbWykPzF6U0cN65Rt/dOwHHv+dH8/Lg3MW5/Rjhu9yBMPsl1ZmzYaW/MUl4zNhTHG7JvDRnXvSqJx70qj84IGX8/hzS3PxpIPSu0fDbo9/aM6S1NbW5LrLj07fnrs/Dtg7NTU1+dNzDk+S/I//fDYz5i7JlIkjU19Xvs+5TbWobkY8AADtzjp+ZDZu2Z7HnluaTVu37/L2+rL1mf/qqpx+9PB9Ejq804FDeu3c2nPO4mzc8u7rbty8bZf1PP3iijSv3Zqz9nB9iKnHjczq9S156rfLd3m++2ctypD+3XLk6P779LlRnCkTR6S1tZQHZi/e7et29fqteXz+0kw8bKDQAQp01nEjs27jtsx8ftlej177KEr206xqRjwAAO0OGdEnowb3zI9nLMiPZyzY7XH1dbU59ehiph5MOXZE/tedv83/9X8/vsePGdinaz5xcOMeHXvk6P4Z0r9bbr33pdx670u7POaqaYem1sdmHcagvt3yiUMac+/Ti3Lv04ve99gzP8KuLcAHO3xU3wxv7JEf3P9yfnD/y7ly6tic+onip6q9lTvY6bg6CR4AgHY1NTX5/Pnj8vyrq973uOEDexS2X/vRYxtz9dmHveeTsh49GrJxY8suH3PoAX1Tu4fvNmtravLnFx6R3y3c9QKDDZ075eQjB+9d0VTcFWcekkNH9mn/42NX+vZsyIFD9nzhU2Dv1dTU5AsXjMsLr6/OzOeX5Ve/eSOnTBiSTrVlGmwveKhKggcA4F0G9+uWwf26Vez6tTU1+eT4Ie+5v7GxZ5qbN+yTawxr7JFhtkrcr/Tt2ZAzjGaAqjB0QPcMHdA9A3p3yf+8/fnMfbk5xx02qNBrtr21q4XkoSoJHgAAANjnJhw8IIP6ds3dTy7Mpq07MnZEnwwdsOsdY5re3JTfL167y+91qq3J8YcPSsMerCtkllx1EjwAAACwz9XW1OTsEw/Irb96KT+4/+UM7tctN/7Z8e9ZQ6etVMotv5ifFWu27PZcaze05PxPHrjb77ePeBA8VCXBAwAAAIU4ZfzQHDVmQJ5Z8GZuu/elzH9lVY46+N1bFc9/ZVVWrNmSq6Ydmgm72FHoP375Yh5+pinTTjhg91t0/mF9lxrJQ1WynSYAAACF6dmtc04+cnD692rIfbPeu/PMg3MWp2/Phpx0xOD07tHwntvU40Zm/aZtmfXiit1ew2aa1c2IBwAAAArVqbY2Zx47Ij99+JX8ww/ntu9E1FZKfr94bS45dXTqOu36c/HDR/XN0AHd87Nfv5Innl+WJOlc3ylXn31YGv+wk3LprS1tJA9VqSIjHh5++OFMnz4906ZNy4033liJEgAAACijUyYMzdGHNCY1NWkr7QwdkuSoMQNy6lFDd/u4mpqafPq0MRnav/vOx7WV8vyrq/LgnMXtx5RMtahqZR/xsHjx4txwww35+c9/nv79++eP//iP8+ijj2by5MnlLgUAAIAy6dpQly9PP/JDPXb86P4Z/471H/6f25/PI8805arzjnjXcWKH6lT2EQ8PPvhgzj777AwePDj19fW5+eabM2HChHKXAQAAQAc19fiR2bR1R2bM3rlmRKl9VwvRQzUqe/DwxhtvpLW1NV/4whdywQUX5Mc//nF69+5d7jIAAADooMYM650xw3rnnpmvJ3nHVIsK1sTulX2qRWtra+bMmZMf/OAH6datW774xS/mjjvuyPTp0/fo8f379yi4QqpJY2PPSpcAVUEvwE56Ad6mH/i4m3T08Hzv7hdS11CfXr27Jkn69O2mN6pQ2YOHAQMG5MQTT0y/fv2SJGeccUbmz5+/x8HDqlUb0/bWKiTs1xobe6a5eUOly4CK0wuwk16At+kHSAb36ZIkeXr+0nRt6JQkWb9ui96ogNramvcdJFD2qRannXZaZs6cmfXr16e1tTWPP/54xo0bV+4yAAAA6MAOGNQzdZ1q8+rSdfHRdHUr+4iHCRMm5HOf+1wuv/zybN++PSeffHIuvvjicpcBAABAB1ZfV5uDR/TJK03rcviovkmSWotLVqWyBw9Jcskll+SSSy6pxKUBAADYT4w9oG/umfl6tu9o23mH3KEqlX2qBQAAAOwLh43qlx2tbXlj+c51HeQO1UnwAAAAQId06KidmxYsWLIuSVJjqkVVEjwAAADQIfXr1SXdGurSvHZLkkTuUJ0EDwAAAHRYPbrWZ8OW7UkED9VK8AAAAECH1b1rXVq2tSZJaqzyUJUEDwAAAHRY3bvUV7oEPoDgAQAAgA6re9e3gwdTLaqT4AEAAIAOq3uXuvZ/29WiOgkeAAAA6LDeOdVC7lCdBA8AAAB0WO+aalHBOtg9wQMAAAAd1junWhjyUJ0EDwAAAHRY7xzxUCt3qEqCBwAAADqsHl1tp1ntBA8AAAB0WO+calFrqkVVEjwAAADQYb1zqoXVJauT4AEAAIAO650jHuQO1UnwAAAAQIfVqbY2XRs6JUlqTLWoSoIHAAAAOrTuXXZOtxA7VCfBAwAAAB1ae/BgxENVEjwAAADQoXXvunOdB7lDdRI8AAAA0KG9NeKB6iR4AAAAoEN7a0tNUy2qk+ABAACADu2tLTXlDtVJ8AAAAECHZleL6lZX6QIAAADgozhmbGM2bNmWXt07V7oUdkHwAAAAQIfW2KdrLj11TKXLYDdMtQAAAAAKI3gAAAAACiN4AAAAAAojeAAAAAAKI3gAAAAACiN4AAAAAAojeAAAAAAKI3gAAAAACiN4AAAAAAojeAAAAAAKI3gAAAAACiN4AAAAAAojeAAAAAAKI3gAAAAACiN4AAAAAAojeAAAAAAKI3gAAAAACiN4AAAAAAojeAAAAAAKI3gAAAAACiN4AAAAAAojeAAAAAAKI3gAAAAACiN4AAAAAAojeAAAAAAKI3gAAAAACiN4AAAAAAojeAAAAAAKI3gAAAAACiN4AAAAAAojeAAAAAAKI3gAAAAACiN4AAAAAAojeAAAAAAKI3gAAAAACiN4AAAAAAojeAAAAAAKI3gAAAAAClPR4OEf//Efc/3111eyBAAAAKBAFQsennrqqdxxxx2VujwAAABQBhUJHtauXZubb745X/jCFypxeQAAAKBMKhI8fPOb38xXv/rV9OrVqxKXBwAAAMqkrtwX/PnPf54hQ4bkxBNPzO23377Xj+/fv0cBVVGtGht7VroEqAp6AXbSC/A2/QA76YXqV1MqlUrlvOCf/MmfpLm5OZ06dcq6deuyefPmXHjhhfn617++R49ftWpj2trKWjIV0tjYM83NGypdBlScXoCd9AK8TT/ATnqhOtTW1rzvIIGyj3i49dZb2/99++23Z9asWXscOgAAAAAdS0W30wQAIEjdiAAADZZJREFUAAD2b2Uf8fBO06dPz/Tp0ytZAgAAAFAgIx4AAACAwggeAAAAgMIIHgAAAIDCCB4AAACAwggeAAAAgMIIHgAAAIDCCB4AAACAwggeAAAAgMIIHgAAAIDCCB4AAACAwggeAAAAgMIIHgAAAIDCCB4AAACAwggeAAAAgMIIHgAAAIDCCB4AAACAwggeAAAAgMIIHgAAAIDCCB4AAACAwggeAAAAgMIIHgAAAIDCCB4AAACAwggeAAAAgMIIHgAAAIDCCB4AAACAwggeAAAAgMIIHgAAAIDCCB4AAACAwggeAAAAgMIIHgAAAIDCCB4AAACAwggeAAAAgMIIHgAAAIDCCB4AAACAwggeAAAAgMIIHgAAAIDCCB4AAACAwggeAAAAgMIIHgAAAIDCCB4AAACAwggeAAAAgMIIHgAAAIDCCB4AAACAwggeAAAAgMIIHgAAAIDCCB4AAACAwggeAAAAgMIIHgAAAIDCCB4AAACAwggeAAAAgMIIHgAAAIDCCB4AAACAwggeAAAAgMIIHgAAAIDCCB4AAACAwggeAAAAgMIIHgAAAIDCCB4AAACAwggeAAAAgMIIHgAAAIDCCB4AAACAwggeAAAAgMIIHgAAAIDCCB4AAACAwggeAAAAgMLUVeKit9xyS+69994kyeTJk3PddddVogwAAACgYGUf8fDkk09m5syZueOOO3LnnXfmhRdeyIMPPljuMgAAAIAyKPuIh8bGxlx//fXp3LlzkmT06NFZunRpucsAAAAAyqCmVCqVKnXxhQsX5rOf/Wx+8pOfZNSoUZUqAwAAAChIRdZ4SJIFCxbkmmuuyXXXXbdXocOqVRvT1laxrIQyamzsmebmDZUuAypOL8BOegHeph9gJ71QHWpra9K/f4/df7+MtbSbO3durrrqqlx77bW56KKLKlECAAAAUAZlH/GwbNmyfOlLX8rNN9+cE088sdyXBwAAAMqo7MHDf/zHf6SlpSX/8A//0H7fZZddls9+9rPlLgUAAAAoWEUXl/wwrPHw8WG+FuykF2AnvQBv0w+wk16oDlW5xgMAAADw8SB4AAAAAAojeAAAAAAKI3gAAAAACiN4AAAAAAojeAAAAAAKI3gAAAAACiN4AAAAAAojeAAAAAAKI3gAAAAACiN4AAAAAAojeAAAAAAKI3gAAAAACiN4AAAAAAojeAAAAAAKI3gAAAAACiN4AAAAAAojeAAAAAAKI3gAAAAACiN4AAAAAAojeAAAAAAKI3gAAAAACiN4AAAAAAojeAAAAAAKI3gAAAAACiN4AAAAAAojeAAAAAAKI3gAAAAACiN4AAAAAAojeAAAAAAKI3gAAAAACiN4AAAAAAojeAAAAAAKI3gAAAAACiN4AAAAAAojeAAAAAAKI3gAAAAACiN4AAAAAAojeAAAAAAKI3gAAAAACiN4AAAAAAojeAAAAAAKI3gAAAAACiN4AAAAAAojeAAAAAAKI3gAAAAACiN4AAAAAAojeAAAAAAKI3gAAAAACiN4AAAAAAojeAAAAAAKI3gAAAAACiN4AAAAAAojeAAAAAAKI3gAAAAACiN4AAAAAAojeAAAAAAKI3gAAAAACiN4AAAAAAojeAAAAAAKI3gAAAAACiN4AAAAAAojeAAAAAAKI3gAAAAAClOR4OHuu+/O2WefnSlTpuRHP/pRJUoAAAAAyqCu3BdcsWJFbr755tx+++3p3LlzLrvsshx//PEZM2ZMuUsBAAAAClb24OHJJ5/MCSeckD59+iRJpk6dmvvuuy9f/vKX9+jxtbU1RZZHlfH/G3bSC7CTXoC36QfYSS9U3gf9Pyh78LBy5co0Nja2fz1w4MDMnz9/jx/ft2/3IsqiSvXv36PSJUBV0Auwk16At+kH2EkvVL+yr/HQ1taWmpq305BSqfSurwEAAID9R9mDh8GDB6e5ubn96+bm5gwcOLDcZQAAAABlUPbg4aSTTspTTz2V1atXZ8uWLXnggQcyadKkcpcBAAAAlEHZ13gYNGhQvvrVr+bKK6/M9u3bc8kll2T8+PHlLgMAAAAog5pSqVSqdBEAAADA/qnsUy0AAACAjw/BAwAAAFAYwQMAAABQGMEDAAAAUBjBA2W3cePGnHvuuVmyZEmS5Pbbb8/ZZ5+d8847LzfeeGN27NiRJFmyZEmuuOKKXHDBBfmjP/qjNDU1JUm2bduWv/qrv8q0adNy0UUX5dVXX63Yc4GPYk97Yf78+bn44otz3nnn5Zprrklzc3MSvcD+45Zbbsk555yTc845J9/5zneSJE8++WTOO++8TJkyJTfffHP7sS+++GKmT5+eqVOn5hvf+EZ7nyxdujRXXHFFzjrrrHzxi1/Mpk2bKvJc4KPYm154y3XXXZfbb7+9/Wu9wP5gb3phxowZueCCC3L++efnz//8z7Nu3bokeqHqlKCMnn322dK5555bGjduXGnx4sWlV199tXTKKaeUVqxYUSqVSqUbbrih9L3vfa9UKpVKf/mXf1n60Y9+VCqVSqXvf//7pWuvvbZUKpVK//7v/17627/921KpVCrNmjWrdOmll1bgmcBHs6e90NbWVpo8eXLpqaeeKpVKpdIvf/nL0jXXXFMqlfQC+4cnnnii9JnPfKbU0tJS2rZtW+nKK68s3X333aXJkyeXFi1aVNq+fXvp6quvLj3yyCOlUqlUOuecc0rPPPNMqVQqlb72ta+1/574/Oc/X7rnnntKpVKpdMstt5S+853vVOYJwYe0t72wfPny0jXXXFMaP3586Re/+EX7efQCHd3e9MKGDRtKJ598cmn58uWlUqlU+ud//ufSt771rVKppBeqjREPlNXPfvaz3HDDDRk4cGCS5OWXX85RRx3V/vVpp52WGTNmJEna2tqycePGJMmWLVvSpUuXJMkjjzyS888/P0kyceLErF69OkuXLi33U4GPZE97Yc2aNdm6dWtOOOGE9vtnzpyZbdu26QX2C42Njbn++uvTuXPn1NfXZ/To0Vm4cGEOOOCAjBgxInV1dTnvvPNy3333pampKVu3bs1RRx2VJJk+fXruu+++bN++PbNnz87UqVPfdT90JHvTC0ly99135/TTT8+0adPaz6EX2B/sTS9s3749N9xwQwYNGpQkGTt2bJYtW6YXqpDggbK66aabcuyxx7Z/feihh+a5557LsmXL0tramvvuuy9vvvlmkuQv/uIvctttt+WUU07J9773vfzZn/1ZkmTlypVpbGxsP0djY2OWL19e3icCH9Ge9kLfvn3TrVu3zJw5M0nyy1/+Mtu3b8+aNWv0AvuFgw8+uD1IWLhwYe69997U1NS867U9cODArFixYpev+RUrVmTNmjXp0aNH6urq3nU/dCR70wtJ8rnPfS6XXnrpu86hF9gf7E0v9O3bN2eeeWaSZOvWrfm3f/u3nHHGGXqhCgkeqKgDDzww1157bb74xS/miiuuyNixY1NfX58k+eu//uv8/d//fR5//PH83d/9Xb785S+nVCqlVCqlpqam/RylUim1tV7KdGy764Wampr8y7/8S/71X/81F154YTZs2JA+ffqkvr5eL7BfWbBgQa6++upcd911GTFixHte2zU1NWlra9vl/f+1F5K852voKPakF3ZHL7A/2Zte2LBhQz7/+c/n0EMPzUUXXaQXqpB3qFRUS0tLxo8fnzvvvDM//elPM2jQoIwYMSKrV6/Oa6+9ljPOOCNJMnXq1DQ3N2fNmjUZNGhQVq5c2X6ON998s314OnRUu+uFJKmrq8sPfvCD3HnnnTn//PPT1taWPn366AX2G3Pnzs1VV12Va6+9NhdddFEGDx7cvohqkjQ3N2fgwIHvuf+t13y/fv2yYcOGtLa2vut46Gj2tBd2Ry+wv9ibXli5cmUuv/zyjB07NjfddFMSvVCNBA9U1ObNm3PVVVdl48aN2bZtW374wx/m7LPPTt++fdPQ0JA5c+Yk2fnDp3v37unXr18mT56cu+66K0kyZ86cNDQ0ZOjQoZV8GvCR7a4XkuTrX/965s+fnyS59dZbc9ZZZ6W2tlYvsF9YtmxZvvSlL+Wf/umfcs455yRJJkyYkNdffz1vvPFGWltbc88992TSpEkZNmxYGhoaMnfu3CTJXXfdlUmTJqW+vj7HHntsfvWrXyVJ7rzzzkyaNKlizwk+jL3phd3RC+wP9qYXWltb84UvfCHTpk3LN77xjfZRDXqh+tSUSqVSpYvg4+dTn/pUvv/972f48OH5+c9/nttuuy07duzIueeem6985StJdm4h+K1vfStbt25N9+7d881vfjOHH354Wlpa8s1vfjO//e1v07lz59x4440ZN25chZ8RfDh72gs33HBDtmzZ0p7m9+jRQy+wX7jxxhvzi1/8IiNHjmy/77LLLsuoUaPy7W9/Oy0tLZk8eXK+9rWvpaamJi+99FL+5m/+Jhs3bsy4cePy7W9/O507d05TU1Ouv/76rFq1KkOGDMl3v/vd9O7du4LPDPbO3vbCW66//vocd9xxmT59epLoBTq8vemFGTNm5Ctf+UrGjh3bfuwRRxyRm266SS9UGcEDAAAAUBhTLQAAAIDCCB4AAACAwggeAAAAgMIIHgAAAIDCCB4AAACAwggeAAAAgMIIHgAAAIDCCB4AAACAwvz/b5oC9ShnoPEAAAAASUVORK5CYII=\n",
          "text/plain": "<Figure size 1296x720 with 1 Axes>"
         },
         "metadata": {},
         "output_type": "display_data"
        }
       ]
      }
     },
     "b71bc2d02e6e48a7ada56f71a28a5ce6": {
      "model_module": "@jupyter-widgets/base",
      "model_module_version": "1.2.0",
      "model_name": "LayoutModel",
      "state": {}
     },
     "c17bdf1bd70d4e94849e4d61a2824654": {
      "model_module": "@jupyter-widgets/base",
      "model_module_version": "1.2.0",
      "model_name": "LayoutModel",
      "state": {}
     },
     "c40305d7f1f74081bc8227ff6f4e88af": {
      "model_module": "@jupyter-widgets/controls",
      "model_module_version": "1.5.0",
      "model_name": "DescriptionStyleModel",
      "state": {
       "description_width": ""
      }
     },
     "c4e80a6c40ea4fba9d3b9e8c592d3e99": {
      "model_module": "@jupyter-widgets/controls",
      "model_module_version": "1.5.0",
      "model_name": "DescriptionStyleModel",
      "state": {
       "description_width": ""
      }
     },
     "c6b162513f6746be9912094bc7b29394": {
      "model_module": "@jupyter-widgets/base",
      "model_module_version": "1.2.0",
      "model_name": "LayoutModel",
      "state": {}
     },
     "c887c99400454783846c0cf579f7086f": {
      "model_module": "@jupyter-widgets/base",
      "model_module_version": "1.2.0",
      "model_name": "LayoutModel",
      "state": {}
     },
     "c9d7924d371e4fa3a7a1bd6ac5289f94": {
      "model_module": "@jupyter-widgets/base",
      "model_module_version": "1.2.0",
      "model_name": "LayoutModel",
      "state": {}
     },
     "d7820bdc362349f6abd9c3358ff5355a": {
      "model_module": "@jupyter-widgets/controls",
      "model_module_version": "1.5.0",
      "model_name": "DescriptionStyleModel",
      "state": {
       "description_width": ""
      }
     },
     "e428a0658ee14527a3c6208c60f09ac2": {
      "model_module": "@jupyter-widgets/controls",
      "model_module_version": "1.5.0",
      "model_name": "DescriptionStyleModel",
      "state": {
       "description_width": ""
      }
     },
     "ef9a130ea7e943c8a8edf75cfc99138f": {
      "model_module": "@jupyter-widgets/controls",
      "model_module_version": "1.5.0",
      "model_name": "DescriptionStyleModel",
      "state": {
       "description_width": ""
      }
     },
     "f0910f6b0b00448a8b360bdb816026d9": {
      "model_module": "@jupyter-widgets/controls",
      "model_module_version": "1.5.0",
      "model_name": "DropdownModel",
      "state": {
       "_options_labels": [
        "True",
        "False"
       ],
       "description": "tbats",
       "index": 1,
       "layout": "IPY_MODEL_aa70c4679b89479097d302ef37636ddf",
       "style": "IPY_MODEL_8e28cdf0b92a4044961b2e78b9012afc"
      }
     },
     "f2b236f3c3c140b69a7dbacd84b12e45": {
      "model_module": "@jupyter-widgets/controls",
      "model_module_version": "1.5.0",
      "model_name": "DropdownModel",
      "state": {
       "_options_labels": [
        "True",
        "False"
       ],
       "description": "arima",
       "index": 1,
       "layout": "IPY_MODEL_c17bdf1bd70d4e94849e4d61a2824654",
       "style": "IPY_MODEL_80ce99de4bca46d7ac6e69ea06da9337"
      }
     },
     "fcd88a9510e041f989cdaa3a8658dbe6": {
      "model_module": "@jupyter-widgets/controls",
      "model_module_version": "1.5.0",
      "model_name": "DescriptionStyleModel",
      "state": {
       "description_width": ""
      }
     }
    },
    "version_major": 2,
    "version_minor": 0
   }
  }
 },
 "nbformat": 4,
 "nbformat_minor": 4
}
