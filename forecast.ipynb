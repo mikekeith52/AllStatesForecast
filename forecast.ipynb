{
 "cells": [
  {
   "cell_type": "code",
   "execution_count": 1,
   "metadata": {},
   "outputs": [],
   "source": [
    "import pandas as pd\n",
    "import numpy as np\n",
    "import os\n",
    "import datetime\n",
    "import matplotlib.pyplot as plt\n",
    "import seaborn as sns\n",
    "from ipywidgets import widgets\n",
    "from IPython.display import display, clear_output\n",
    "import pickle\n",
    "import pandas_datareader as pdr\n",
    "from tqdm.notebook import tqdm as log_progress"
   ]
  },
  {
   "cell_type": "code",
   "execution_count": 2,
   "metadata": {},
   "outputs": [],
   "source": [
    "from Forecaster import Forecaster"
   ]
  },
  {
   "cell_type": "code",
   "execution_count": 3,
   "metadata": {},
   "outputs": [],
   "source": [
    "def get_monthly_futures(start,n_periods):\n",
    "    \"\"\" Returns a list of future dates to forecast for in the form 'yyyy-mm-01'\n",
    "        Parameters: start : str\n",
    "                        a date in the form 'yyyy-mm-01'\n",
    "                    n_periods : int \n",
    "                        how many periods to go out\n",
    "                        the size of the resulting list\n",
    "    \"\"\"\n",
    "    first_month = int(start.split('-')[1])\n",
    "    months = [first_month + i for i in range(n_periods)]\n",
    "    years = [int(start.split('-')[0])] * n_periods\n",
    "    while max(months) > 12:\n",
    "        for i, m in enumerate(months):\n",
    "            if m > 12:\n",
    "                months[i] -= 12\n",
    "                years[i] += 1\n",
    "    return ['{}-{:02d}-01'.format(y,m) for y, m in zip(years,months)]\n",
    "\n",
    "def get_regressors(futures,month_lags=24,year_lags=0):\n",
    "    \"\"\" returns a dataframe of external regressors from FRED\n",
    "        extracts the recession indicator and maps to length specified in recession_length\n",
    "        adds month and year lags\n",
    "        adds an inidcator of when the last recession occured\n",
    "        adds a time trend\n",
    "        Parameters: futures : list\n",
    "                        a list of dates in format YYYY-mm-01\n",
    "                        if there is overlap between the earlier dates and what is extracted from FRED, that will be handled in the function\n",
    "                    recession_length : int, default 18\n",
    "                        the total assumed length of the recession (last one began 10/1/2019)\n",
    "                        this does not take into account the amount of months the recession has already gone\n",
    "                    month_lags : int, default 24\n",
    "                        the amount of month lags you want added of the recession inidcator from FRED\n",
    "                        must be at least 1\n",
    "                    year_lags : int, default 0\n",
    "                        the amount of year lags you want added of the recession inidcator from FRED\n",
    "    \"\"\"\n",
    "    externals = pdr.get_data_fred(['JHDUSRGDPBR','CPIAUCSL'],start='1900-01-01').reset_index()\n",
    "    externals = externals[externals['DATE'] >= externals.loc[~externals['JHDUSRGDPBR'].isnull(),'DATE'].min()]\n",
    "    externals['JHDUSRGDPBR'].fillna(method='ffill',inplace=True)\n",
    "    externals = externals[['DATE','JHDUSRGDPBR']]\n",
    "    futures = pd.to_datetime([d for d in futures if d not in list(externals['DATE'].apply(lambda x: str(x)[:10]))])\n",
    "    recession_array = 0\n",
    "    externals_future = pd.DataFrame({'DATE':futures,'JHDUSRGDPBR':recession_array})\n",
    "    externals = externals.append(externals_future,ignore_index=True,sort=False)\n",
    "    for i in range(min(1,month_lags),month_lags+1):\n",
    "        if i == 0:\n",
    "            break # 0 lags specified\n",
    "        externals[f'JHDUSRGDPBR_lagMonth_{i}'] = externals['JHDUSRGDPBR'].shift(i)\n",
    "    for i in range(min(1,year_lags),year_lags+1):\n",
    "        if i == 0:\n",
    "            break # 0 lags specified\n",
    "        externals[f'JHDUSRGDPBR_lagYear_{i}'] = externals['JHDUSRGDPBR'].shift(i*12)\n",
    "    externals['LastRecession'] = externals[['DATE','JHDUSRGDPBR','JHDUSRGDPBR_lagMonth_1']].apply(lambda x: str(x[0]) if (x[1] == 1) & (x[2] == 0) else None, axis=1)\n",
    "    externals['LastRecession'].fillna(method='ffill',inplace=True)\n",
    "    externals['t'] = range(externals.shape[0])\n",
    "    return externals.copy()\n",
    "\n",
    "def pickle_out(obj):\n",
    "    \"\"\" writes out forecast results as a pickle file to the pickled folder\n",
    "        Parameters: obj : any data type\n",
    "                        the object to be written out -- this will be a Forecaster object\n",
    "    \"\"\"\n",
    "    with open('pickled/AllStatesForecasts-{0}.pickle'.format(str(datetime.datetime.now()).split('.')[0].replace(':','')),'wb') as f:\n",
    "        pickle.dump(obj,f)\n",
    "\n",
    "def pickle_in(which='latest'):\n",
    "    \"\"\" reads a pickle object saved in the pickled folder\n",
    "        Parameters: which : str, default \"latest\"\n",
    "                        if \"latest\", will read in the most recently created file in the pickled folder\n",
    "                        any other argument should be a datetime-like str and correspond with a file name in the pickled folder\n",
    "                        ex. to extract the AllStatesForecast-2020-09-11 121129.pickle file, this would be \"2020-09-11 121129\"\n",
    "    \"\"\"\n",
    "    if which == 'latest':\n",
    "        most_recent_file = max([f for f in os.listdir('pickled')])\n",
    "        f= open(f'pickled/{most_recent_file}','rb')\n",
    "    else:\n",
    "        f= open(f'pickled/AllStatesForecasts-{which}.pickle','rb')\n",
    "    x = pickle.load(f)\n",
    "    f.close()\n",
    "    return x\n",
    "\n",
    "def visualize():\n",
    "    \"\"\" visualize the forecast results\n",
    "        leverages Jupyter widgets\n",
    "        relies on the ExternalsData object type\n",
    "        add new forecast names to the model_options list\n",
    "        Parameters: top : int\n",
    "                        the top number of models (by evaluated MAPE) to display\n",
    "    \"\"\"\n",
    "    def display_user_selections(states_selection,ei_selection,models_selection):\n",
    "        \"\"\" displays graphs with seaborn based on what user selects from dropdown menus\n",
    "        \"\"\"\n",
    "        sns.set(rc={'figure.figsize':(18,10)})\n",
    "        selected_data = forecasts[f'{states_selection}{ei_selection}']\n",
    "        selected_data.display_ts_plot(models=f'top_{models_selection}',print_mapes=True,plot_fitted=True)\n",
    "\n",
    "    def on_button_clicked(b):\n",
    "        \"\"\" passes the user options to the display_user_selections function after the button is pressed\n",
    "        \"\"\"\n",
    "        states_selection = states_dropdown.value\n",
    "        ei_selection = ei_dropdown.value\n",
    "        models_selection = models_dropdown.value\n",
    "        with output:\n",
    "            clear_output()\n",
    "            display_user_selections(states_selection,ei_selection,models_selection)\n",
    "    \n",
    "    states_dropdown = widgets.Dropdown(options=states, description = 'State')\n",
    "    ei_dropdown = widgets.Dropdown(options=['SLIND','PHCI','UR'], description = 'Indicator')\n",
    "    models_dropdown = widgets.Dropdown(options=range(1,15), description = 'No. Models')\n",
    "\n",
    "    # never changes\n",
    "    button = widgets.Button(description=\"Show Forecast\")\n",
    "    output = widgets.Output()\n",
    "\n",
    "    display(states_dropdown,ei_dropdown,models_dropdown)\n",
    "    display(button, output)\n",
    "    \n",
    "    button.on_click(on_button_clicked)   "
   ]
  },
  {
   "cell_type": "code",
   "execution_count": 4,
   "metadata": {},
   "outputs": [],
   "source": [
    "# a list of state abbreviations\n",
    "states = [e.replace('\"','') for e in open('state_abb.txt').read().split('\\n')]\n",
    "# a list of future dates\n",
    "futures = get_monthly_futures('2020-02-01',33)"
   ]
  },
  {
   "cell_type": "code",
   "execution_count": 5,
   "metadata": {},
   "outputs": [],
   "source": [
    "# whether or not to rerun the forecast - if false, will read in a pickled forecast\n",
    "rerun = False\n",
    "if rerun:\n",
    "    externals = get_regressors(futures)\n",
    "    forecasts = {}\n",
    "    for s in log_progress(states):\n",
    "        for ei in ('SLIND','PHCI','UR'):\n",
    "            f = Forecaster()\n",
    "            if ei == 'PHCI':\n",
    "                f.get_data_fred(f'{s}{ei}',i=2)\n",
    "            else:\n",
    "                f.get_data_fred(f'{s}{ei}',i=1)\n",
    "            f.process_xreg_df(externals,date_col='DATE')\n",
    "            f.forecast_mlp(test_length=12,hyper_params={'hidden_layer_sizes':(10,50,),'solver':'lbfgs','activation':'relu'})\n",
    "            f.forecast_rf(test_length=12,hyper_params={'max_depth':3,'n_estimators':500})\n",
    "            f.forecast_gbt(test_length=12,hyper_params={'max_depth':3,'n_estimators':500})\n",
    "            f.forecast_adaboost(test_length=12,hyper_params={'learning_rate':.5,'n_estimators':250})\n",
    "            f.forecast_mlr(test_length=12)\n",
    "            f.forecast_ridge(test_length=12,alpha=10)\n",
    "            f.forecast_lasso(test_length=12,alpha=.05)\n",
    "            f.forecast_svr(test_length=12,hyper_params={'kernel':'linear','C':0.05,'epsilon':1.25})\n",
    "            f.forecast_auto_arima(test_length=12,Xvars='top_2',call_me='arima_2_vars')\n",
    "            f.forecast_auto_arima(test_length=12,Xvars=None)\n",
    "            f.forecast_auto_hwes(test_length=12)\n",
    "            f.forecast_tbats(test_length=12)\n",
    "            f.forecast_ets(test_length=12)\n",
    "            f.forecast_average(models='top_4')\n",
    "            forecasts[f'{s}{ei}'] = f\n",
    "    pickle_out(forecasts)\n",
    "else:\n",
    "    forecasts = pickle_in('latest')"
   ]
  },
  {
   "cell_type": "code",
   "execution_count": 6,
   "metadata": {},
   "outputs": [],
   "source": [
    "with open('forecast_info.csv','w') as f:\n",
    "    # column headers\n",
    "    f.write(';'.join([\n",
    "        'symbol',\n",
    "        'state',\n",
    "        'ei',\n",
    "        'series_start_date',\n",
    "        'series_end_date',\n",
    "        'n_obs',\n",
    "        'model_form',\n",
    "        'model_nickname',\n",
    "        'externals',\n",
    "        'holdout_periods',\n",
    "        'mape',\n",
    "        'last_predicted_test_value',\n",
    "        'last_actual_test_value',\n",
    "        'is_best_model'\n",
    "    ]))\n",
    "    # data\n",
    "    for k, dat in forecasts.items():\n",
    "        dat.set_best_model()\n",
    "        for m in dat.forecasts:\n",
    "            f.write('\\n')\n",
    "            f.write(';'.join([\n",
    "                dat.name,\n",
    "                dat.name[:2],\n",
    "                dat.name[2:],\n",
    "                str(dat.current_dates[0]),\n",
    "                str(dat.current_dates[-1]),\n",
    "                str(len(dat.y)),\n",
    "                dat.info[m]['model_form'],\n",
    "                m,\n",
    "                str(dat.feature_importance[m].index.to_list()) if m in dat.feature_importance.keys() else 'None',\n",
    "                str(dat.info[m]['holdout_periods']),\n",
    "                str(dat.mape[m]),\n",
    "                str(dat.info[m]['test_set_predictions'][-1]),\n",
    "                str(dat.info[m]['test_set_actuals'][-1]),\n",
    "                '1' if m == dat.best_model else '0'\n",
    "            ]))\n",
    "\n",
    "forecast_info = pd.read_csv('forecast_info.csv',sep=';')"
   ]
  },
  {
   "cell_type": "code",
   "execution_count": 7,
   "metadata": {},
   "outputs": [
    {
     "data": {
      "image/png": "[encoded data removed]",
      "text/plain": [
       "<Figure size 864x432 with 1 Axes>"
      ]
     },
     "metadata": {},
     "output_type": "display_data"
    }
   ],
   "source": [
    "forecast_info1 = forecast_info.replace([np.inf, -np.inf], np.nan).dropna()\n",
    "forecast_info2 = forecast_info1.loc[(forecast_info1['is_best_model'] == 1)]\n",
    "\n",
    "sns.set(rc={'figure.figsize':(12,6)})\n",
    "sns.distplot(forecast_info1['mape'], color='red', label='Test Set MAPE')\n",
    "sns.distplot(forecast_info2['mape'], color='skyblue', label='Test Set MAPE - Best Models Only')\n",
    "plt.xlabel('')\n",
    "plt.title('Forecast MAPEs')\n",
    "plt.legend()\n",
    "plt.show()"
   ]
  },
  {
   "cell_type": "code",
   "execution_count": 9,
   "metadata": {},
   "outputs": [
    {
     "name": "stdout",
     "output_type": "stream",
     "text": [
      "all models median MAPE: 0.9918867813269826\n",
      "best models median MAPE: 0.8947974279294609\n"
     ]
    }
   ],
   "source": [
    "print('all models median MAPE:',forecast_info1['mape'].median())\n",
    "print('best models median MAPE:',forecast_info2['mape'].median())"
   ]
  },
  {
   "cell_type": "code",
   "execution_count": 10,
   "metadata": {},
   "outputs": [
    {
     "data": {
      "application/vnd.jupyter.widget-view+json": {
       "model_id": "1a5b741b41d54f169f7912a4154e6c23",
       "version_major": 2,
       "version_minor": 0
      },
      "text/plain": [
       "Dropdown(description='State', options=('AL', 'AK', 'AZ', 'AR', 'CA', 'CO', 'CT', 'DE', 'FL', 'GA', 'HI', 'ID',…"
      ]
     },
     "metadata": {},
     "output_type": "display_data"
    },
    {
     "data": {
      "application/vnd.jupyter.widget-view+json": {
       "model_id": "f982faf4ca8b4a5f835a04af8f052e1f",
       "version_major": 2,
       "version_minor": 0
      },
      "text/plain": [
       "Dropdown(description='Indicator', options=('SLIND', 'PHCI', 'UR'), value='SLIND')"
      ]
     },
     "metadata": {},
     "output_type": "display_data"
    },
    {
     "data": {
      "application/vnd.jupyter.widget-view+json": {
       "model_id": "6da96d2a628640a3a36e649334cf73ac",
       "version_major": 2,
       "version_minor": 0
      },
      "text/plain": [
       "Dropdown(description='No. Models', options=(1, 2, 3, 4, 5, 6, 7, 8, 9, 10, 11, 12, 13, 14), value=1)"
      ]
     },
     "metadata": {},
     "output_type": "display_data"
    },
    {
     "data": {
      "application/vnd.jupyter.widget-view+json": {
       "model_id": "f7604d8bcc624ca6a85985af3f1efeb2",
       "version_major": 2,
       "version_minor": 0
      },
      "text/plain": [
       "Button(description='Show Forecast', style=ButtonStyle())"
      ]
     },
     "metadata": {},
     "output_type": "display_data"
    },
    {
     "data": {
      "application/vnd.jupyter.widget-view+json": {
       "model_id": "a926f1c990024e1c8a57c470a3292e62",
       "version_major": 2,
       "version_minor": 0
      },
      "text/plain": [
       "Output()"
      ]
     },
     "metadata": {},
     "output_type": "display_data"
    }
   ],
   "source": [
    "visualize()"
   ]
  },
  {
   "cell_type": "code",
   "execution_count": null,
   "metadata": {},
   "outputs": [],
   "source": []
  }
 ],
 "metadata": {
  "kernelspec": {
   "display_name": "Python 3",
   "language": "python",
   "name": "python3"
  },
  "language_info": {
   "codemirror_mode": {
    "name": "ipython",
    "version": 3
   },
   "file_extension": ".py",
   "mimetype": "text/x-python",
   "name": "python",
   "nbconvert_exporter": "python",
   "pygments_lexer": "ipython3",
   "version": "3.7.6"
  },
  "widgets": {
   "application/vnd.jupyter.widget-state+json": {
    "state": {
     "11a6cd9a857c471fbdb1fadaec36ae90": {
      "model_module": "@jupyter-widgets/base",
      "model_module_version": "1.2.0",
      "model_name": "LayoutModel",
      "state": {}
     },
     "1a5b741b41d54f169f7912a4154e6c23": {
      "model_module": "@jupyter-widgets/controls",
      "model_module_version": "1.5.0",
      "model_name": "DropdownModel",
      "state": {
       "_options_labels": [
        "AL",
        "AK",
        "AZ",
        "AR",
        "CA",
        "CO",
        "CT",
        "DE",
        "FL",
        "GA",
        "HI",
        "ID",
        "IL",
        "IN",
        "IA",
        "KS",
        "KY",
        "LA",
        "ME",
        "MD",
        "MA",
        "MI",
        "MN",
        "MS",
        "MO",
        "MT",
        "NE",
        "NV",
        "NH",
        "NJ",
        "NM",
        "NY",
        "NC",
        "ND",
        "OH",
        "OK",
        "OR",
        "PA",
        "RI",
        "SC",
        "SD",
        "TN",
        "TX",
        "UT",
        "VT",
        "VA",
        "WA",
        "WV",
        "WI",
        "WY"
       ],
       "description": "State",
       "index": 0,
       "layout": "IPY_MODEL_11a6cd9a857c471fbdb1fadaec36ae90",
       "style": "IPY_MODEL_47c446a09f024c05b07cc212af938b4c"
      }
     },
     "1b1e23456d6b4f618db91ea33117e9a7": {
      "model_module": "@jupyter-widgets/controls",
      "model_module_version": "1.5.0",
      "model_name": "ButtonStyleModel",
      "state": {}
     },
     "3b29a10ff0654ccd874fa5f360fefdaa": {
      "model_module": "@jupyter-widgets/base",
      "model_module_version": "1.2.0",
      "model_name": "LayoutModel",
      "state": {}
     },
     "47c446a09f024c05b07cc212af938b4c": {
      "model_module": "@jupyter-widgets/controls",
      "model_module_version": "1.5.0",
      "model_name": "DescriptionStyleModel",
      "state": {
       "description_width": ""
      }
     },
     "6da96d2a628640a3a36e649334cf73ac": {
      "model_module": "@jupyter-widgets/controls",
      "model_module_version": "1.5.0",
      "model_name": "DropdownModel",
      "state": {
       "_options_labels": [
        "1",
        "2",
        "3",
        "4",
        "5",
        "6",
        "7",
        "8",
        "9",
        "10",
        "11",
        "12",
        "13",
        "14"
       ],
       "description": "No. Models",
       "index": 0,
       "layout": "IPY_MODEL_8e5bb10e2cc84fd388a368ed29faa128",
       "style": "IPY_MODEL_bb2c23b01f0b4332b5230feb1d739202"
      }
     },
     "7d197cb7c0a4428f854e39fee1a08420": {
      "model_module": "@jupyter-widgets/base",
      "model_module_version": "1.2.0",
      "model_name": "LayoutModel",
      "state": {}
     },
     "8e5bb10e2cc84fd388a368ed29faa128": {
      "model_module": "@jupyter-widgets/base",
      "model_module_version": "1.2.0",
      "model_name": "LayoutModel",
      "state": {}
     },
     "a926f1c990024e1c8a57c470a3292e62": {
      "model_module": "@jupyter-widgets/output",
      "model_module_version": "1.0.0",
      "model_name": "OutputModel",
      "state": {
       "layout": "IPY_MODEL_7d197cb7c0a4428f854e39fee1a08420"
      }
     },
     "bb2c23b01f0b4332b5230feb1d739202": {
      "model_module": "@jupyter-widgets/controls",
      "model_module_version": "1.5.0",
      "model_name": "DescriptionStyleModel",
      "state": {
       "description_width": ""
      }
     },
     "de2d25f792004f3a99a32d4942c70431": {
      "model_module": "@jupyter-widgets/controls",
      "model_module_version": "1.5.0",
      "model_name": "DescriptionStyleModel",
      "state": {
       "description_width": ""
      }
     },
     "ee2b61428ea84a698cce2504dfc70e5e": {
      "model_module": "@jupyter-widgets/base",
      "model_module_version": "1.2.0",
      "model_name": "LayoutModel",
      "state": {}
     },
     "f7604d8bcc624ca6a85985af3f1efeb2": {
      "model_module": "@jupyter-widgets/controls",
      "model_module_version": "1.5.0",
      "model_name": "ButtonModel",
      "state": {
       "description": "Show Forecast",
       "layout": "IPY_MODEL_ee2b61428ea84a698cce2504dfc70e5e",
       "style": "IPY_MODEL_1b1e23456d6b4f618db91ea33117e9a7"
      }
     },
     "f982faf4ca8b4a5f835a04af8f052e1f": {
      "model_module": "@jupyter-widgets/controls",
      "model_module_version": "1.5.0",
      "model_name": "DropdownModel",
      "state": {
       "_options_labels": [
        "SLIND",
        "PHCI",
        "UR"
       ],
       "description": "Indicator",
       "index": 0,
       "layout": "IPY_MODEL_3b29a10ff0654ccd874fa5f360fefdaa",
       "style": "IPY_MODEL_de2d25f792004f3a99a32d4942c70431"
      }
     }
    },
    "version_major": 2,
    "version_minor": 0
   }
  }
 },
 "nbformat": 4,
 "nbformat_minor": 4
}
